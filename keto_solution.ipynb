{
 "cells": [
  {
   "cell_type": "code",
   "execution_count": 132,
   "id": "ecf39ec7-d5e1-44d1-989a-d4a15af5093e",
   "metadata": {},
   "outputs": [],
   "source": [
    "from  scipy.optimize import linprog as lp\n",
    "import numpy as np\n",
    "import warnings\n",
    "\n",
    "def solve_subsistence_problem(FoodNutrients,Prices,dietmin,dietmax,max_weight=None,tol=1e-6):\n",
    "    \"\"\"Solve Stigler's Subsistence Cost Problem.\n",
    "\n",
    "    Inputs:\n",
    "       - FoodNutrients : A pd.DataFrame with rows corresponding to foods, columns to nutrients.\n",
    "       - Prices : A pd.Series of prices for different foods\n",
    "       - diet_min : A pd.Series of DRIs, with index corresponding to columns of FoodNutrients,\n",
    "                    describing minimum intakes.\n",
    "       - diet_max : A pd.Series of DRIs, with index corresponding to columns of FoodNutrients,\n",
    "                    describing maximum intakes.\n",
    "       - max_weight : Maximum weight (in hectograms) allowed for diet.\n",
    "       - tol : Solution values smaller than this in absolute value treated as zeros.\n",
    "       \n",
    "    \"\"\"\n",
    "    try: \n",
    "        p = Prices.apply(lambda x:x.magnitude)\n",
    "    except AttributeError:  # Maybe not passing in prices with units?\n",
    "        warnings.warn(\"Prices have no units.  BE CAREFUL!  We're assuming prices are per hectogram or deciliter!\")\n",
    "        p = Prices\n",
    "\n",
    "    p = p.dropna()\n",
    "\n",
    "    # Compile list that we have both prices and nutritional info for; drop if either missing\n",
    "    use = p.index.intersection(FoodNutrients.columns)\n",
    "    p = p[use]\n",
    "\n",
    "    # Drop nutritional information for foods we don't know the price of,\n",
    "    # and replace missing nutrients with zeros.\n",
    "    Aall = FoodNutrients[p.index].fillna(0)\n",
    "\n",
    "    # Drop rows of A that we don't have constraints for.\n",
    "    Amin = Aall.loc[Aall.index.intersection(dietmin.index)]\n",
    "    Amin = Amin.reindex(dietmin.index,axis=0)\n",
    "    idx = Amin.index.to_frame()\n",
    "    idx['type'] = 'min'\n",
    "    #Amin.index = pd.MultiIndex.from_frame(idx)\n",
    "    #dietmin.index = Amin.index\n",
    "    \n",
    "    Amax = Aall.loc[Aall.index.intersection(dietmax.index)]\n",
    "    Amax = Amax.reindex(dietmax.index,axis=0)\n",
    "    idx = Amax.index.to_frame()\n",
    "    idx['type'] = 'max'\n",
    "    #Amax.index = pd.MultiIndex.from_frame(idx)\n",
    "    #dietmax.index = Amax.index\n",
    "\n",
    "    # Minimum requirements involve multiplying constraint by -1 to make <=.\n",
    "    A = pd.concat([Amin,\n",
    "                   -Amax])\n",
    "\n",
    "    b = pd.concat([dietmin,\n",
    "                   -dietmax]) # Note sign change for max constraints\n",
    "\n",
    "    # Make sure order of p, A, b are consistent\n",
    "    A = A.reindex(p.index,axis=1)\n",
    "    A = A.reindex(b.index,axis=0)\n",
    "\n",
    "    if max_weight is not None:\n",
    "        # Add up weights of foods consumed\n",
    "        A.loc['Hectograms'] = -1\n",
    "        b.loc['Hectograms'] = -max_weight\n",
    "        \n",
    "    # Now solve problem!  (Note that the linear program solver we'll use assumes\n",
    "    # \"less-than-or-equal\" constraints.  We can switch back and forth by\n",
    "    # multiplying $A$ and $b$ by $-1$.)\n",
    "\n",
    "    result = lp(p, -A, -b, method='highs')\n",
    "\n",
    "    result.A = A\n",
    "    result.b = b\n",
    "    \n",
    "    if result.success:\n",
    "        result.diet = pd.Series(result.x,index=p.index)\n",
    "    else: # No feasible solution?\n",
    "        warnings.warn(result.message)\n",
    "        result.diet = pd.Series(result.x,index=p.index)*np.nan  \n",
    "\n",
    "    return result"
   ]
  },
  {
   "cell_type": "code",
   "execution_count": 133,
   "id": "2c87b59b-c6f6-4e56-b284-6f022a682b5c",
   "metadata": {},
   "outputs": [],
   "source": [
    "apikey = \"ngZTL3EoRoYFex00m5L4bdOdbtctFiuu7MT4cTeM\""
   ]
  },
  {
   "cell_type": "code",
   "execution_count": 134,
   "id": "8f6d9129-715f-4fa1-bf43-127b1cc3a4b5",
   "metadata": {},
   "outputs": [],
   "source": [
    "import fooddatacentral as fdc\n",
    "import pandas as pd\n",
    "from eep153_tools.sheets import read_sheets\n",
    "import warnings"
   ]
  },
  {
   "cell_type": "code",
   "execution_count": 135,
   "id": "ef746691-65d4-4215-8e3e-15e28fa79e9e",
   "metadata": {},
   "outputs": [],
   "source": [
    "SHEETs = [(\"https://docs.google.com/spreadsheets/d/1CBbHwj62DyYoIubexC1uNchOYTM_qtdTCIVG-jco72s/edit#gid=75959120\",\"Keto Food Prices\"),]"
   ]
  },
  {
   "cell_type": "code",
   "execution_count": 136,
   "id": "27a833d5-88e5-4a34-bef0-99c58d3f62b2",
   "metadata": {},
   "outputs": [
    {
     "name": "stdout",
     "output_type": "stream",
     "text": [
      "Key available for students@eep153.iam.gserviceaccount.com.\n"
     ]
    },
    {
     "data": {
      "text/html": [
       "<div>\n",
       "<style scoped>\n",
       "    .dataframe tbody tr th:only-of-type {\n",
       "        vertical-align: middle;\n",
       "    }\n",
       "\n",
       "    .dataframe tbody tr th {\n",
       "        vertical-align: top;\n",
       "    }\n",
       "\n",
       "    .dataframe thead th {\n",
       "        text-align: right;\n",
       "    }\n",
       "</style>\n",
       "<table border=\"1\" class=\"dataframe\">\n",
       "  <thead>\n",
       "    <tr style=\"text-align: right;\">\n",
       "      <th></th>\n",
       "      <th>Food</th>\n",
       "      <th>Quantity</th>\n",
       "      <th>Units</th>\n",
       "      <th>Price</th>\n",
       "      <th>Date</th>\n",
       "      <th>Location</th>\n",
       "      <th>FDC</th>\n",
       "    </tr>\n",
       "  </thead>\n",
       "  <tbody>\n",
       "    <tr>\n",
       "      <th>0</th>\n",
       "      <td>salmon</td>\n",
       "      <td>7.00</td>\n",
       "      <td>oz</td>\n",
       "      <td>8.99</td>\n",
       "      <td>2/20/24</td>\n",
       "      <td>Safeway</td>\n",
       "      <td>175167</td>\n",
       "    </tr>\n",
       "    <tr>\n",
       "      <th>1</th>\n",
       "      <td>tuna</td>\n",
       "      <td>5.00</td>\n",
       "      <td>oz</td>\n",
       "      <td>1.29</td>\n",
       "      <td>2/20/24</td>\n",
       "      <td>Safeway</td>\n",
       "      <td>175156</td>\n",
       "    </tr>\n",
       "    <tr>\n",
       "      <th>2</th>\n",
       "      <td>chicken</td>\n",
       "      <td>1.25</td>\n",
       "      <td>pound</td>\n",
       "      <td>4.99</td>\n",
       "      <td>2/20/24</td>\n",
       "      <td>Safeway</td>\n",
       "      <td>2646171</td>\n",
       "    </tr>\n",
       "    <tr>\n",
       "      <th>3</th>\n",
       "      <td>cottage cheese</td>\n",
       "      <td>16.00</td>\n",
       "      <td>oz</td>\n",
       "      <td>2.99</td>\n",
       "      <td>2/20/24</td>\n",
       "      <td>Safeway</td>\n",
       "      <td>2346384</td>\n",
       "    </tr>\n",
       "    <tr>\n",
       "      <th>4</th>\n",
       "      <td>greek yogurt</td>\n",
       "      <td>32.00</td>\n",
       "      <td>oz</td>\n",
       "      <td>6.99</td>\n",
       "      <td>2/20/24</td>\n",
       "      <td>Safeway</td>\n",
       "      <td>2259794</td>\n",
       "    </tr>\n",
       "    <tr>\n",
       "      <th>5</th>\n",
       "      <td>spinach</td>\n",
       "      <td>8.00</td>\n",
       "      <td>oz</td>\n",
       "      <td>2.49</td>\n",
       "      <td>2/20/24</td>\n",
       "      <td>Safeway</td>\n",
       "      <td>1999632</td>\n",
       "    </tr>\n",
       "    <tr>\n",
       "      <th>6</th>\n",
       "      <td>carrots</td>\n",
       "      <td>1.00</td>\n",
       "      <td>pound</td>\n",
       "      <td>1.49</td>\n",
       "      <td>2/20/24</td>\n",
       "      <td>Safeway</td>\n",
       "      <td>2258586</td>\n",
       "    </tr>\n",
       "    <tr>\n",
       "      <th>7</th>\n",
       "      <td>kale</td>\n",
       "      <td>10.00</td>\n",
       "      <td>oz</td>\n",
       "      <td>3.99</td>\n",
       "      <td>2/20/24</td>\n",
       "      <td>Safeway</td>\n",
       "      <td>323505</td>\n",
       "    </tr>\n",
       "    <tr>\n",
       "      <th>8</th>\n",
       "      <td>collard greens</td>\n",
       "      <td>1.00</td>\n",
       "      <td>pound</td>\n",
       "      <td>3.49</td>\n",
       "      <td>2/20/24</td>\n",
       "      <td>trader joes</td>\n",
       "      <td>170406</td>\n",
       "    </tr>\n",
       "    <tr>\n",
       "      <th>9</th>\n",
       "      <td>coconut milk</td>\n",
       "      <td>13.50</td>\n",
       "      <td>floz</td>\n",
       "      <td>2.29</td>\n",
       "      <td>2/20/24</td>\n",
       "      <td>Safeway</td>\n",
       "      <td>170173</td>\n",
       "    </tr>\n",
       "    <tr>\n",
       "      <th>10</th>\n",
       "      <td>squash</td>\n",
       "      <td>2.00</td>\n",
       "      <td>pound</td>\n",
       "      <td>1.20</td>\n",
       "      <td>2/23/24</td>\n",
       "      <td>Safeway</td>\n",
       "      <td>169295</td>\n",
       "    </tr>\n",
       "    <tr>\n",
       "      <th>11</th>\n",
       "      <td>cauliflower</td>\n",
       "      <td>1.00</td>\n",
       "      <td>pound</td>\n",
       "      <td>3.99</td>\n",
       "      <td>2/20/24</td>\n",
       "      <td>Safeway</td>\n",
       "      <td>169986</td>\n",
       "    </tr>\n",
       "    <tr>\n",
       "      <th>12</th>\n",
       "      <td>broccoli</td>\n",
       "      <td>1.00</td>\n",
       "      <td>pound</td>\n",
       "      <td>3.49</td>\n",
       "      <td>2/20/24</td>\n",
       "      <td>Safeway</td>\n",
       "      <td>170379</td>\n",
       "    </tr>\n",
       "    <tr>\n",
       "      <th>13</th>\n",
       "      <td>asparagus</td>\n",
       "      <td>1.00</td>\n",
       "      <td>pound</td>\n",
       "      <td>4.99</td>\n",
       "      <td>2/20/24</td>\n",
       "      <td>Safeway</td>\n",
       "      <td>168389</td>\n",
       "    </tr>\n",
       "    <tr>\n",
       "      <th>14</th>\n",
       "      <td>green beans</td>\n",
       "      <td>24.00</td>\n",
       "      <td>oz</td>\n",
       "      <td>1.99</td>\n",
       "      <td>2/20/24</td>\n",
       "      <td>trader joes</td>\n",
       "      <td>169961</td>\n",
       "    </tr>\n",
       "    <tr>\n",
       "      <th>15</th>\n",
       "      <td>almonds</td>\n",
       "      <td>16.00</td>\n",
       "      <td>oz</td>\n",
       "      <td>10.99</td>\n",
       "      <td>2/20/24</td>\n",
       "      <td>Safeway</td>\n",
       "      <td>2346393</td>\n",
       "    </tr>\n",
       "    <tr>\n",
       "      <th>16</th>\n",
       "      <td>chia seeds</td>\n",
       "      <td>16.00</td>\n",
       "      <td>oz</td>\n",
       "      <td>7.99</td>\n",
       "      <td>2/20/24</td>\n",
       "      <td>Safeway</td>\n",
       "      <td>170554</td>\n",
       "    </tr>\n",
       "    <tr>\n",
       "      <th>17</th>\n",
       "      <td>olive oil</td>\n",
       "      <td>17.00</td>\n",
       "      <td>floz</td>\n",
       "      <td>7.99</td>\n",
       "      <td>2/20/24</td>\n",
       "      <td>Safeway</td>\n",
       "      <td>748608</td>\n",
       "    </tr>\n",
       "    <tr>\n",
       "      <th>18</th>\n",
       "      <td>almond milk</td>\n",
       "      <td>64.00</td>\n",
       "      <td>floz</td>\n",
       "      <td>3.49</td>\n",
       "      <td>2/20/24</td>\n",
       "      <td>Safeway</td>\n",
       "      <td>2257045</td>\n",
       "    </tr>\n",
       "    <tr>\n",
       "      <th>19</th>\n",
       "      <td>cod fillets</td>\n",
       "      <td>1.00</td>\n",
       "      <td>pound</td>\n",
       "      <td>10.99</td>\n",
       "      <td>2/20/24</td>\n",
       "      <td>trader joes</td>\n",
       "      <td>171955</td>\n",
       "    </tr>\n",
       "    <tr>\n",
       "      <th>20</th>\n",
       "      <td>pork loin</td>\n",
       "      <td>1.50</td>\n",
       "      <td>pound</td>\n",
       "      <td>8.99</td>\n",
       "      <td>2/20/24</td>\n",
       "      <td>Safeway</td>\n",
       "      <td>2646169</td>\n",
       "    </tr>\n",
       "    <tr>\n",
       "      <th>21</th>\n",
       "      <td>ground beef 80% lean 20% fat</td>\n",
       "      <td>1.00</td>\n",
       "      <td>pound</td>\n",
       "      <td>4.99</td>\n",
       "      <td>2/20/24</td>\n",
       "      <td>trader joes</td>\n",
       "      <td>2514744</td>\n",
       "    </tr>\n",
       "    <tr>\n",
       "      <th>22</th>\n",
       "      <td>avocado</td>\n",
       "      <td>5.40</td>\n",
       "      <td>oz</td>\n",
       "      <td>1.00</td>\n",
       "      <td>2/20/24</td>\n",
       "      <td>Safeway</td>\n",
       "      <td>171706</td>\n",
       "    </tr>\n",
       "    <tr>\n",
       "      <th>23</th>\n",
       "      <td>egg</td>\n",
       "      <td>12.00</td>\n",
       "      <td>egg</td>\n",
       "      <td>5.49</td>\n",
       "      <td>2/20/24</td>\n",
       "      <td>Safeway</td>\n",
       "      <td>748967</td>\n",
       "    </tr>\n",
       "    <tr>\n",
       "      <th>24</th>\n",
       "      <td>coconut oil</td>\n",
       "      <td>14.00</td>\n",
       "      <td>floz</td>\n",
       "      <td>6.99</td>\n",
       "      <td>2/20/24</td>\n",
       "      <td>Safeway</td>\n",
       "      <td>330458</td>\n",
       "    </tr>\n",
       "    <tr>\n",
       "      <th>25</th>\n",
       "      <td>almond flour</td>\n",
       "      <td>16.00</td>\n",
       "      <td>oz</td>\n",
       "      <td>9.49</td>\n",
       "      <td>2/20/24</td>\n",
       "      <td>Safeway</td>\n",
       "      <td>2261420</td>\n",
       "    </tr>\n",
       "    <tr>\n",
       "      <th>26</th>\n",
       "      <td>mayonnaise</td>\n",
       "      <td>15.00</td>\n",
       "      <td>floz</td>\n",
       "      <td>3.49</td>\n",
       "      <td>2/20/24</td>\n",
       "      <td>Safeway</td>\n",
       "      <td>167736</td>\n",
       "    </tr>\n",
       "    <tr>\n",
       "      <th>27</th>\n",
       "      <td>cabbage</td>\n",
       "      <td>2.00</td>\n",
       "      <td>pound</td>\n",
       "      <td>2.98</td>\n",
       "      <td>2/20/24</td>\n",
       "      <td>Safeway</td>\n",
       "      <td>169975</td>\n",
       "    </tr>\n",
       "    <tr>\n",
       "      <th>28</th>\n",
       "      <td>green bell pepper</td>\n",
       "      <td>0.33</td>\n",
       "      <td>pound</td>\n",
       "      <td>1.00</td>\n",
       "      <td>2/20/24</td>\n",
       "      <td>Safway</td>\n",
       "      <td>2258588</td>\n",
       "    </tr>\n",
       "    <tr>\n",
       "      <th>29</th>\n",
       "      <td>bacon</td>\n",
       "      <td>8.00</td>\n",
       "      <td>oz</td>\n",
       "      <td>4.99</td>\n",
       "      <td>2/20/24</td>\n",
       "      <td>trader joes</td>\n",
       "      <td>749420</td>\n",
       "    </tr>\n",
       "    <tr>\n",
       "      <th>30</th>\n",
       "      <td>ground turkey</td>\n",
       "      <td>1.00</td>\n",
       "      <td>pound</td>\n",
       "      <td>4.49</td>\n",
       "      <td>2/20/24</td>\n",
       "      <td>trader joes</td>\n",
       "      <td>2514747</td>\n",
       "    </tr>\n",
       "    <tr>\n",
       "      <th>31</th>\n",
       "      <td>tofu</td>\n",
       "      <td>14.00</td>\n",
       "      <td>oz</td>\n",
       "      <td>3.49</td>\n",
       "      <td>2/20/24</td>\n",
       "      <td>Safeway</td>\n",
       "      <td>174292</td>\n",
       "    </tr>\n",
       "    <tr>\n",
       "      <th>32</th>\n",
       "      <td>kefir</td>\n",
       "      <td>32.00</td>\n",
       "      <td>oz</td>\n",
       "      <td>5.99</td>\n",
       "      <td>2/20/24</td>\n",
       "      <td>Safeway</td>\n",
       "      <td>170904</td>\n",
       "    </tr>\n",
       "    <tr>\n",
       "      <th>33</th>\n",
       "      <td>hemp seeds</td>\n",
       "      <td>8.00</td>\n",
       "      <td>oz</td>\n",
       "      <td>12.79</td>\n",
       "      <td>2/20/24</td>\n",
       "      <td>Safeway</td>\n",
       "      <td>170148</td>\n",
       "    </tr>\n",
       "    <tr>\n",
       "      <th>34</th>\n",
       "      <td>frozen berries</td>\n",
       "      <td>12.00</td>\n",
       "      <td>oz</td>\n",
       "      <td>4.50</td>\n",
       "      <td>2/20/24</td>\n",
       "      <td>Safeway</td>\n",
       "      <td>2344766</td>\n",
       "    </tr>\n",
       "    <tr>\n",
       "      <th>35</th>\n",
       "      <td>zuchini noodles</td>\n",
       "      <td>12.00</td>\n",
       "      <td>oz</td>\n",
       "      <td>4.99</td>\n",
       "      <td>2/20/24</td>\n",
       "      <td>Safeway</td>\n",
       "      <td>2435691</td>\n",
       "    </tr>\n",
       "    <tr>\n",
       "      <th>36</th>\n",
       "      <td>peanuts</td>\n",
       "      <td>16.00</td>\n",
       "      <td>oz</td>\n",
       "      <td>2.99</td>\n",
       "      <td>2/20/24</td>\n",
       "      <td>Safeway</td>\n",
       "      <td>2515376</td>\n",
       "    </tr>\n",
       "    <tr>\n",
       "      <th>37</th>\n",
       "      <td>walnuts</td>\n",
       "      <td>16.00</td>\n",
       "      <td>oz</td>\n",
       "      <td>5.00</td>\n",
       "      <td>2/20/24</td>\n",
       "      <td>Safeway</td>\n",
       "      <td>2346394</td>\n",
       "    </tr>\n",
       "    <tr>\n",
       "      <th>38</th>\n",
       "      <td>manzanilla olives</td>\n",
       "      <td>14.50</td>\n",
       "      <td>oz</td>\n",
       "      <td>2.99</td>\n",
       "      <td>2/20/24</td>\n",
       "      <td>trader joes</td>\n",
       "      <td>332791</td>\n",
       "    </tr>\n",
       "    <tr>\n",
       "      <th>39</th>\n",
       "      <td>apple</td>\n",
       "      <td>0.33</td>\n",
       "      <td>pound</td>\n",
       "      <td>0.49</td>\n",
       "      <td>2/20/24</td>\n",
       "      <td>Safeway</td>\n",
       "      <td>1750339</td>\n",
       "    </tr>\n",
       "    <tr>\n",
       "      <th>40</th>\n",
       "      <td>apple</td>\n",
       "      <td>5.00</td>\n",
       "      <td>pound</td>\n",
       "      <td>3.99</td>\n",
       "      <td>2/20/24</td>\n",
       "      <td>Safeway</td>\n",
       "      <td>2512381</td>\n",
       "    </tr>\n",
       "    <tr>\n",
       "      <th>41</th>\n",
       "      <td>tomato</td>\n",
       "      <td>0.33</td>\n",
       "      <td>pound</td>\n",
       "      <td>0.87</td>\n",
       "      <td>2/20/24</td>\n",
       "      <td>Safeway</td>\n",
       "      <td>1999634</td>\n",
       "    </tr>\n",
       "    <tr>\n",
       "      <th>42</th>\n",
       "      <td>spam</td>\n",
       "      <td>1.00</td>\n",
       "      <td>oz</td>\n",
       "      <td>3.99</td>\n",
       "      <td>2/20/24</td>\n",
       "      <td>Safeway</td>\n",
       "      <td>174594</td>\n",
       "    </tr>\n",
       "    <tr>\n",
       "      <th>43</th>\n",
       "      <td>black beans</td>\n",
       "      <td>15.50</td>\n",
       "      <td>oz</td>\n",
       "      <td>1.09</td>\n",
       "      <td>2/20/24</td>\n",
       "      <td>trader joes</td>\n",
       "      <td>747444</td>\n",
       "    </tr>\n",
       "    <tr>\n",
       "      <th>44</th>\n",
       "      <td>cauliflower rice</td>\n",
       "      <td>12.00</td>\n",
       "      <td>oz</td>\n",
       "      <td>1.99</td>\n",
       "      <td>2/20/24</td>\n",
       "      <td>trader joes</td>\n",
       "      <td>2377843</td>\n",
       "    </tr>\n",
       "    <tr>\n",
       "      <th>45</th>\n",
       "      <td>creamy almond butter no salt</td>\n",
       "      <td>16.00</td>\n",
       "      <td>oz</td>\n",
       "      <td>5.99</td>\n",
       "      <td>2/20/24</td>\n",
       "      <td>trade joes</td>\n",
       "      <td>1990977</td>\n",
       "    </tr>\n",
       "    <tr>\n",
       "      <th>46</th>\n",
       "      <td>creamy salted peanut butter</td>\n",
       "      <td>16.00</td>\n",
       "      <td>oz</td>\n",
       "      <td>2.49</td>\n",
       "      <td>2/20/24</td>\n",
       "      <td>trader joes</td>\n",
       "      <td>2465753</td>\n",
       "    </tr>\n",
       "    <tr>\n",
       "      <th>47</th>\n",
       "      <td>wild arugula</td>\n",
       "      <td>7.00</td>\n",
       "      <td>oz</td>\n",
       "      <td>2.29</td>\n",
       "      <td>2/20/24</td>\n",
       "      <td>trader joes</td>\n",
       "      <td>2510503</td>\n",
       "    </tr>\n",
       "    <tr>\n",
       "      <th>48</th>\n",
       "      <td>traditional whole milk ricotta cheese</td>\n",
       "      <td>16.00</td>\n",
       "      <td>oz</td>\n",
       "      <td>3.99</td>\n",
       "      <td>2/20/24</td>\n",
       "      <td>trader joes</td>\n",
       "      <td>2055810</td>\n",
       "    </tr>\n",
       "  </tbody>\n",
       "</table>\n",
       "</div>"
      ],
      "text/plain": [
       "                                     Food  Quantity  Units  Price     Date  \\\n",
       "0                                  salmon      7.00     oz   8.99  2/20/24   \n",
       "1                                    tuna      5.00     oz   1.29  2/20/24   \n",
       "2                                 chicken      1.25  pound   4.99  2/20/24   \n",
       "3                          cottage cheese     16.00     oz   2.99  2/20/24   \n",
       "4                            greek yogurt     32.00     oz   6.99  2/20/24   \n",
       "5                                 spinach      8.00     oz   2.49  2/20/24   \n",
       "6                                 carrots      1.00  pound   1.49  2/20/24   \n",
       "7                                    kale     10.00     oz   3.99  2/20/24   \n",
       "8                          collard greens      1.00  pound   3.49  2/20/24   \n",
       "9                            coconut milk     13.50   floz   2.29  2/20/24   \n",
       "10                                 squash      2.00  pound   1.20  2/23/24   \n",
       "11                            cauliflower      1.00  pound   3.99  2/20/24   \n",
       "12                               broccoli      1.00  pound   3.49  2/20/24   \n",
       "13                              asparagus      1.00  pound   4.99  2/20/24   \n",
       "14                            green beans     24.00     oz   1.99  2/20/24   \n",
       "15                                almonds     16.00     oz  10.99  2/20/24   \n",
       "16                             chia seeds     16.00     oz   7.99  2/20/24   \n",
       "17                              olive oil     17.00   floz   7.99  2/20/24   \n",
       "18                            almond milk     64.00   floz   3.49  2/20/24   \n",
       "19                            cod fillets      1.00  pound  10.99  2/20/24   \n",
       "20                              pork loin      1.50  pound   8.99  2/20/24   \n",
       "21           ground beef 80% lean 20% fat      1.00  pound   4.99  2/20/24   \n",
       "22                                avocado      5.40     oz   1.00  2/20/24   \n",
       "23                                    egg     12.00    egg   5.49  2/20/24   \n",
       "24                            coconut oil     14.00   floz   6.99  2/20/24   \n",
       "25                           almond flour     16.00     oz   9.49  2/20/24   \n",
       "26                             mayonnaise     15.00   floz   3.49  2/20/24   \n",
       "27                                cabbage      2.00  pound   2.98  2/20/24   \n",
       "28                      green bell pepper      0.33  pound   1.00  2/20/24   \n",
       "29                                  bacon      8.00     oz   4.99  2/20/24   \n",
       "30                          ground turkey      1.00  pound   4.49  2/20/24   \n",
       "31                                   tofu     14.00     oz   3.49  2/20/24   \n",
       "32                                  kefir     32.00     oz   5.99  2/20/24   \n",
       "33                             hemp seeds      8.00     oz  12.79  2/20/24   \n",
       "34                         frozen berries     12.00     oz   4.50  2/20/24   \n",
       "35                        zuchini noodles     12.00     oz   4.99  2/20/24   \n",
       "36                                peanuts     16.00     oz   2.99  2/20/24   \n",
       "37                                walnuts     16.00     oz   5.00  2/20/24   \n",
       "38                      manzanilla olives     14.50     oz   2.99  2/20/24   \n",
       "39                                  apple      0.33  pound   0.49  2/20/24   \n",
       "40                                  apple      5.00  pound   3.99  2/20/24   \n",
       "41                                 tomato      0.33  pound   0.87  2/20/24   \n",
       "42                                   spam      1.00     oz   3.99  2/20/24   \n",
       "43                            black beans     15.50     oz   1.09  2/20/24   \n",
       "44                       cauliflower rice     12.00     oz   1.99  2/20/24   \n",
       "45           creamy almond butter no salt     16.00     oz   5.99  2/20/24   \n",
       "46            creamy salted peanut butter     16.00     oz   2.49  2/20/24   \n",
       "47                           wild arugula      7.00     oz   2.29  2/20/24   \n",
       "48  traditional whole milk ricotta cheese     16.00     oz   3.99  2/20/24   \n",
       "\n",
       "       Location      FDC  \n",
       "0       Safeway   175167  \n",
       "1       Safeway   175156  \n",
       "2       Safeway  2646171  \n",
       "3       Safeway  2346384  \n",
       "4       Safeway  2259794  \n",
       "5       Safeway  1999632  \n",
       "6       Safeway  2258586  \n",
       "7       Safeway   323505  \n",
       "8   trader joes   170406  \n",
       "9       Safeway   170173  \n",
       "10      Safeway   169295  \n",
       "11      Safeway   169986  \n",
       "12      Safeway   170379  \n",
       "13      Safeway   168389  \n",
       "14  trader joes   169961  \n",
       "15      Safeway  2346393  \n",
       "16      Safeway   170554  \n",
       "17      Safeway   748608  \n",
       "18      Safeway  2257045  \n",
       "19  trader joes   171955  \n",
       "20      Safeway  2646169  \n",
       "21  trader joes  2514744  \n",
       "22      Safeway   171706  \n",
       "23      Safeway   748967  \n",
       "24      Safeway   330458  \n",
       "25      Safeway  2261420  \n",
       "26      Safeway   167736  \n",
       "27      Safeway   169975  \n",
       "28       Safway  2258588  \n",
       "29  trader joes   749420  \n",
       "30  trader joes  2514747  \n",
       "31      Safeway   174292  \n",
       "32     Safeway    170904  \n",
       "33     Safeway    170148  \n",
       "34      Safeway  2344766  \n",
       "35     Safeway   2435691  \n",
       "36     Safeway   2515376  \n",
       "37     Safeway   2346394  \n",
       "38  trader joes   332791  \n",
       "39     Safeway   1750339  \n",
       "40      Safeway  2512381  \n",
       "41      Safeway  1999634  \n",
       "42      Safeway   174594  \n",
       "43  trader joes   747444  \n",
       "44  trader joes  2377843  \n",
       "45   trade joes  1990977  \n",
       "46  trader joes  2465753  \n",
       "47  trader joes  2510503  \n",
       "48  trader joes  2055810  "
      ]
     },
     "execution_count": 136,
     "metadata": {},
     "output_type": "execute_result"
    }
   ],
   "source": [
    "df = read_sheets(SHEETs[0][0])[SHEETs[0][1]]\n",
    "df"
   ]
  },
  {
   "cell_type": "code",
   "execution_count": 137,
   "id": "70f85f4f-68bc-41c7-84db-8340f28154ff",
   "metadata": {},
   "outputs": [],
   "source": [
    "D = {}\n",
    "count = 0\n",
    "for food in  df.Food.tolist():\n",
    "    try:\n",
    "        FDC = df.loc[df.Food==food,:].FDC[count]\n",
    "        count+=1\n",
    "        D[food] = fdc.nutrients(apikey,FDC).Quantity\n",
    "    except AttributeError: \n",
    "        warnings.warn(\"Couldn't find FDC Code %s for food %s.\" % (food,FDC))        \n",
    "\n",
    "FoodNutrients = pd.DataFrame(D,dtype=float)"
   ]
  },
  {
   "cell_type": "code",
   "execution_count": 138,
   "id": "927e0e52-0cf5-4af3-a07e-d9d0951b9b4a",
   "metadata": {},
   "outputs": [
    {
     "name": "stderr",
     "output_type": "stream",
     "text": [
      "/srv/conda/lib/python3.9/site-packages/pandas/core/dtypes/cast.py:1598: UnitStrippedWarning:\n",
      "\n",
      "The unit of the quantity is stripped when downcasting to ndarray.\n",
      "\n"
     ]
    }
   ],
   "source": [
    "# Convert food quantities to FDC units\n",
    "df['FDC Quantity'] = df[['Quantity','Units']].T.apply(lambda x : fdc.units(x['Quantity'],x['Units']))\n",
    "\n",
    "# Now may want to filter df by time or place--need to get a unique set of food names.\n",
    "df['FDC Price'] = df['Price']/df['FDC Quantity']\n",
    "\n",
    "df.dropna(how='any') # Drop food with any missing data\n",
    "\n",
    "# To use minimum price observed\n",
    "Prices = df.groupby('Food',sort=False)['FDC Price'].min()"
   ]
  },
  {
   "cell_type": "code",
   "execution_count": 139,
   "id": "c015ee31-adbe-4d99-bb43-f277004abf78",
   "metadata": {},
   "outputs": [
    {
     "name": "stdout",
     "output_type": "stream",
     "text": [
      "Key available for students@eep153.iam.gserviceaccount.com.\n"
     ]
    },
    {
     "name": "stderr",
     "output_type": "stream",
     "text": [
      "/srv/conda/lib/python3.9/site-packages/eep153_tools/sheets.py:150: FutureWarning:\n",
      "\n",
      "errors='ignore' is deprecated and will raise in a future version. Use to_numeric without passing `errors` and catch exceptions explicitly instead\n",
      "\n"
     ]
    }
   ],
   "source": [
    "from eep153_tools.sheets import read_sheets\n",
    "\n",
    "DRI_url = \"https://docs.google.com/spreadsheets/d/1M1l9Md7X4Amaiecz0SBRsve-skrV_rD7O7ylWOeVpOw\"\n",
    "\n",
    "DRIs = read_sheets(DRI_url)\n",
    "\n",
    "# Define *minimums*\n",
    "diet_min = DRIs['diet_minimums'].set_index('Nutrition')\n",
    "\n",
    "# Define *maximums*\n",
    "diet_max = DRIs['diet_maximums'].set_index('Nutrition')"
   ]
  },
  {
   "cell_type": "code",
   "execution_count": 140,
   "id": "d0411bbc-f592-43f1-93e3-58e94c66013b",
   "metadata": {},
   "outputs": [
    {
     "name": "stdout",
     "output_type": "stream",
     "text": [
      "Cost of diet for M 19-30 is $10.43 per day.\n",
      "\n",
      "\n",
      "Diet (in 100s of grams or milliliters):\n",
      "tuna              1.098929\n",
      "kale              1.350046\n",
      "collard greens    2.447604\n",
      "almond milk       2.038541\n",
      "mayonnaise        0.681639\n",
      "hemp seeds        0.676079\n",
      "black beans       3.707161\n",
      "dtype: float64\n",
      "\n",
      "\n",
      "With the following nutritional outcomes of interest:\n",
      "                                    Outcome  Recommendation\n",
      "Nutrition                                                  \n",
      "Energy                          4525.184729     2400.000000\n",
      "Fiber, total dietary              33.600000       33.600000\n",
      "Folate, DFE                      400.000000      400.000000\n",
      "Calcium, Ca                     2023.859964     1000.000000\n",
      "Iron, Fe                          30.266160        8.000000\n",
      "Magnesium, Mg                   1305.637119      400.000000\n",
      "Niacin                            26.740352       16.000000\n",
      "Phosphorus, P                   3486.009357      700.000000\n",
      "Potassium, K                    8068.724767     4700.000000\n",
      "Riboflavin                         1.300000        1.300000\n",
      "Thiamin                            1.200000        1.200000\n",
      "Vitamin A, RAE                   957.968849      900.000000\n",
      "Vitamin B-12                       3.003679        2.400000\n",
      "Vitamin B-6                        1.948865        1.300000\n",
      "Vitamin C, total ascorbic acid   213.931738       90.000000\n",
      "Vitamin E (alpha-tocopherol)      15.000000       15.000000\n",
      "Vitamin K (phylloquinone)       1613.202478      120.000000\n",
      "Zinc, Zn                          21.372735       11.000000\n",
      "Protein                          148.639919      150.000000\n",
      "Carbohydrate, by difference       26.666667       26.666667\n",
      "Hectograms                        12.000000       12.000000\n",
      "\n",
      "\n",
      "Constraining nutrients are:\n",
      "['Fiber, total dietary', 'Folate, DFE', 'Riboflavin', 'Thiamin', 'Vitamin E (alpha-tocopherol)', 'Carbohydrate, by difference', 'Hectograms']\n"
     ]
    }
   ],
   "source": [
    "group = 'M 19-30'\n",
    "tol = 1e-6\n",
    "\n",
    "result = solve_subsistence_problem(FoodNutrients,Prices,\n",
    "                                  diet_min[group],diet_max[group],max_weight=12,tol=tol)\n",
    "\n",
    "print(\"Cost of diet for %s is $%4.2f per day.\\n\" % (group,result.fun))\n",
    "\n",
    "# Put back into nice series\n",
    "diet = result.diet\n",
    "\n",
    "print(\"\\nDiet (in 100s of grams or milliliters):\")\n",
    "print(diet[diet >= tol])  # Drop items with quantities less than precision of calculation.\n",
    "print()\n",
    "\n",
    "tab = pd.DataFrame({\"Outcome\":np.abs(result.A).dot(diet),\"Recommendation\":np.abs(result.b)})\n",
    "print(\"\\nWith the following nutritional outcomes of interest:\")\n",
    "print(tab)\n",
    "print()\n",
    "\n",
    "print(\"\\nConstraining nutrients are:\")\n",
    "excess = tab.diff(axis=1).iloc[:,1]\n",
    "print(excess.loc[np.abs(excess) < tol*100].index.tolist())"
   ]
  },
  {
   "cell_type": "code",
   "execution_count": 141,
   "id": "98b2e541-5b9e-403c-92c0-8a918907328e",
   "metadata": {},
   "outputs": [
    {
     "data": {
      "text/html": [
       "        <script type=\"text/javascript\">\n",
       "        window.PlotlyConfig = {MathJaxConfig: 'local'};\n",
       "        if (window.MathJax && window.MathJax.Hub && window.MathJax.Hub.Config) {window.MathJax.Hub.Config({SVG: {font: \"STIX-Web\"}});}\n",
       "        if (typeof require !== 'undefined') {\n",
       "        require.undef(\"plotly\");\n",
       "        requirejs.config({\n",
       "            paths: {\n",
       "                'plotly': ['https://cdn.plot.ly/plotly-2.29.1.min']\n",
       "            }\n",
       "        });\n",
       "        require(['plotly'], function(Plotly) {\n",
       "            window._Plotly = Plotly;\n",
       "        });\n",
       "        }\n",
       "        </script>\n",
       "        "
      ]
     },
     "metadata": {},
     "output_type": "display_data"
    },
    {
     "name": "stderr",
     "output_type": "stream",
     "text": [
      "/srv/conda/lib/python3.9/site-packages/pandas/core/dtypes/cast.py:1598: UnitStrippedWarning:\n",
      "\n",
      "The unit of the quantity is stripped when downcasting to ndarray.\n",
      "\n"
     ]
    },
    {
     "data": {
      "application/vnd.plotly.v1+json": {
       "config": {
        "linkText": "Export to plot.ly",
        "plotlyServerURL": "https://plot.ly",
        "showLink": true
       },
       "data": [
        {
         "line": {
          "color": "rgba(255, 153, 51, 1.0)",
          "dash": "solid",
          "shape": "linear",
          "width": 1.3
         },
         "mode": "lines",
         "name": "tuna",
         "text": "",
         "type": "scatter",
         "x": [
          0.06613867865546326,
          0.0992080179831949,
          0.11904962157983387,
          0.13227735731092652,
          0.1455050930420192,
          0.15873282877311182,
          0.1719605645042045,
          0.18518830023529712,
          0.1984160359663898,
          0.26455471462185304,
          0.5291094292437061
         ],
         "y": [
          1.0989294398778608,
          1.0989294398778608,
          1.0989294398778608,
          1.0989294398778608,
          1.0989294398778608,
          1.0989294398778608,
          1.0989294398778608,
          1.0989294398778608,
          1.0989294398778608,
          1.0989294398778608,
          1.0989294398778608
         ]
        },
        {
         "line": {
          "color": "rgba(55, 128, 191, 1.0)",
          "dash": "solid",
          "shape": "linear",
          "width": 1.3
         },
         "mode": "lines",
         "name": "kale",
         "text": "",
         "type": "scatter",
         "x": [
          0.06613867865546326,
          0.0992080179831949,
          0.11904962157983387,
          0.13227735731092652,
          0.1455050930420192,
          0.15873282877311182,
          0.1719605645042045,
          0.18518830023529712,
          0.1984160359663898,
          0.26455471462185304,
          0.5291094292437061
         ],
         "y": [
          1.3500463753428988,
          1.3500463753428988,
          1.3500463753428988,
          1.3500463753428988,
          1.3500463753428988,
          1.3500463753428988,
          1.3500463753428988,
          1.3500463753428988,
          1.3500463753428988,
          1.3500463753428988,
          1.3500463753428988
         ]
        },
        {
         "line": {
          "color": "rgba(50, 171, 96, 1.0)",
          "dash": "solid",
          "shape": "linear",
          "width": 1.3
         },
         "mode": "lines",
         "name": "collard greens",
         "text": "",
         "type": "scatter",
         "x": [
          0.06613867865546326,
          0.0992080179831949,
          0.11904962157983387,
          0.13227735731092652,
          0.1455050930420192,
          0.15873282877311182,
          0.1719605645042045,
          0.18518830023529712,
          0.1984160359663898,
          0.26455471462185304,
          0.5291094292437061
         ],
         "y": [
          2.447604473182504,
          2.447604473182504,
          2.447604473182504,
          2.447604473182504,
          2.447604473182504,
          2.447604473182504,
          2.447604473182504,
          2.447604473182504,
          2.447604473182504,
          2.447604473182504,
          2.447604473182504
         ]
        },
        {
         "line": {
          "color": "rgba(128, 0, 128, 1.0)",
          "dash": "solid",
          "shape": "linear",
          "width": 1.3
         },
         "mode": "lines",
         "name": "almond milk",
         "text": "",
         "type": "scatter",
         "x": [
          0.06613867865546326,
          0.0992080179831949,
          0.11904962157983387,
          0.13227735731092652,
          0.1455050930420192,
          0.15873282877311182,
          0.1719605645042045,
          0.18518830023529712,
          0.1984160359663898,
          0.26455471462185304,
          0.5291094292437061
         ],
         "y": [
          2.0385410769871033,
          2.0385410769871033,
          2.0385410769871033,
          2.0385410769871033,
          2.0385410769871033,
          2.0385410769871033,
          2.0385410769871033,
          2.0385410769871033,
          2.0385410769871033,
          2.0385410769871033,
          2.0385410769871033
         ]
        },
        {
         "line": {
          "color": "rgba(219, 64, 82, 1.0)",
          "dash": "solid",
          "shape": "linear",
          "width": 1.3
         },
         "mode": "lines",
         "name": "mayonnaise",
         "text": "",
         "type": "scatter",
         "x": [
          0.06613867865546326,
          0.0992080179831949,
          0.11904962157983387,
          0.13227735731092652,
          0.1455050930420192,
          0.15873282877311182,
          0.1719605645042045,
          0.18518830023529712,
          0.1984160359663898,
          0.26455471462185304,
          0.5291094292437061
         ],
         "y": [
          0.6816387036136096,
          0.6816387036136096,
          0.6816387036136096,
          0.6816387036136096,
          0.6816387036136096,
          0.6816387036136096,
          0.6816387036136096,
          0.6816387036136096,
          0.6816387036136096,
          0.6816387036136096,
          0.6816387036136096
         ]
        },
        {
         "line": {
          "color": "rgba(0, 128, 128, 1.0)",
          "dash": "solid",
          "shape": "linear",
          "width": 1.3
         },
         "mode": "lines",
         "name": "hemp seeds",
         "text": "",
         "type": "scatter",
         "x": [
          0.06613867865546326,
          0.0992080179831949,
          0.11904962157983387,
          0.13227735731092652,
          0.1455050930420192,
          0.15873282877311182,
          0.1719605645042045,
          0.18518830023529712,
          0.1984160359663898,
          0.26455471462185304,
          0.5291094292437061
         ],
         "y": [
          0.676078709095966,
          0.676078709095966,
          0.676078709095966,
          0.676078709095966,
          0.676078709095966,
          0.676078709095966,
          0.676078709095966,
          0.676078709095966,
          0.676078709095966,
          0.676078709095966,
          0.676078709095966
         ]
        },
        {
         "line": {
          "color": "rgba(255, 255, 51, 1.0)",
          "dash": "solid",
          "shape": "linear",
          "width": 1.3
         },
         "mode": "lines",
         "name": "black beans",
         "text": "",
         "type": "scatter",
         "x": [
          0.06613867865546326,
          0.0992080179831949,
          0.11904962157983387,
          0.13227735731092652,
          0.1455050930420192,
          0.15873282877311182,
          0.1719605645042045,
          0.18518830023529712,
          0.1984160359663898,
          0.26455471462185304,
          0.5291094292437061
         ],
         "y": [
          3.7071612219000563,
          3.7071612219000563,
          3.7071612219000563,
          3.7071612219000563,
          3.7071612219000563,
          3.7071612219000563,
          3.7071612219000563,
          3.7071612219000563,
          3.7071612219000563,
          3.7071612219000563,
          3.7071612219000563
         ]
        }
       ],
       "layout": {
        "autosize": true,
        "legend": {
         "bgcolor": "#F5F6F9",
         "font": {
          "color": "#4D5663"
         }
        },
        "paper_bgcolor": "#F5F6F9",
        "plot_bgcolor": "#F5F6F9",
        "template": {
         "data": {
          "bar": [
           {
            "error_x": {
             "color": "#2a3f5f"
            },
            "error_y": {
             "color": "#2a3f5f"
            },
            "marker": {
             "line": {
              "color": "#E5ECF6",
              "width": 0.5
             },
             "pattern": {
              "fillmode": "overlay",
              "size": 10,
              "solidity": 0.2
             }
            },
            "type": "bar"
           }
          ],
          "barpolar": [
           {
            "marker": {
             "line": {
              "color": "#E5ECF6",
              "width": 0.5
             },
             "pattern": {
              "fillmode": "overlay",
              "size": 10,
              "solidity": 0.2
             }
            },
            "type": "barpolar"
           }
          ],
          "carpet": [
           {
            "aaxis": {
             "endlinecolor": "#2a3f5f",
             "gridcolor": "white",
             "linecolor": "white",
             "minorgridcolor": "white",
             "startlinecolor": "#2a3f5f"
            },
            "baxis": {
             "endlinecolor": "#2a3f5f",
             "gridcolor": "white",
             "linecolor": "white",
             "minorgridcolor": "white",
             "startlinecolor": "#2a3f5f"
            },
            "type": "carpet"
           }
          ],
          "choropleth": [
           {
            "colorbar": {
             "outlinewidth": 0,
             "ticks": ""
            },
            "type": "choropleth"
           }
          ],
          "contour": [
           {
            "colorbar": {
             "outlinewidth": 0,
             "ticks": ""
            },
            "colorscale": [
             [
              0,
              "#0d0887"
             ],
             [
              0.1111111111111111,
              "#46039f"
             ],
             [
              0.2222222222222222,
              "#7201a8"
             ],
             [
              0.3333333333333333,
              "#9c179e"
             ],
             [
              0.4444444444444444,
              "#bd3786"
             ],
             [
              0.5555555555555556,
              "#d8576b"
             ],
             [
              0.6666666666666666,
              "#ed7953"
             ],
             [
              0.7777777777777778,
              "#fb9f3a"
             ],
             [
              0.8888888888888888,
              "#fdca26"
             ],
             [
              1,
              "#f0f921"
             ]
            ],
            "type": "contour"
           }
          ],
          "contourcarpet": [
           {
            "colorbar": {
             "outlinewidth": 0,
             "ticks": ""
            },
            "type": "contourcarpet"
           }
          ],
          "heatmap": [
           {
            "colorbar": {
             "outlinewidth": 0,
             "ticks": ""
            },
            "colorscale": [
             [
              0,
              "#0d0887"
             ],
             [
              0.1111111111111111,
              "#46039f"
             ],
             [
              0.2222222222222222,
              "#7201a8"
             ],
             [
              0.3333333333333333,
              "#9c179e"
             ],
             [
              0.4444444444444444,
              "#bd3786"
             ],
             [
              0.5555555555555556,
              "#d8576b"
             ],
             [
              0.6666666666666666,
              "#ed7953"
             ],
             [
              0.7777777777777778,
              "#fb9f3a"
             ],
             [
              0.8888888888888888,
              "#fdca26"
             ],
             [
              1,
              "#f0f921"
             ]
            ],
            "type": "heatmap"
           }
          ],
          "heatmapgl": [
           {
            "colorbar": {
             "outlinewidth": 0,
             "ticks": ""
            },
            "colorscale": [
             [
              0,
              "#0d0887"
             ],
             [
              0.1111111111111111,
              "#46039f"
             ],
             [
              0.2222222222222222,
              "#7201a8"
             ],
             [
              0.3333333333333333,
              "#9c179e"
             ],
             [
              0.4444444444444444,
              "#bd3786"
             ],
             [
              0.5555555555555556,
              "#d8576b"
             ],
             [
              0.6666666666666666,
              "#ed7953"
             ],
             [
              0.7777777777777778,
              "#fb9f3a"
             ],
             [
              0.8888888888888888,
              "#fdca26"
             ],
             [
              1,
              "#f0f921"
             ]
            ],
            "type": "heatmapgl"
           }
          ],
          "histogram": [
           {
            "marker": {
             "pattern": {
              "fillmode": "overlay",
              "size": 10,
              "solidity": 0.2
             }
            },
            "type": "histogram"
           }
          ],
          "histogram2d": [
           {
            "colorbar": {
             "outlinewidth": 0,
             "ticks": ""
            },
            "colorscale": [
             [
              0,
              "#0d0887"
             ],
             [
              0.1111111111111111,
              "#46039f"
             ],
             [
              0.2222222222222222,
              "#7201a8"
             ],
             [
              0.3333333333333333,
              "#9c179e"
             ],
             [
              0.4444444444444444,
              "#bd3786"
             ],
             [
              0.5555555555555556,
              "#d8576b"
             ],
             [
              0.6666666666666666,
              "#ed7953"
             ],
             [
              0.7777777777777778,
              "#fb9f3a"
             ],
             [
              0.8888888888888888,
              "#fdca26"
             ],
             [
              1,
              "#f0f921"
             ]
            ],
            "type": "histogram2d"
           }
          ],
          "histogram2dcontour": [
           {
            "colorbar": {
             "outlinewidth": 0,
             "ticks": ""
            },
            "colorscale": [
             [
              0,
              "#0d0887"
             ],
             [
              0.1111111111111111,
              "#46039f"
             ],
             [
              0.2222222222222222,
              "#7201a8"
             ],
             [
              0.3333333333333333,
              "#9c179e"
             ],
             [
              0.4444444444444444,
              "#bd3786"
             ],
             [
              0.5555555555555556,
              "#d8576b"
             ],
             [
              0.6666666666666666,
              "#ed7953"
             ],
             [
              0.7777777777777778,
              "#fb9f3a"
             ],
             [
              0.8888888888888888,
              "#fdca26"
             ],
             [
              1,
              "#f0f921"
             ]
            ],
            "type": "histogram2dcontour"
           }
          ],
          "mesh3d": [
           {
            "colorbar": {
             "outlinewidth": 0,
             "ticks": ""
            },
            "type": "mesh3d"
           }
          ],
          "parcoords": [
           {
            "line": {
             "colorbar": {
              "outlinewidth": 0,
              "ticks": ""
             }
            },
            "type": "parcoords"
           }
          ],
          "pie": [
           {
            "automargin": true,
            "type": "pie"
           }
          ],
          "scatter": [
           {
            "fillpattern": {
             "fillmode": "overlay",
             "size": 10,
             "solidity": 0.2
            },
            "type": "scatter"
           }
          ],
          "scatter3d": [
           {
            "line": {
             "colorbar": {
              "outlinewidth": 0,
              "ticks": ""
             }
            },
            "marker": {
             "colorbar": {
              "outlinewidth": 0,
              "ticks": ""
             }
            },
            "type": "scatter3d"
           }
          ],
          "scattercarpet": [
           {
            "marker": {
             "colorbar": {
              "outlinewidth": 0,
              "ticks": ""
             }
            },
            "type": "scattercarpet"
           }
          ],
          "scattergeo": [
           {
            "marker": {
             "colorbar": {
              "outlinewidth": 0,
              "ticks": ""
             }
            },
            "type": "scattergeo"
           }
          ],
          "scattergl": [
           {
            "marker": {
             "colorbar": {
              "outlinewidth": 0,
              "ticks": ""
             }
            },
            "type": "scattergl"
           }
          ],
          "scattermapbox": [
           {
            "marker": {
             "colorbar": {
              "outlinewidth": 0,
              "ticks": ""
             }
            },
            "type": "scattermapbox"
           }
          ],
          "scatterpolar": [
           {
            "marker": {
             "colorbar": {
              "outlinewidth": 0,
              "ticks": ""
             }
            },
            "type": "scatterpolar"
           }
          ],
          "scatterpolargl": [
           {
            "marker": {
             "colorbar": {
              "outlinewidth": 0,
              "ticks": ""
             }
            },
            "type": "scatterpolargl"
           }
          ],
          "scatterternary": [
           {
            "marker": {
             "colorbar": {
              "outlinewidth": 0,
              "ticks": ""
             }
            },
            "type": "scatterternary"
           }
          ],
          "surface": [
           {
            "colorbar": {
             "outlinewidth": 0,
             "ticks": ""
            },
            "colorscale": [
             [
              0,
              "#0d0887"
             ],
             [
              0.1111111111111111,
              "#46039f"
             ],
             [
              0.2222222222222222,
              "#7201a8"
             ],
             [
              0.3333333333333333,
              "#9c179e"
             ],
             [
              0.4444444444444444,
              "#bd3786"
             ],
             [
              0.5555555555555556,
              "#d8576b"
             ],
             [
              0.6666666666666666,
              "#ed7953"
             ],
             [
              0.7777777777777778,
              "#fb9f3a"
             ],
             [
              0.8888888888888888,
              "#fdca26"
             ],
             [
              1,
              "#f0f921"
             ]
            ],
            "type": "surface"
           }
          ],
          "table": [
           {
            "cells": {
             "fill": {
              "color": "#EBF0F8"
             },
             "line": {
              "color": "white"
             }
            },
            "header": {
             "fill": {
              "color": "#C8D4E3"
             },
             "line": {
              "color": "white"
             }
            },
            "type": "table"
           }
          ]
         },
         "layout": {
          "annotationdefaults": {
           "arrowcolor": "#2a3f5f",
           "arrowhead": 0,
           "arrowwidth": 1
          },
          "autotypenumbers": "strict",
          "coloraxis": {
           "colorbar": {
            "outlinewidth": 0,
            "ticks": ""
           }
          },
          "colorscale": {
           "diverging": [
            [
             0,
             "#8e0152"
            ],
            [
             0.1,
             "#c51b7d"
            ],
            [
             0.2,
             "#de77ae"
            ],
            [
             0.3,
             "#f1b6da"
            ],
            [
             0.4,
             "#fde0ef"
            ],
            [
             0.5,
             "#f7f7f7"
            ],
            [
             0.6,
             "#e6f5d0"
            ],
            [
             0.7,
             "#b8e186"
            ],
            [
             0.8,
             "#7fbc41"
            ],
            [
             0.9,
             "#4d9221"
            ],
            [
             1,
             "#276419"
            ]
           ],
           "sequential": [
            [
             0,
             "#0d0887"
            ],
            [
             0.1111111111111111,
             "#46039f"
            ],
            [
             0.2222222222222222,
             "#7201a8"
            ],
            [
             0.3333333333333333,
             "#9c179e"
            ],
            [
             0.4444444444444444,
             "#bd3786"
            ],
            [
             0.5555555555555556,
             "#d8576b"
            ],
            [
             0.6666666666666666,
             "#ed7953"
            ],
            [
             0.7777777777777778,
             "#fb9f3a"
            ],
            [
             0.8888888888888888,
             "#fdca26"
            ],
            [
             1,
             "#f0f921"
            ]
           ],
           "sequentialminus": [
            [
             0,
             "#0d0887"
            ],
            [
             0.1111111111111111,
             "#46039f"
            ],
            [
             0.2222222222222222,
             "#7201a8"
            ],
            [
             0.3333333333333333,
             "#9c179e"
            ],
            [
             0.4444444444444444,
             "#bd3786"
            ],
            [
             0.5555555555555556,
             "#d8576b"
            ],
            [
             0.6666666666666666,
             "#ed7953"
            ],
            [
             0.7777777777777778,
             "#fb9f3a"
            ],
            [
             0.8888888888888888,
             "#fdca26"
            ],
            [
             1,
             "#f0f921"
            ]
           ]
          },
          "colorway": [
           "#636efa",
           "#EF553B",
           "#00cc96",
           "#ab63fa",
           "#FFA15A",
           "#19d3f3",
           "#FF6692",
           "#B6E880",
           "#FF97FF",
           "#FECB52"
          ],
          "font": {
           "color": "#2a3f5f"
          },
          "geo": {
           "bgcolor": "white",
           "lakecolor": "white",
           "landcolor": "#E5ECF6",
           "showlakes": true,
           "showland": true,
           "subunitcolor": "white"
          },
          "hoverlabel": {
           "align": "left"
          },
          "hovermode": "closest",
          "mapbox": {
           "style": "light"
          },
          "paper_bgcolor": "white",
          "plot_bgcolor": "#E5ECF6",
          "polar": {
           "angularaxis": {
            "gridcolor": "white",
            "linecolor": "white",
            "ticks": ""
           },
           "bgcolor": "#E5ECF6",
           "radialaxis": {
            "gridcolor": "white",
            "linecolor": "white",
            "ticks": ""
           }
          },
          "scene": {
           "xaxis": {
            "backgroundcolor": "#E5ECF6",
            "gridcolor": "white",
            "gridwidth": 2,
            "linecolor": "white",
            "showbackground": true,
            "ticks": "",
            "zerolinecolor": "white"
           },
           "yaxis": {
            "backgroundcolor": "#E5ECF6",
            "gridcolor": "white",
            "gridwidth": 2,
            "linecolor": "white",
            "showbackground": true,
            "ticks": "",
            "zerolinecolor": "white"
           },
           "zaxis": {
            "backgroundcolor": "#E5ECF6",
            "gridcolor": "white",
            "gridwidth": 2,
            "linecolor": "white",
            "showbackground": true,
            "ticks": "",
            "zerolinecolor": "white"
           }
          },
          "shapedefaults": {
           "line": {
            "color": "#2a3f5f"
           }
          },
          "ternary": {
           "aaxis": {
            "gridcolor": "white",
            "linecolor": "white",
            "ticks": ""
           },
           "baxis": {
            "gridcolor": "white",
            "linecolor": "white",
            "ticks": ""
           },
           "bgcolor": "#E5ECF6",
           "caxis": {
            "gridcolor": "white",
            "linecolor": "white",
            "ticks": ""
           }
          },
          "title": {
           "x": 0.05
          },
          "xaxis": {
           "automargin": true,
           "gridcolor": "white",
           "linecolor": "white",
           "ticks": "",
           "title": {
            "standoff": 15
           },
           "zerolinecolor": "white",
           "zerolinewidth": 2
          },
          "yaxis": {
           "automargin": true,
           "gridcolor": "white",
           "linecolor": "white",
           "ticks": "",
           "title": {
            "standoff": 15
           },
           "zerolinecolor": "white",
           "zerolinewidth": 2
          }
         }
        },
        "title": {
         "font": {
          "color": "#4D5663"
         }
        },
        "xaxis": {
         "autorange": true,
         "gridcolor": "#E1E5ED",
         "range": [
          0.06613867865546326,
          0.5291094292437061
         ],
         "showgrid": true,
         "tickfont": {
          "color": "#4D5663"
         },
         "title": {
          "font": {
           "color": "#4D5663"
          },
          "text": "squash Price"
         },
         "type": "linear",
         "zerolinecolor": "#E1E5ED"
        },
        "yaxis": {
         "autorange": true,
         "gridcolor": "#E1E5ED",
         "range": [
          0.5076852361624055,
          3.875554694833617
         ],
         "showgrid": true,
         "tickfont": {
          "color": "#4D5663"
         },
         "title": {
          "font": {
           "color": "#4D5663"
          },
          "text": "Hectograms"
         },
         "type": "linear",
         "zerolinecolor": "#E1E5ED"
        }
       }
      },
      "image/png": "[encoded data removed]",
      "text/html": [
       "<div>                            <div id=\"7de7a6b8-cca5-46c7-b111-2e6429bfb531\" class=\"plotly-graph-div\" style=\"height:525px; width:100%;\"></div>            <script type=\"text/javascript\">                require([\"plotly\"], function(Plotly) {                    window.PLOTLYENV=window.PLOTLYENV || {};\n",
       "                    window.PLOTLYENV.BASE_URL='https://plot.ly';                                    if (document.getElementById(\"7de7a6b8-cca5-46c7-b111-2e6429bfb531\")) {                    Plotly.newPlot(                        \"7de7a6b8-cca5-46c7-b111-2e6429bfb531\",                        [{\"line\":{\"color\":\"rgba(255, 153, 51, 1.0)\",\"dash\":\"solid\",\"shape\":\"linear\",\"width\":1.3},\"mode\":\"lines\",\"name\":\"tuna\",\"text\":\"\",\"x\":[0.06613867865546326,0.0992080179831949,0.11904962157983387,0.13227735731092652,0.1455050930420192,0.15873282877311182,0.1719605645042045,0.18518830023529712,0.1984160359663898,0.26455471462185304,0.5291094292437061],\"y\":[1.0989294398778608,1.0989294398778608,1.0989294398778608,1.0989294398778608,1.0989294398778608,1.0989294398778608,1.0989294398778608,1.0989294398778608,1.0989294398778608,1.0989294398778608,1.0989294398778608],\"type\":\"scatter\"},{\"line\":{\"color\":\"rgba(55, 128, 191, 1.0)\",\"dash\":\"solid\",\"shape\":\"linear\",\"width\":1.3},\"mode\":\"lines\",\"name\":\"kale\",\"text\":\"\",\"x\":[0.06613867865546326,0.0992080179831949,0.11904962157983387,0.13227735731092652,0.1455050930420192,0.15873282877311182,0.1719605645042045,0.18518830023529712,0.1984160359663898,0.26455471462185304,0.5291094292437061],\"y\":[1.3500463753428988,1.3500463753428988,1.3500463753428988,1.3500463753428988,1.3500463753428988,1.3500463753428988,1.3500463753428988,1.3500463753428988,1.3500463753428988,1.3500463753428988,1.3500463753428988],\"type\":\"scatter\"},{\"line\":{\"color\":\"rgba(50, 171, 96, 1.0)\",\"dash\":\"solid\",\"shape\":\"linear\",\"width\":1.3},\"mode\":\"lines\",\"name\":\"collard greens\",\"text\":\"\",\"x\":[0.06613867865546326,0.0992080179831949,0.11904962157983387,0.13227735731092652,0.1455050930420192,0.15873282877311182,0.1719605645042045,0.18518830023529712,0.1984160359663898,0.26455471462185304,0.5291094292437061],\"y\":[2.447604473182504,2.447604473182504,2.447604473182504,2.447604473182504,2.447604473182504,2.447604473182504,2.447604473182504,2.447604473182504,2.447604473182504,2.447604473182504,2.447604473182504],\"type\":\"scatter\"},{\"line\":{\"color\":\"rgba(128, 0, 128, 1.0)\",\"dash\":\"solid\",\"shape\":\"linear\",\"width\":1.3},\"mode\":\"lines\",\"name\":\"almond milk\",\"text\":\"\",\"x\":[0.06613867865546326,0.0992080179831949,0.11904962157983387,0.13227735731092652,0.1455050930420192,0.15873282877311182,0.1719605645042045,0.18518830023529712,0.1984160359663898,0.26455471462185304,0.5291094292437061],\"y\":[2.0385410769871033,2.0385410769871033,2.0385410769871033,2.0385410769871033,2.0385410769871033,2.0385410769871033,2.0385410769871033,2.0385410769871033,2.0385410769871033,2.0385410769871033,2.0385410769871033],\"type\":\"scatter\"},{\"line\":{\"color\":\"rgba(219, 64, 82, 1.0)\",\"dash\":\"solid\",\"shape\":\"linear\",\"width\":1.3},\"mode\":\"lines\",\"name\":\"mayonnaise\",\"text\":\"\",\"x\":[0.06613867865546326,0.0992080179831949,0.11904962157983387,0.13227735731092652,0.1455050930420192,0.15873282877311182,0.1719605645042045,0.18518830023529712,0.1984160359663898,0.26455471462185304,0.5291094292437061],\"y\":[0.6816387036136096,0.6816387036136096,0.6816387036136096,0.6816387036136096,0.6816387036136096,0.6816387036136096,0.6816387036136096,0.6816387036136096,0.6816387036136096,0.6816387036136096,0.6816387036136096],\"type\":\"scatter\"},{\"line\":{\"color\":\"rgba(0, 128, 128, 1.0)\",\"dash\":\"solid\",\"shape\":\"linear\",\"width\":1.3},\"mode\":\"lines\",\"name\":\"hemp seeds\",\"text\":\"\",\"x\":[0.06613867865546326,0.0992080179831949,0.11904962157983387,0.13227735731092652,0.1455050930420192,0.15873282877311182,0.1719605645042045,0.18518830023529712,0.1984160359663898,0.26455471462185304,0.5291094292437061],\"y\":[0.676078709095966,0.676078709095966,0.676078709095966,0.676078709095966,0.676078709095966,0.676078709095966,0.676078709095966,0.676078709095966,0.676078709095966,0.676078709095966,0.676078709095966],\"type\":\"scatter\"},{\"line\":{\"color\":\"rgba(255, 255, 51, 1.0)\",\"dash\":\"solid\",\"shape\":\"linear\",\"width\":1.3},\"mode\":\"lines\",\"name\":\"black beans\",\"text\":\"\",\"x\":[0.06613867865546326,0.0992080179831949,0.11904962157983387,0.13227735731092652,0.1455050930420192,0.15873282877311182,0.1719605645042045,0.18518830023529712,0.1984160359663898,0.26455471462185304,0.5291094292437061],\"y\":[3.7071612219000563,3.7071612219000563,3.7071612219000563,3.7071612219000563,3.7071612219000563,3.7071612219000563,3.7071612219000563,3.7071612219000563,3.7071612219000563,3.7071612219000563,3.7071612219000563],\"type\":\"scatter\"}],                        {\"legend\":{\"bgcolor\":\"#F5F6F9\",\"font\":{\"color\":\"#4D5663\"}},\"paper_bgcolor\":\"#F5F6F9\",\"plot_bgcolor\":\"#F5F6F9\",\"template\":{\"data\":{\"barpolar\":[{\"marker\":{\"line\":{\"color\":\"#E5ECF6\",\"width\":0.5},\"pattern\":{\"fillmode\":\"overlay\",\"size\":10,\"solidity\":0.2}},\"type\":\"barpolar\"}],\"bar\":[{\"error_x\":{\"color\":\"#2a3f5f\"},\"error_y\":{\"color\":\"#2a3f5f\"},\"marker\":{\"line\":{\"color\":\"#E5ECF6\",\"width\":0.5},\"pattern\":{\"fillmode\":\"overlay\",\"size\":10,\"solidity\":0.2}},\"type\":\"bar\"}],\"carpet\":[{\"aaxis\":{\"endlinecolor\":\"#2a3f5f\",\"gridcolor\":\"white\",\"linecolor\":\"white\",\"minorgridcolor\":\"white\",\"startlinecolor\":\"#2a3f5f\"},\"baxis\":{\"endlinecolor\":\"#2a3f5f\",\"gridcolor\":\"white\",\"linecolor\":\"white\",\"minorgridcolor\":\"white\",\"startlinecolor\":\"#2a3f5f\"},\"type\":\"carpet\"}],\"choropleth\":[{\"colorbar\":{\"outlinewidth\":0,\"ticks\":\"\"},\"type\":\"choropleth\"}],\"contourcarpet\":[{\"colorbar\":{\"outlinewidth\":0,\"ticks\":\"\"},\"type\":\"contourcarpet\"}],\"contour\":[{\"colorbar\":{\"outlinewidth\":0,\"ticks\":\"\"},\"colorscale\":[[0.0,\"#0d0887\"],[0.1111111111111111,\"#46039f\"],[0.2222222222222222,\"#7201a8\"],[0.3333333333333333,\"#9c179e\"],[0.4444444444444444,\"#bd3786\"],[0.5555555555555556,\"#d8576b\"],[0.6666666666666666,\"#ed7953\"],[0.7777777777777778,\"#fb9f3a\"],[0.8888888888888888,\"#fdca26\"],[1.0,\"#f0f921\"]],\"type\":\"contour\"}],\"heatmapgl\":[{\"colorbar\":{\"outlinewidth\":0,\"ticks\":\"\"},\"colorscale\":[[0.0,\"#0d0887\"],[0.1111111111111111,\"#46039f\"],[0.2222222222222222,\"#7201a8\"],[0.3333333333333333,\"#9c179e\"],[0.4444444444444444,\"#bd3786\"],[0.5555555555555556,\"#d8576b\"],[0.6666666666666666,\"#ed7953\"],[0.7777777777777778,\"#fb9f3a\"],[0.8888888888888888,\"#fdca26\"],[1.0,\"#f0f921\"]],\"type\":\"heatmapgl\"}],\"heatmap\":[{\"colorbar\":{\"outlinewidth\":0,\"ticks\":\"\"},\"colorscale\":[[0.0,\"#0d0887\"],[0.1111111111111111,\"#46039f\"],[0.2222222222222222,\"#7201a8\"],[0.3333333333333333,\"#9c179e\"],[0.4444444444444444,\"#bd3786\"],[0.5555555555555556,\"#d8576b\"],[0.6666666666666666,\"#ed7953\"],[0.7777777777777778,\"#fb9f3a\"],[0.8888888888888888,\"#fdca26\"],[1.0,\"#f0f921\"]],\"type\":\"heatmap\"}],\"histogram2dcontour\":[{\"colorbar\":{\"outlinewidth\":0,\"ticks\":\"\"},\"colorscale\":[[0.0,\"#0d0887\"],[0.1111111111111111,\"#46039f\"],[0.2222222222222222,\"#7201a8\"],[0.3333333333333333,\"#9c179e\"],[0.4444444444444444,\"#bd3786\"],[0.5555555555555556,\"#d8576b\"],[0.6666666666666666,\"#ed7953\"],[0.7777777777777778,\"#fb9f3a\"],[0.8888888888888888,\"#fdca26\"],[1.0,\"#f0f921\"]],\"type\":\"histogram2dcontour\"}],\"histogram2d\":[{\"colorbar\":{\"outlinewidth\":0,\"ticks\":\"\"},\"colorscale\":[[0.0,\"#0d0887\"],[0.1111111111111111,\"#46039f\"],[0.2222222222222222,\"#7201a8\"],[0.3333333333333333,\"#9c179e\"],[0.4444444444444444,\"#bd3786\"],[0.5555555555555556,\"#d8576b\"],[0.6666666666666666,\"#ed7953\"],[0.7777777777777778,\"#fb9f3a\"],[0.8888888888888888,\"#fdca26\"],[1.0,\"#f0f921\"]],\"type\":\"histogram2d\"}],\"histogram\":[{\"marker\":{\"pattern\":{\"fillmode\":\"overlay\",\"size\":10,\"solidity\":0.2}},\"type\":\"histogram\"}],\"mesh3d\":[{\"colorbar\":{\"outlinewidth\":0,\"ticks\":\"\"},\"type\":\"mesh3d\"}],\"parcoords\":[{\"line\":{\"colorbar\":{\"outlinewidth\":0,\"ticks\":\"\"}},\"type\":\"parcoords\"}],\"pie\":[{\"automargin\":true,\"type\":\"pie\"}],\"scatter3d\":[{\"line\":{\"colorbar\":{\"outlinewidth\":0,\"ticks\":\"\"}},\"marker\":{\"colorbar\":{\"outlinewidth\":0,\"ticks\":\"\"}},\"type\":\"scatter3d\"}],\"scattercarpet\":[{\"marker\":{\"colorbar\":{\"outlinewidth\":0,\"ticks\":\"\"}},\"type\":\"scattercarpet\"}],\"scattergeo\":[{\"marker\":{\"colorbar\":{\"outlinewidth\":0,\"ticks\":\"\"}},\"type\":\"scattergeo\"}],\"scattergl\":[{\"marker\":{\"colorbar\":{\"outlinewidth\":0,\"ticks\":\"\"}},\"type\":\"scattergl\"}],\"scattermapbox\":[{\"marker\":{\"colorbar\":{\"outlinewidth\":0,\"ticks\":\"\"}},\"type\":\"scattermapbox\"}],\"scatterpolargl\":[{\"marker\":{\"colorbar\":{\"outlinewidth\":0,\"ticks\":\"\"}},\"type\":\"scatterpolargl\"}],\"scatterpolar\":[{\"marker\":{\"colorbar\":{\"outlinewidth\":0,\"ticks\":\"\"}},\"type\":\"scatterpolar\"}],\"scatter\":[{\"fillpattern\":{\"fillmode\":\"overlay\",\"size\":10,\"solidity\":0.2},\"type\":\"scatter\"}],\"scatterternary\":[{\"marker\":{\"colorbar\":{\"outlinewidth\":0,\"ticks\":\"\"}},\"type\":\"scatterternary\"}],\"surface\":[{\"colorbar\":{\"outlinewidth\":0,\"ticks\":\"\"},\"colorscale\":[[0.0,\"#0d0887\"],[0.1111111111111111,\"#46039f\"],[0.2222222222222222,\"#7201a8\"],[0.3333333333333333,\"#9c179e\"],[0.4444444444444444,\"#bd3786\"],[0.5555555555555556,\"#d8576b\"],[0.6666666666666666,\"#ed7953\"],[0.7777777777777778,\"#fb9f3a\"],[0.8888888888888888,\"#fdca26\"],[1.0,\"#f0f921\"]],\"type\":\"surface\"}],\"table\":[{\"cells\":{\"fill\":{\"color\":\"#EBF0F8\"},\"line\":{\"color\":\"white\"}},\"header\":{\"fill\":{\"color\":\"#C8D4E3\"},\"line\":{\"color\":\"white\"}},\"type\":\"table\"}]},\"layout\":{\"annotationdefaults\":{\"arrowcolor\":\"#2a3f5f\",\"arrowhead\":0,\"arrowwidth\":1},\"autotypenumbers\":\"strict\",\"coloraxis\":{\"colorbar\":{\"outlinewidth\":0,\"ticks\":\"\"}},\"colorscale\":{\"diverging\":[[0,\"#8e0152\"],[0.1,\"#c51b7d\"],[0.2,\"#de77ae\"],[0.3,\"#f1b6da\"],[0.4,\"#fde0ef\"],[0.5,\"#f7f7f7\"],[0.6,\"#e6f5d0\"],[0.7,\"#b8e186\"],[0.8,\"#7fbc41\"],[0.9,\"#4d9221\"],[1,\"#276419\"]],\"sequential\":[[0.0,\"#0d0887\"],[0.1111111111111111,\"#46039f\"],[0.2222222222222222,\"#7201a8\"],[0.3333333333333333,\"#9c179e\"],[0.4444444444444444,\"#bd3786\"],[0.5555555555555556,\"#d8576b\"],[0.6666666666666666,\"#ed7953\"],[0.7777777777777778,\"#fb9f3a\"],[0.8888888888888888,\"#fdca26\"],[1.0,\"#f0f921\"]],\"sequentialminus\":[[0.0,\"#0d0887\"],[0.1111111111111111,\"#46039f\"],[0.2222222222222222,\"#7201a8\"],[0.3333333333333333,\"#9c179e\"],[0.4444444444444444,\"#bd3786\"],[0.5555555555555556,\"#d8576b\"],[0.6666666666666666,\"#ed7953\"],[0.7777777777777778,\"#fb9f3a\"],[0.8888888888888888,\"#fdca26\"],[1.0,\"#f0f921\"]]},\"colorway\":[\"#636efa\",\"#EF553B\",\"#00cc96\",\"#ab63fa\",\"#FFA15A\",\"#19d3f3\",\"#FF6692\",\"#B6E880\",\"#FF97FF\",\"#FECB52\"],\"font\":{\"color\":\"#2a3f5f\"},\"geo\":{\"bgcolor\":\"white\",\"lakecolor\":\"white\",\"landcolor\":\"#E5ECF6\",\"showlakes\":true,\"showland\":true,\"subunitcolor\":\"white\"},\"hoverlabel\":{\"align\":\"left\"},\"hovermode\":\"closest\",\"mapbox\":{\"style\":\"light\"},\"paper_bgcolor\":\"white\",\"plot_bgcolor\":\"#E5ECF6\",\"polar\":{\"angularaxis\":{\"gridcolor\":\"white\",\"linecolor\":\"white\",\"ticks\":\"\"},\"bgcolor\":\"#E5ECF6\",\"radialaxis\":{\"gridcolor\":\"white\",\"linecolor\":\"white\",\"ticks\":\"\"}},\"scene\":{\"xaxis\":{\"backgroundcolor\":\"#E5ECF6\",\"gridcolor\":\"white\",\"gridwidth\":2,\"linecolor\":\"white\",\"showbackground\":true,\"ticks\":\"\",\"zerolinecolor\":\"white\"},\"yaxis\":{\"backgroundcolor\":\"#E5ECF6\",\"gridcolor\":\"white\",\"gridwidth\":2,\"linecolor\":\"white\",\"showbackground\":true,\"ticks\":\"\",\"zerolinecolor\":\"white\"},\"zaxis\":{\"backgroundcolor\":\"#E5ECF6\",\"gridcolor\":\"white\",\"gridwidth\":2,\"linecolor\":\"white\",\"showbackground\":true,\"ticks\":\"\",\"zerolinecolor\":\"white\"}},\"shapedefaults\":{\"line\":{\"color\":\"#2a3f5f\"}},\"ternary\":{\"aaxis\":{\"gridcolor\":\"white\",\"linecolor\":\"white\",\"ticks\":\"\"},\"baxis\":{\"gridcolor\":\"white\",\"linecolor\":\"white\",\"ticks\":\"\"},\"bgcolor\":\"#E5ECF6\",\"caxis\":{\"gridcolor\":\"white\",\"linecolor\":\"white\",\"ticks\":\"\"}},\"title\":{\"x\":0.05},\"xaxis\":{\"automargin\":true,\"gridcolor\":\"white\",\"linecolor\":\"white\",\"ticks\":\"\",\"title\":{\"standoff\":15},\"zerolinecolor\":\"white\",\"zerolinewidth\":2},\"yaxis\":{\"automargin\":true,\"gridcolor\":\"white\",\"linecolor\":\"white\",\"ticks\":\"\",\"title\":{\"standoff\":15},\"zerolinecolor\":\"white\",\"zerolinewidth\":2}}},\"title\":{\"font\":{\"color\":\"#4D5663\"}},\"xaxis\":{\"gridcolor\":\"#E1E5ED\",\"showgrid\":true,\"tickfont\":{\"color\":\"#4D5663\"},\"title\":{\"font\":{\"color\":\"#4D5663\"},\"text\":\"squash Price\"},\"zerolinecolor\":\"#E1E5ED\"},\"yaxis\":{\"gridcolor\":\"#E1E5ED\",\"showgrid\":true,\"tickfont\":{\"color\":\"#4D5663\"},\"title\":{\"font\":{\"color\":\"#4D5663\"},\"text\":\"Hectograms\"},\"zerolinecolor\":\"#E1E5ED\"}},                        {\"showLink\": true, \"linkText\": \"Export to plot.ly\", \"plotlyServerURL\": \"https://plot.ly\", \"responsive\": true}                    ).then(function(){\n",
       "                            \n",
       "var gd = document.getElementById('7de7a6b8-cca5-46c7-b111-2e6429bfb531');\n",
       "var x = new MutationObserver(function (mutations, observer) {{\n",
       "        var display = window.getComputedStyle(gd).display;\n",
       "        if (!display || display === 'none') {{\n",
       "            console.log([gd, 'removed!']);\n",
       "            Plotly.purge(gd);\n",
       "            observer.disconnect();\n",
       "        }}\n",
       "}});\n",
       "\n",
       "// Listen for the removal of the full notebook cells\n",
       "var notebookContainer = gd.closest('#notebook-container');\n",
       "if (notebookContainer) {{\n",
       "    x.observe(notebookContainer, {childList: true});\n",
       "}}\n",
       "\n",
       "// Listen for the clearing of the current output cell\n",
       "var outputEl = gd.closest('.output');\n",
       "if (outputEl) {{\n",
       "    x.observe(outputEl, {childList: true});\n",
       "}}\n",
       "\n",
       "                        })                };                });            </script>        </div>"
      ]
     },
     "metadata": {},
     "output_type": "display_data"
    }
   ],
   "source": [
    "import cufflinks as cf\n",
    "cf.go_offline()\n",
    "\n",
    "ReferenceGood = 'squash'\n",
    "\n",
    "scale = [0.5,0.75,0.9,1.,1.1,1.2,1.3,1.4,1.5,2,4]\n",
    "\n",
    "cost0 = solve_subsistence_problem(FoodNutrients,Prices,\n",
    "                                  diet_min[group],diet_max[group],max_weight=12,tol=tol).fun\n",
    "\n",
    "my_p = Prices.copy()\n",
    "\n",
    "diet = {}\n",
    "for s in scale:\n",
    "\n",
    "    my_p[ReferenceGood] = Prices[ReferenceGood]*s\n",
    "    result = solve_subsistence_problem(FoodNutrients,my_p,\n",
    "                                       diet_min[group],diet_max[group],max_weight=12,tol=tol)\n",
    "    diet[my_p[ReferenceGood]] = result.diet\n",
    "\n",
    "Diet_response = pd.DataFrame(diet).T\n",
    "Diet_response.index.name = '%s Price' % ReferenceGood\n",
    "\n",
    "Diet_response.reset_index(inplace=True)\n",
    "\n",
    "# Get rid of units for index (cufflinks chokes)\n",
    "Diet_response['%s Price' % ReferenceGood] = Diet_response['%s Price' % ReferenceGood].apply(lambda x: x.magnitude)\n",
    "\n",
    "Diet_response = Diet_response.set_index('%s Price' % ReferenceGood)\n",
    "\n",
    "# Just look at goods consumed in quantities greater than error tolerance\n",
    "Diet_response.loc[:,(Diet_response>tol).sum()>0].iplot(xTitle='%s Price' % ReferenceGood,yTitle='Hectograms')"
   ]
  },
  {
   "cell_type": "code",
   "execution_count": 146,
   "id": "4e1b8c75-432a-4737-9ee0-bb36edcd883f",
   "metadata": {},
   "outputs": [
    {
     "data": {
      "application/vnd.plotly.v1+json": {
       "config": {
        "linkText": "Export to plot.ly",
        "plotlyServerURL": "https://plot.ly",
        "showLink": true
       },
       "data": [
        {
         "line": {
          "color": "rgba(255, 153, 51, 1.0)",
          "dash": "solid",
          "shape": "linear",
          "width": 1.3
         },
         "mode": "lines",
         "name": "25-hydroxycholecalciferol",
         "text": "",
         "type": "scatter",
         "x": [
          0.06613867865546326,
          0.0992080179831949,
          0.11904962157983387,
          0.13227735731092652,
          0.1455050930420192,
          0.15873282877311182,
          0.1719605645042045,
          0.18518830023529712,
          0.1984160359663898,
          0.26455471462185304,
          0.5291094292437061
         ],
         "y": [
          0,
          0,
          0,
          0,
          0,
          0,
          0,
          0,
          0,
          0,
          0
         ]
        },
        {
         "line": {
          "color": "rgba(55, 128, 191, 1.0)",
          "dash": "solid",
          "shape": "linear",
          "width": 1.3
         },
         "mode": "lines",
         "name": "Alanine",
         "text": "",
         "type": "scatter",
         "x": [
          0.06613867865546326,
          0.0992080179831949,
          0.11904962157983387,
          0.13227735731092652,
          0.1455050930420192,
          0.15873282877311182,
          0.1719605645042045,
          0.18518830023529712,
          0.1984160359663898,
          0.26455471462185304,
          0.5291094292437061
         ],
         "y": [
          2.811329877623611,
          2.811329877623611,
          2.811329877623611,
          2.811329877623611,
          2.811329877623611,
          2.811329877623611,
          2.811329877623611,
          2.811329877623611,
          2.811329877623611,
          2.811329877623611,
          2.811329877623611
         ]
        },
        {
         "line": {
          "color": "rgba(50, 171, 96, 1.0)",
          "dash": "solid",
          "shape": "linear",
          "width": 1.3
         },
         "mode": "lines",
         "name": "Alcohol, ethyl",
         "text": "",
         "type": "scatter",
         "x": [
          0.06613867865546326,
          0.0992080179831949,
          0.11904962157983387,
          0.13227735731092652,
          0.1455050930420192,
          0.15873282877311182,
          0.1719605645042045,
          0.18518830023529712,
          0.1984160359663898,
          0.26455471462185304,
          0.5291094292437061
         ],
         "y": [
          0,
          0,
          0,
          0,
          0,
          0,
          0,
          0,
          0,
          0,
          0
         ]
        },
        {
         "line": {
          "color": "rgba(128, 0, 128, 1.0)",
          "dash": "solid",
          "shape": "linear",
          "width": 1.3
         },
         "mode": "lines",
         "name": "Amino acids",
         "text": "",
         "type": "scatter",
         "x": [
          0.06613867865546326,
          0.0992080179831949,
          0.11904962157983387,
          0.13227735731092652,
          0.1455050930420192,
          0.15873282877311182,
          0.1719605645042045,
          0.18518830023529712,
          0.1984160359663898,
          0.26455471462185304,
          0.5291094292437061
         ],
         "y": [
          0,
          0,
          0,
          0,
          0,
          0,
          0,
          0,
          0,
          0,
          0
         ]
        },
        {
         "line": {
          "color": "rgba(219, 64, 82, 1.0)",
          "dash": "solid",
          "shape": "linear",
          "width": 1.3
         },
         "mode": "lines",
         "name": "Arginine",
         "text": "",
         "type": "scatter",
         "x": [
          0.06613867865546326,
          0.0992080179831949,
          0.11904962157983387,
          0.13227735731092652,
          0.1455050930420192,
          0.15873282877311182,
          0.1719605645042045,
          0.18518830023529712,
          0.1984160359663898,
          0.26455471462185304,
          0.5291094292437061
         ],
         "y": [
          5.0168648780350305,
          5.0168648780350305,
          5.0168648780350305,
          5.0168648780350305,
          5.0168648780350305,
          5.0168648780350305,
          5.0168648780350305,
          5.0168648780350305,
          5.0168648780350305,
          5.0168648780350305,
          5.0168648780350305
         ]
        },
        {
         "line": {
          "color": "rgba(0, 128, 128, 1.0)",
          "dash": "solid",
          "shape": "linear",
          "width": 1.3
         },
         "mode": "lines",
         "name": "Ash",
         "text": "",
         "type": "scatter",
         "x": [
          0.06613867865546326,
          0.0992080179831949,
          0.11904962157983387,
          0.13227735731092652,
          0.1455050930420192,
          0.15873282877311182,
          0.1719605645042045,
          0.18518830023529712,
          0.1984160359663898,
          0.26455471462185304,
          0.5291094292437061
         ],
         "y": [
          12.321141993844513,
          12.321141993844513,
          12.321141993844513,
          12.321141993844513,
          12.321141993844513,
          12.321141993844513,
          12.321141993844513,
          12.321141993844513,
          12.321141993844513,
          12.321141993844513,
          12.321141993844513
         ]
        },
        {
         "line": {
          "color": "rgba(255, 255, 51, 1.0)",
          "dash": "solid",
          "shape": "linear",
          "width": 1.3
         },
         "mode": "lines",
         "name": "Aspartic acid",
         "text": "",
         "type": "scatter",
         "x": [
          0.06613867865546326,
          0.0992080179831949,
          0.11904962157983387,
          0.13227735731092652,
          0.1455050930420192,
          0.15873282877311182,
          0.1719605645042045,
          0.18518830023529712,
          0.1984160359663898,
          0.26455471462185304,
          0.5291094292437061
         ],
         "y": [
          5.567377230705877,
          5.567377230705877,
          5.567377230705877,
          5.567377230705877,
          5.567377230705877,
          5.567377230705877,
          5.567377230705877,
          5.567377230705877,
          5.567377230705877,
          5.567377230705877,
          5.567377230705877
         ]
        },
        {
         "line": {
          "color": "rgba(128, 128, 0, 1.0)",
          "dash": "solid",
          "shape": "linear",
          "width": 1.3
         },
         "mode": "lines",
         "name": "Beta-sitostanol",
         "text": "",
         "type": "scatter",
         "x": [
          0.06613867865546326,
          0.0992080179831949,
          0.11904962157983387,
          0.13227735731092652,
          0.1455050930420192,
          0.15873282877311182,
          0.1719605645042045,
          0.18518830023529712,
          0.1984160359663898,
          0.26455471462185304,
          0.5291094292437061
         ],
         "y": [
          0,
          0,
          0,
          0,
          0,
          0,
          0,
          0,
          0,
          0,
          0
         ]
        },
        {
         "line": {
          "color": "rgba(251, 128, 114, 1.0)",
          "dash": "solid",
          "shape": "linear",
          "width": 1.3
         },
         "mode": "lines",
         "name": "Beta-sitosterol",
         "text": "",
         "type": "scatter",
         "x": [
          0.06613867865546326,
          0.0992080179831949,
          0.11904962157983387,
          0.13227735731092652,
          0.1455050930420192,
          0.15873282877311182,
          0.1719605645042045,
          0.18518830023529712,
          0.1984160359663898,
          0.26455471462185304,
          0.5291094292437061
         ],
         "y": [
          0,
          0,
          0,
          0,
          0,
          0,
          0,
          0,
          0,
          0,
          0
         ]
        },
        {
         "line": {
          "color": "rgba(128, 177, 211, 1.0)",
          "dash": "solid",
          "shape": "linear",
          "width": 1.3
         },
         "mode": "lines",
         "name": "Betaine",
         "text": "",
         "type": "scatter",
         "x": [
          0.06613867865546326,
          0.0992080179831949,
          0.11904962157983387,
          0.13227735731092652,
          0.1455050930420192,
          0.15873282877311182,
          0.1719605645042045,
          0.18518830023529712,
          0.1984160359663898,
          0.26455471462185304,
          0.5291094292437061
         ],
         "y": [
          0.9790417892730017,
          0.9790417892730017,
          0.9790417892730017,
          0.9790417892730017,
          0.9790417892730017,
          0.9790417892730017,
          0.9790417892730017,
          0.9790417892730017,
          0.9790417892730017,
          0.9790417892730017,
          0.9790417892730017
         ]
        },
        {
         "line": {
          "color": "rgba(128, 177, 211, 0.962962962962963)",
          "dash": "solid",
          "shape": "linear",
          "width": 1.3
         },
         "mode": "lines",
         "name": "Biotin",
         "text": "",
         "type": "scatter",
         "x": [
          0.06613867865546326,
          0.0992080179831949,
          0.11904962157983387,
          0.13227735731092652,
          0.1455050930420192,
          0.15873282877311182,
          0.1719605645042045,
          0.18518830023529712,
          0.1984160359663898,
          0.26455471462185304,
          0.5291094292437061
         ],
         "y": [
          2.9049210347066223,
          2.9049210347066223,
          2.9049210347066223,
          2.9049210347066223,
          2.9049210347066223,
          2.9049210347066223,
          2.9049210347066223,
          2.9049210347066223,
          2.9049210347066223,
          2.9049210347066223,
          2.9049210347066223
         ]
        },
        {
         "line": {
          "color": "rgba(255, 153, 51, 0.962962962962963)",
          "dash": "solid",
          "shape": "linear",
          "width": 1.3
         },
         "mode": "lines",
         "name": "Boron, B",
         "text": "",
         "type": "scatter",
         "x": [
          0.06613867865546326,
          0.0992080179831949,
          0.11904962157983387,
          0.13227735731092652,
          0.1455050930420192,
          0.15873282877311182,
          0.1719605645042045,
          0.18518830023529712,
          0.1984160359663898,
          0.26455471462185304,
          0.5291094292437061
         ],
         "y": [
          4633.95152737507,
          4633.95152737507,
          4633.95152737507,
          4633.95152737507,
          4633.95152737507,
          4633.95152737507,
          4633.95152737507,
          4633.95152737507,
          4633.95152737507,
          4633.95152737507,
          4633.95152737507
         ]
        },
        {
         "line": {
          "color": "rgba(55, 128, 191, 0.962962962962963)",
          "dash": "solid",
          "shape": "linear",
          "width": 1.3
         },
         "mode": "lines",
         "name": "Brassicasterol",
         "text": "",
         "type": "scatter",
         "x": [
          0.06613867865546326,
          0.0992080179831949,
          0.11904962157983387,
          0.13227735731092652,
          0.1455050930420192,
          0.15873282877311182,
          0.1719605645042045,
          0.18518830023529712,
          0.1984160359663898,
          0.26455471462185304,
          0.5291094292437061
         ],
         "y": [
          0,
          0,
          0,
          0,
          0,
          0,
          0,
          0,
          0,
          0,
          0
         ]
        },
        {
         "line": {
          "color": "rgba(50, 171, 96, 0.962962962962963)",
          "dash": "solid",
          "shape": "linear",
          "width": 1.3
         },
         "mode": "lines",
         "name": "Caffeine",
         "text": "",
         "type": "scatter",
         "x": [
          0.06613867865546326,
          0.0992080179831949,
          0.11904962157983387,
          0.13227735731092652,
          0.1455050930420192,
          0.15873282877311182,
          0.1719605645042045,
          0.18518830023529712,
          0.1984160359663898,
          0.26455471462185304,
          0.5291094292437061
         ],
         "y": [
          0,
          0,
          0,
          0,
          0,
          0,
          0,
          0,
          0,
          0,
          0
         ]
        },
        {
         "line": {
          "color": "rgba(128, 0, 128, 0.962962962962963)",
          "dash": "solid",
          "shape": "linear",
          "width": 1.3
         },
         "mode": "lines",
         "name": "Calcium, Ca",
         "text": "",
         "type": "scatter",
         "x": [
          0.06613867865546326,
          0.0992080179831949,
          0.11904962157983387,
          0.13227735731092652,
          0.1455050930420192,
          0.15873282877311182,
          0.1719605645042045,
          0.18518830023529712,
          0.1984160359663898,
          0.26455471462185304,
          0.5291094292437061
         ],
         "y": [
          2023.8599644422877,
          2023.8599644422877,
          2023.8599644422877,
          2023.8599644422877,
          2023.8599644422877,
          2023.8599644422877,
          2023.8599644422877,
          2023.8599644422877,
          2023.8599644422877,
          2023.8599644422877,
          2023.8599644422877
         ]
        },
        {
         "line": {
          "color": "rgba(219, 64, 82, 0.962962962962963)",
          "dash": "solid",
          "shape": "linear",
          "width": 1.3
         },
         "mode": "lines",
         "name": "Campestanol",
         "text": "",
         "type": "scatter",
         "x": [
          0.06613867865546326,
          0.0992080179831949,
          0.11904962157983387,
          0.13227735731092652,
          0.1455050930420192,
          0.15873282877311182,
          0.1719605645042045,
          0.18518830023529712,
          0.1984160359663898,
          0.26455471462185304,
          0.5291094292437061
         ],
         "y": [
          0,
          0,
          0,
          0,
          0,
          0,
          0,
          0,
          0,
          0,
          0
         ]
        },
        {
         "line": {
          "color": "rgba(0, 128, 128, 0.962962962962963)",
          "dash": "solid",
          "shape": "linear",
          "width": 1.3
         },
         "mode": "lines",
         "name": "Campesterol",
         "text": "",
         "type": "scatter",
         "x": [
          0.06613867865546326,
          0.0992080179831949,
          0.11904962157983387,
          0.13227735731092652,
          0.1455050930420192,
          0.15873282877311182,
          0.1719605645042045,
          0.18518830023529712,
          0.1984160359663898,
          0.26455471462185304,
          0.5291094292437061
         ],
         "y": [
          0,
          0,
          0,
          0,
          0,
          0,
          0,
          0,
          0,
          0,
          0
         ]
        },
        {
         "line": {
          "color": "rgba(255, 255, 51, 0.962962962962963)",
          "dash": "solid",
          "shape": "linear",
          "width": 1.3
         },
         "mode": "lines",
         "name": "Carbohydrate, by difference",
         "text": "",
         "type": "scatter",
         "x": [
          0.06613867865546326,
          0.0992080179831949,
          0.11904962157983387,
          0.13227735731092652,
          0.1455050930420192,
          0.15873282877311182,
          0.1719605645042045,
          0.18518830023529712,
          0.1984160359663898,
          0.26455471462185304,
          0.5291094292437061
         ],
         "y": [
          26.666666669999994,
          26.666666669999994,
          26.666666669999994,
          26.666666669999994,
          26.666666669999994,
          26.666666669999994,
          26.666666669999994,
          26.666666669999994,
          26.666666669999994,
          26.666666669999994,
          26.666666669999994
         ]
        },
        {
         "line": {
          "color": "rgba(128, 128, 0, 0.962962962962963)",
          "dash": "solid",
          "shape": "linear",
          "width": 1.3
         },
         "mode": "lines",
         "name": "Carbohydrate, by summation",
         "text": "",
         "type": "scatter",
         "x": [
          0.06613867865546326,
          0.0992080179831949,
          0.11904962157983387,
          0.13227735731092652,
          0.1455050930420192,
          0.15873282877311182,
          0.1719605645042045,
          0.18518830023529712,
          0.1984160359663898,
          0.26455471462185304,
          0.5291094292437061
         ],
         "y": [
          0,
          0,
          0,
          0,
          0,
          0,
          0,
          0,
          0,
          0,
          0
         ]
        },
        {
         "line": {
          "color": "rgba(251, 128, 114, 0.962962962962963)",
          "dash": "solid",
          "shape": "linear",
          "width": 1.3
         },
         "mode": "lines",
         "name": "Carbohydrates",
         "text": "",
         "type": "scatter",
         "x": [
          0.06613867865546326,
          0.0992080179831949,
          0.11904962157983387,
          0.13227735731092652,
          0.1455050930420192,
          0.15873282877311182,
          0.1719605645042045,
          0.18518830023529712,
          0.1984160359663898,
          0.26455471462185304,
          0.5291094292437061
         ],
         "y": [
          0,
          0,
          0,
          0,
          0,
          0,
          0,
          0,
          0,
          0,
          0
         ]
        },
        {
         "line": {
          "color": "rgba(251, 128, 114, 0.9259259259259258)",
          "dash": "solid",
          "shape": "linear",
          "width": 1.3
         },
         "mode": "lines",
         "name": "Carotene, alpha",
         "text": "",
         "type": "scatter",
         "x": [
          0.06613867865546326,
          0.0992080179831949,
          0.11904962157983387,
          0.13227735731092652,
          0.1455050930420192,
          0.15873282877311182,
          0.1719605645042045,
          0.18518830023529712,
          0.1984160359663898,
          0.26455471462185304,
          0.5291094292437061
         ],
         "y": [
          34.266462624555054,
          34.266462624555054,
          34.266462624555054,
          34.266462624555054,
          34.266462624555054,
          34.266462624555054,
          34.266462624555054,
          34.266462624555054,
          34.266462624555054,
          34.266462624555054,
          34.266462624555054
         ]
        },
        {
         "line": {
          "color": "rgba(128, 177, 211, 0.9259259259259258)",
          "dash": "solid",
          "shape": "linear",
          "width": 1.3
         },
         "mode": "lines",
         "name": "Carotene, beta",
         "text": "",
         "type": "scatter",
         "x": [
          0.06613867865546326,
          0.0992080179831949,
          0.11904962157983387,
          0.13227735731092652,
          0.1455050930420192,
          0.15873282877311182,
          0.1719605645042045,
          0.18518830023529712,
          0.1984160359663898,
          0.26455471462185304,
          0.5291094292437061
         ],
         "y": [
          11200.15062748666,
          11200.15062748666,
          11200.15062748666,
          11200.15062748666,
          11200.15062748666,
          11200.15062748666,
          11200.15062748666,
          11200.15062748666,
          11200.15062748666,
          11200.15062748666,
          11200.15062748666
         ]
        },
        {
         "line": {
          "color": "rgba(255, 153, 51, 0.9259259259259258)",
          "dash": "solid",
          "shape": "linear",
          "width": 1.3
         },
         "mode": "lines",
         "name": "Carotene, gamma",
         "text": "",
         "type": "scatter",
         "x": [
          0.06613867865546326,
          0.0992080179831949,
          0.11904962157983387,
          0.13227735731092652,
          0.1455050930420192,
          0.15873282877311182,
          0.1719605645042045,
          0.18518830023529712,
          0.1984160359663898,
          0.26455471462185304,
          0.5291094292437061
         ],
         "y": [
          0,
          0,
          0,
          0,
          0,
          0,
          0,
          0,
          0,
          0,
          0
         ]
        },
        {
         "line": {
          "color": "rgba(55, 128, 191, 0.9259259259259258)",
          "dash": "solid",
          "shape": "linear",
          "width": 1.3
         },
         "mode": "lines",
         "name": "Cholesterol",
         "text": "",
         "type": "scatter",
         "x": [
          0.06613867865546326,
          0.0992080179831949,
          0.11904962157983387,
          0.13227735731092652,
          0.1455050930420192,
          0.15873282877311182,
          0.1719605645042045,
          0.18518830023529712,
          0.1984160359663898,
          0.26455471462185304,
          0.5291094292437061
         ],
         "y": [
          51.64968367425946,
          51.64968367425946,
          51.64968367425946,
          51.64968367425946,
          51.64968367425946,
          51.64968367425946,
          51.64968367425946,
          51.64968367425946,
          51.64968367425946,
          51.64968367425946,
          51.64968367425946
         ]
        },
        {
         "line": {
          "color": "rgba(50, 171, 96, 0.9259259259259258)",
          "dash": "solid",
          "shape": "linear",
          "width": 1.3
         },
         "mode": "lines",
         "name": "Choline, free",
         "text": "",
         "type": "scatter",
         "x": [
          0.06613867865546326,
          0.0992080179831949,
          0.11904962157983387,
          0.13227735731092652,
          0.1455050930420192,
          0.15873282877311182,
          0.1719605645042045,
          0.18518830023529712,
          0.1984160359663898,
          0.26455471462185304,
          0.5291094292437061
         ],
         "y": [
          0,
          0,
          0,
          0,
          0,
          0,
          0,
          0,
          0,
          0,
          0
         ]
        },
        {
         "line": {
          "color": "rgba(128, 0, 128, 0.9259259259259258)",
          "dash": "solid",
          "shape": "linear",
          "width": 1.3
         },
         "mode": "lines",
         "name": "Choline, from glycerophosphocholine",
         "text": "",
         "type": "scatter",
         "x": [
          0.06613867865546326,
          0.0992080179831949,
          0.11904962157983387,
          0.13227735731092652,
          0.1455050930420192,
          0.15873282877311182,
          0.1719605645042045,
          0.18518830023529712,
          0.1984160359663898,
          0.26455471462185304,
          0.5291094292437061
         ],
         "y": [
          0,
          0,
          0,
          0,
          0,
          0,
          0,
          0,
          0,
          0,
          0
         ]
        },
        {
         "line": {
          "color": "rgba(219, 64, 82, 0.9259259259259258)",
          "dash": "solid",
          "shape": "linear",
          "width": 1.3
         },
         "mode": "lines",
         "name": "Choline, from phosphocholine",
         "text": "",
         "type": "scatter",
         "x": [
          0.06613867865546326,
          0.0992080179831949,
          0.11904962157983387,
          0.13227735731092652,
          0.1455050930420192,
          0.15873282877311182,
          0.1719605645042045,
          0.18518830023529712,
          0.1984160359663898,
          0.26455471462185304,
          0.5291094292437061
         ],
         "y": [
          0,
          0,
          0,
          0,
          0,
          0,
          0,
          0,
          0,
          0,
          0
         ]
        },
        {
         "line": {
          "color": "rgba(0, 128, 128, 0.9259259259259258)",
          "dash": "solid",
          "shape": "linear",
          "width": 1.3
         },
         "mode": "lines",
         "name": "Choline, from phosphotidyl choline",
         "text": "",
         "type": "scatter",
         "x": [
          0.06613867865546326,
          0.0992080179831949,
          0.11904962157983387,
          0.13227735731092652,
          0.1455050930420192,
          0.15873282877311182,
          0.1719605645042045,
          0.18518830023529712,
          0.1984160359663898,
          0.26455471462185304,
          0.5291094292437061
         ],
         "y": [
          0,
          0,
          0,
          0,
          0,
          0,
          0,
          0,
          0,
          0,
          0
         ]
        },
        {
         "line": {
          "color": "rgba(255, 255, 51, 0.9259259259259258)",
          "dash": "solid",
          "shape": "linear",
          "width": 1.3
         },
         "mode": "lines",
         "name": "Choline, from sphingomyelin",
         "text": "",
         "type": "scatter",
         "x": [
          0.06613867865546326,
          0.0992080179831949,
          0.11904962157983387,
          0.13227735731092652,
          0.1455050930420192,
          0.15873282877311182,
          0.1719605645042045,
          0.18518830023529712,
          0.1984160359663898,
          0.26455471462185304,
          0.5291094292437061
         ],
         "y": [
          0,
          0,
          0,
          0,
          0,
          0,
          0,
          0,
          0,
          0,
          0
         ]
        },
        {
         "line": {
          "color": "rgba(128, 128, 0, 0.9259259259259258)",
          "dash": "solid",
          "shape": "linear",
          "width": 1.3
         },
         "mode": "lines",
         "name": "Choline, total",
         "text": "",
         "type": "scatter",
         "x": [
          0.06613867865546326,
          0.0992080179831949,
          0.11904962157983387,
          0.13227735731092652,
          0.1455050930420192,
          0.15873282877311182,
          0.1719605645042045,
          0.18518830023529712,
          0.1984160359663898,
          0.26455471462185304,
          0.5291094292437061
         ],
         "y": [
          57.26157087036362,
          57.26157087036362,
          57.26157087036362,
          57.26157087036362,
          57.26157087036362,
          57.26157087036362,
          57.26157087036362,
          57.26157087036362,
          57.26157087036362,
          57.26157087036362,
          57.26157087036362
         ]
        },
        {
         "line": {
          "color": "rgba(128, 128, 0, 0.8888888888888888)",
          "dash": "solid",
          "shape": "linear",
          "width": 1.3
         },
         "mode": "lines",
         "name": "Cobalt, Co",
         "text": "",
         "type": "scatter",
         "x": [
          0.06613867865546326,
          0.0992080179831949,
          0.11904962157983387,
          0.13227735731092652,
          0.1455050930420192,
          0.15873282877311182,
          0.1719605645042045,
          0.18518830023529712,
          0.1984160359663898,
          0.26455471462185304,
          0.5291094292437061
         ],
         "y": [
          162.37366151922245,
          162.37366151922245,
          162.37366151922245,
          162.37366151922245,
          162.37366151922245,
          162.37366151922245,
          162.37366151922245,
          162.37366151922245,
          162.37366151922245,
          162.37366151922245,
          162.37366151922245
         ]
        },
        {
         "line": {
          "color": "rgba(251, 128, 114, 0.8888888888888888)",
          "dash": "solid",
          "shape": "linear",
          "width": 1.3
         },
         "mode": "lines",
         "name": "Copper, Cu",
         "text": "",
         "type": "scatter",
         "x": [
          0.06613867865546326,
          0.0992080179831949,
          0.11904962157983387,
          0.13227735731092652,
          0.1455050930420192,
          0.15873282877311182,
          0.1719605645042045,
          0.18518830023529712,
          0.1984160359663898,
          0.26455471462185304,
          0.5291094292437061
         ],
         "y": [
          5.567192682720087,
          5.567192682720087,
          5.567192682720087,
          5.567192682720087,
          5.567192682720087,
          5.567192682720087,
          5.567192682720087,
          5.567192682720087,
          5.567192682720087,
          5.567192682720087,
          5.567192682720087
         ]
        },
        {
         "line": {
          "color": "rgba(128, 177, 211, 0.8888888888888888)",
          "dash": "solid",
          "shape": "linear",
          "width": 1.3
         },
         "mode": "lines",
         "name": "Cryptoxanthin, alpha",
         "text": "",
         "type": "scatter",
         "x": [
          0.06613867865546326,
          0.0992080179831949,
          0.11904962157983387,
          0.13227735731092652,
          0.1455050930420192,
          0.15873282877311182,
          0.1719605645042045,
          0.18518830023529712,
          0.1984160359663898,
          0.26455471462185304,
          0.5291094292437061
         ],
         "y": [
          0,
          0,
          0,
          0,
          0,
          0,
          0,
          0,
          0,
          0,
          0
         ]
        },
        {
         "line": {
          "color": "rgba(255, 153, 51, 0.8888888888888888)",
          "dash": "solid",
          "shape": "linear",
          "width": 1.3
         },
         "mode": "lines",
         "name": "Cryptoxanthin, beta",
         "text": "",
         "type": "scatter",
         "x": [
          0.06613867865546326,
          0.0992080179831949,
          0.11904962157983387,
          0.13227735731092652,
          0.1455050930420192,
          0.15873282877311182,
          0.1719605645042045,
          0.18518830023529712,
          0.1984160359663898,
          0.26455471462185304,
          0.5291094292437061
         ],
         "y": [
          104.98417738336838,
          104.98417738336838,
          104.98417738336838,
          104.98417738336838,
          104.98417738336838,
          104.98417738336838,
          104.98417738336838,
          104.98417738336838,
          104.98417738336838,
          104.98417738336838,
          104.98417738336838
         ]
        },
        {
         "line": {
          "color": "rgba(55, 128, 191, 0.8888888888888888)",
          "dash": "solid",
          "shape": "linear",
          "width": 1.3
         },
         "mode": "lines",
         "name": "Cysteine",
         "text": "",
         "type": "scatter",
         "x": [
          0.06613867865546326,
          0.0992080179831949,
          0.11904962157983387,
          0.13227735731092652,
          0.1455050930420192,
          0.15873282877311182,
          0.1719605645042045,
          0.18518830023529712,
          0.1984160359663898,
          0.26455471462185304,
          0.5291094292437061
         ],
         "y": [
          0.0025481763462338793,
          0.0025481763462338793,
          0.0025481763462338793,
          0.0025481763462338793,
          0.0025481763462338793,
          0.0025481763462338793,
          0.0025481763462338793,
          0.0025481763462338793,
          0.0025481763462338793,
          0.0025481763462338793,
          0.0025481763462338793
         ]
        },
        {
         "line": {
          "color": "rgba(50, 171, 96, 0.8888888888888888)",
          "dash": "solid",
          "shape": "linear",
          "width": 1.3
         },
         "mode": "lines",
         "name": "Cystine",
         "text": "",
         "type": "scatter",
         "x": [
          0.06613867865546326,
          0.0992080179831949,
          0.11904962157983387,
          0.13227735731092652,
          0.1455050930420192,
          0.15873282877311182,
          0.1719605645042045,
          0.18518830023529712,
          0.1984160359663898,
          0.26455471462185304,
          0.5291094292437061
         ],
         "y": [
          0.7748623521532269,
          0.7748623521532269,
          0.7748623521532269,
          0.7748623521532269,
          0.7748623521532269,
          0.7748623521532269,
          0.7748623521532269,
          0.7748623521532269,
          0.7748623521532269,
          0.7748623521532269,
          0.7748623521532269
         ]
        },
        {
         "line": {
          "color": "rgba(128, 0, 128, 0.8888888888888888)",
          "dash": "solid",
          "shape": "linear",
          "width": 1.3
         },
         "mode": "lines",
         "name": "Delta-5-avenasterol",
         "text": "",
         "type": "scatter",
         "x": [
          0.06613867865546326,
          0.0992080179831949,
          0.11904962157983387,
          0.13227735731092652,
          0.1455050930420192,
          0.15873282877311182,
          0.1719605645042045,
          0.18518830023529712,
          0.1984160359663898,
          0.26455471462185304,
          0.5291094292437061
         ],
         "y": [
          0,
          0,
          0,
          0,
          0,
          0,
          0,
          0,
          0,
          0,
          0
         ]
        },
        {
         "line": {
          "color": "rgba(219, 64, 82, 0.8888888888888888)",
          "dash": "solid",
          "shape": "linear",
          "width": 1.3
         },
         "mode": "lines",
         "name": "Energy",
         "text": "",
         "type": "scatter",
         "x": [
          0.06613867865546326,
          0.0992080179831949,
          0.11904962157983387,
          0.13227735731092652,
          0.1455050930420192,
          0.15873282877311182,
          0.1719605645042045,
          0.18518830023529712,
          0.1984160359663898,
          0.26455471462185304,
          0.5291094292437061
         ],
         "y": [
          4525.184728913931,
          4525.184728913931,
          4525.184728913931,
          4525.184728913931,
          4525.184728913931,
          4525.184728913931,
          4525.184728913931,
          4525.184728913931,
          4525.184728913931,
          4525.184728913931,
          4525.184728913931
         ]
        },
        {
         "line": {
          "color": "rgba(0, 128, 128, 0.8888888888888888)",
          "dash": "solid",
          "shape": "linear",
          "width": 1.3
         },
         "mode": "lines",
         "name": "Energy (Atwater General Factors)",
         "text": "",
         "type": "scatter",
         "x": [
          0.06613867865546326,
          0.0992080179831949,
          0.11904962157983387,
          0.13227735731092652,
          0.1455050930420192,
          0.15873282877311182,
          0.1719605645042045,
          0.18518830023529712,
          0.1984160359663898,
          0.26455471462185304,
          0.5291094292437061
         ],
         "y": [
          39.4049990181607,
          39.4049990181607,
          39.4049990181607,
          39.4049990181607,
          39.4049990181607,
          39.4049990181607,
          39.4049990181607,
          39.4049990181607,
          39.4049990181607,
          39.4049990181607,
          39.4049990181607
         ]
        },
        {
         "line": {
          "color": "rgba(255, 255, 51, 0.8888888888888888)",
          "dash": "solid",
          "shape": "linear",
          "width": 1.3
         },
         "mode": "lines",
         "name": "Energy (Atwater Specific Factors)",
         "text": "",
         "type": "scatter",
         "x": [
          0.06613867865546326,
          0.0992080179831949,
          0.11904962157983387,
          0.13227735731092652,
          0.1455050930420192,
          0.15873282877311182,
          0.1719605645042045,
          0.18518830023529712,
          0.1984160359663898,
          0.26455471462185304,
          0.5291094292437061
         ],
         "y": [
          0,
          0,
          0,
          0,
          0,
          0,
          0,
          0,
          0,
          0,
          0
         ]
        },
        {
         "line": {
          "color": "rgba(255, 255, 51, 0.8518518518518519)",
          "dash": "solid",
          "shape": "linear",
          "width": 1.3
         },
         "mode": "lines",
         "name": "Fatty acids, total monounsaturated",
         "text": "",
         "type": "scatter",
         "x": [
          0.06613867865546326,
          0.0992080179831949,
          0.11904962157983387,
          0.13227735731092652,
          0.1455050930420192,
          0.15873282877311182,
          0.1719605645042045,
          0.18518830023529712,
          0.1984160359663898,
          0.26455471462185304,
          0.5291094292437061
         ],
         "y": [
          16.220269028229414,
          16.220269028229414,
          16.220269028229414,
          16.220269028229414,
          16.220269028229414,
          16.220269028229414,
          16.220269028229414,
          16.220269028229414,
          16.220269028229414,
          16.220269028229414,
          16.220269028229414
         ]
        },
        {
         "line": {
          "color": "rgba(128, 128, 0, 0.8518518518518519)",
          "dash": "solid",
          "shape": "linear",
          "width": 1.3
         },
         "mode": "lines",
         "name": "Fatty acids, total polyunsaturated",
         "text": "",
         "type": "scatter",
         "x": [
          0.06613867865546326,
          0.0992080179831949,
          0.11904962157983387,
          0.13227735731092652,
          0.1455050930420192,
          0.15873282877311182,
          0.1719605645042045,
          0.18518830023529712,
          0.1984160359663898,
          0.26455471462185304,
          0.5291094292437061
         ],
         "y": [
          57.63787501308768,
          57.63787501308768,
          57.63787501308768,
          57.63787501308768,
          57.63787501308768,
          57.63787501308768,
          57.63787501308768,
          57.63787501308768,
          57.63787501308768,
          57.63787501308768,
          57.63787501308768
         ]
        },
        {
         "line": {
          "color": "rgba(251, 128, 114, 0.8518518518518519)",
          "dash": "solid",
          "shape": "linear",
          "width": 1.3
         },
         "mode": "lines",
         "name": "Fatty acids, total saturated",
         "text": "",
         "type": "scatter",
         "x": [
          0.06613867865546326,
          0.0992080179831949,
          0.11904962157983387,
          0.13227735731092652,
          0.1455050930420192,
          0.15873282877311182,
          0.1719605645042045,
          0.18518830023529712,
          0.1984160359663898,
          0.26455471462185304,
          0.5291094292437061
         ],
         "y": [
          10.955820943915587,
          10.955820943915587,
          10.955820943915587,
          10.955820943915587,
          10.955820943915587,
          10.955820943915587,
          10.955820943915587,
          10.955820943915587,
          10.955820943915587,
          10.955820943915587,
          10.955820943915587
         ]
        },
        {
         "line": {
          "color": "rgba(128, 177, 211, 0.8518518518518519)",
          "dash": "solid",
          "shape": "linear",
          "width": 1.3
         },
         "mode": "lines",
         "name": "Fatty acids, total trans",
         "text": "",
         "type": "scatter",
         "x": [
          0.06613867865546326,
          0.0992080179831949,
          0.11904962157983387,
          0.13227735731092652,
          0.1455050930420192,
          0.15873282877311182,
          0.1719605645042045,
          0.18518830023529712,
          0.1984160359663898,
          0.26455471462185304,
          0.5291094292437061
         ],
         "y": [
          0,
          0,
          0,
          0,
          0,
          0,
          0,
          0,
          0,
          0,
          0
         ]
        },
        {
         "line": {
          "color": "rgba(255, 153, 51, 0.8518518518518519)",
          "dash": "solid",
          "shape": "linear",
          "width": 1.3
         },
         "mode": "lines",
         "name": "Fatty acids, total trans-dienoic",
         "text": "",
         "type": "scatter",
         "x": [
          0.06613867865546326,
          0.0992080179831949,
          0.11904962157983387,
          0.13227735731092652,
          0.1455050930420192,
          0.15873282877311182,
          0.1719605645042045,
          0.18518830023529712,
          0.1984160359663898,
          0.26455471462185304,
          0.5291094292437061
         ],
         "y": [
          0,
          0,
          0,
          0,
          0,
          0,
          0,
          0,
          0,
          0,
          0
         ]
        },
        {
         "line": {
          "color": "rgba(55, 128, 191, 0.8518518518518519)",
          "dash": "solid",
          "shape": "linear",
          "width": 1.3
         },
         "mode": "lines",
         "name": "Fatty acids, total trans-monoenoic",
         "text": "",
         "type": "scatter",
         "x": [
          0.06613867865546326,
          0.0992080179831949,
          0.11904962157983387,
          0.13227735731092652,
          0.1455050930420192,
          0.15873282877311182,
          0.1719605645042045,
          0.18518830023529712,
          0.1984160359663898,
          0.26455471462185304,
          0.5291094292437061
         ],
         "y": [
          0,
          0,
          0,
          0,
          0,
          0,
          0,
          0,
          0,
          0,
          0
         ]
        },
        {
         "line": {
          "color": "rgba(50, 171, 96, 0.8518518518518519)",
          "dash": "solid",
          "shape": "linear",
          "width": 1.3
         },
         "mode": "lines",
         "name": "Fatty acids, total trans-polyenoic",
         "text": "",
         "type": "scatter",
         "x": [
          0.06613867865546326,
          0.0992080179831949,
          0.11904962157983387,
          0.13227735731092652,
          0.1455050930420192,
          0.15873282877311182,
          0.1719605645042045,
          0.18518830023529712,
          0.1984160359663898,
          0.26455471462185304,
          0.5291094292437061
         ],
         "y": [
          0,
          0,
          0,
          0,
          0,
          0,
          0,
          0,
          0,
          0,
          0
         ]
        },
        {
         "line": {
          "color": "rgba(128, 0, 128, 0.8518518518518519)",
          "dash": "solid",
          "shape": "linear",
          "width": 1.3
         },
         "mode": "lines",
         "name": "Fiber, total dietary",
         "text": "",
         "type": "scatter",
         "x": [
          0.06613867865546326,
          0.0992080179831949,
          0.11904962157983387,
          0.13227735731092652,
          0.1455050930420192,
          0.15873282877311182,
          0.1719605645042045,
          0.18518830023529712,
          0.1984160359663898,
          0.26455471462185304,
          0.5291094292437061
         ],
         "y": [
          33.6,
          33.6,
          33.6,
          33.6,
          33.6,
          33.6,
          33.6,
          33.6,
          33.6,
          33.6,
          33.6
         ]
        },
        {
         "line": {
          "color": "rgba(219, 64, 82, 0.8518518518518519)",
          "dash": "solid",
          "shape": "linear",
          "width": 1.3
         },
         "mode": "lines",
         "name": "Fluoride, F",
         "text": "",
         "type": "scatter",
         "x": [
          0.06613867865546326,
          0.0992080179831949,
          0.11904962157983387,
          0.13227735731092652,
          0.1455050930420192,
          0.15873282877311182,
          0.1719605645042045,
          0.18518830023529712,
          0.1984160359663898,
          0.26455471462185304,
          0.5291094292437061
         ],
         "y": [
          0,
          0,
          0,
          0,
          0,
          0,
          0,
          0,
          0,
          0,
          0
         ]
        },
        {
         "line": {
          "color": "rgba(0, 128, 128, 0.8518518518518519)",
          "dash": "solid",
          "shape": "linear",
          "width": 1.3
         },
         "mode": "lines",
         "name": "Folate, DFE",
         "text": "",
         "type": "scatter",
         "x": [
          0.06613867865546326,
          0.0992080179831949,
          0.11904962157983387,
          0.13227735731092652,
          0.1455050930420192,
          0.15873282877311182,
          0.1719605645042045,
          0.18518830023529712,
          0.1984160359663898,
          0.26455471462185304,
          0.5291094292437061
         ],
         "y": [
          400,
          400,
          400,
          400,
          400,
          400,
          400,
          400,
          400,
          400,
          400
         ]
        },
        {
         "line": {
          "color": "rgba(0, 128, 128, 0.8148148148148149)",
          "dash": "solid",
          "shape": "linear",
          "width": 1.3
         },
         "mode": "lines",
         "name": "Folate, food",
         "text": "",
         "type": "scatter",
         "x": [
          0.06613867865546326,
          0.0992080179831949,
          0.11904962157983387,
          0.13227735731092652,
          0.1455050930420192,
          0.15873282877311182,
          0.1719605645042045,
          0.18518830023529712,
          0.1984160359663898,
          0.26455471462185304,
          0.5291094292437061
         ],
         "y": [
          400,
          400,
          400,
          400,
          400,
          400,
          400,
          400,
          400,
          400,
          400
         ]
        },
        {
         "line": {
          "color": "rgba(255, 255, 51, 0.8148148148148149)",
          "dash": "solid",
          "shape": "linear",
          "width": 1.3
         },
         "mode": "lines",
         "name": "Folate, total",
         "text": "",
         "type": "scatter",
         "x": [
          0.06613867865546326,
          0.0992080179831949,
          0.11904962157983387,
          0.13227735731092652,
          0.1455050930420192,
          0.15873282877311182,
          0.1719605645042045,
          0.18518830023529712,
          0.1984160359663898,
          0.26455471462185304,
          0.5291094292437061
         ],
         "y": [
          483.70287527125976,
          483.70287527125976,
          483.70287527125976,
          483.70287527125976,
          483.70287527125976,
          483.70287527125976,
          483.70287527125976,
          483.70287527125976,
          483.70287527125976,
          483.70287527125976,
          483.70287527125976
         ]
        },
        {
         "line": {
          "color": "rgba(128, 128, 0, 0.8148148148148149)",
          "dash": "solid",
          "shape": "linear",
          "width": 1.3
         },
         "mode": "lines",
         "name": "Folic acid",
         "text": "",
         "type": "scatter",
         "x": [
          0.06613867865546326,
          0.0992080179831949,
          0.11904962157983387,
          0.13227735731092652,
          0.1455050930420192,
          0.15873282877311182,
          0.1719605645042045,
          0.18518830023529712,
          0.1984160359663898,
          0.26455471462185304,
          0.5291094292437061
         ],
         "y": [
          0,
          0,
          0,
          0,
          0,
          0,
          0,
          0,
          0,
          0,
          0
         ]
        },
        {
         "line": {
          "color": "rgba(251, 128, 114, 0.8148148148148149)",
          "dash": "solid",
          "shape": "linear",
          "width": 1.3
         },
         "mode": "lines",
         "name": "Fructose",
         "text": "",
         "type": "scatter",
         "x": [
          0.06613867865546326,
          0.0992080179831949,
          0.11904962157983387,
          0.13227735731092652,
          0.1455050930420192,
          0.15873282877311182,
          0.1719605645042045,
          0.18518830023529712,
          0.1984160359663898,
          0.26455471462185304,
          0.5291094292437061
         ],
         "y": [
          0.749602949956909,
          0.749602949956909,
          0.749602949956909,
          0.749602949956909,
          0.749602949956909,
          0.749602949956909,
          0.749602949956909,
          0.749602949956909,
          0.749602949956909,
          0.749602949956909,
          0.749602949956909
         ]
        },
        {
         "line": {
          "color": "rgba(128, 177, 211, 0.8148148148148149)",
          "dash": "solid",
          "shape": "linear",
          "width": 1.3
         },
         "mode": "lines",
         "name": "Galactose",
         "text": "",
         "type": "scatter",
         "x": [
          0.06613867865546326,
          0.0992080179831949,
          0.11904962157983387,
          0.13227735731092652,
          0.1455050930420192,
          0.15873282877311182,
          0.1719605645042045,
          0.18518830023529712,
          0.1984160359663898,
          0.26455471462185304,
          0.5291094292437061
         ],
         "y": [
          0,
          0,
          0,
          0,
          0,
          0,
          0,
          0,
          0,
          0,
          0
         ]
        },
        {
         "line": {
          "color": "rgba(255, 153, 51, 0.8148148148148149)",
          "dash": "solid",
          "shape": "linear",
          "width": 1.3
         },
         "mode": "lines",
         "name": "Glucose",
         "text": "",
         "type": "scatter",
         "x": [
          0.06613867865546326,
          0.0992080179831949,
          0.11904962157983387,
          0.13227735731092652,
          0.1455050930420192,
          0.15873282877311182,
          0.1719605645042045,
          0.18518830023529712,
          0.1984160359663898,
          0.26455471462185304,
          0.5291094292437061
         ],
         "y": [
          0.6752342919563528,
          0.6752342919563528,
          0.6752342919563528,
          0.6752342919563528,
          0.6752342919563528,
          0.6752342919563528,
          0.6752342919563528,
          0.6752342919563528,
          0.6752342919563528,
          0.6752342919563528,
          0.6752342919563528
         ]
        },
        {
         "line": {
          "color": "rgba(55, 128, 191, 0.8148148148148149)",
          "dash": "solid",
          "shape": "linear",
          "width": 1.3
         },
         "mode": "lines",
         "name": "Glutamic acid",
         "text": "",
         "type": "scatter",
         "x": [
          0.06613867865546326,
          0.0992080179831949,
          0.11904962157983387,
          0.13227735731092652,
          0.1455050930420192,
          0.15873282877311182,
          0.1719605645042045,
          0.18518830023529712,
          0.1984160359663898,
          0.26455471462185304,
          0.5291094292437061
         ],
         "y": [
          8.626832418496463,
          8.626832418496463,
          8.626832418496463,
          8.626832418496463,
          8.626832418496463,
          8.626832418496463,
          8.626832418496463,
          8.626832418496463,
          8.626832418496463,
          8.626832418496463,
          8.626832418496463
         ]
        },
        {
         "line": {
          "color": "rgba(50, 171, 96, 0.8148148148148149)",
          "dash": "solid",
          "shape": "linear",
          "width": 1.3
         },
         "mode": "lines",
         "name": "Glycine",
         "text": "",
         "type": "scatter",
         "x": [
          0.06613867865546326,
          0.0992080179831949,
          0.11904962157983387,
          0.13227735731092652,
          0.1455050930420192,
          0.15873282877311182,
          0.1719605645042045,
          0.18518830023529712,
          0.1984160359663898,
          0.26455471462185304,
          0.5291094292437061
         ],
         "y": [
          2.5714414578081977,
          2.5714414578081977,
          2.5714414578081977,
          2.5714414578081977,
          2.5714414578081977,
          2.5714414578081977,
          2.5714414578081977,
          2.5714414578081977,
          2.5714414578081977,
          2.5714414578081977,
          2.5714414578081977
         ]
        },
        {
         "line": {
          "color": "rgba(128, 0, 128, 0.8148148148148149)",
          "dash": "solid",
          "shape": "linear",
          "width": 1.3
         },
         "mode": "lines",
         "name": "High Molecular Weight Dietary Fiber (HMWDF)",
         "text": "",
         "type": "scatter",
         "x": [
          0.06613867865546326,
          0.0992080179831949,
          0.11904962157983387,
          0.13227735731092652,
          0.1455050930420192,
          0.15873282877311182,
          0.1719605645042045,
          0.18518830023529712,
          0.1984160359663898,
          0.26455471462185304,
          0.5291094292437061
         ],
         "y": [
          0,
          0,
          0,
          0,
          0,
          0,
          0,
          0,
          0,
          0,
          0
         ]
        },
        {
         "line": {
          "color": "rgba(219, 64, 82, 0.8148148148148149)",
          "dash": "solid",
          "shape": "linear",
          "width": 1.3
         },
         "mode": "lines",
         "name": "Histidine",
         "text": "",
         "type": "scatter",
         "x": [
          0.06613867865546326,
          0.0992080179831949,
          0.11904962157983387,
          0.13227735731092652,
          0.1455050930420192,
          0.15873282877311182,
          0.1719605645042045,
          0.18518830023529712,
          0.1984160359663898,
          0.26455471462185304,
          0.5291094292437061
         ],
         "y": [
          1.5102938962029953,
          1.5102938962029953,
          1.5102938962029953,
          1.5102938962029953,
          1.5102938962029953,
          1.5102938962029953,
          1.5102938962029953,
          1.5102938962029953,
          1.5102938962029953,
          1.5102938962029953,
          1.5102938962029953
         ]
        },
        {
         "line": {
          "color": "rgba(219, 64, 82, 0.7777777777777777)",
          "dash": "solid",
          "shape": "linear",
          "width": 1.3
         },
         "mode": "lines",
         "name": "Hydroxyproline",
         "text": "",
         "type": "scatter",
         "x": [
          0.06613867865546326,
          0.0992080179831949,
          0.11904962157983387,
          0.13227735731092652,
          0.1455050930420192,
          0.15873282877311182,
          0.1719605645042045,
          0.18518830023529712,
          0.1984160359663898,
          0.26455471462185304,
          0.5291094292437061
         ],
         "y": [
          0,
          0,
          0,
          0,
          0,
          0,
          0,
          0,
          0,
          0,
          0
         ]
        },
        {
         "line": {
          "color": "rgba(0, 128, 128, 0.7777777777777777)",
          "dash": "solid",
          "shape": "linear",
          "width": 1.3
         },
         "mode": "lines",
         "name": "Iodine, I",
         "text": "",
         "type": "scatter",
         "x": [
          0.06613867865546326,
          0.0992080179831949,
          0.11904962157983387,
          0.13227735731092652,
          0.1455050930420192,
          0.15873282877311182,
          0.1719605645042045,
          0.18518830023529712,
          0.1984160359663898,
          0.26455471462185304,
          0.5291094292437061
         ],
         "y": [
          0,
          0,
          0,
          0,
          0,
          0,
          0,
          0,
          0,
          0,
          0
         ]
        },
        {
         "line": {
          "color": "rgba(255, 255, 51, 0.7777777777777777)",
          "dash": "solid",
          "shape": "linear",
          "width": 1.3
         },
         "mode": "lines",
         "name": "Iron, Fe",
         "text": "",
         "type": "scatter",
         "x": [
          0.06613867865546326,
          0.0992080179831949,
          0.11904962157983387,
          0.13227735731092652,
          0.1455050930420192,
          0.15873282877311182,
          0.1719605645042045,
          0.18518830023529712,
          0.1984160359663898,
          0.26455471462185304,
          0.5291094292437061
         ],
         "y": [
          30.26615973918239,
          30.26615973918239,
          30.26615973918239,
          30.26615973918239,
          30.26615973918239,
          30.26615973918239,
          30.26615973918239,
          30.26615973918239,
          30.26615973918239,
          30.26615973918239,
          30.26615973918239
         ]
        },
        {
         "line": {
          "color": "rgba(128, 128, 0, 0.7777777777777777)",
          "dash": "solid",
          "shape": "linear",
          "width": 1.3
         },
         "mode": "lines",
         "name": "Isoleucine",
         "text": "",
         "type": "scatter",
         "x": [
          0.06613867865546326,
          0.0992080179831949,
          0.11904962157983387,
          0.13227735731092652,
          0.1455050930420192,
          0.15873282877311182,
          0.1719605645042045,
          0.18518830023529712,
          0.1984160359663898,
          0.26455471462185304,
          0.5291094292437061
         ],
         "y": [
          2.282023822522725,
          2.282023822522725,
          2.282023822522725,
          2.282023822522725,
          2.282023822522725,
          2.282023822522725,
          2.282023822522725,
          2.282023822522725,
          2.282023822522725,
          2.282023822522725,
          2.282023822522725
         ]
        },
        {
         "line": {
          "color": "rgba(251, 128, 114, 0.7777777777777777)",
          "dash": "solid",
          "shape": "linear",
          "width": 1.3
         },
         "mode": "lines",
         "name": "Lactose",
         "text": "",
         "type": "scatter",
         "x": [
          0.06613867865546326,
          0.0992080179831949,
          0.11904962157983387,
          0.13227735731092652,
          0.1455050930420192,
          0.15873282877311182,
          0.1719605645042045,
          0.18518830023529712,
          0.1984160359663898,
          0.26455471462185304,
          0.5291094292437061
         ],
         "y": [
          0.047325509636717625,
          0.047325509636717625,
          0.047325509636717625,
          0.047325509636717625,
          0.047325509636717625,
          0.047325509636717625,
          0.047325509636717625,
          0.047325509636717625,
          0.047325509636717625,
          0.047325509636717625,
          0.047325509636717625
         ]
        },
        {
         "line": {
          "color": "rgba(128, 177, 211, 0.7777777777777777)",
          "dash": "solid",
          "shape": "linear",
          "width": 1.3
         },
         "mode": "lines",
         "name": "Leucine",
         "text": "",
         "type": "scatter",
         "x": [
          0.06613867865546326,
          0.0992080179831949,
          0.11904962157983387,
          0.13227735731092652,
          0.1455050930420192,
          0.15873282877311182,
          0.1719605645042045,
          0.18518830023529712,
          0.1984160359663898,
          0.26455471462185304,
          0.5291094292437061
         ],
         "y": [
          3.891114886537401,
          3.891114886537401,
          3.891114886537401,
          3.891114886537401,
          3.891114886537401,
          3.891114886537401,
          3.891114886537401,
          3.891114886537401,
          3.891114886537401,
          3.891114886537401,
          3.891114886537401
         ]
        },
        {
         "line": {
          "color": "rgba(255, 153, 51, 0.7777777777777777)",
          "dash": "solid",
          "shape": "linear",
          "width": 1.3
         },
         "mode": "lines",
         "name": "Lipids",
         "text": "",
         "type": "scatter",
         "x": [
          0.06613867865546326,
          0.0992080179831949,
          0.11904962157983387,
          0.13227735731092652,
          0.1455050930420192,
          0.15873282877311182,
          0.1719605645042045,
          0.18518830023529712,
          0.1984160359663898,
          0.26455471462185304,
          0.5291094292437061
         ],
         "y": [
          0,
          0,
          0,
          0,
          0,
          0,
          0,
          0,
          0,
          0,
          0
         ]
        },
        {
         "line": {
          "color": "rgba(55, 128, 191, 0.7777777777777777)",
          "dash": "solid",
          "shape": "linear",
          "width": 1.3
         },
         "mode": "lines",
         "name": "Low Molecular Weight Dietary Fiber (LMWDF)",
         "text": "",
         "type": "scatter",
         "x": [
          0.06613867865546326,
          0.0992080179831949,
          0.11904962157983387,
          0.13227735731092652,
          0.1455050930420192,
          0.15873282877311182,
          0.1719605645042045,
          0.18518830023529712,
          0.1984160359663898,
          0.26455471462185304,
          0.5291094292437061
         ],
         "y": [
          0,
          0,
          0,
          0,
          0,
          0,
          0,
          0,
          0,
          0,
          0
         ]
        },
        {
         "line": {
          "color": "rgba(50, 171, 96, 0.7777777777777777)",
          "dash": "solid",
          "shape": "linear",
          "width": 1.3
         },
         "mode": "lines",
         "name": "Lutein",
         "text": "",
         "type": "scatter",
         "x": [
          0.06613867865546326,
          0.0992080179831949,
          0.11904962157983387,
          0.13227735731092652,
          0.1455050930420192,
          0.15873282877311182,
          0.1719605645042045,
          0.18518830023529712,
          0.1984160359663898,
          0.26455471462185304,
          0.5291094292437061
         ],
         "y": [
          0,
          0,
          0,
          0,
          0,
          0,
          0,
          0,
          0,
          0,
          0
         ]
        },
        {
         "line": {
          "color": "rgba(128, 0, 128, 0.7777777777777777)",
          "dash": "solid",
          "shape": "linear",
          "width": 1.3
         },
         "mode": "lines",
         "name": "Lutein + zeaxanthin",
         "text": "",
         "type": "scatter",
         "x": [
          0.06613867865546326,
          0.0992080179831949,
          0.11904962157983387,
          0.13227735731092652,
          0.1455050930420192,
          0.15873282877311182,
          0.1719605645042045,
          0.18518830023529712,
          0.1984160359663898,
          0.26455471462185304,
          0.5291094292437061
         ],
         "y": [
          19032.28444721451,
          19032.28444721451,
          19032.28444721451,
          19032.28444721451,
          19032.28444721451,
          19032.28444721451,
          19032.28444721451,
          19032.28444721451,
          19032.28444721451,
          19032.28444721451,
          19032.28444721451
         ]
        },
        {
         "line": {
          "color": "rgba(128, 0, 128, 0.7407407407407407)",
          "dash": "solid",
          "shape": "linear",
          "width": 1.3
         },
         "mode": "lines",
         "name": "Lycopene",
         "text": "",
         "type": "scatter",
         "x": [
          0.06613867865546326,
          0.0992080179831949,
          0.11904962157983387,
          0.13227735731092652,
          0.1455050930420192,
          0.15873282877311182,
          0.1719605645042045,
          0.18518830023529712,
          0.1984160359663898,
          0.26455471462185304,
          0.5291094292437061
         ],
         "y": [
          0,
          0,
          0,
          0,
          0,
          0,
          0,
          0,
          0,
          0,
          0
         ]
        },
        {
         "line": {
          "color": "rgba(219, 64, 82, 0.7407407407407407)",
          "dash": "solid",
          "shape": "linear",
          "width": 1.3
         },
         "mode": "lines",
         "name": "Lysine",
         "text": "",
         "type": "scatter",
         "x": [
          0.06613867865546326,
          0.0992080179831949,
          0.11904962157983387,
          0.13227735731092652,
          0.1455050930420192,
          0.15873282877311182,
          0.1719605645042045,
          0.18518830023529712,
          0.1984160359663898,
          0.26455471462185304,
          0.5291094292437061
         ],
         "y": [
          3.432588033377931,
          3.432588033377931,
          3.432588033377931,
          3.432588033377931,
          3.432588033377931,
          3.432588033377931,
          3.432588033377931,
          3.432588033377931,
          3.432588033377931,
          3.432588033377931,
          3.432588033377931
         ]
        },
        {
         "line": {
          "color": "rgba(0, 128, 128, 0.7407407407407407)",
          "dash": "solid",
          "shape": "linear",
          "width": 1.3
         },
         "mode": "lines",
         "name": "MUFA 12:1",
         "text": "",
         "type": "scatter",
         "x": [
          0.06613867865546326,
          0.0992080179831949,
          0.11904962157983387,
          0.13227735731092652,
          0.1455050930420192,
          0.15873282877311182,
          0.1719605645042045,
          0.18518830023529712,
          0.1984160359663898,
          0.26455471462185304,
          0.5291094292437061
         ],
         "y": [
          0,
          0,
          0,
          0,
          0,
          0,
          0,
          0,
          0,
          0,
          0
         ]
        },
        {
         "line": {
          "color": "rgba(255, 255, 51, 0.7407407407407407)",
          "dash": "solid",
          "shape": "linear",
          "width": 1.3
         },
         "mode": "lines",
         "name": "MUFA 14:1",
         "text": "",
         "type": "scatter",
         "x": [
          0.06613867865546326,
          0.0992080179831949,
          0.11904962157983387,
          0.13227735731092652,
          0.1455050930420192,
          0.15873282877311182,
          0.1719605645042045,
          0.18518830023529712,
          0.1984160359663898,
          0.26455471462185304,
          0.5291094292437061
         ],
         "y": [
          0,
          0,
          0,
          0,
          0,
          0,
          0,
          0,
          0,
          0,
          0
         ]
        },
        {
         "line": {
          "color": "rgba(128, 128, 0, 0.7407407407407407)",
          "dash": "solid",
          "shape": "linear",
          "width": 1.3
         },
         "mode": "lines",
         "name": "MUFA 14:1 c",
         "text": "",
         "type": "scatter",
         "x": [
          0.06613867865546326,
          0.0992080179831949,
          0.11904962157983387,
          0.13227735731092652,
          0.1455050930420192,
          0.15873282877311182,
          0.1719605645042045,
          0.18518830023529712,
          0.1984160359663898,
          0.26455471462185304,
          0.5291094292437061
         ],
         "y": [
          0,
          0,
          0,
          0,
          0,
          0,
          0,
          0,
          0,
          0,
          0
         ]
        },
        {
         "line": {
          "color": "rgba(251, 128, 114, 0.7407407407407407)",
          "dash": "solid",
          "shape": "linear",
          "width": 1.3
         },
         "mode": "lines",
         "name": "MUFA 15:1",
         "text": "",
         "type": "scatter",
         "x": [
          0.06613867865546326,
          0.0992080179831949,
          0.11904962157983387,
          0.13227735731092652,
          0.1455050930420192,
          0.15873282877311182,
          0.1719605645042045,
          0.18518830023529712,
          0.1984160359663898,
          0.26455471462185304,
          0.5291094292437061
         ],
         "y": [
          0,
          0,
          0,
          0,
          0,
          0,
          0,
          0,
          0,
          0,
          0
         ]
        },
        {
         "line": {
          "color": "rgba(128, 177, 211, 0.7407407407407407)",
          "dash": "solid",
          "shape": "linear",
          "width": 1.3
         },
         "mode": "lines",
         "name": "MUFA 16:1",
         "text": "",
         "type": "scatter",
         "x": [
          0.06613867865546326,
          0.0992080179831949,
          0.11904962157983387,
          0.13227735731092652,
          0.1455050930420192,
          0.15873282877311182,
          0.1719605645042045,
          0.18518830023529712,
          0.1984160359663898,
          0.26455471462185304,
          0.5291094292437061
         ],
         "y": [
          0.03956145983560299,
          0.03956145983560299,
          0.03956145983560299,
          0.03956145983560299,
          0.03956145983560299,
          0.03956145983560299,
          0.03956145983560299,
          0.03956145983560299,
          0.03956145983560299,
          0.03956145983560299,
          0.03956145983560299
         ]
        },
        {
         "line": {
          "color": "rgba(255, 153, 51, 0.7407407407407407)",
          "dash": "solid",
          "shape": "linear",
          "width": 1.3
         },
         "mode": "lines",
         "name": "MUFA 16:1 c",
         "text": "",
         "type": "scatter",
         "x": [
          0.06613867865546326,
          0.0992080179831949,
          0.11904962157983387,
          0.13227735731092652,
          0.1455050930420192,
          0.15873282877311182,
          0.1719605645042045,
          0.18518830023529712,
          0.1984160359663898,
          0.26455471462185304,
          0.5291094292437061
         ],
         "y": [
          0,
          0,
          0,
          0,
          0,
          0,
          0,
          0,
          0,
          0,
          0
         ]
        },
        {
         "line": {
          "color": "rgba(55, 128, 191, 0.7407407407407407)",
          "dash": "solid",
          "shape": "linear",
          "width": 1.3
         },
         "mode": "lines",
         "name": "MUFA 17:1",
         "text": "",
         "type": "scatter",
         "x": [
          0.06613867865546326,
          0.0992080179831949,
          0.11904962157983387,
          0.13227735731092652,
          0.1455050930420192,
          0.15873282877311182,
          0.1719605645042045,
          0.18518830023529712,
          0.1984160359663898,
          0.26455471462185304,
          0.5291094292437061
         ],
         "y": [
          0,
          0,
          0,
          0,
          0,
          0,
          0,
          0,
          0,
          0,
          0
         ]
        },
        {
         "line": {
          "color": "rgba(50, 171, 96, 0.7407407407407407)",
          "dash": "solid",
          "shape": "linear",
          "width": 1.3
         },
         "mode": "lines",
         "name": "MUFA 17:1 c",
         "text": "",
         "type": "scatter",
         "x": [
          0.06613867865546326,
          0.0992080179831949,
          0.11904962157983387,
          0.13227735731092652,
          0.1455050930420192,
          0.15873282877311182,
          0.1719605645042045,
          0.18518830023529712,
          0.1984160359663898,
          0.26455471462185304,
          0.5291094292437061
         ],
         "y": [
          0,
          0,
          0,
          0,
          0,
          0,
          0,
          0,
          0,
          0,
          0
         ]
        },
        {
         "line": {
          "color": "rgba(50, 171, 96, 0.7037037037037037)",
          "dash": "solid",
          "shape": "linear",
          "width": 1.3
         },
         "mode": "lines",
         "name": "MUFA 18:1",
         "text": "",
         "type": "scatter",
         "x": [
          0.06613867865546326,
          0.0992080179831949,
          0.11904962157983387,
          0.13227735731092652,
          0.1455050930420192,
          0.15873282877311182,
          0.1719605645042045,
          0.18518830023529712,
          0.1984160359663898,
          0.26455471462185304,
          0.5291094292437061
         ],
         "y": [
          16.069150826875536,
          16.069150826875536,
          16.069150826875536,
          16.069150826875536,
          16.069150826875536,
          16.069150826875536,
          16.069150826875536,
          16.069150826875536,
          16.069150826875536,
          16.069150826875536,
          16.069150826875536
         ]
        },
        {
         "line": {
          "color": "rgba(128, 0, 128, 0.7037037037037037)",
          "dash": "solid",
          "shape": "linear",
          "width": 1.3
         },
         "mode": "lines",
         "name": "MUFA 18:1 c",
         "text": "",
         "type": "scatter",
         "x": [
          0.06613867865546326,
          0.0992080179831949,
          0.11904962157983387,
          0.13227735731092652,
          0.1455050930420192,
          0.15873282877311182,
          0.1719605645042045,
          0.18518830023529712,
          0.1984160359663898,
          0.26455471462185304,
          0.5291094292437061
         ],
         "y": [
          3.3959433557890373,
          3.3959433557890373,
          3.3959433557890373,
          3.3959433557890373,
          3.3959433557890373,
          3.3959433557890373,
          3.3959433557890373,
          3.3959433557890373,
          3.3959433557890373,
          3.3959433557890373,
          3.3959433557890373
         ]
        },
        {
         "line": {
          "color": "rgba(219, 64, 82, 0.7037037037037037)",
          "dash": "solid",
          "shape": "linear",
          "width": 1.3
         },
         "mode": "lines",
         "name": "MUFA 20:1",
         "text": "",
         "type": "scatter",
         "x": [
          0.06613867865546326,
          0.0992080179831949,
          0.11904962157983387,
          0.13227735731092652,
          0.1455050930420192,
          0.15873282877311182,
          0.1719605645042045,
          0.18518830023529712,
          0.1984160359663898,
          0.26455471462185304,
          0.5291094292437061
         ],
         "y": [
          0.10251556040582342,
          0.10251556040582342,
          0.10251556040582342,
          0.10251556040582342,
          0.10251556040582342,
          0.10251556040582342,
          0.10251556040582342,
          0.10251556040582342,
          0.10251556040582342,
          0.10251556040582342,
          0.10251556040582342
         ]
        },
        {
         "line": {
          "color": "rgba(0, 128, 128, 0.7037037037037037)",
          "dash": "solid",
          "shape": "linear",
          "width": 1.3
         },
         "mode": "lines",
         "name": "MUFA 20:1 c",
         "text": "",
         "type": "scatter",
         "x": [
          0.06613867865546326,
          0.0992080179831949,
          0.11904962157983387,
          0.13227735731092652,
          0.1455050930420192,
          0.15873282877311182,
          0.1719605645042045,
          0.18518830023529712,
          0.1984160359663898,
          0.26455471462185304,
          0.5291094292437061
         ],
         "y": [
          0,
          0,
          0,
          0,
          0,
          0,
          0,
          0,
          0,
          0,
          0
         ]
        },
        {
         "line": {
          "color": "rgba(255, 255, 51, 0.7037037037037037)",
          "dash": "solid",
          "shape": "linear",
          "width": 1.3
         },
         "mode": "lines",
         "name": "MUFA 22:1",
         "text": "",
         "type": "scatter",
         "x": [
          0.06613867865546326,
          0.0992080179831949,
          0.11904962157983387,
          0.13227735731092652,
          0.1455050930420192,
          0.15873282877311182,
          0.1719605645042045,
          0.18518830023529712,
          0.1984160359663898,
          0.26455471462185304,
          0.5291094292437061
         ],
         "y": [
          0.0065935766392671655,
          0.0065935766392671655,
          0.0065935766392671655,
          0.0065935766392671655,
          0.0065935766392671655,
          0.0065935766392671655,
          0.0065935766392671655,
          0.0065935766392671655,
          0.0065935766392671655,
          0.0065935766392671655,
          0.0065935766392671655
         ]
        },
        {
         "line": {
          "color": "rgba(128, 128, 0, 0.7037037037037037)",
          "dash": "solid",
          "shape": "linear",
          "width": 1.3
         },
         "mode": "lines",
         "name": "MUFA 22:1 c",
         "text": "",
         "type": "scatter",
         "x": [
          0.06613867865546326,
          0.0992080179831949,
          0.11904962157983387,
          0.13227735731092652,
          0.1455050930420192,
          0.15873282877311182,
          0.1719605645042045,
          0.18518830023529712,
          0.1984160359663898,
          0.26455471462185304,
          0.5291094292437061
         ],
         "y": [
          0,
          0,
          0,
          0,
          0,
          0,
          0,
          0,
          0,
          0,
          0
         ]
        },
        {
         "line": {
          "color": "rgba(251, 128, 114, 0.7037037037037037)",
          "dash": "solid",
          "shape": "linear",
          "width": 1.3
         },
         "mode": "lines",
         "name": "MUFA 22:1 n-11",
         "text": "",
         "type": "scatter",
         "x": [
          0.06613867865546326,
          0.0992080179831949,
          0.11904962157983387,
          0.13227735731092652,
          0.1455050930420192,
          0.15873282877311182,
          0.1719605645042045,
          0.18518830023529712,
          0.1984160359663898,
          0.26455471462185304,
          0.5291094292437061
         ],
         "y": [
          0,
          0,
          0,
          0,
          0,
          0,
          0,
          0,
          0,
          0,
          0
         ]
        },
        {
         "line": {
          "color": "rgba(128, 177, 211, 0.7037037037037037)",
          "dash": "solid",
          "shape": "linear",
          "width": 1.3
         },
         "mode": "lines",
         "name": "MUFA 22:1 n-9",
         "text": "",
         "type": "scatter",
         "x": [
          0.06613867865546326,
          0.0992080179831949,
          0.11904962157983387,
          0.13227735731092652,
          0.1455050930420192,
          0.15873282877311182,
          0.1719605645042045,
          0.18518830023529712,
          0.1984160359663898,
          0.26455471462185304,
          0.5291094292437061
         ],
         "y": [
          0,
          0,
          0,
          0,
          0,
          0,
          0,
          0,
          0,
          0,
          0
         ]
        },
        {
         "line": {
          "color": "rgba(255, 153, 51, 0.7037037037037037)",
          "dash": "solid",
          "shape": "linear",
          "width": 1.3
         },
         "mode": "lines",
         "name": "MUFA 24:1 c",
         "text": "",
         "type": "scatter",
         "x": [
          0.06613867865546326,
          0.0992080179831949,
          0.11904962157983387,
          0.13227735731092652,
          0.1455050930420192,
          0.15873282877311182,
          0.1719605645042045,
          0.18518830023529712,
          0.1984160359663898,
          0.26455471462185304,
          0.5291094292437061
         ],
         "y": [
          0,
          0,
          0,
          0,
          0,
          0,
          0,
          0,
          0,
          0,
          0
         ]
        },
        {
         "line": {
          "color": "rgba(55, 128, 191, 0.7037037037037037)",
          "dash": "solid",
          "shape": "linear",
          "width": 1.3
         },
         "mode": "lines",
         "name": "Magnesium, Mg",
         "text": "",
         "type": "scatter",
         "x": [
          0.06613867865546326,
          0.0992080179831949,
          0.11904962157983387,
          0.13227735731092652,
          0.1455050930420192,
          0.15873282877311182,
          0.1719605645042045,
          0.18518830023529712,
          0.1984160359663898,
          0.26455471462185304,
          0.5291094292437061
         ],
         "y": [
          1305.6371185623543,
          1305.6371185623543,
          1305.6371185623543,
          1305.6371185623543,
          1305.6371185623543,
          1305.6371185623543,
          1305.6371185623543,
          1305.6371185623543,
          1305.6371185623543,
          1305.6371185623543,
          1305.6371185623543
         ]
        },
        {
         "line": {
          "color": "rgba(55, 128, 191, 0.6666666666666667)",
          "dash": "solid",
          "shape": "linear",
          "width": 1.3
         },
         "mode": "lines",
         "name": "Maltose",
         "text": "",
         "type": "scatter",
         "x": [
          0.06613867865546326,
          0.0992080179831949,
          0.11904962157983387,
          0.13227735731092652,
          0.1455050930420192,
          0.15873282877311182,
          0.1719605645042045,
          0.18518830023529712,
          0.1984160359663898,
          0.26455471462185304,
          0.5291094292437061
         ],
         "y": [
          0.047325509636717625,
          0.047325509636717625,
          0.047325509636717625,
          0.047325509636717625,
          0.047325509636717625,
          0.047325509636717625,
          0.047325509636717625,
          0.047325509636717625,
          0.047325509636717625,
          0.047325509636717625,
          0.047325509636717625
         ]
        },
        {
         "line": {
          "color": "rgba(50, 171, 96, 0.6666666666666667)",
          "dash": "solid",
          "shape": "linear",
          "width": 1.3
         },
         "mode": "lines",
         "name": "Manganese, Mn",
         "text": "",
         "type": "scatter",
         "x": [
          0.06613867865546326,
          0.0992080179831949,
          0.11904962157983387,
          0.13227735731092652,
          0.1455050930420192,
          0.15873282877311182,
          0.1719605645042045,
          0.18518830023529712,
          0.1984160359663898,
          0.26455471462185304,
          0.5291094292437061
         ],
         "y": [
          15.833158368512793,
          15.833158368512793,
          15.833158368512793,
          15.833158368512793,
          15.833158368512793,
          15.833158368512793,
          15.833158368512793,
          15.833158368512793,
          15.833158368512793,
          15.833158368512793,
          15.833158368512793
         ]
        },
        {
         "line": {
          "color": "rgba(128, 0, 128, 0.6666666666666667)",
          "dash": "solid",
          "shape": "linear",
          "width": 1.3
         },
         "mode": "lines",
         "name": "Methionine",
         "text": "",
         "type": "scatter",
         "x": [
          0.06613867865546326,
          0.0992080179831949,
          0.11904962157983387,
          0.13227735731092652,
          0.1455050930420192,
          0.15873282877311182,
          0.1719605645042045,
          0.18518830023529712,
          0.1984160359663898,
          0.26455471462185304,
          0.5291094292437061
         ],
         "y": [
          1.4295036249082804,
          1.4295036249082804,
          1.4295036249082804,
          1.4295036249082804,
          1.4295036249082804,
          1.4295036249082804,
          1.4295036249082804,
          1.4295036249082804,
          1.4295036249082804,
          1.4295036249082804,
          1.4295036249082804
         ]
        },
        {
         "line": {
          "color": "rgba(219, 64, 82, 0.6666666666666667)",
          "dash": "solid",
          "shape": "linear",
          "width": 1.3
         },
         "mode": "lines",
         "name": "Minerals",
         "text": "",
         "type": "scatter",
         "x": [
          0.06613867865546326,
          0.0992080179831949,
          0.11904962157983387,
          0.13227735731092652,
          0.1455050930420192,
          0.15873282877311182,
          0.1719605645042045,
          0.18518830023529712,
          0.1984160359663898,
          0.26455471462185304,
          0.5291094292437061
         ],
         "y": [
          0,
          0,
          0,
          0,
          0,
          0,
          0,
          0,
          0,
          0,
          0
         ]
        },
        {
         "line": {
          "color": "rgba(0, 128, 128, 0.6666666666666667)",
          "dash": "solid",
          "shape": "linear",
          "width": 1.3
         },
         "mode": "lines",
         "name": "Molybdenum, Mo",
         "text": "",
         "type": "scatter",
         "x": [
          0.06613867865546326,
          0.0992080179831949,
          0.11904962157983387,
          0.13227735731092652,
          0.1455050930420192,
          0.15873282877311182,
          0.1719605645042045,
          0.18518830023529712,
          0.1984160359663898,
          0.26455471462185304,
          0.5291094292437061
         ],
         "y": [
          3410.588324148052,
          3410.588324148052,
          3410.588324148052,
          3410.588324148052,
          3410.588324148052,
          3410.588324148052,
          3410.588324148052,
          3410.588324148052,
          3410.588324148052,
          3410.588324148052,
          3410.588324148052
         ]
        },
        {
         "line": {
          "color": "rgba(255, 255, 51, 0.6666666666666667)",
          "dash": "solid",
          "shape": "linear",
          "width": 1.3
         },
         "mode": "lines",
         "name": "Niacin",
         "text": "",
         "type": "scatter",
         "x": [
          0.06613867865546326,
          0.0992080179831949,
          0.11904962157983387,
          0.13227735731092652,
          0.1455050930420192,
          0.15873282877311182,
          0.1719605645042045,
          0.18518830023529712,
          0.1984160359663898,
          0.26455471462185304,
          0.5291094292437061
         ],
         "y": [
          26.740351647426728,
          26.740351647426728,
          26.740351647426728,
          26.740351647426728,
          26.740351647426728,
          26.740351647426728,
          26.740351647426728,
          26.740351647426728,
          26.740351647426728,
          26.740351647426728,
          26.740351647426728
         ]
        },
        {
         "line": {
          "color": "rgba(128, 128, 0, 0.6666666666666667)",
          "dash": "solid",
          "shape": "linear",
          "width": 1.3
         },
         "mode": "lines",
         "name": "Nickel, Ni",
         "text": "",
         "type": "scatter",
         "x": [
          0.06613867865546326,
          0.0992080179831949,
          0.11904962157983387,
          0.13227735731092652,
          0.1455050930420192,
          0.15873282877311182,
          0.1719605645042045,
          0.18518830023529712,
          0.1984160359663898,
          0.26455471462185304,
          0.5291094292437061
         ],
         "y": [
          715.4821158267108,
          715.4821158267108,
          715.4821158267108,
          715.4821158267108,
          715.4821158267108,
          715.4821158267108,
          715.4821158267108,
          715.4821158267108,
          715.4821158267108,
          715.4821158267108,
          715.4821158267108
         ]
        },
        {
         "line": {
          "color": "rgba(251, 128, 114, 0.6666666666666667)",
          "dash": "solid",
          "shape": "linear",
          "width": 1.3
         },
         "mode": "lines",
         "name": "Nitrogen",
         "text": "",
         "type": "scatter",
         "x": [
          0.06613867865546326,
          0.0992080179831949,
          0.11904962157983387,
          0.13227735731092652,
          0.1455050930420192,
          0.15873282877311182,
          0.1719605645042045,
          0.18518830023529712,
          0.1984160359663898,
          0.26455471462185304,
          0.5291094292437061
         ],
         "y": [
          0.8485686094948083,
          0.8485686094948083,
          0.8485686094948083,
          0.8485686094948083,
          0.8485686094948083,
          0.8485686094948083,
          0.8485686094948083,
          0.8485686094948083,
          0.8485686094948083,
          0.8485686094948083,
          0.8485686094948083
         ]
        },
        {
         "line": {
          "color": "rgba(128, 177, 211, 0.6666666666666667)",
          "dash": "solid",
          "shape": "linear",
          "width": 1.3
         },
         "mode": "lines",
         "name": "PUFA 18:2",
         "text": "",
         "type": "scatter",
         "x": [
          0.06613867865546326,
          0.0992080179831949,
          0.11904962157983387,
          0.13227735731092652,
          0.1455050930420192,
          0.15873282877311182,
          0.1719605645042045,
          0.18518830023529712,
          0.1984160359663898,
          0.26455471462185304,
          0.5291094292437061
         ],
         "y": [
          46.43613227780567,
          46.43613227780567,
          46.43613227780567,
          46.43613227780567,
          46.43613227780567,
          46.43613227780567,
          46.43613227780567,
          46.43613227780567,
          46.43613227780567,
          46.43613227780567,
          46.43613227780567
         ]
        },
        {
         "line": {
          "color": "rgba(255, 153, 51, 0.6666666666666667)",
          "dash": "solid",
          "shape": "linear",
          "width": 1.3
         },
         "mode": "lines",
         "name": "PUFA 18:2 CLAs",
         "text": "",
         "type": "scatter",
         "x": [
          0.06613867865546326,
          0.0992080179831949,
          0.11904962157983387,
          0.13227735731092652,
          0.1455050930420192,
          0.15873282877311182,
          0.1719605645042045,
          0.18518830023529712,
          0.1984160359663898,
          0.26455471462185304,
          0.5291094292437061
         ],
         "y": [
          0.13656789923738513,
          0.13656789923738513,
          0.13656789923738513,
          0.13656789923738513,
          0.13656789923738513,
          0.13656789923738513,
          0.13656789923738513,
          0.13656789923738513,
          0.13656789923738513,
          0.13656789923738513,
          0.13656789923738513
         ]
        },
        {
         "line": {
          "color": "rgba(255, 153, 51, 0.6296296296296295)",
          "dash": "solid",
          "shape": "linear",
          "width": 1.3
         },
         "mode": "lines",
         "name": "PUFA 18:2 c",
         "text": "",
         "type": "scatter",
         "x": [
          0.06613867865546326,
          0.0992080179831949,
          0.11904962157983387,
          0.13227735731092652,
          0.1455050930420192,
          0.15873282877311182,
          0.1719605645042045,
          0.18518830023529712,
          0.1984160359663898,
          0.26455471462185304,
          0.5291094292437061
         ],
         "y": [
          0,
          0,
          0,
          0,
          0,
          0,
          0,
          0,
          0,
          0,
          0
         ]
        },
        {
         "line": {
          "color": "rgba(55, 128, 191, 0.6296296296296295)",
          "dash": "solid",
          "shape": "linear",
          "width": 1.3
         },
         "mode": "lines",
         "name": "PUFA 18:2 n-6 c,c",
         "text": "",
         "type": "scatter",
         "x": [
          0.06613867865546326,
          0.0992080179831949,
          0.11904962157983387,
          0.13227735731092652,
          0.1455050930420192,
          0.15873282877311182,
          0.1719605645042045,
          0.18518830023529712,
          0.1984160359663898,
          0.26455471462185304,
          0.5291094292437061
         ],
         "y": [
          18.49616132344744,
          18.49616132344744,
          18.49616132344744,
          18.49616132344744,
          18.49616132344744,
          18.49616132344744,
          18.49616132344744,
          18.49616132344744,
          18.49616132344744,
          18.49616132344744,
          18.49616132344744
         ]
        },
        {
         "line": {
          "color": "rgba(50, 171, 96, 0.6296296296296295)",
          "dash": "solid",
          "shape": "linear",
          "width": 1.3
         },
         "mode": "lines",
         "name": "PUFA 18:3",
         "text": "",
         "type": "scatter",
         "x": [
          0.06613867865546326,
          0.0992080179831949,
          0.11904962157983387,
          0.13227735731092652,
          0.1455050930420192,
          0.15873282877311182,
          0.1719605645042045,
          0.18518830023529712,
          0.1984160359663898,
          0.26455471462185304,
          0.5291094292437061
         ],
         "y": [
          10.429098620041312,
          10.429098620041312,
          10.429098620041312,
          10.429098620041312,
          10.429098620041312,
          10.429098620041312,
          10.429098620041312,
          10.429098620041312,
          10.429098620041312,
          10.429098620041312,
          10.429098620041312
         ]
        },
        {
         "line": {
          "color": "rgba(128, 0, 128, 0.6296296296296295)",
          "dash": "solid",
          "shape": "linear",
          "width": 1.3
         },
         "mode": "lines",
         "name": "PUFA 18:3 c",
         "text": "",
         "type": "scatter",
         "x": [
          0.06613867865546326,
          0.0992080179831949,
          0.11904962157983387,
          0.13227735731092652,
          0.1455050930420192,
          0.15873282877311182,
          0.1719605645042045,
          0.18518830023529712,
          0.1984160359663898,
          0.26455471462185304,
          0.5291094292437061
         ],
         "y": [
          0,
          0,
          0,
          0,
          0,
          0,
          0,
          0,
          0,
          0,
          0
         ]
        },
        {
         "line": {
          "color": "rgba(219, 64, 82, 0.6296296296296295)",
          "dash": "solid",
          "shape": "linear",
          "width": 1.3
         },
         "mode": "lines",
         "name": "PUFA 18:3 n-3 c,c,c (ALA)",
         "text": "",
         "type": "scatter",
         "x": [
          0.06613867865546326,
          0.0992080179831949,
          0.11904962157983387,
          0.13227735731092652,
          0.1455050930420192,
          0.15873282877311182,
          0.1719605645042045,
          0.18518830023529712,
          0.1984160359663898,
          0.26455471462185304,
          0.5291094292437061
         ],
         "y": [
          5.871067509789368,
          5.871067509789368,
          5.871067509789368,
          5.871067509789368,
          5.871067509789368,
          5.871067509789368,
          5.871067509789368,
          5.871067509789368,
          5.871067509789368,
          5.871067509789368,
          5.871067509789368
         ]
        },
        {
         "line": {
          "color": "rgba(0, 128, 128, 0.6296296296296295)",
          "dash": "solid",
          "shape": "linear",
          "width": 1.3
         },
         "mode": "lines",
         "name": "PUFA 18:3 n-6 c,c,c",
         "text": "",
         "type": "scatter",
         "x": [
          0.06613867865546326,
          0.0992080179831949,
          0.11904962157983387,
          0.13227735731092652,
          0.1455050930420192,
          0.15873282877311182,
          0.1719605645042045,
          0.18518830023529712,
          0.1984160359663898,
          0.26455471462185304,
          0.5291094292437061
         ],
         "y": [
          0.9059454701885945,
          0.9059454701885945,
          0.9059454701885945,
          0.9059454701885945,
          0.9059454701885945,
          0.9059454701885945,
          0.9059454701885945,
          0.9059454701885945,
          0.9059454701885945,
          0.9059454701885945,
          0.9059454701885945
         ]
        },
        {
         "line": {
          "color": "rgba(255, 255, 51, 0.6296296296296295)",
          "dash": "solid",
          "shape": "linear",
          "width": 1.3
         },
         "mode": "lines",
         "name": "PUFA 18:3i",
         "text": "",
         "type": "scatter",
         "x": [
          0.06613867865546326,
          0.0992080179831949,
          0.11904962157983387,
          0.13227735731092652,
          0.1455050930420192,
          0.15873282877311182,
          0.1719605645042045,
          0.18518830023529712,
          0.1984160359663898,
          0.26455471462185304,
          0.5291094292437061
         ],
         "y": [
          0,
          0,
          0,
          0,
          0,
          0,
          0,
          0,
          0,
          0,
          0
         ]
        },
        {
         "line": {
          "color": "rgba(128, 128, 0, 0.6296296296296295)",
          "dash": "solid",
          "shape": "linear",
          "width": 1.3
         },
         "mode": "lines",
         "name": "PUFA 18:4",
         "text": "",
         "type": "scatter",
         "x": [
          0.06613867865546326,
          0.0992080179831949,
          0.11904962157983387,
          0.13227735731092652,
          0.1455050930420192,
          0.15873282877311182,
          0.1719605645042045,
          0.18518830023529712,
          0.1984160359663898,
          0.26455471462185304,
          0.5291094292437061
         ],
         "y": [
          0.4215362812717225,
          0.4215362812717225,
          0.4215362812717225,
          0.4215362812717225,
          0.4215362812717225,
          0.4215362812717225,
          0.4215362812717225,
          0.4215362812717225,
          0.4215362812717225,
          0.4215362812717225,
          0.4215362812717225
         ]
        },
        {
         "line": {
          "color": "rgba(251, 128, 114, 0.6296296296296295)",
          "dash": "solid",
          "shape": "linear",
          "width": 1.3
         },
         "mode": "lines",
         "name": "PUFA 20:2 c",
         "text": "",
         "type": "scatter",
         "x": [
          0.06613867865546326,
          0.0992080179831949,
          0.11904962157983387,
          0.13227735731092652,
          0.1455050930420192,
          0.15873282877311182,
          0.1719605645042045,
          0.18518830023529712,
          0.1984160359663898,
          0.26455471462185304,
          0.5291094292437061
         ],
         "y": [
          0,
          0,
          0,
          0,
          0,
          0,
          0,
          0,
          0,
          0,
          0
         ]
        },
        {
         "line": {
          "color": "rgba(128, 177, 211, 0.6296296296296295)",
          "dash": "solid",
          "shape": "linear",
          "width": 1.3
         },
         "mode": "lines",
         "name": "PUFA 20:2 n-6 c,c",
         "text": "",
         "type": "scatter",
         "x": [
          0.06613867865546326,
          0.0992080179831949,
          0.11904962157983387,
          0.13227735731092652,
          0.1455050930420192,
          0.15873282877311182,
          0.1719605645042045,
          0.18518830023529712,
          0.1984160359663898,
          0.26455471462185304,
          0.5291094292437061
         ],
         "y": [
          0,
          0,
          0,
          0,
          0,
          0,
          0,
          0,
          0,
          0,
          0
         ]
        },
        {
         "line": {
          "color": "rgba(128, 177, 211, 0.5925925925925926)",
          "dash": "solid",
          "shape": "linear",
          "width": 1.3
         },
         "mode": "lines",
         "name": "PUFA 20:3",
         "text": "",
         "type": "scatter",
         "x": [
          0.06613867865546326,
          0.0992080179831949,
          0.11904962157983387,
          0.13227735731092652,
          0.1455050930420192,
          0.15873282877311182,
          0.1719605645042045,
          0.18518830023529712,
          0.1984160359663898,
          0.26455471462185304,
          0.5291094292437061
         ],
         "y": [
          0,
          0,
          0,
          0,
          0,
          0,
          0,
          0,
          0,
          0,
          0
         ]
        },
        {
         "line": {
          "color": "rgba(255, 153, 51, 0.5925925925925926)",
          "dash": "solid",
          "shape": "linear",
          "width": 1.3
         },
         "mode": "lines",
         "name": "PUFA 20:3 c",
         "text": "",
         "type": "scatter",
         "x": [
          0.06613867865546326,
          0.0992080179831949,
          0.11904962157983387,
          0.13227735731092652,
          0.1455050930420192,
          0.15873282877311182,
          0.1719605645042045,
          0.18518830023529712,
          0.1984160359663898,
          0.26455471462185304,
          0.5291094292437061
         ],
         "y": [
          0,
          0,
          0,
          0,
          0,
          0,
          0,
          0,
          0,
          0,
          0
         ]
        },
        {
         "line": {
          "color": "rgba(55, 128, 191, 0.5925925925925926)",
          "dash": "solid",
          "shape": "linear",
          "width": 1.3
         },
         "mode": "lines",
         "name": "PUFA 20:3 n-3",
         "text": "",
         "type": "scatter",
         "x": [
          0.06613867865546326,
          0.0992080179831949,
          0.11904962157983387,
          0.13227735731092652,
          0.1455050930420192,
          0.15873282877311182,
          0.1719605645042045,
          0.18518830023529712,
          0.1984160359663898,
          0.26455471462185304,
          0.5291094292437061
         ],
         "y": [
          0,
          0,
          0,
          0,
          0,
          0,
          0,
          0,
          0,
          0,
          0
         ]
        },
        {
         "line": {
          "color": "rgba(50, 171, 96, 0.5925925925925926)",
          "dash": "solid",
          "shape": "linear",
          "width": 1.3
         },
         "mode": "lines",
         "name": "PUFA 20:3 n-6",
         "text": "",
         "type": "scatter",
         "x": [
          0.06613867865546326,
          0.0992080179831949,
          0.11904962157983387,
          0.13227735731092652,
          0.1455050930420192,
          0.15873282877311182,
          0.1719605645042045,
          0.18518830023529712,
          0.1984160359663898,
          0.26455471462185304,
          0.5291094292437061
         ],
         "y": [
          0,
          0,
          0,
          0,
          0,
          0,
          0,
          0,
          0,
          0,
          0
         ]
        },
        {
         "line": {
          "color": "rgba(128, 0, 128, 0.5925925925925926)",
          "dash": "solid",
          "shape": "linear",
          "width": 1.3
         },
         "mode": "lines",
         "name": "PUFA 20:3 n-9",
         "text": "",
         "type": "scatter",
         "x": [
          0.06613867865546326,
          0.0992080179831949,
          0.11904962157983387,
          0.13227735731092652,
          0.1455050930420192,
          0.15873282877311182,
          0.1719605645042045,
          0.18518830023529712,
          0.1984160359663898,
          0.26455471462185304,
          0.5291094292437061
         ],
         "y": [
          0,
          0,
          0,
          0,
          0,
          0,
          0,
          0,
          0,
          0,
          0
         ]
        },
        {
         "line": {
          "color": "rgba(219, 64, 82, 0.5925925925925926)",
          "dash": "solid",
          "shape": "linear",
          "width": 1.3
         },
         "mode": "lines",
         "name": "PUFA 20:4",
         "text": "",
         "type": "scatter",
         "x": [
          0.06613867865546326,
          0.0992080179831949,
          0.11904962157983387,
          0.13227735731092652,
          0.1455050930420192,
          0.15873282877311182,
          0.1719605645042045,
          0.18518830023529712,
          0.1984160359663898,
          0.26455471462185304,
          0.5291094292437061
         ],
         "y": [
          0.03346737438318939,
          0.03346737438318939,
          0.03346737438318939,
          0.03346737438318939,
          0.03346737438318939,
          0.03346737438318939,
          0.03346737438318939,
          0.03346737438318939,
          0.03346737438318939,
          0.03346737438318939,
          0.03346737438318939
         ]
        },
        {
         "line": {
          "color": "rgba(0, 128, 128, 0.5925925925925926)",
          "dash": "solid",
          "shape": "linear",
          "width": 1.3
         },
         "mode": "lines",
         "name": "PUFA 20:4c",
         "text": "",
         "type": "scatter",
         "x": [
          0.06613867865546326,
          0.0992080179831949,
          0.11904962157983387,
          0.13227735731092652,
          0.1455050930420192,
          0.15873282877311182,
          0.1719605645042045,
          0.18518830023529712,
          0.1984160359663898,
          0.26455471462185304,
          0.5291094292437061
         ],
         "y": [
          0,
          0,
          0,
          0,
          0,
          0,
          0,
          0,
          0,
          0,
          0
         ]
        },
        {
         "line": {
          "color": "rgba(255, 255, 51, 0.5925925925925926)",
          "dash": "solid",
          "shape": "linear",
          "width": 1.3
         },
         "mode": "lines",
         "name": "PUFA 20:5 n-3 (EPA)",
         "text": "",
         "type": "scatter",
         "x": [
          0.06613867865546326,
          0.0992080179831949,
          0.11904962157983387,
          0.13227735731092652,
          0.1455050930420192,
          0.15873282877311182,
          0.1719605645042045,
          0.18518830023529712,
          0.1984160359663898,
          0.26455471462185304,
          0.5291094292437061
         ],
         "y": [
          0.07802399023132811,
          0.07802399023132811,
          0.07802399023132811,
          0.07802399023132811,
          0.07802399023132811,
          0.07802399023132811,
          0.07802399023132811,
          0.07802399023132811,
          0.07802399023132811,
          0.07802399023132811,
          0.07802399023132811
         ]
        },
        {
         "line": {
          "color": "rgba(128, 128, 0, 0.5925925925925926)",
          "dash": "solid",
          "shape": "linear",
          "width": 1.3
         },
         "mode": "lines",
         "name": "PUFA 20:5c",
         "text": "",
         "type": "scatter",
         "x": [
          0.06613867865546326,
          0.0992080179831949,
          0.11904962157983387,
          0.13227735731092652,
          0.1455050930420192,
          0.15873282877311182,
          0.1719605645042045,
          0.18518830023529712,
          0.1984160359663898,
          0.26455471462185304,
          0.5291094292437061
         ],
         "y": [
          0,
          0,
          0,
          0,
          0,
          0,
          0,
          0,
          0,
          0,
          0
         ]
        },
        {
         "line": {
          "color": "rgba(251, 128, 114, 0.5925925925925926)",
          "dash": "solid",
          "shape": "linear",
          "width": 1.3
         },
         "mode": "lines",
         "name": "PUFA 22:2",
         "text": "",
         "type": "scatter",
         "x": [
          0.06613867865546326,
          0.0992080179831949,
          0.11904962157983387,
          0.13227735731092652,
          0.1455050930420192,
          0.15873282877311182,
          0.1719605645042045,
          0.18518830023529712,
          0.1984160359663898,
          0.26455471462185304,
          0.5291094292437061
         ],
         "y": [
          0,
          0,
          0,
          0,
          0,
          0,
          0,
          0,
          0,
          0,
          0
         ]
        },
        {
         "line": {
          "color": "rgba(251, 128, 114, 0.5555555555555556)",
          "dash": "solid",
          "shape": "linear",
          "width": 1.3
         },
         "mode": "lines",
         "name": "PUFA 22:3",
         "text": "",
         "type": "scatter",
         "x": [
          0.06613867865546326,
          0.0992080179831949,
          0.11904962157983387,
          0.13227735731092652,
          0.1455050930420192,
          0.15873282877311182,
          0.1719605645042045,
          0.18518830023529712,
          0.1984160359663898,
          0.26455471462185304,
          0.5291094292437061
         ],
         "y": [
          0,
          0,
          0,
          0,
          0,
          0,
          0,
          0,
          0,
          0,
          0
         ]
        },
        {
         "line": {
          "color": "rgba(128, 177, 211, 0.5555555555555556)",
          "dash": "solid",
          "shape": "linear",
          "width": 1.3
         },
         "mode": "lines",
         "name": "PUFA 22:4",
         "text": "",
         "type": "scatter",
         "x": [
          0.06613867865546326,
          0.0992080179831949,
          0.11904962157983387,
          0.13227735731092652,
          0.1455050930420192,
          0.15873282877311182,
          0.1719605645042045,
          0.18518830023529712,
          0.1984160359663898,
          0.26455471462185304,
          0.5291094292437061
         ],
         "y": [
          0,
          0,
          0,
          0,
          0,
          0,
          0,
          0,
          0,
          0,
          0
         ]
        },
        {
         "line": {
          "color": "rgba(255, 153, 51, 0.5555555555555556)",
          "dash": "solid",
          "shape": "linear",
          "width": 1.3
         },
         "mode": "lines",
         "name": "PUFA 22:5 c",
         "text": "",
         "type": "scatter",
         "x": [
          0.06613867865546326,
          0.0992080179831949,
          0.11904962157983387,
          0.13227735731092652,
          0.1455050930420192,
          0.15873282877311182,
          0.1719605645042045,
          0.18518830023529712,
          0.1984160359663898,
          0.26455471462185304,
          0.5291094292437061
         ],
         "y": [
          0,
          0,
          0,
          0,
          0,
          0,
          0,
          0,
          0,
          0,
          0
         ]
        },
        {
         "line": {
          "color": "rgba(55, 128, 191, 0.5555555555555556)",
          "dash": "solid",
          "shape": "linear",
          "width": 1.3
         },
         "mode": "lines",
         "name": "PUFA 22:5 n-3 (DPA)",
         "text": "",
         "type": "scatter",
         "x": [
          0.06613867865546326,
          0.0992080179831949,
          0.11904962157983387,
          0.13227735731092652,
          0.1455050930420192,
          0.15873282877311182,
          0.1719605645042045,
          0.18518830023529712,
          0.1984160359663898,
          0.26455471462185304,
          0.5291094292437061
         ],
         "y": [
          0.014286082718412191,
          0.014286082718412191,
          0.014286082718412191,
          0.014286082718412191,
          0.014286082718412191,
          0.014286082718412191,
          0.014286082718412191,
          0.014286082718412191,
          0.014286082718412191,
          0.014286082718412191,
          0.014286082718412191
         ]
        },
        {
         "line": {
          "color": "rgba(50, 171, 96, 0.5555555555555556)",
          "dash": "solid",
          "shape": "linear",
          "width": 1.3
         },
         "mode": "lines",
         "name": "PUFA 22:6 c",
         "text": "",
         "type": "scatter",
         "x": [
          0.06613867865546326,
          0.0992080179831949,
          0.11904962157983387,
          0.13227735731092652,
          0.1455050930420192,
          0.15873282877311182,
          0.1719605645042045,
          0.18518830023529712,
          0.1984160359663898,
          0.26455471462185304,
          0.5291094292437061
         ],
         "y": [
          0,
          0,
          0,
          0,
          0,
          0,
          0,
          0,
          0,
          0,
          0
         ]
        },
        {
         "line": {
          "color": "rgba(128, 0, 128, 0.5555555555555556)",
          "dash": "solid",
          "shape": "linear",
          "width": 1.3
         },
         "mode": "lines",
         "name": "PUFA 22:6 n-3 (DHA)",
         "text": "",
         "type": "scatter",
         "x": [
          0.06613867865546326,
          0.0992080179831949,
          0.11904962157983387,
          0.13227735731092652,
          0.1455050930420192,
          0.15873282877311182,
          0.1719605645042045,
          0.18518830023529712,
          0.1984160359663898,
          0.26455471462185304,
          0.5291094292437061
         ],
         "y": [
          0.20330194637740426,
          0.20330194637740426,
          0.20330194637740426,
          0.20330194637740426,
          0.20330194637740426,
          0.20330194637740426,
          0.20330194637740426,
          0.20330194637740426,
          0.20330194637740426,
          0.20330194637740426,
          0.20330194637740426
         ]
        },
        {
         "line": {
          "color": "rgba(219, 64, 82, 0.5555555555555556)",
          "dash": "solid",
          "shape": "linear",
          "width": 1.3
         },
         "mode": "lines",
         "name": "Pantothenic acid",
         "text": "",
         "type": "scatter",
         "x": [
          0.06613867865546326,
          0.0992080179831949,
          0.11904962157983387,
          0.13227735731092652,
          0.1455050930420192,
          0.15873282877311182,
          0.1719605645042045,
          0.18518830023529712,
          0.1984160359663898,
          0.26455471462185304,
          0.5291094292437061
         ],
         "y": [
          1.6145779179653028,
          1.6145779179653028,
          1.6145779179653028,
          1.6145779179653028,
          1.6145779179653028,
          1.6145779179653028,
          1.6145779179653028,
          1.6145779179653028,
          1.6145779179653028,
          1.6145779179653028,
          1.6145779179653028
         ]
        },
        {
         "line": {
          "color": "rgba(0, 128, 128, 0.5555555555555556)",
          "dash": "solid",
          "shape": "linear",
          "width": 1.3
         },
         "mode": "lines",
         "name": "Phenylalanine",
         "text": "",
         "type": "scatter",
         "x": [
          0.06613867865546326,
          0.0992080179831949,
          0.11904962157983387,
          0.13227735731092652,
          0.1455050930420192,
          0.15873282877311182,
          0.1719605645042045,
          0.18518830023529712,
          0.1984160359663898,
          0.26455471462185304,
          0.5291094292437061
         ],
         "y": [
          2.2218458658557747,
          2.2218458658557747,
          2.2218458658557747,
          2.2218458658557747,
          2.2218458658557747,
          2.2218458658557747,
          2.2218458658557747,
          2.2218458658557747,
          2.2218458658557747,
          2.2218458658557747,
          2.2218458658557747
         ]
        },
        {
         "line": {
          "color": "rgba(255, 255, 51, 0.5555555555555556)",
          "dash": "solid",
          "shape": "linear",
          "width": 1.3
         },
         "mode": "lines",
         "name": "Phosphorus, P",
         "text": "",
         "type": "scatter",
         "x": [
          0.06613867865546326,
          0.0992080179831949,
          0.11904962157983387,
          0.13227735731092652,
          0.1455050930420192,
          0.15873282877311182,
          0.1719605645042045,
          0.18518830023529712,
          0.1984160359663898,
          0.26455471462185304,
          0.5291094292437061
         ],
         "y": [
          3486.0093573057347,
          3486.0093573057347,
          3486.0093573057347,
          3486.0093573057347,
          3486.0093573057347,
          3486.0093573057347,
          3486.0093573057347,
          3486.0093573057347,
          3486.0093573057347,
          3486.0093573057347,
          3486.0093573057347
         ]
        },
        {
         "line": {
          "color": "rgba(128, 128, 0, 0.5555555555555556)",
          "dash": "solid",
          "shape": "linear",
          "width": 1.3
         },
         "mode": "lines",
         "name": "Phytosterols",
         "text": "",
         "type": "scatter",
         "x": [
          0.06613867865546326,
          0.0992080179831949,
          0.11904962157983387,
          0.13227735731092652,
          0.1455050930420192,
          0.15873282877311182,
          0.1719605645042045,
          0.18518830023529712,
          0.1984160359663898,
          0.26455471462185304,
          0.5291094292437061
         ],
         "y": [
          0,
          0,
          0,
          0,
          0,
          0,
          0,
          0,
          0,
          0,
          0
         ]
        },
        {
         "line": {
          "color": "rgba(128, 128, 0, 0.5185185185185186)",
          "dash": "solid",
          "shape": "linear",
          "width": 1.3
         },
         "mode": "lines",
         "name": "Phytosterols, other",
         "text": "",
         "type": "scatter",
         "x": [
          0.06613867865546326,
          0.0992080179831949,
          0.11904962157983387,
          0.13227735731092652,
          0.1455050930420192,
          0.15873282877311182,
          0.1719605645042045,
          0.18518830023529712,
          0.1984160359663898,
          0.26455471462185304,
          0.5291094292437061
         ],
         "y": [
          0,
          0,
          0,
          0,
          0,
          0,
          0,
          0,
          0,
          0,
          0
         ]
        },
        {
         "line": {
          "color": "rgba(251, 128, 114, 0.5185185185185186)",
          "dash": "solid",
          "shape": "linear",
          "width": 1.3
         },
         "mode": "lines",
         "name": "Potassium, K",
         "text": "",
         "type": "scatter",
         "x": [
          0.06613867865546326,
          0.0992080179831949,
          0.11904962157983387,
          0.13227735731092652,
          0.1455050930420192,
          0.15873282877311182,
          0.1719605645042045,
          0.18518830023529712,
          0.1984160359663898,
          0.26455471462185304,
          0.5291094292437061
         ],
         "y": [
          8068.724766792482,
          8068.724766792482,
          8068.724766792482,
          8068.724766792482,
          8068.724766792482,
          8068.724766792482,
          8068.724766792482,
          8068.724766792482,
          8068.724766792482,
          8068.724766792482,
          8068.724766792482
         ]
        },
        {
         "line": {
          "color": "rgba(128, 177, 211, 0.5185185185185186)",
          "dash": "solid",
          "shape": "linear",
          "width": 1.3
         },
         "mode": "lines",
         "name": "Proline",
         "text": "",
         "type": "scatter",
         "x": [
          0.06613867865546326,
          0.0992080179831949,
          0.11904962157983387,
          0.13227735731092652,
          0.1455050930420192,
          0.15873282877311182,
          0.1719605645042045,
          0.18518830023529712,
          0.1984160359663898,
          0.26455471462185304,
          0.5291094292437061
         ],
         "y": [
          2.2553676809912435,
          2.2553676809912435,
          2.2553676809912435,
          2.2553676809912435,
          2.2553676809912435,
          2.2553676809912435,
          2.2553676809912435,
          2.2553676809912435,
          2.2553676809912435,
          2.2553676809912435,
          2.2553676809912435
         ]
        },
        {
         "line": {
          "color": "rgba(255, 153, 51, 0.5185185185185186)",
          "dash": "solid",
          "shape": "linear",
          "width": 1.3
         },
         "mode": "lines",
         "name": "Protein",
         "text": "",
         "type": "scatter",
         "x": [
          0.06613867865546326,
          0.0992080179831949,
          0.11904962157983387,
          0.13227735731092652,
          0.1455050930420192,
          0.15873282877311182,
          0.1719605645042045,
          0.18518830023529712,
          0.1984160359663898,
          0.26455471462185304,
          0.5291094292437061
         ],
         "y": [
          148.6399190575282,
          148.6399190575282,
          148.6399190575282,
          148.6399190575282,
          148.6399190575282,
          148.6399190575282,
          148.6399190575282,
          148.6399190575282,
          148.6399190575282,
          148.6399190575282,
          148.6399190575282
         ]
        },
        {
         "line": {
          "color": "rgba(55, 128, 191, 0.5185185185185186)",
          "dash": "solid",
          "shape": "linear",
          "width": 1.3
         },
         "mode": "lines",
         "name": "Proximates",
         "text": "",
         "type": "scatter",
         "x": [
          0.06613867865546326,
          0.0992080179831949,
          0.11904962157983387,
          0.13227735731092652,
          0.1455050930420192,
          0.15873282877311182,
          0.1719605645042045,
          0.18518830023529712,
          0.1984160359663898,
          0.26455471462185304,
          0.5291094292437061
         ],
         "y": [
          0,
          0,
          0,
          0,
          0,
          0,
          0,
          0,
          0,
          0,
          0
         ]
        },
        {
         "line": {
          "color": "rgba(50, 171, 96, 0.5185185185185186)",
          "dash": "solid",
          "shape": "linear",
          "width": 1.3
         },
         "mode": "lines",
         "name": "Retinol",
         "text": "",
         "type": "scatter",
         "x": [
          0.06613867865546326,
          0.0992080179831949,
          0.11904962157983387,
          0.13227735731092652,
          0.1455050930420192,
          0.15873282877311182,
          0.1719605645042045,
          0.18518830023529712,
          0.1984160359663898,
          0.26455471462185304,
          0.5291094292437061
         ],
         "y": [
          141.7707934481001,
          141.7707934481001,
          141.7707934481001,
          141.7707934481001,
          141.7707934481001,
          141.7707934481001,
          141.7707934481001,
          141.7707934481001,
          141.7707934481001,
          141.7707934481001,
          141.7707934481001
         ]
        },
        {
         "line": {
          "color": "rgba(128, 0, 128, 0.5185185185185186)",
          "dash": "solid",
          "shape": "linear",
          "width": 1.3
         },
         "mode": "lines",
         "name": "Riboflavin",
         "text": "",
         "type": "scatter",
         "x": [
          0.06613867865546326,
          0.0992080179831949,
          0.11904962157983387,
          0.13227735731092652,
          0.1455050930420192,
          0.15873282877311182,
          0.1719605645042045,
          0.18518830023529712,
          0.1984160359663898,
          0.26455471462185304,
          0.5291094292437061
         ],
         "y": [
          1.2999999999999998,
          1.2999999999999998,
          1.2999999999999998,
          1.2999999999999998,
          1.2999999999999998,
          1.2999999999999998,
          1.2999999999999998,
          1.2999999999999998,
          1.2999999999999998,
          1.2999999999999998,
          1.2999999999999998
         ]
        },
        {
         "line": {
          "color": "rgba(219, 64, 82, 0.5185185185185186)",
          "dash": "solid",
          "shape": "linear",
          "width": 1.3
         },
         "mode": "lines",
         "name": "SFA 10:0",
         "text": "",
         "type": "scatter",
         "x": [
          0.06613867865546326,
          0.0992080179831949,
          0.11904962157983387,
          0.13227735731092652,
          0.1455050930420192,
          0.15873282877311182,
          0.1719605645042045,
          0.18518830023529712,
          0.1984160359663898,
          0.26455471462185304,
          0.5291094292437061
         ],
         "y": [
          0,
          0,
          0,
          0,
          0,
          0,
          0,
          0,
          0,
          0,
          0
         ]
        },
        {
         "line": {
          "color": "rgba(0, 128, 128, 0.5185185185185186)",
          "dash": "solid",
          "shape": "linear",
          "width": 1.3
         },
         "mode": "lines",
         "name": "SFA 11:0",
         "text": "",
         "type": "scatter",
         "x": [
          0.06613867865546326,
          0.0992080179831949,
          0.11904962157983387,
          0.13227735731092652,
          0.1455050930420192,
          0.15873282877311182,
          0.1719605645042045,
          0.18518830023529712,
          0.1984160359663898,
          0.26455471462185304,
          0.5291094292437061
         ],
         "y": [
          0,
          0,
          0,
          0,
          0,
          0,
          0,
          0,
          0,
          0,
          0
         ]
        },
        {
         "line": {
          "color": "rgba(255, 255, 51, 0.5185185185185186)",
          "dash": "solid",
          "shape": "linear",
          "width": 1.3
         },
         "mode": "lines",
         "name": "SFA 12:0",
         "text": "",
         "type": "scatter",
         "x": [
          0.06613867865546326,
          0.0992080179831949,
          0.11904962157983387,
          0.13227735731092652,
          0.1455050930420192,
          0.15873282877311182,
          0.1719605645042045,
          0.18518830023529712,
          0.1984160359663898,
          0.26455471462185304,
          0.5291094292437061
         ],
         "y": [
          0.004895208946365008,
          0.004895208946365008,
          0.004895208946365008,
          0.004895208946365008,
          0.004895208946365008,
          0.004895208946365008,
          0.004895208946365008,
          0.004895208946365008,
          0.004895208946365008,
          0.004895208946365008,
          0.004895208946365008
         ]
        },
        {
         "line": {
          "color": "rgba(255, 255, 51, 0.48148148148148145)",
          "dash": "solid",
          "shape": "linear",
          "width": 1.3
         },
         "mode": "lines",
         "name": "SFA 14:0",
         "text": "",
         "type": "scatter",
         "x": [
          0.06613867865546326,
          0.0992080179831949,
          0.11904962157983387,
          0.13227735731092652,
          0.1455050930420192,
          0.15873282877311182,
          0.1719605645042045,
          0.18518830023529712,
          0.1984160359663898,
          0.26455471462185304,
          0.5291094292437061
         ],
         "y": [
          0.04885238654147944,
          0.04885238654147944,
          0.04885238654147944,
          0.04885238654147944,
          0.04885238654147944,
          0.04885238654147944,
          0.04885238654147944,
          0.04885238654147944,
          0.04885238654147944,
          0.04885238654147944,
          0.04885238654147944
         ]
        },
        {
         "line": {
          "color": "rgba(128, 128, 0, 0.48148148148148145)",
          "dash": "solid",
          "shape": "linear",
          "width": 1.3
         },
         "mode": "lines",
         "name": "SFA 15:0",
         "text": "",
         "type": "scatter",
         "x": [
          0.06613867865546326,
          0.0992080179831949,
          0.11904962157983387,
          0.13227735731092652,
          0.1455050930420192,
          0.15873282877311182,
          0.1719605645042045,
          0.18518830023529712,
          0.1984160359663898,
          0.26455471462185304,
          0.5291094292437061
         ],
         "y": [
          0,
          0,
          0,
          0,
          0,
          0,
          0,
          0,
          0,
          0,
          0
         ]
        },
        {
         "line": {
          "color": "rgba(251, 128, 114, 0.48148148148148145)",
          "dash": "solid",
          "shape": "linear",
          "width": 1.3
         },
         "mode": "lines",
         "name": "SFA 16:0",
         "text": "",
         "type": "scatter",
         "x": [
          0.06613867865546326,
          0.0992080179831949,
          0.11904962157983387,
          0.13227735731092652,
          0.1455050930420192,
          0.15873282877311182,
          0.1719605645042045,
          0.18518830023529712,
          0.1984160359663898,
          0.26455471462185304,
          0.5291094292437061
         ],
         "y": [
          7.321097888012301,
          7.321097888012301,
          7.321097888012301,
          7.321097888012301,
          7.321097888012301,
          7.321097888012301,
          7.321097888012301,
          7.321097888012301,
          7.321097888012301,
          7.321097888012301,
          7.321097888012301
         ]
        },
        {
         "line": {
          "color": "rgba(128, 177, 211, 0.48148148148148145)",
          "dash": "solid",
          "shape": "linear",
          "width": 1.3
         },
         "mode": "lines",
         "name": "SFA 17:0",
         "text": "",
         "type": "scatter",
         "x": [
          0.06613867865546326,
          0.0992080179831949,
          0.11904962157983387,
          0.13227735731092652,
          0.1455050930420192,
          0.15873282877311182,
          0.1719605645042045,
          0.18518830023529712,
          0.1984160359663898,
          0.26455471462185304,
          0.5291094292437061
         ],
         "y": [
          0,
          0,
          0,
          0,
          0,
          0,
          0,
          0,
          0,
          0,
          0
         ]
        },
        {
         "line": {
          "color": "rgba(255, 153, 51, 0.48148148148148145)",
          "dash": "solid",
          "shape": "linear",
          "width": 1.3
         },
         "mode": "lines",
         "name": "SFA 18:0",
         "text": "",
         "type": "scatter",
         "x": [
          0.06613867865546326,
          0.0992080179831949,
          0.11904962157983387,
          0.13227735731092652,
          0.1455050930420192,
          0.15873282877311182,
          0.1719605645042045,
          0.18518830023529712,
          0.1984160359663898,
          0.26455471462185304,
          0.5291094292437061
         ],
         "y": [
          2.9185756953224047,
          2.9185756953224047,
          2.9185756953224047,
          2.9185756953224047,
          2.9185756953224047,
          2.9185756953224047,
          2.9185756953224047,
          2.9185756953224047,
          2.9185756953224047,
          2.9185756953224047,
          2.9185756953224047
         ]
        },
        {
         "line": {
          "color": "rgba(55, 128, 191, 0.48148148148148145)",
          "dash": "solid",
          "shape": "linear",
          "width": 1.3
         },
         "mode": "lines",
         "name": "SFA 20:0",
         "text": "",
         "type": "scatter",
         "x": [
          0.06613867865546326,
          0.0992080179831949,
          0.11904962157983387,
          0.13227735731092652,
          0.1455050930420192,
          0.15873282877311182,
          0.1719605645042045,
          0.18518830023529712,
          0.1984160359663898,
          0.26455471462185304,
          0.5291094292437061
         ],
         "y": [
          0.21093655723794139,
          0.21093655723794139,
          0.21093655723794139,
          0.21093655723794139,
          0.21093655723794139,
          0.21093655723794139,
          0.21093655723794139,
          0.21093655723794139,
          0.21093655723794139,
          0.21093655723794139,
          0.21093655723794139
         ]
        },
        {
         "line": {
          "color": "rgba(50, 171, 96, 0.48148148148148145)",
          "dash": "solid",
          "shape": "linear",
          "width": 1.3
         },
         "mode": "lines",
         "name": "SFA 21:0",
         "text": "",
         "type": "scatter",
         "x": [
          0.06613867865546326,
          0.0992080179831949,
          0.11904962157983387,
          0.13227735731092652,
          0.1455050930420192,
          0.15873282877311182,
          0.1719605645042045,
          0.18518830023529712,
          0.1984160359663898,
          0.26455471462185304,
          0.5291094292437061
         ],
         "y": [
          0,
          0,
          0,
          0,
          0,
          0,
          0,
          0,
          0,
          0,
          0
         ]
        },
        {
         "line": {
          "color": "rgba(128, 0, 128, 0.48148148148148145)",
          "dash": "solid",
          "shape": "linear",
          "width": 1.3
         },
         "mode": "lines",
         "name": "SFA 22:0",
         "text": "",
         "type": "scatter",
         "x": [
          0.06613867865546326,
          0.0992080179831949,
          0.11904962157983387,
          0.13227735731092652,
          0.1455050930420192,
          0.15873282877311182,
          0.1719605645042045,
          0.18518830023529712,
          0.1984160359663898,
          0.26455471462185304,
          0.5291094292437061
         ],
         "y": [
          0.08180552380061189,
          0.08180552380061189,
          0.08180552380061189,
          0.08180552380061189,
          0.08180552380061189,
          0.08180552380061189,
          0.08180552380061189,
          0.08180552380061189,
          0.08180552380061189,
          0.08180552380061189,
          0.08180552380061189
         ]
        },
        {
         "line": {
          "color": "rgba(219, 64, 82, 0.48148148148148145)",
          "dash": "solid",
          "shape": "linear",
          "width": 1.3
         },
         "mode": "lines",
         "name": "SFA 23:0",
         "text": "",
         "type": "scatter",
         "x": [
          0.06613867865546326,
          0.0992080179831949,
          0.11904962157983387,
          0.13227735731092652,
          0.1455050930420192,
          0.15873282877311182,
          0.1719605645042045,
          0.18518830023529712,
          0.1984160359663898,
          0.26455471462185304,
          0.5291094292437061
         ],
         "y": [
          0,
          0,
          0,
          0,
          0,
          0,
          0,
          0,
          0,
          0,
          0
         ]
        },
        {
         "line": {
          "color": "rgba(0, 128, 128, 0.48148148148148145)",
          "dash": "solid",
          "shape": "linear",
          "width": 1.3
         },
         "mode": "lines",
         "name": "SFA 24:0",
         "text": "",
         "type": "scatter",
         "x": [
          0.06613867865546326,
          0.0992080179831949,
          0.11904962157983387,
          0.13227735731092652,
          0.1455050930420192,
          0.15873282877311182,
          0.1719605645042045,
          0.18518830023529712,
          0.1984160359663898,
          0.26455471462185304,
          0.5291094292437061
         ],
         "y": [
          0.0378604077093741,
          0.0378604077093741,
          0.0378604077093741,
          0.0378604077093741,
          0.0378604077093741,
          0.0378604077093741,
          0.0378604077093741,
          0.0378604077093741,
          0.0378604077093741,
          0.0378604077093741,
          0.0378604077093741
         ]
        },
        {
         "line": {
          "color": "rgba(0, 128, 128, 0.4444444444444445)",
          "dash": "solid",
          "shape": "linear",
          "width": 1.3
         },
         "mode": "lines",
         "name": "SFA 4:0",
         "text": "",
         "type": "scatter",
         "x": [
          0.06613867865546326,
          0.0992080179831949,
          0.11904962157983387,
          0.13227735731092652,
          0.1455050930420192,
          0.15873282877311182,
          0.1719605645042045,
          0.18518830023529712,
          0.1984160359663898,
          0.26455471462185304,
          0.5291094292437061
         ],
         "y": [
          0,
          0,
          0,
          0,
          0,
          0,
          0,
          0,
          0,
          0,
          0
         ]
        },
        {
         "line": {
          "color": "rgba(255, 255, 51, 0.4444444444444445)",
          "dash": "solid",
          "shape": "linear",
          "width": 1.3
         },
         "mode": "lines",
         "name": "SFA 5:0",
         "text": "",
         "type": "scatter",
         "x": [
          0.06613867865546326,
          0.0992080179831949,
          0.11904962157983387,
          0.13227735731092652,
          0.1455050930420192,
          0.15873282877311182,
          0.1719605645042045,
          0.18518830023529712,
          0.1984160359663898,
          0.26455471462185304,
          0.5291094292437061
         ],
         "y": [
          0,
          0,
          0,
          0,
          0,
          0,
          0,
          0,
          0,
          0,
          0
         ]
        },
        {
         "line": {
          "color": "rgba(128, 128, 0, 0.4444444444444445)",
          "dash": "solid",
          "shape": "linear",
          "width": 1.3
         },
         "mode": "lines",
         "name": "SFA 6:0",
         "text": "",
         "type": "scatter",
         "x": [
          0.06613867865546326,
          0.0992080179831949,
          0.11904962157983387,
          0.13227735731092652,
          0.1455050930420192,
          0.15873282877311182,
          0.1719605645042045,
          0.18518830023529712,
          0.1984160359663898,
          0.26455471462185304,
          0.5291094292437061
         ],
         "y": [
          0,
          0,
          0,
          0,
          0,
          0,
          0,
          0,
          0,
          0,
          0
         ]
        },
        {
         "line": {
          "color": "rgba(251, 128, 114, 0.4444444444444445)",
          "dash": "solid",
          "shape": "linear",
          "width": 1.3
         },
         "mode": "lines",
         "name": "SFA 7:0",
         "text": "",
         "type": "scatter",
         "x": [
          0.06613867865546326,
          0.0992080179831949,
          0.11904962157983387,
          0.13227735731092652,
          0.1455050930420192,
          0.15873282877311182,
          0.1719605645042045,
          0.18518830023529712,
          0.1984160359663898,
          0.26455471462185304,
          0.5291094292437061
         ],
         "y": [
          0,
          0,
          0,
          0,
          0,
          0,
          0,
          0,
          0,
          0,
          0
         ]
        },
        {
         "line": {
          "color": "rgba(128, 177, 211, 0.4444444444444445)",
          "dash": "solid",
          "shape": "linear",
          "width": 1.3
         },
         "mode": "lines",
         "name": "SFA 8:0",
         "text": "",
         "type": "scatter",
         "x": [
          0.06613867865546326,
          0.0992080179831949,
          0.11904962157983387,
          0.13227735731092652,
          0.1455050930420192,
          0.15873282877311182,
          0.1719605645042045,
          0.18518830023529712,
          0.1984160359663898,
          0.26455471462185304,
          0.5291094292437061
         ],
         "y": [
          0,
          0,
          0,
          0,
          0,
          0,
          0,
          0,
          0,
          0,
          0
         ]
        },
        {
         "line": {
          "color": "rgba(255, 153, 51, 0.4444444444444445)",
          "dash": "solid",
          "shape": "linear",
          "width": 1.3
         },
         "mode": "lines",
         "name": "SFA 9:0",
         "text": "",
         "type": "scatter",
         "x": [
          0.06613867865546326,
          0.0992080179831949,
          0.11904962157983387,
          0.13227735731092652,
          0.1455050930420192,
          0.15873282877311182,
          0.1719605645042045,
          0.18518830023529712,
          0.1984160359663898,
          0.26455471462185304,
          0.5291094292437061
         ],
         "y": [
          0,
          0,
          0,
          0,
          0,
          0,
          0,
          0,
          0,
          0,
          0
         ]
        },
        {
         "line": {
          "color": "rgba(55, 128, 191, 0.4444444444444445)",
          "dash": "solid",
          "shape": "linear",
          "width": 1.3
         },
         "mode": "lines",
         "name": "Selenium, Se",
         "text": "",
         "type": "scatter",
         "x": [
          0.06613867865546326,
          0.0992080179831949,
          0.11904962157983387,
          0.13227735731092652,
          0.1455050930420192,
          0.15873282877311182,
          0.1719605645042045,
          0.18518830023529712,
          0.1984160359663898,
          0.26455471462185304,
          0.5291094292437061
         ],
         "y": [
          44.38343229646095,
          44.38343229646095,
          44.38343229646095,
          44.38343229646095,
          44.38343229646095,
          44.38343229646095,
          44.38343229646095,
          44.38343229646095,
          44.38343229646095,
          44.38343229646095,
          44.38343229646095
         ]
        },
        {
         "line": {
          "color": "rgba(50, 171, 96, 0.4444444444444445)",
          "dash": "solid",
          "shape": "linear",
          "width": 1.3
         },
         "mode": "lines",
         "name": "Serine",
         "text": "",
         "type": "scatter",
         "x": [
          0.06613867865546326,
          0.0992080179831949,
          0.11904962157983387,
          0.13227735731092652,
          0.1455050930420192,
          0.15873282877311182,
          0.1719605645042045,
          0.18518830023529712,
          0.1984160359663898,
          0.26455471462185304,
          0.5291094292437061
         ],
         "y": [
          2.3766454361396865,
          2.3766454361396865,
          2.3766454361396865,
          2.3766454361396865,
          2.3766454361396865,
          2.3766454361396865,
          2.3766454361396865,
          2.3766454361396865,
          2.3766454361396865,
          2.3766454361396865,
          2.3766454361396865
         ]
        },
        {
         "line": {
          "color": "rgba(128, 0, 128, 0.4444444444444445)",
          "dash": "solid",
          "shape": "linear",
          "width": 1.3
         },
         "mode": "lines",
         "name": "Sodium, Na",
         "text": "",
         "type": "scatter",
         "x": [
          0.06613867865546326,
          0.0992080179831949,
          0.11904962157983387,
          0.13227735731092652,
          0.1455050930420192,
          0.15873282877311182,
          0.1719605645042045,
          0.18518830023529712,
          0.1984160359663898,
          0.26455471462185304,
          0.5291094292437061
         ],
         "y": [
          609.2013292936274,
          609.2013292936274,
          609.2013292936274,
          609.2013292936274,
          609.2013292936274,
          609.2013292936274,
          609.2013292936274,
          609.2013292936274,
          609.2013292936274,
          609.2013292936274,
          609.2013292936274
         ]
        },
        {
         "line": {
          "color": "rgba(219, 64, 82, 0.4444444444444445)",
          "dash": "solid",
          "shape": "linear",
          "width": 1.3
         },
         "mode": "lines",
         "name": "Starch",
         "text": "",
         "type": "scatter",
         "x": [
          0.06613867865546326,
          0.0992080179831949,
          0.11904962157983387,
          0.13227735731092652,
          0.1455050930420192,
          0.15873282877311182,
          0.1719605645042045,
          0.18518830023529712,
          0.1984160359663898,
          0.26455471462185304,
          0.5291094292437061
         ],
         "y": [
          135.68210072154207,
          135.68210072154207,
          135.68210072154207,
          135.68210072154207,
          135.68210072154207,
          135.68210072154207,
          135.68210072154207,
          135.68210072154207,
          135.68210072154207,
          135.68210072154207,
          135.68210072154207
         ]
        },
        {
         "line": {
          "color": "rgba(219, 64, 82, 0.4074074074074075)",
          "dash": "solid",
          "shape": "linear",
          "width": 1.3
         },
         "mode": "lines",
         "name": "Stigmasterol",
         "text": "",
         "type": "scatter",
         "x": [
          0.06613867865546326,
          0.0992080179831949,
          0.11904962157983387,
          0.13227735731092652,
          0.1455050930420192,
          0.15873282877311182,
          0.1719605645042045,
          0.18518830023529712,
          0.1984160359663898,
          0.26455471462185304,
          0.5291094292437061
         ],
         "y": [
          0,
          0,
          0,
          0,
          0,
          0,
          0,
          0,
          0,
          0,
          0
         ]
        },
        {
         "line": {
          "color": "rgba(0, 128, 128, 0.4074074074074075)",
          "dash": "solid",
          "shape": "linear",
          "width": 1.3
         },
         "mode": "lines",
         "name": "Sucrose",
         "text": "",
         "type": "scatter",
         "x": [
          0.06613867865546326,
          0.0992080179831949,
          0.11904962157983387,
          0.13227735731092652,
          0.1455050930420192,
          0.15873282877311182,
          0.1719605645042045,
          0.18518830023529712,
          0.1984160359663898,
          0.26455471462185304,
          0.5291094292437061
         ],
         "y": [
          0.6532934320709637,
          0.6532934320709637,
          0.6532934320709637,
          0.6532934320709637,
          0.6532934320709637,
          0.6532934320709637,
          0.6532934320709637,
          0.6532934320709637,
          0.6532934320709637,
          0.6532934320709637,
          0.6532934320709637
         ]
        },
        {
         "line": {
          "color": "rgba(255, 255, 51, 0.4074074074074075)",
          "dash": "solid",
          "shape": "linear",
          "width": 1.3
         },
         "mode": "lines",
         "name": "Sugars, Total",
         "text": "",
         "type": "scatter",
         "x": [
          0.06613867865546326,
          0.0992080179831949,
          0.11904962157983387,
          0.13227735731092652,
          0.1455050930420192,
          0.15873282877311182,
          0.1719605645042045,
          0.18518830023529712,
          0.1984160359663898,
          0.26455471462185304,
          0.5291094292437061
         ],
         "y": [
          1.0800371002743192,
          1.0800371002743192,
          1.0800371002743192,
          1.0800371002743192,
          1.0800371002743192,
          1.0800371002743192,
          1.0800371002743192,
          1.0800371002743192,
          1.0800371002743192,
          1.0800371002743192,
          1.0800371002743192
         ]
        },
        {
         "line": {
          "color": "rgba(128, 128, 0, 0.4074074074074075)",
          "dash": "solid",
          "shape": "linear",
          "width": 1.3
         },
         "mode": "lines",
         "name": "Sugars, added",
         "text": "",
         "type": "scatter",
         "x": [
          0.06613867865546326,
          0.0992080179831949,
          0.11904962157983387,
          0.13227735731092652,
          0.1455050930420192,
          0.15873282877311182,
          0.1719605645042045,
          0.18518830023529712,
          0.1984160359663898,
          0.26455471462185304,
          0.5291094292437061
         ],
         "y": [
          0,
          0,
          0,
          0,
          0,
          0,
          0,
          0,
          0,
          0,
          0
         ]
        },
        {
         "line": {
          "color": "rgba(251, 128, 114, 0.4074074074074075)",
          "dash": "solid",
          "shape": "linear",
          "width": 1.3
         },
         "mode": "lines",
         "name": "Sugars, total including NLEA",
         "text": "",
         "type": "scatter",
         "x": [
          0.06613867865546326,
          0.0992080179831949,
          0.11904962157983387,
          0.13227735731092652,
          0.1455050930420192,
          0.15873282877311182,
          0.1719605645042045,
          0.18518830023529712,
          0.1984160359663898,
          0.26455471462185304,
          0.5291094292437061
         ],
         "y": [
          0,
          0,
          0,
          0,
          0,
          0,
          0,
          0,
          0,
          0,
          0
         ]
        },
        {
         "line": {
          "color": "rgba(128, 177, 211, 0.4074074074074075)",
          "dash": "solid",
          "shape": "linear",
          "width": 1.3
         },
         "mode": "lines",
         "name": "Sulfur, S",
         "text": "",
         "type": "scatter",
         "x": [
          0.06613867865546326,
          0.0992080179831949,
          0.11904962157983387,
          0.13227735731092652,
          0.1455050930420192,
          0.15873282877311182,
          0.1719605645042045,
          0.18518830023529712,
          0.1984160359663898,
          0.26455471462185304,
          0.5291094292437061
         ],
         "y": [
          904.5473381436137,
          904.5473381436137,
          904.5473381436137,
          904.5473381436137,
          904.5473381436137,
          904.5473381436137,
          904.5473381436137,
          904.5473381436137,
          904.5473381436137,
          904.5473381436137,
          904.5473381436137
         ]
        },
        {
         "line": {
          "color": "rgba(255, 153, 51, 0.4074074074074075)",
          "dash": "solid",
          "shape": "linear",
          "width": 1.3
         },
         "mode": "lines",
         "name": "TFA 14:1 t",
         "text": "",
         "type": "scatter",
         "x": [
          0.06613867865546326,
          0.0992080179831949,
          0.11904962157983387,
          0.13227735731092652,
          0.1455050930420192,
          0.15873282877311182,
          0.1719605645042045,
          0.18518830023529712,
          0.1984160359663898,
          0.26455471462185304,
          0.5291094292437061
         ],
         "y": [
          0,
          0,
          0,
          0,
          0,
          0,
          0,
          0,
          0,
          0,
          0
         ]
        },
        {
         "line": {
          "color": "rgba(55, 128, 191, 0.4074074074074075)",
          "dash": "solid",
          "shape": "linear",
          "width": 1.3
         },
         "mode": "lines",
         "name": "TFA 16:1 t",
         "text": "",
         "type": "scatter",
         "x": [
          0.06613867865546326,
          0.0992080179831949,
          0.11904962157983387,
          0.13227735731092652,
          0.1455050930420192,
          0.15873282877311182,
          0.1719605645042045,
          0.18518830023529712,
          0.1984160359663898,
          0.26455471462185304,
          0.5291094292437061
         ],
         "y": [
          0,
          0,
          0,
          0,
          0,
          0,
          0,
          0,
          0,
          0,
          0
         ]
        },
        {
         "line": {
          "color": "rgba(50, 171, 96, 0.4074074074074075)",
          "dash": "solid",
          "shape": "linear",
          "width": 1.3
         },
         "mode": "lines",
         "name": "TFA 18:1 t",
         "text": "",
         "type": "scatter",
         "x": [
          0.06613867865546326,
          0.0992080179831949,
          0.11904962157983387,
          0.13227735731092652,
          0.1455050930420192,
          0.15873282877311182,
          0.1719605645042045,
          0.18518830023529712,
          0.1984160359663898,
          0.26455471462185304,
          0.5291094292437061
         ],
         "y": [
          0,
          0,
          0,
          0,
          0,
          0,
          0,
          0,
          0,
          0,
          0
         ]
        },
        {
         "line": {
          "color": "rgba(128, 0, 128, 0.4074074074074075)",
          "dash": "solid",
          "shape": "linear",
          "width": 1.3
         },
         "mode": "lines",
         "name": "TFA 18:2 t not further defined",
         "text": "",
         "type": "scatter",
         "x": [
          0.06613867865546326,
          0.0992080179831949,
          0.11904962157983387,
          0.13227735731092652,
          0.1455050930420192,
          0.15873282877311182,
          0.1719605645042045,
          0.18518830023529712,
          0.1984160359663898,
          0.26455471462185304,
          0.5291094292437061
         ],
         "y": [
          0,
          0,
          0,
          0,
          0,
          0,
          0,
          0,
          0,
          0,
          0
         ]
        },
        {
         "line": {
          "color": "rgba(128, 0, 128, 0.3703703703703705)",
          "dash": "solid",
          "shape": "linear",
          "width": 1.3
         },
         "mode": "lines",
         "name": "TFA 18:3 t",
         "text": "",
         "type": "scatter",
         "x": [
          0.06613867865546326,
          0.0992080179831949,
          0.11904962157983387,
          0.13227735731092652,
          0.1455050930420192,
          0.15873282877311182,
          0.1719605645042045,
          0.18518830023529712,
          0.1984160359663898,
          0.26455471462185304,
          0.5291094292437061
         ],
         "y": [
          0,
          0,
          0,
          0,
          0,
          0,
          0,
          0,
          0,
          0,
          0
         ]
        },
        {
         "line": {
          "color": "rgba(219, 64, 82, 0.3703703703703705)",
          "dash": "solid",
          "shape": "linear",
          "width": 1.3
         },
         "mode": "lines",
         "name": "TFA 20:1 t",
         "text": "",
         "type": "scatter",
         "x": [
          0.06613867865546326,
          0.0992080179831949,
          0.11904962157983387,
          0.13227735731092652,
          0.1455050930420192,
          0.15873282877311182,
          0.1719605645042045,
          0.18518830023529712,
          0.1984160359663898,
          0.26455471462185304,
          0.5291094292437061
         ],
         "y": [
          0,
          0,
          0,
          0,
          0,
          0,
          0,
          0,
          0,
          0,
          0
         ]
        },
        {
         "line": {
          "color": "rgba(0, 128, 128, 0.3703703703703705)",
          "dash": "solid",
          "shape": "linear",
          "width": 1.3
         },
         "mode": "lines",
         "name": "TFA 22:1 t",
         "text": "",
         "type": "scatter",
         "x": [
          0.06613867865546326,
          0.0992080179831949,
          0.11904962157983387,
          0.13227735731092652,
          0.1455050930420192,
          0.15873282877311182,
          0.1719605645042045,
          0.18518830023529712,
          0.1984160359663898,
          0.26455471462185304,
          0.5291094292437061
         ],
         "y": [
          0,
          0,
          0,
          0,
          0,
          0,
          0,
          0,
          0,
          0,
          0
         ]
        },
        {
         "line": {
          "color": "rgba(255, 255, 51, 0.3703703703703705)",
          "dash": "solid",
          "shape": "linear",
          "width": 1.3
         },
         "mode": "lines",
         "name": "Theobromine",
         "text": "",
         "type": "scatter",
         "x": [
          0.06613867865546326,
          0.0992080179831949,
          0.11904962157983387,
          0.13227735731092652,
          0.1455050930420192,
          0.15873282877311182,
          0.1719605645042045,
          0.18518830023529712,
          0.1984160359663898,
          0.26455471462185304,
          0.5291094292437061
         ],
         "y": [
          0,
          0,
          0,
          0,
          0,
          0,
          0,
          0,
          0,
          0,
          0
         ]
        },
        {
         "line": {
          "color": "rgba(128, 128, 0, 0.3703703703703705)",
          "dash": "solid",
          "shape": "linear",
          "width": 1.3
         },
         "mode": "lines",
         "name": "Thiamin",
         "text": "",
         "type": "scatter",
         "x": [
          0.06613867865546326,
          0.0992080179831949,
          0.11904962157983387,
          0.13227735731092652,
          0.1455050930420192,
          0.15873282877311182,
          0.1719605645042045,
          0.18518830023529712,
          0.1984160359663898,
          0.26455471462185304,
          0.5291094292437061
         ],
         "y": [
          1.2000000000000004,
          1.2000000000000004,
          1.2000000000000004,
          1.2000000000000004,
          1.2000000000000004,
          1.2000000000000004,
          1.2000000000000004,
          1.2000000000000004,
          1.2000000000000004,
          1.2000000000000004,
          1.2000000000000004
         ]
        },
        {
         "line": {
          "color": "rgba(251, 128, 114, 0.3703703703703705)",
          "dash": "solid",
          "shape": "linear",
          "width": 1.3
         },
         "mode": "lines",
         "name": "Threonine",
         "text": "",
         "type": "scatter",
         "x": [
          0.06613867865546326,
          0.0992080179831949,
          0.11904962157983387,
          0.13227735731092652,
          0.1455050930420192,
          0.15873282877311182,
          0.1719605645042045,
          0.18518830023529712,
          0.1984160359663898,
          0.26455471462185304,
          0.5291094292437061
         ],
         "y": [
          2.148191257348605,
          2.148191257348605,
          2.148191257348605,
          2.148191257348605,
          2.148191257348605,
          2.148191257348605,
          2.148191257348605,
          2.148191257348605,
          2.148191257348605,
          2.148191257348605,
          2.148191257348605
         ]
        },
        {
         "line": {
          "color": "rgba(128, 177, 211, 0.3703703703703705)",
          "dash": "solid",
          "shape": "linear",
          "width": 1.3
         },
         "mode": "lines",
         "name": "Tocopherol, beta",
         "text": "",
         "type": "scatter",
         "x": [
          0.06613867865546326,
          0.0992080179831949,
          0.11904962157983387,
          0.13227735731092652,
          0.1455050930420192,
          0.15873282877311182,
          0.1719605645042045,
          0.18518830023529712,
          0.1984160359663898,
          0.26455471462185304,
          0.5291094292437061
         ],
         "y": [
          0,
          0,
          0,
          0,
          0,
          0,
          0,
          0,
          0,
          0,
          0
         ]
        },
        {
         "line": {
          "color": "rgba(255, 153, 51, 0.3703703703703705)",
          "dash": "solid",
          "shape": "linear",
          "width": 1.3
         },
         "mode": "lines",
         "name": "Tocopherol, delta",
         "text": "",
         "type": "scatter",
         "x": [
          0.06613867865546326,
          0.0992080179831949,
          0.11904962157983387,
          0.13227735731092652,
          0.1455050930420192,
          0.15873282877311182,
          0.1719605645042045,
          0.18518830023529712,
          0.1984160359663898,
          0.26455471462185304,
          0.5291094292437061
         ],
         "y": [
          0,
          0,
          0,
          0,
          0,
          0,
          0,
          0,
          0,
          0,
          0
         ]
        },
        {
         "line": {
          "color": "rgba(55, 128, 191, 0.3703703703703705)",
          "dash": "solid",
          "shape": "linear",
          "width": 1.3
         },
         "mode": "lines",
         "name": "Tocopherol, gamma",
         "text": "",
         "type": "scatter",
         "x": [
          0.06613867865546326,
          0.0992080179831949,
          0.11904962157983387,
          0.13227735731092652,
          0.1455050930420192,
          0.15873282877311182,
          0.1719605645042045,
          0.18518830023529712,
          0.1984160359663898,
          0.26455471462185304,
          0.5291094292437061
         ],
         "y": [
          0.18900649254800586,
          0.18900649254800586,
          0.18900649254800586,
          0.18900649254800586,
          0.18900649254800586,
          0.18900649254800586,
          0.18900649254800586,
          0.18900649254800586,
          0.18900649254800586,
          0.18900649254800586,
          0.18900649254800586
         ]
        },
        {
         "line": {
          "color": "rgba(50, 171, 96, 0.3703703703703705)",
          "dash": "solid",
          "shape": "linear",
          "width": 1.3
         },
         "mode": "lines",
         "name": "Tocotrienol, alpha",
         "text": "",
         "type": "scatter",
         "x": [
          0.06613867865546326,
          0.0992080179831949,
          0.11904962157983387,
          0.13227735731092652,
          0.1455050930420192,
          0.15873282877311182,
          0.1719605645042045,
          0.18518830023529712,
          0.1984160359663898,
          0.26455471462185304,
          0.5291094292437061
         ],
         "y": [
          0,
          0,
          0,
          0,
          0,
          0,
          0,
          0,
          0,
          0,
          0
         ]
        },
        {
         "line": {
          "color": "rgba(50, 171, 96, 0.3333333333333333)",
          "dash": "solid",
          "shape": "linear",
          "width": 1.3
         },
         "mode": "lines",
         "name": "Tocotrienol, beta",
         "text": "",
         "type": "scatter",
         "x": [
          0.06613867865546326,
          0.0992080179831949,
          0.11904962157983387,
          0.13227735731092652,
          0.1455050930420192,
          0.15873282877311182,
          0.1719605645042045,
          0.18518830023529712,
          0.1984160359663898,
          0.26455471462185304,
          0.5291094292437061
         ],
         "y": [
          0,
          0,
          0,
          0,
          0,
          0,
          0,
          0,
          0,
          0,
          0
         ]
        },
        {
         "line": {
          "color": "rgba(128, 0, 128, 0.3333333333333333)",
          "dash": "solid",
          "shape": "linear",
          "width": 1.3
         },
         "mode": "lines",
         "name": "Tocotrienol, delta",
         "text": "",
         "type": "scatter",
         "x": [
          0.06613867865546326,
          0.0992080179831949,
          0.11904962157983387,
          0.13227735731092652,
          0.1455050930420192,
          0.15873282877311182,
          0.1719605645042045,
          0.18518830023529712,
          0.1984160359663898,
          0.26455471462185304,
          0.5291094292437061
         ],
         "y": [
          0,
          0,
          0,
          0,
          0,
          0,
          0,
          0,
          0,
          0,
          0
         ]
        },
        {
         "line": {
          "color": "rgba(219, 64, 82, 0.3333333333333333)",
          "dash": "solid",
          "shape": "linear",
          "width": 1.3
         },
         "mode": "lines",
         "name": "Tocotrienol, gamma",
         "text": "",
         "type": "scatter",
         "x": [
          0.06613867865546326,
          0.0992080179831949,
          0.11904962157983387,
          0.13227735731092652,
          0.1455050930420192,
          0.15873282877311182,
          0.1719605645042045,
          0.18518830023529712,
          0.1984160359663898,
          0.26455471462185304,
          0.5291094292437061
         ],
         "y": [
          0,
          0,
          0,
          0,
          0,
          0,
          0,
          0,
          0,
          0,
          0
         ]
        },
        {
         "line": {
          "color": "rgba(0, 128, 128, 0.3333333333333333)",
          "dash": "solid",
          "shape": "linear",
          "width": 1.3
         },
         "mode": "lines",
         "name": "Total Sugars",
         "text": "",
         "type": "scatter",
         "x": [
          0.06613867865546326,
          0.0992080179831949,
          0.11904962157983387,
          0.13227735731092652,
          0.1455050930420192,
          0.15873282877311182,
          0.1719605645042045,
          0.18518830023529712,
          0.1984160359663898,
          0.26455471462185304,
          0.5291094292437061
         ],
         "y": [
          2.3445077323919836,
          2.3445077323919836,
          2.3445077323919836,
          2.3445077323919836,
          2.3445077323919836,
          2.3445077323919836,
          2.3445077323919836,
          2.3445077323919836,
          2.3445077323919836,
          2.3445077323919836,
          2.3445077323919836
         ]
        },
        {
         "line": {
          "color": "rgba(255, 255, 51, 0.3333333333333333)",
          "dash": "solid",
          "shape": "linear",
          "width": 1.3
         },
         "mode": "lines",
         "name": "Total dietary fiber (AOAC 2011.25)",
         "text": "",
         "type": "scatter",
         "x": [
          0.06613867865546326,
          0.0992080179831949,
          0.11904962157983387,
          0.13227735731092652,
          0.1455050930420192,
          0.15873282877311182,
          0.1719605645042045,
          0.18518830023529712,
          0.1984160359663898,
          0.26455471462185304,
          0.5291094292437061
         ],
         "y": [
          0,
          0,
          0,
          0,
          0,
          0,
          0,
          0,
          0,
          0,
          0
         ]
        },
        {
         "line": {
          "color": "rgba(128, 128, 0, 0.3333333333333333)",
          "dash": "solid",
          "shape": "linear",
          "width": 1.3
         },
         "mode": "lines",
         "name": "Total fat (NLEA)",
         "text": "",
         "type": "scatter",
         "x": [
          0.06613867865546326,
          0.0992080179831949,
          0.11904962157983387,
          0.13227735731092652,
          0.1455050930420192,
          0.15873282877311182,
          0.1719605645042045,
          0.18518830023529712,
          0.1984160359663898,
          0.26455471462185304,
          0.5291094292437061
         ],
         "y": [
          0,
          0,
          0,
          0,
          0,
          0,
          0,
          0,
          0,
          0,
          0
         ]
        },
        {
         "line": {
          "color": "rgba(251, 128, 114, 0.3333333333333333)",
          "dash": "solid",
          "shape": "linear",
          "width": 1.3
         },
         "mode": "lines",
         "name": "Total lipid (fat)",
         "text": "",
         "type": "scatter",
         "x": [
          0.06613867865546326,
          0.0992080179831949,
          0.11904962157983387,
          0.13227735731092652,
          0.1455050930420192,
          0.15873282877311182,
          0.1719605645042045,
          0.18518830023529712,
          0.1984160359663898,
          0.26455471462185304,
          0.5291094292437061
         ],
         "y": [
          99.15628554144703,
          99.15628554144703,
          99.15628554144703,
          99.15628554144703,
          99.15628554144703,
          99.15628554144703,
          99.15628554144703,
          99.15628554144703,
          99.15628554144703,
          99.15628554144703,
          99.15628554144703
         ]
        },
        {
         "line": {
          "color": "rgba(128, 177, 211, 0.3333333333333333)",
          "dash": "solid",
          "shape": "linear",
          "width": 1.3
         },
         "mode": "lines",
         "name": "Tryptophan",
         "text": "",
         "type": "scatter",
         "x": [
          0.06613867865546326,
          0.0992080179831949,
          0.11904962157983387,
          0.13227735731092652,
          0.1455050930420192,
          0.15873282877311182,
          0.1719605645042045,
          0.18518830023529712,
          0.1984160359663898,
          0.26455471462185304,
          0.5291094292437061
         ],
         "y": [
          0.5982336008812567,
          0.5982336008812567,
          0.5982336008812567,
          0.5982336008812567,
          0.5982336008812567,
          0.5982336008812567,
          0.5982336008812567,
          0.5982336008812567,
          0.5982336008812567,
          0.5982336008812567,
          0.5982336008812567
         ]
        },
        {
         "line": {
          "color": "rgba(255, 153, 51, 0.3333333333333333)",
          "dash": "solid",
          "shape": "linear",
          "width": 1.3
         },
         "mode": "lines",
         "name": "Tyrosine",
         "text": "",
         "type": "scatter",
         "x": [
          0.06613867865546326,
          0.0992080179831949,
          0.11904962157983387,
          0.13227735731092652,
          0.1455050930420192,
          0.15873282877311182,
          0.1719605645042045,
          0.18518830023529712,
          0.1984160359663898,
          0.26455471462185304,
          0.5291094292437061
         ],
         "y": [
          1.870156523841009,
          1.870156523841009,
          1.870156523841009,
          1.870156523841009,
          1.870156523841009,
          1.870156523841009,
          1.870156523841009,
          1.870156523841009,
          1.870156523841009,
          1.870156523841009,
          1.870156523841009
         ]
        },
        {
         "line": {
          "color": "rgba(55, 128, 191, 0.3333333333333333)",
          "dash": "solid",
          "shape": "linear",
          "width": 1.3
         },
         "mode": "lines",
         "name": "Valine",
         "text": "",
         "type": "scatter",
         "x": [
          0.06613867865546326,
          0.0992080179831949,
          0.11904962157983387,
          0.13227735731092652,
          0.1455050930420192,
          0.15873282877311182,
          0.1719605645042045,
          0.18518830023529712,
          0.1984160359663898,
          0.26455471462185304,
          0.5291094292437061
         ],
         "y": [
          2.7758659270743227,
          2.7758659270743227,
          2.7758659270743227,
          2.7758659270743227,
          2.7758659270743227,
          2.7758659270743227,
          2.7758659270743227,
          2.7758659270743227,
          2.7758659270743227,
          2.7758659270743227,
          2.7758659270743227
         ]
        },
        {
         "line": {
          "color": "rgba(55, 128, 191, 0.29629629629629634)",
          "dash": "solid",
          "shape": "linear",
          "width": 1.3
         },
         "mode": "lines",
         "name": "Vitamin A",
         "text": "",
         "type": "scatter",
         "x": [
          0.06613867865546326,
          0.0992080179831949,
          0.11904962157983387,
          0.13227735731092652,
          0.1455050930420192,
          0.15873282877311182,
          0.1719605645042045,
          0.18518830023529712,
          0.1984160359663898,
          0.26455471462185304,
          0.5291094292437061
         ],
         "y": [
          0,
          0,
          0,
          0,
          0,
          0,
          0,
          0,
          0,
          0,
          0
         ]
        },
        {
         "line": {
          "color": "rgba(50, 171, 96, 0.29629629629629634)",
          "dash": "solid",
          "shape": "linear",
          "width": 1.3
         },
         "mode": "lines",
         "name": "Vitamin A, IU",
         "text": "",
         "type": "scatter",
         "x": [
          0.06613867865546326,
          0.0992080179831949,
          0.11904962157983387,
          0.13227735731092652,
          0.1455050930420192,
          0.15873282877311182,
          0.1719605645042045,
          0.18518830023529712,
          0.1984160359663898,
          0.26455471462185304,
          0.5291094292437061
         ],
         "y": [
          12349.10804757669,
          12349.10804757669,
          12349.10804757669,
          12349.10804757669,
          12349.10804757669,
          12349.10804757669,
          12349.10804757669,
          12349.10804757669,
          12349.10804757669,
          12349.10804757669,
          12349.10804757669
         ]
        },
        {
         "line": {
          "color": "rgba(128, 0, 128, 0.29629629629629634)",
          "dash": "solid",
          "shape": "linear",
          "width": 1.3
         },
         "mode": "lines",
         "name": "Vitamin A, RAE",
         "text": "",
         "type": "scatter",
         "x": [
          0.06613867865546326,
          0.0992080179831949,
          0.11904962157983387,
          0.13227735731092652,
          0.1455050930420192,
          0.15873282877311182,
          0.1719605645042045,
          0.18518830023529712,
          0.1984160359663898,
          0.26455471462185304,
          0.5291094292437061
         ],
         "y": [
          957.9688489735888,
          957.9688489735888,
          957.9688489735888,
          957.9688489735888,
          957.9688489735888,
          957.9688489735888,
          957.9688489735888,
          957.9688489735888,
          957.9688489735888,
          957.9688489735888,
          957.9688489735888
         ]
        },
        {
         "line": {
          "color": "rgba(219, 64, 82, 0.29629629629629634)",
          "dash": "solid",
          "shape": "linear",
          "width": 1.3
         },
         "mode": "lines",
         "name": "Vitamin B-12",
         "text": "",
         "type": "scatter",
         "x": [
          0.06613867865546326,
          0.0992080179831949,
          0.11904962157983387,
          0.13227735731092652,
          0.1455050930420192,
          0.15873282877311182,
          0.1719605645042045,
          0.18518830023529712,
          0.1984160359663898,
          0.26455471462185304,
          0.5291094292437061
         ],
         "y": [
          3.0036785875505423,
          3.0036785875505423,
          3.0036785875505423,
          3.0036785875505423,
          3.0036785875505423,
          3.0036785875505423,
          3.0036785875505423,
          3.0036785875505423,
          3.0036785875505423,
          3.0036785875505423,
          3.0036785875505423
         ]
        },
        {
         "line": {
          "color": "rgba(0, 128, 128, 0.29629629629629634)",
          "dash": "solid",
          "shape": "linear",
          "width": 1.3
         },
         "mode": "lines",
         "name": "Vitamin B-12, added",
         "text": "",
         "type": "scatter",
         "x": [
          0.06613867865546326,
          0.0992080179831949,
          0.11904962157983387,
          0.13227735731092652,
          0.1455050930420192,
          0.15873282877311182,
          0.1719605645042045,
          0.18518830023529712,
          0.1984160359663898,
          0.26455471462185304,
          0.5291094292437061
         ],
         "y": [
          0,
          0,
          0,
          0,
          0,
          0,
          0,
          0,
          0,
          0,
          0
         ]
        },
        {
         "line": {
          "color": "rgba(255, 255, 51, 0.29629629629629634)",
          "dash": "solid",
          "shape": "linear",
          "width": 1.3
         },
         "mode": "lines",
         "name": "Vitamin B-6",
         "text": "",
         "type": "scatter",
         "x": [
          0.06613867865546326,
          0.0992080179831949,
          0.11904962157983387,
          0.13227735731092652,
          0.1455050930420192,
          0.15873282877311182,
          0.1719605645042045,
          0.18518830023529712,
          0.1984160359663898,
          0.26455471462185304,
          0.5291094292437061
         ],
         "y": [
          1.9488651916404167,
          1.9488651916404167,
          1.9488651916404167,
          1.9488651916404167,
          1.9488651916404167,
          1.9488651916404167,
          1.9488651916404167,
          1.9488651916404167,
          1.9488651916404167,
          1.9488651916404167,
          1.9488651916404167
         ]
        },
        {
         "line": {
          "color": "rgba(128, 128, 0, 0.29629629629629634)",
          "dash": "solid",
          "shape": "linear",
          "width": 1.3
         },
         "mode": "lines",
         "name": "Vitamin C, total ascorbic acid",
         "text": "",
         "type": "scatter",
         "x": [
          0.06613867865546326,
          0.0992080179831949,
          0.11904962157983387,
          0.13227735731092652,
          0.1455050930420192,
          0.15873282877311182,
          0.1719605645042045,
          0.18518830023529712,
          0.1984160359663898,
          0.26455471462185304,
          0.5291094292437061
         ],
         "y": [
          213.931738154795,
          213.931738154795,
          213.931738154795,
          213.931738154795,
          213.931738154795,
          213.931738154795,
          213.931738154795,
          213.931738154795,
          213.931738154795,
          213.931738154795,
          213.931738154795
         ]
        },
        {
         "line": {
          "color": "rgba(251, 128, 114, 0.29629629629629634)",
          "dash": "solid",
          "shape": "linear",
          "width": 1.3
         },
         "mode": "lines",
         "name": "Vitamin D (D2 + D3)",
         "text": "",
         "type": "scatter",
         "x": [
          0.06613867865546326,
          0.0992080179831949,
          0.11904962157983387,
          0.13227735731092652,
          0.1455050930420192,
          0.15873282877311182,
          0.1719605645042045,
          0.18518830023529712,
          0.1984160359663898,
          0.26455471462185304,
          0.5291094292437061
         ],
         "y": [
          3.2412803124094944,
          3.2412803124094944,
          3.2412803124094944,
          3.2412803124094944,
          3.2412803124094944,
          3.2412803124094944,
          3.2412803124094944,
          3.2412803124094944,
          3.2412803124094944,
          3.2412803124094944,
          3.2412803124094944
         ]
        },
        {
         "line": {
          "color": "rgba(128, 177, 211, 0.29629629629629634)",
          "dash": "solid",
          "shape": "linear",
          "width": 1.3
         },
         "mode": "lines",
         "name": "Vitamin D (D2 + D3), International Units",
         "text": "",
         "type": "scatter",
         "x": [
          0.06613867865546326,
          0.0992080179831949,
          0.11904962157983387,
          0.13227735731092652,
          0.1455050930420192,
          0.15873282877311182,
          0.1719605645042045,
          0.18518830023529712,
          0.1984160359663898,
          0.26455471462185304,
          0.5291094292437061
         ],
         "y": [
          129.65121249637977,
          129.65121249637977,
          129.65121249637977,
          129.65121249637977,
          129.65121249637977,
          129.65121249637977,
          129.65121249637977,
          129.65121249637977,
          129.65121249637977,
          129.65121249637977,
          129.65121249637977
         ]
        },
        {
         "line": {
          "color": "rgba(255, 153, 51, 0.29629629629629634)",
          "dash": "solid",
          "shape": "linear",
          "width": 1.3
         },
         "mode": "lines",
         "name": "Vitamin D2 (ergocalciferol)",
         "text": "",
         "type": "scatter",
         "x": [
          0.06613867865546326,
          0.0992080179831949,
          0.11904962157983387,
          0.13227735731092652,
          0.1455050930420192,
          0.15873282877311182,
          0.1719605645042045,
          0.18518830023529712,
          0.1984160359663898,
          0.26455471462185304,
          0.5291094292437061
         ],
         "y": [
          3.216817819485649,
          3.216817819485649,
          3.216817819485649,
          3.216817819485649,
          3.216817819485649,
          3.216817819485649,
          3.216817819485649,
          3.216817819485649,
          3.216817819485649,
          3.216817819485649,
          3.216817819485649
         ]
        },
        {
         "line": {
          "color": "rgba(255, 153, 51, 0.25925925925925936)",
          "dash": "solid",
          "shape": "linear",
          "width": 1.3
         },
         "mode": "lines",
         "name": "Vitamin D3 (cholecalciferol)",
         "text": "",
         "type": "scatter",
         "x": [
          0.06613867865546326,
          0.0992080179831949,
          0.11904962157983387,
          0.13227735731092652,
          0.1455050930420192,
          0.15873282877311182,
          0.1719605645042045,
          0.18518830023529712,
          0.1984160359663898,
          0.26455471462185304,
          0.5291094292437061
         ],
         "y": [
          0.020691191931419096,
          0.020691191931419096,
          0.020691191931419096,
          0.020691191931419096,
          0.020691191931419096,
          0.020691191931419096,
          0.020691191931419096,
          0.020691191931419096,
          0.020691191931419096,
          0.020691191931419096,
          0.020691191931419096
         ]
        },
        {
         "line": {
          "color": "rgba(55, 128, 191, 0.25925925925925936)",
          "dash": "solid",
          "shape": "linear",
          "width": 1.3
         },
         "mode": "lines",
         "name": "Vitamin E",
         "text": "",
         "type": "scatter",
         "x": [
          0.06613867865546326,
          0.0992080179831949,
          0.11904962157983387,
          0.13227735731092652,
          0.1455050930420192,
          0.15873282877311182,
          0.1719605645042045,
          0.18518830023529712,
          0.1984160359663898,
          0.26455471462185304,
          0.5291094292437061
         ],
         "y": [
          0,
          0,
          0,
          0,
          0,
          0,
          0,
          0,
          0,
          0,
          0
         ]
        },
        {
         "line": {
          "color": "rgba(50, 171, 96, 0.25925925925925936)",
          "dash": "solid",
          "shape": "linear",
          "width": 1.3
         },
         "mode": "lines",
         "name": "Vitamin E (alpha-tocopherol)",
         "text": "",
         "type": "scatter",
         "x": [
          0.06613867865546326,
          0.0992080179831949,
          0.11904962157983387,
          0.13227735731092652,
          0.1455050930420192,
          0.15873282877311182,
          0.1719605645042045,
          0.18518830023529712,
          0.1984160359663898,
          0.26455471462185304,
          0.5291094292437061
         ],
         "y": [
          15.000000000000002,
          15.000000000000002,
          15.000000000000002,
          15.000000000000002,
          15.000000000000002,
          15.000000000000002,
          15.000000000000002,
          15.000000000000002,
          15.000000000000002,
          15.000000000000002,
          15.000000000000002
         ]
        },
        {
         "line": {
          "color": "rgba(128, 0, 128, 0.25925925925925936)",
          "dash": "solid",
          "shape": "linear",
          "width": 1.3
         },
         "mode": "lines",
         "name": "Vitamin E, added",
         "text": "",
         "type": "scatter",
         "x": [
          0.06613867865546326,
          0.0992080179831949,
          0.11904962157983387,
          0.13227735731092652,
          0.1455050930420192,
          0.15873282877311182,
          0.1719605645042045,
          0.18518830023529712,
          0.1984160359663898,
          0.26455471462185304,
          0.5291094292437061
         ],
         "y": [
          0,
          0,
          0,
          0,
          0,
          0,
          0,
          0,
          0,
          0,
          0
         ]
        },
        {
         "line": {
          "color": "rgba(219, 64, 82, 0.25925925925925936)",
          "dash": "solid",
          "shape": "linear",
          "width": 1.3
         },
         "mode": "lines",
         "name": "Vitamin K (Dihydrophylloquinone)",
         "text": "",
         "type": "scatter",
         "x": [
          0.06613867865546326,
          0.0992080179831949,
          0.11904962157983387,
          0.13227735731092652,
          0.1455050930420192,
          0.15873282877311182,
          0.1719605645042045,
          0.18518830023529712,
          0.1984160359663898,
          0.26455471462185304,
          0.5291094292437061
         ],
         "y": [
          0,
          0,
          0,
          0,
          0,
          0,
          0,
          0,
          0,
          0,
          0
         ]
        },
        {
         "line": {
          "color": "rgba(0, 128, 128, 0.25925925925925936)",
          "dash": "solid",
          "shape": "linear",
          "width": 1.3
         },
         "mode": "lines",
         "name": "Vitamin K (Menaquinone-4)",
         "text": "",
         "type": "scatter",
         "x": [
          0.06613867865546326,
          0.0992080179831949,
          0.11904962157983387,
          0.13227735731092652,
          0.1455050930420192,
          0.15873282877311182,
          0.1719605645042045,
          0.18518830023529712,
          0.1984160359663898,
          0.26455471462185304,
          0.5291094292437061
         ],
         "y": [
          0,
          0,
          0,
          0,
          0,
          0,
          0,
          0,
          0,
          0,
          0
         ]
        },
        {
         "line": {
          "color": "rgba(255, 255, 51, 0.25925925925925936)",
          "dash": "solid",
          "shape": "linear",
          "width": 1.3
         },
         "mode": "lines",
         "name": "Vitamin K (phylloquinone)",
         "text": "",
         "type": "scatter",
         "x": [
          0.06613867865546326,
          0.0992080179831949,
          0.11904962157983387,
          0.13227735731092652,
          0.1455050930420192,
          0.15873282877311182,
          0.1719605645042045,
          0.18518830023529712,
          0.1984160359663898,
          0.26455471462185304,
          0.5291094292437061
         ],
         "y": [
          1613.2024775910593,
          1613.2024775910593,
          1613.2024775910593,
          1613.2024775910593,
          1613.2024775910593,
          1613.2024775910593,
          1613.2024775910593,
          1613.2024775910593,
          1613.2024775910593,
          1613.2024775910593,
          1613.2024775910593
         ]
        },
        {
         "line": {
          "color": "rgba(128, 128, 0, 0.25925925925925936)",
          "dash": "solid",
          "shape": "linear",
          "width": 1.3
         },
         "mode": "lines",
         "name": "Vitamins and Other Components",
         "text": "",
         "type": "scatter",
         "x": [
          0.06613867865546326,
          0.0992080179831949,
          0.11904962157983387,
          0.13227735731092652,
          0.1455050930420192,
          0.15873282877311182,
          0.1719605645042045,
          0.18518830023529712,
          0.1984160359663898,
          0.26455471462185304,
          0.5291094292437061
         ],
         "y": [
          0,
          0,
          0,
          0,
          0,
          0,
          0,
          0,
          0,
          0,
          0
         ]
        },
        {
         "line": {
          "color": "rgba(251, 128, 114, 0.25925925925925936)",
          "dash": "solid",
          "shape": "linear",
          "width": 1.3
         },
         "mode": "lines",
         "name": "Water",
         "text": "",
         "type": "scatter",
         "x": [
          0.06613867865546326,
          0.0992080179831949,
          0.11904962157983387,
          0.13227735731092652,
          0.1455050930420192,
          0.15873282877311182,
          0.1719605645042045,
          0.18518830023529712,
          0.1984160359663898,
          0.26455471462185304,
          0.5291094292437061
         ],
         "y": [
          632.7858030002457,
          632.7858030002457,
          632.7858030002457,
          632.7858030002457,
          632.7858030002457,
          632.7858030002457,
          632.7858030002457,
          632.7858030002457,
          632.7858030002457,
          632.7858030002457,
          632.7858030002457
         ]
        },
        {
         "line": {
          "color": "rgba(128, 177, 211, 0.25925925925925936)",
          "dash": "solid",
          "shape": "linear",
          "width": 1.3
         },
         "mode": "lines",
         "name": "Zeaxanthin",
         "text": "",
         "type": "scatter",
         "x": [
          0.06613867865546326,
          0.0992080179831949,
          0.11904962157983387,
          0.13227735731092652,
          0.1455050930420192,
          0.15873282877311182,
          0.1719605645042045,
          0.18518830023529712,
          0.1984160359663898,
          0.26455471462185304,
          0.5291094292437061
         ],
         "y": [
          0,
          0,
          0,
          0,
          0,
          0,
          0,
          0,
          0,
          0,
          0
         ]
        },
        {
         "line": {
          "color": "rgba(128, 177, 211, 0.22222222222222238)",
          "dash": "solid",
          "shape": "linear",
          "width": 1.3
         },
         "mode": "lines",
         "name": "Zinc, Zn",
         "text": "",
         "type": "scatter",
         "x": [
          0.06613867865546326,
          0.0992080179831949,
          0.11904962157983387,
          0.13227735731092652,
          0.1455050930420192,
          0.15873282877311182,
          0.1719605645042045,
          0.18518830023529712,
          0.1984160359663898,
          0.26455471462185304,
          0.5291094292437061
         ],
         "y": [
          21.372735367682907,
          21.372735367682907,
          21.372735367682907,
          21.372735367682907,
          21.372735367682907,
          21.372735367682907,
          21.372735367682907,
          21.372735367682907,
          21.372735367682907,
          21.372735367682907,
          21.372735367682907
         ]
        },
        {
         "line": {
          "color": "rgba(255, 153, 51, 0.22222222222222238)",
          "dash": "solid",
          "shape": "linear",
          "width": 1.3
         },
         "mode": "lines",
         "name": "cis-Lutein/Zeaxanthin",
         "text": "",
         "type": "scatter",
         "x": [
          0.06613867865546326,
          0.0992080179831949,
          0.11904962157983387,
          0.13227735731092652,
          0.1455050930420192,
          0.15873282877311182,
          0.1719605645042045,
          0.18518830023529712,
          0.1984160359663898,
          0.26455471462185304,
          0.5291094292437061
         ],
         "y": [
          0,
          0,
          0,
          0,
          0,
          0,
          0,
          0,
          0,
          0,
          0
         ]
        },
        {
         "line": {
          "color": "rgba(55, 128, 191, 0.22222222222222238)",
          "dash": "solid",
          "shape": "linear",
          "width": 1.3
         },
         "mode": "lines",
         "name": "cis-Lycopene",
         "text": "",
         "type": "scatter",
         "x": [
          0.06613867865546326,
          0.0992080179831949,
          0.11904962157983387,
          0.13227735731092652,
          0.1455050930420192,
          0.15873282877311182,
          0.1719605645042045,
          0.18518830023529712,
          0.1984160359663898,
          0.26455471462185304,
          0.5291094292437061
         ],
         "y": [
          0,
          0,
          0,
          0,
          0,
          0,
          0,
          0,
          0,
          0,
          0
         ]
        },
        {
         "line": {
          "color": "rgba(50, 171, 96, 0.22222222222222238)",
          "dash": "solid",
          "shape": "linear",
          "width": 1.3
         },
         "mode": "lines",
         "name": "cis-beta-Carotene",
         "text": "",
         "type": "scatter",
         "x": [
          0.06613867865546326,
          0.0992080179831949,
          0.11904962157983387,
          0.13227735731092652,
          0.1455050930420192,
          0.15873282877311182,
          0.1719605645042045,
          0.18518830023529712,
          0.1984160359663898,
          0.26455471462185304,
          0.5291094292437061
         ],
         "y": [
          0,
          0,
          0,
          0,
          0,
          0,
          0,
          0,
          0,
          0,
          0
         ]
        },
        {
         "line": {
          "color": "rgba(128, 0, 128, 0.22222222222222238)",
          "dash": "solid",
          "shape": "linear",
          "width": 1.3
         },
         "mode": "lines",
         "name": "trans-Lycopene",
         "text": "",
         "type": "scatter",
         "x": [
          0.06613867865546326,
          0.0992080179831949,
          0.11904962157983387,
          0.13227735731092652,
          0.1455050930420192,
          0.15873282877311182,
          0.1719605645042045,
          0.18518830023529712,
          0.1984160359663898,
          0.26455471462185304,
          0.5291094292437061
         ],
         "y": [
          0,
          0,
          0,
          0,
          0,
          0,
          0,
          0,
          0,
          0,
          0
         ]
        },
        {
         "line": {
          "color": "rgba(219, 64, 82, 0.22222222222222238)",
          "dash": "solid",
          "shape": "linear",
          "width": 1.3
         },
         "mode": "lines",
         "name": "trans-beta-Carotene",
         "text": "",
         "type": "scatter",
         "x": [
          0.06613867865546326,
          0.0992080179831949,
          0.11904962157983387,
          0.13227735731092652,
          0.1455050930420192,
          0.15873282877311182,
          0.1719605645042045,
          0.18518830023529712,
          0.1984160359663898,
          0.26455471462185304,
          0.5291094292437061
         ],
         "y": [
          0,
          0,
          0,
          0,
          0,
          0,
          0,
          0,
          0,
          0,
          0
         ]
        }
       ],
       "layout": {
        "autosize": true,
        "legend": {
         "bgcolor": "#F5F6F9",
         "font": {
          "color": "#4D5663"
         }
        },
        "paper_bgcolor": "#F5F6F9",
        "plot_bgcolor": "#F5F6F9",
        "template": {
         "data": {
          "bar": [
           {
            "error_x": {
             "color": "#2a3f5f"
            },
            "error_y": {
             "color": "#2a3f5f"
            },
            "marker": {
             "line": {
              "color": "#E5ECF6",
              "width": 0.5
             },
             "pattern": {
              "fillmode": "overlay",
              "size": 10,
              "solidity": 0.2
             }
            },
            "type": "bar"
           }
          ],
          "barpolar": [
           {
            "marker": {
             "line": {
              "color": "#E5ECF6",
              "width": 0.5
             },
             "pattern": {
              "fillmode": "overlay",
              "size": 10,
              "solidity": 0.2
             }
            },
            "type": "barpolar"
           }
          ],
          "carpet": [
           {
            "aaxis": {
             "endlinecolor": "#2a3f5f",
             "gridcolor": "white",
             "linecolor": "white",
             "minorgridcolor": "white",
             "startlinecolor": "#2a3f5f"
            },
            "baxis": {
             "endlinecolor": "#2a3f5f",
             "gridcolor": "white",
             "linecolor": "white",
             "minorgridcolor": "white",
             "startlinecolor": "#2a3f5f"
            },
            "type": "carpet"
           }
          ],
          "choropleth": [
           {
            "colorbar": {
             "outlinewidth": 0,
             "ticks": ""
            },
            "type": "choropleth"
           }
          ],
          "contour": [
           {
            "colorbar": {
             "outlinewidth": 0,
             "ticks": ""
            },
            "colorscale": [
             [
              0,
              "#0d0887"
             ],
             [
              0.1111111111111111,
              "#46039f"
             ],
             [
              0.2222222222222222,
              "#7201a8"
             ],
             [
              0.3333333333333333,
              "#9c179e"
             ],
             [
              0.4444444444444444,
              "#bd3786"
             ],
             [
              0.5555555555555556,
              "#d8576b"
             ],
             [
              0.6666666666666666,
              "#ed7953"
             ],
             [
              0.7777777777777778,
              "#fb9f3a"
             ],
             [
              0.8888888888888888,
              "#fdca26"
             ],
             [
              1,
              "#f0f921"
             ]
            ],
            "type": "contour"
           }
          ],
          "contourcarpet": [
           {
            "colorbar": {
             "outlinewidth": 0,
             "ticks": ""
            },
            "type": "contourcarpet"
           }
          ],
          "heatmap": [
           {
            "colorbar": {
             "outlinewidth": 0,
             "ticks": ""
            },
            "colorscale": [
             [
              0,
              "#0d0887"
             ],
             [
              0.1111111111111111,
              "#46039f"
             ],
             [
              0.2222222222222222,
              "#7201a8"
             ],
             [
              0.3333333333333333,
              "#9c179e"
             ],
             [
              0.4444444444444444,
              "#bd3786"
             ],
             [
              0.5555555555555556,
              "#d8576b"
             ],
             [
              0.6666666666666666,
              "#ed7953"
             ],
             [
              0.7777777777777778,
              "#fb9f3a"
             ],
             [
              0.8888888888888888,
              "#fdca26"
             ],
             [
              1,
              "#f0f921"
             ]
            ],
            "type": "heatmap"
           }
          ],
          "heatmapgl": [
           {
            "colorbar": {
             "outlinewidth": 0,
             "ticks": ""
            },
            "colorscale": [
             [
              0,
              "#0d0887"
             ],
             [
              0.1111111111111111,
              "#46039f"
             ],
             [
              0.2222222222222222,
              "#7201a8"
             ],
             [
              0.3333333333333333,
              "#9c179e"
             ],
             [
              0.4444444444444444,
              "#bd3786"
             ],
             [
              0.5555555555555556,
              "#d8576b"
             ],
             [
              0.6666666666666666,
              "#ed7953"
             ],
             [
              0.7777777777777778,
              "#fb9f3a"
             ],
             [
              0.8888888888888888,
              "#fdca26"
             ],
             [
              1,
              "#f0f921"
             ]
            ],
            "type": "heatmapgl"
           }
          ],
          "histogram": [
           {
            "marker": {
             "pattern": {
              "fillmode": "overlay",
              "size": 10,
              "solidity": 0.2
             }
            },
            "type": "histogram"
           }
          ],
          "histogram2d": [
           {
            "colorbar": {
             "outlinewidth": 0,
             "ticks": ""
            },
            "colorscale": [
             [
              0,
              "#0d0887"
             ],
             [
              0.1111111111111111,
              "#46039f"
             ],
             [
              0.2222222222222222,
              "#7201a8"
             ],
             [
              0.3333333333333333,
              "#9c179e"
             ],
             [
              0.4444444444444444,
              "#bd3786"
             ],
             [
              0.5555555555555556,
              "#d8576b"
             ],
             [
              0.6666666666666666,
              "#ed7953"
             ],
             [
              0.7777777777777778,
              "#fb9f3a"
             ],
             [
              0.8888888888888888,
              "#fdca26"
             ],
             [
              1,
              "#f0f921"
             ]
            ],
            "type": "histogram2d"
           }
          ],
          "histogram2dcontour": [
           {
            "colorbar": {
             "outlinewidth": 0,
             "ticks": ""
            },
            "colorscale": [
             [
              0,
              "#0d0887"
             ],
             [
              0.1111111111111111,
              "#46039f"
             ],
             [
              0.2222222222222222,
              "#7201a8"
             ],
             [
              0.3333333333333333,
              "#9c179e"
             ],
             [
              0.4444444444444444,
              "#bd3786"
             ],
             [
              0.5555555555555556,
              "#d8576b"
             ],
             [
              0.6666666666666666,
              "#ed7953"
             ],
             [
              0.7777777777777778,
              "#fb9f3a"
             ],
             [
              0.8888888888888888,
              "#fdca26"
             ],
             [
              1,
              "#f0f921"
             ]
            ],
            "type": "histogram2dcontour"
           }
          ],
          "mesh3d": [
           {
            "colorbar": {
             "outlinewidth": 0,
             "ticks": ""
            },
            "type": "mesh3d"
           }
          ],
          "parcoords": [
           {
            "line": {
             "colorbar": {
              "outlinewidth": 0,
              "ticks": ""
             }
            },
            "type": "parcoords"
           }
          ],
          "pie": [
           {
            "automargin": true,
            "type": "pie"
           }
          ],
          "scatter": [
           {
            "fillpattern": {
             "fillmode": "overlay",
             "size": 10,
             "solidity": 0.2
            },
            "type": "scatter"
           }
          ],
          "scatter3d": [
           {
            "line": {
             "colorbar": {
              "outlinewidth": 0,
              "ticks": ""
             }
            },
            "marker": {
             "colorbar": {
              "outlinewidth": 0,
              "ticks": ""
             }
            },
            "type": "scatter3d"
           }
          ],
          "scattercarpet": [
           {
            "marker": {
             "colorbar": {
              "outlinewidth": 0,
              "ticks": ""
             }
            },
            "type": "scattercarpet"
           }
          ],
          "scattergeo": [
           {
            "marker": {
             "colorbar": {
              "outlinewidth": 0,
              "ticks": ""
             }
            },
            "type": "scattergeo"
           }
          ],
          "scattergl": [
           {
            "marker": {
             "colorbar": {
              "outlinewidth": 0,
              "ticks": ""
             }
            },
            "type": "scattergl"
           }
          ],
          "scattermapbox": [
           {
            "marker": {
             "colorbar": {
              "outlinewidth": 0,
              "ticks": ""
             }
            },
            "type": "scattermapbox"
           }
          ],
          "scatterpolar": [
           {
            "marker": {
             "colorbar": {
              "outlinewidth": 0,
              "ticks": ""
             }
            },
            "type": "scatterpolar"
           }
          ],
          "scatterpolargl": [
           {
            "marker": {
             "colorbar": {
              "outlinewidth": 0,
              "ticks": ""
             }
            },
            "type": "scatterpolargl"
           }
          ],
          "scatterternary": [
           {
            "marker": {
             "colorbar": {
              "outlinewidth": 0,
              "ticks": ""
             }
            },
            "type": "scatterternary"
           }
          ],
          "surface": [
           {
            "colorbar": {
             "outlinewidth": 0,
             "ticks": ""
            },
            "colorscale": [
             [
              0,
              "#0d0887"
             ],
             [
              0.1111111111111111,
              "#46039f"
             ],
             [
              0.2222222222222222,
              "#7201a8"
             ],
             [
              0.3333333333333333,
              "#9c179e"
             ],
             [
              0.4444444444444444,
              "#bd3786"
             ],
             [
              0.5555555555555556,
              "#d8576b"
             ],
             [
              0.6666666666666666,
              "#ed7953"
             ],
             [
              0.7777777777777778,
              "#fb9f3a"
             ],
             [
              0.8888888888888888,
              "#fdca26"
             ],
             [
              1,
              "#f0f921"
             ]
            ],
            "type": "surface"
           }
          ],
          "table": [
           {
            "cells": {
             "fill": {
              "color": "#EBF0F8"
             },
             "line": {
              "color": "white"
             }
            },
            "header": {
             "fill": {
              "color": "#C8D4E3"
             },
             "line": {
              "color": "white"
             }
            },
            "type": "table"
           }
          ]
         },
         "layout": {
          "annotationdefaults": {
           "arrowcolor": "#2a3f5f",
           "arrowhead": 0,
           "arrowwidth": 1
          },
          "autotypenumbers": "strict",
          "coloraxis": {
           "colorbar": {
            "outlinewidth": 0,
            "ticks": ""
           }
          },
          "colorscale": {
           "diverging": [
            [
             0,
             "#8e0152"
            ],
            [
             0.1,
             "#c51b7d"
            ],
            [
             0.2,
             "#de77ae"
            ],
            [
             0.3,
             "#f1b6da"
            ],
            [
             0.4,
             "#fde0ef"
            ],
            [
             0.5,
             "#f7f7f7"
            ],
            [
             0.6,
             "#e6f5d0"
            ],
            [
             0.7,
             "#b8e186"
            ],
            [
             0.8,
             "#7fbc41"
            ],
            [
             0.9,
             "#4d9221"
            ],
            [
             1,
             "#276419"
            ]
           ],
           "sequential": [
            [
             0,
             "#0d0887"
            ],
            [
             0.1111111111111111,
             "#46039f"
            ],
            [
             0.2222222222222222,
             "#7201a8"
            ],
            [
             0.3333333333333333,
             "#9c179e"
            ],
            [
             0.4444444444444444,
             "#bd3786"
            ],
            [
             0.5555555555555556,
             "#d8576b"
            ],
            [
             0.6666666666666666,
             "#ed7953"
            ],
            [
             0.7777777777777778,
             "#fb9f3a"
            ],
            [
             0.8888888888888888,
             "#fdca26"
            ],
            [
             1,
             "#f0f921"
            ]
           ],
           "sequentialminus": [
            [
             0,
             "#0d0887"
            ],
            [
             0.1111111111111111,
             "#46039f"
            ],
            [
             0.2222222222222222,
             "#7201a8"
            ],
            [
             0.3333333333333333,
             "#9c179e"
            ],
            [
             0.4444444444444444,
             "#bd3786"
            ],
            [
             0.5555555555555556,
             "#d8576b"
            ],
            [
             0.6666666666666666,
             "#ed7953"
            ],
            [
             0.7777777777777778,
             "#fb9f3a"
            ],
            [
             0.8888888888888888,
             "#fdca26"
            ],
            [
             1,
             "#f0f921"
            ]
           ]
          },
          "colorway": [
           "#636efa",
           "#EF553B",
           "#00cc96",
           "#ab63fa",
           "#FFA15A",
           "#19d3f3",
           "#FF6692",
           "#B6E880",
           "#FF97FF",
           "#FECB52"
          ],
          "font": {
           "color": "#2a3f5f"
          },
          "geo": {
           "bgcolor": "white",
           "lakecolor": "white",
           "landcolor": "#E5ECF6",
           "showlakes": true,
           "showland": true,
           "subunitcolor": "white"
          },
          "hoverlabel": {
           "align": "left"
          },
          "hovermode": "closest",
          "mapbox": {
           "style": "light"
          },
          "paper_bgcolor": "white",
          "plot_bgcolor": "#E5ECF6",
          "polar": {
           "angularaxis": {
            "gridcolor": "white",
            "linecolor": "white",
            "ticks": ""
           },
           "bgcolor": "#E5ECF6",
           "radialaxis": {
            "gridcolor": "white",
            "linecolor": "white",
            "ticks": ""
           }
          },
          "scene": {
           "xaxis": {
            "backgroundcolor": "#E5ECF6",
            "gridcolor": "white",
            "gridwidth": 2,
            "linecolor": "white",
            "showbackground": true,
            "ticks": "",
            "zerolinecolor": "white"
           },
           "yaxis": {
            "backgroundcolor": "#E5ECF6",
            "gridcolor": "white",
            "gridwidth": 2,
            "linecolor": "white",
            "showbackground": true,
            "ticks": "",
            "zerolinecolor": "white"
           },
           "zaxis": {
            "backgroundcolor": "#E5ECF6",
            "gridcolor": "white",
            "gridwidth": 2,
            "linecolor": "white",
            "showbackground": true,
            "ticks": "",
            "zerolinecolor": "white"
           }
          },
          "shapedefaults": {
           "line": {
            "color": "#2a3f5f"
           }
          },
          "ternary": {
           "aaxis": {
            "gridcolor": "white",
            "linecolor": "white",
            "ticks": ""
           },
           "baxis": {
            "gridcolor": "white",
            "linecolor": "white",
            "ticks": ""
           },
           "bgcolor": "#E5ECF6",
           "caxis": {
            "gridcolor": "white",
            "linecolor": "white",
            "ticks": ""
           }
          },
          "title": {
           "x": 0.05
          },
          "xaxis": {
           "automargin": true,
           "gridcolor": "white",
           "linecolor": "white",
           "ticks": "",
           "title": {
            "standoff": 15
           },
           "zerolinecolor": "white",
           "zerolinewidth": 2
          },
          "yaxis": {
           "automargin": true,
           "gridcolor": "white",
           "linecolor": "white",
           "ticks": "",
           "title": {
            "standoff": 15
           },
           "zerolinecolor": "white",
           "zerolinewidth": 2
          }
         }
        },
        "title": {
         "font": {
          "color": "#4D5663"
         }
        },
        "xaxis": {
         "autorange": true,
         "gridcolor": "#E1E5ED",
         "range": [
          0.06613867865546326,
          0.5291094292437061
         ],
         "showgrid": true,
         "tickfont": {
          "color": "#4D5663"
         },
         "title": {
          "font": {
           "color": "#4D5663"
          },
          "text": "squash Price"
         },
         "type": "linear",
         "zerolinecolor": "#E1E5ED"
        },
        "yaxis": {
         "autorange": true,
         "gridcolor": "#E1E5ED",
         "range": [
          -1057.3491359563618,
          20089.633583170875
         ],
         "showgrid": true,
         "tickfont": {
          "color": "#4D5663"
         },
         "title": {
          "font": {
           "color": "#4D5663"
          },
          "text": "Nutrients"
         },
         "type": "linear",
         "zerolinecolor": "#E1E5ED"
        }
       }
      },
      "image/png": "[encoded data removed]",
      "text/html": [
       "<div>                            <div id=\"0f126e2d-ebb4-4910-8d5e-bbe4cdee5763\" class=\"plotly-graph-div\" style=\"height:525px; width:100%;\"></div>            <script type=\"text/javascript\">                require([\"plotly\"], function(Plotly) {                    window.PLOTLYENV=window.PLOTLYENV || {};\n",
       "                    window.PLOTLYENV.BASE_URL='https://plot.ly';                                    if (document.getElementById(\"0f126e2d-ebb4-4910-8d5e-bbe4cdee5763\")) {                    Plotly.newPlot(                        \"0f126e2d-ebb4-4910-8d5e-bbe4cdee5763\",                        [{\"line\":{\"color\":\"rgba(255, 153, 51, 1.0)\",\"dash\":\"solid\",\"shape\":\"linear\",\"width\":1.3},\"mode\":\"lines\",\"name\":\"25-hydroxycholecalciferol\",\"text\":\"\",\"x\":[0.06613867865546326,0.0992080179831949,0.11904962157983387,0.13227735731092652,0.1455050930420192,0.15873282877311182,0.1719605645042045,0.18518830023529712,0.1984160359663898,0.26455471462185304,0.5291094292437061],\"y\":[0.0,0.0,0.0,0.0,0.0,0.0,0.0,0.0,0.0,0.0,0.0],\"type\":\"scatter\"},{\"line\":{\"color\":\"rgba(55, 128, 191, 1.0)\",\"dash\":\"solid\",\"shape\":\"linear\",\"width\":1.3},\"mode\":\"lines\",\"name\":\"Alanine\",\"text\":\"\",\"x\":[0.06613867865546326,0.0992080179831949,0.11904962157983387,0.13227735731092652,0.1455050930420192,0.15873282877311182,0.1719605645042045,0.18518830023529712,0.1984160359663898,0.26455471462185304,0.5291094292437061],\"y\":[2.811329877623611,2.811329877623611,2.811329877623611,2.811329877623611,2.811329877623611,2.811329877623611,2.811329877623611,2.811329877623611,2.811329877623611,2.811329877623611,2.811329877623611],\"type\":\"scatter\"},{\"line\":{\"color\":\"rgba(50, 171, 96, 1.0)\",\"dash\":\"solid\",\"shape\":\"linear\",\"width\":1.3},\"mode\":\"lines\",\"name\":\"Alcohol, ethyl\",\"text\":\"\",\"x\":[0.06613867865546326,0.0992080179831949,0.11904962157983387,0.13227735731092652,0.1455050930420192,0.15873282877311182,0.1719605645042045,0.18518830023529712,0.1984160359663898,0.26455471462185304,0.5291094292437061],\"y\":[0.0,0.0,0.0,0.0,0.0,0.0,0.0,0.0,0.0,0.0,0.0],\"type\":\"scatter\"},{\"line\":{\"color\":\"rgba(128, 0, 128, 1.0)\",\"dash\":\"solid\",\"shape\":\"linear\",\"width\":1.3},\"mode\":\"lines\",\"name\":\"Amino acids\",\"text\":\"\",\"x\":[0.06613867865546326,0.0992080179831949,0.11904962157983387,0.13227735731092652,0.1455050930420192,0.15873282877311182,0.1719605645042045,0.18518830023529712,0.1984160359663898,0.26455471462185304,0.5291094292437061],\"y\":[0.0,0.0,0.0,0.0,0.0,0.0,0.0,0.0,0.0,0.0,0.0],\"type\":\"scatter\"},{\"line\":{\"color\":\"rgba(219, 64, 82, 1.0)\",\"dash\":\"solid\",\"shape\":\"linear\",\"width\":1.3},\"mode\":\"lines\",\"name\":\"Arginine\",\"text\":\"\",\"x\":[0.06613867865546326,0.0992080179831949,0.11904962157983387,0.13227735731092652,0.1455050930420192,0.15873282877311182,0.1719605645042045,0.18518830023529712,0.1984160359663898,0.26455471462185304,0.5291094292437061],\"y\":[5.0168648780350305,5.0168648780350305,5.0168648780350305,5.0168648780350305,5.0168648780350305,5.0168648780350305,5.0168648780350305,5.0168648780350305,5.0168648780350305,5.0168648780350305,5.0168648780350305],\"type\":\"scatter\"},{\"line\":{\"color\":\"rgba(0, 128, 128, 1.0)\",\"dash\":\"solid\",\"shape\":\"linear\",\"width\":1.3},\"mode\":\"lines\",\"name\":\"Ash\",\"text\":\"\",\"x\":[0.06613867865546326,0.0992080179831949,0.11904962157983387,0.13227735731092652,0.1455050930420192,0.15873282877311182,0.1719605645042045,0.18518830023529712,0.1984160359663898,0.26455471462185304,0.5291094292437061],\"y\":[12.321141993844513,12.321141993844513,12.321141993844513,12.321141993844513,12.321141993844513,12.321141993844513,12.321141993844513,12.321141993844513,12.321141993844513,12.321141993844513,12.321141993844513],\"type\":\"scatter\"},{\"line\":{\"color\":\"rgba(255, 255, 51, 1.0)\",\"dash\":\"solid\",\"shape\":\"linear\",\"width\":1.3},\"mode\":\"lines\",\"name\":\"Aspartic acid\",\"text\":\"\",\"x\":[0.06613867865546326,0.0992080179831949,0.11904962157983387,0.13227735731092652,0.1455050930420192,0.15873282877311182,0.1719605645042045,0.18518830023529712,0.1984160359663898,0.26455471462185304,0.5291094292437061],\"y\":[5.567377230705877,5.567377230705877,5.567377230705877,5.567377230705877,5.567377230705877,5.567377230705877,5.567377230705877,5.567377230705877,5.567377230705877,5.567377230705877,5.567377230705877],\"type\":\"scatter\"},{\"line\":{\"color\":\"rgba(128, 128, 0, 1.0)\",\"dash\":\"solid\",\"shape\":\"linear\",\"width\":1.3},\"mode\":\"lines\",\"name\":\"Beta-sitostanol\",\"text\":\"\",\"x\":[0.06613867865546326,0.0992080179831949,0.11904962157983387,0.13227735731092652,0.1455050930420192,0.15873282877311182,0.1719605645042045,0.18518830023529712,0.1984160359663898,0.26455471462185304,0.5291094292437061],\"y\":[0.0,0.0,0.0,0.0,0.0,0.0,0.0,0.0,0.0,0.0,0.0],\"type\":\"scatter\"},{\"line\":{\"color\":\"rgba(251, 128, 114, 1.0)\",\"dash\":\"solid\",\"shape\":\"linear\",\"width\":1.3},\"mode\":\"lines\",\"name\":\"Beta-sitosterol\",\"text\":\"\",\"x\":[0.06613867865546326,0.0992080179831949,0.11904962157983387,0.13227735731092652,0.1455050930420192,0.15873282877311182,0.1719605645042045,0.18518830023529712,0.1984160359663898,0.26455471462185304,0.5291094292437061],\"y\":[0.0,0.0,0.0,0.0,0.0,0.0,0.0,0.0,0.0,0.0,0.0],\"type\":\"scatter\"},{\"line\":{\"color\":\"rgba(128, 177, 211, 1.0)\",\"dash\":\"solid\",\"shape\":\"linear\",\"width\":1.3},\"mode\":\"lines\",\"name\":\"Betaine\",\"text\":\"\",\"x\":[0.06613867865546326,0.0992080179831949,0.11904962157983387,0.13227735731092652,0.1455050930420192,0.15873282877311182,0.1719605645042045,0.18518830023529712,0.1984160359663898,0.26455471462185304,0.5291094292437061],\"y\":[0.9790417892730017,0.9790417892730017,0.9790417892730017,0.9790417892730017,0.9790417892730017,0.9790417892730017,0.9790417892730017,0.9790417892730017,0.9790417892730017,0.9790417892730017,0.9790417892730017],\"type\":\"scatter\"},{\"line\":{\"color\":\"rgba(128, 177, 211, 0.962962962962963)\",\"dash\":\"solid\",\"shape\":\"linear\",\"width\":1.3},\"mode\":\"lines\",\"name\":\"Biotin\",\"text\":\"\",\"x\":[0.06613867865546326,0.0992080179831949,0.11904962157983387,0.13227735731092652,0.1455050930420192,0.15873282877311182,0.1719605645042045,0.18518830023529712,0.1984160359663898,0.26455471462185304,0.5291094292437061],\"y\":[2.9049210347066223,2.9049210347066223,2.9049210347066223,2.9049210347066223,2.9049210347066223,2.9049210347066223,2.9049210347066223,2.9049210347066223,2.9049210347066223,2.9049210347066223,2.9049210347066223],\"type\":\"scatter\"},{\"line\":{\"color\":\"rgba(255, 153, 51, 0.962962962962963)\",\"dash\":\"solid\",\"shape\":\"linear\",\"width\":1.3},\"mode\":\"lines\",\"name\":\"Boron, B\",\"text\":\"\",\"x\":[0.06613867865546326,0.0992080179831949,0.11904962157983387,0.13227735731092652,0.1455050930420192,0.15873282877311182,0.1719605645042045,0.18518830023529712,0.1984160359663898,0.26455471462185304,0.5291094292437061],\"y\":[4633.95152737507,4633.95152737507,4633.95152737507,4633.95152737507,4633.95152737507,4633.95152737507,4633.95152737507,4633.95152737507,4633.95152737507,4633.95152737507,4633.95152737507],\"type\":\"scatter\"},{\"line\":{\"color\":\"rgba(55, 128, 191, 0.962962962962963)\",\"dash\":\"solid\",\"shape\":\"linear\",\"width\":1.3},\"mode\":\"lines\",\"name\":\"Brassicasterol\",\"text\":\"\",\"x\":[0.06613867865546326,0.0992080179831949,0.11904962157983387,0.13227735731092652,0.1455050930420192,0.15873282877311182,0.1719605645042045,0.18518830023529712,0.1984160359663898,0.26455471462185304,0.5291094292437061],\"y\":[0.0,0.0,0.0,0.0,0.0,0.0,0.0,0.0,0.0,0.0,0.0],\"type\":\"scatter\"},{\"line\":{\"color\":\"rgba(50, 171, 96, 0.962962962962963)\",\"dash\":\"solid\",\"shape\":\"linear\",\"width\":1.3},\"mode\":\"lines\",\"name\":\"Caffeine\",\"text\":\"\",\"x\":[0.06613867865546326,0.0992080179831949,0.11904962157983387,0.13227735731092652,0.1455050930420192,0.15873282877311182,0.1719605645042045,0.18518830023529712,0.1984160359663898,0.26455471462185304,0.5291094292437061],\"y\":[0.0,0.0,0.0,0.0,0.0,0.0,0.0,0.0,0.0,0.0,0.0],\"type\":\"scatter\"},{\"line\":{\"color\":\"rgba(128, 0, 128, 0.962962962962963)\",\"dash\":\"solid\",\"shape\":\"linear\",\"width\":1.3},\"mode\":\"lines\",\"name\":\"Calcium, Ca\",\"text\":\"\",\"x\":[0.06613867865546326,0.0992080179831949,0.11904962157983387,0.13227735731092652,0.1455050930420192,0.15873282877311182,0.1719605645042045,0.18518830023529712,0.1984160359663898,0.26455471462185304,0.5291094292437061],\"y\":[2023.8599644422877,2023.8599644422877,2023.8599644422877,2023.8599644422877,2023.8599644422877,2023.8599644422877,2023.8599644422877,2023.8599644422877,2023.8599644422877,2023.8599644422877,2023.8599644422877],\"type\":\"scatter\"},{\"line\":{\"color\":\"rgba(219, 64, 82, 0.962962962962963)\",\"dash\":\"solid\",\"shape\":\"linear\",\"width\":1.3},\"mode\":\"lines\",\"name\":\"Campestanol\",\"text\":\"\",\"x\":[0.06613867865546326,0.0992080179831949,0.11904962157983387,0.13227735731092652,0.1455050930420192,0.15873282877311182,0.1719605645042045,0.18518830023529712,0.1984160359663898,0.26455471462185304,0.5291094292437061],\"y\":[0.0,0.0,0.0,0.0,0.0,0.0,0.0,0.0,0.0,0.0,0.0],\"type\":\"scatter\"},{\"line\":{\"color\":\"rgba(0, 128, 128, 0.962962962962963)\",\"dash\":\"solid\",\"shape\":\"linear\",\"width\":1.3},\"mode\":\"lines\",\"name\":\"Campesterol\",\"text\":\"\",\"x\":[0.06613867865546326,0.0992080179831949,0.11904962157983387,0.13227735731092652,0.1455050930420192,0.15873282877311182,0.1719605645042045,0.18518830023529712,0.1984160359663898,0.26455471462185304,0.5291094292437061],\"y\":[0.0,0.0,0.0,0.0,0.0,0.0,0.0,0.0,0.0,0.0,0.0],\"type\":\"scatter\"},{\"line\":{\"color\":\"rgba(255, 255, 51, 0.962962962962963)\",\"dash\":\"solid\",\"shape\":\"linear\",\"width\":1.3},\"mode\":\"lines\",\"name\":\"Carbohydrate, by difference\",\"text\":\"\",\"x\":[0.06613867865546326,0.0992080179831949,0.11904962157983387,0.13227735731092652,0.1455050930420192,0.15873282877311182,0.1719605645042045,0.18518830023529712,0.1984160359663898,0.26455471462185304,0.5291094292437061],\"y\":[26.666666669999994,26.666666669999994,26.666666669999994,26.666666669999994,26.666666669999994,26.666666669999994,26.666666669999994,26.666666669999994,26.666666669999994,26.666666669999994,26.666666669999994],\"type\":\"scatter\"},{\"line\":{\"color\":\"rgba(128, 128, 0, 0.962962962962963)\",\"dash\":\"solid\",\"shape\":\"linear\",\"width\":1.3},\"mode\":\"lines\",\"name\":\"Carbohydrate, by summation\",\"text\":\"\",\"x\":[0.06613867865546326,0.0992080179831949,0.11904962157983387,0.13227735731092652,0.1455050930420192,0.15873282877311182,0.1719605645042045,0.18518830023529712,0.1984160359663898,0.26455471462185304,0.5291094292437061],\"y\":[0.0,0.0,0.0,0.0,0.0,0.0,0.0,0.0,0.0,0.0,0.0],\"type\":\"scatter\"},{\"line\":{\"color\":\"rgba(251, 128, 114, 0.962962962962963)\",\"dash\":\"solid\",\"shape\":\"linear\",\"width\":1.3},\"mode\":\"lines\",\"name\":\"Carbohydrates\",\"text\":\"\",\"x\":[0.06613867865546326,0.0992080179831949,0.11904962157983387,0.13227735731092652,0.1455050930420192,0.15873282877311182,0.1719605645042045,0.18518830023529712,0.1984160359663898,0.26455471462185304,0.5291094292437061],\"y\":[0.0,0.0,0.0,0.0,0.0,0.0,0.0,0.0,0.0,0.0,0.0],\"type\":\"scatter\"},{\"line\":{\"color\":\"rgba(251, 128, 114, 0.9259259259259258)\",\"dash\":\"solid\",\"shape\":\"linear\",\"width\":1.3},\"mode\":\"lines\",\"name\":\"Carotene, alpha\",\"text\":\"\",\"x\":[0.06613867865546326,0.0992080179831949,0.11904962157983387,0.13227735731092652,0.1455050930420192,0.15873282877311182,0.1719605645042045,0.18518830023529712,0.1984160359663898,0.26455471462185304,0.5291094292437061],\"y\":[34.266462624555054,34.266462624555054,34.266462624555054,34.266462624555054,34.266462624555054,34.266462624555054,34.266462624555054,34.266462624555054,34.266462624555054,34.266462624555054,34.266462624555054],\"type\":\"scatter\"},{\"line\":{\"color\":\"rgba(128, 177, 211, 0.9259259259259258)\",\"dash\":\"solid\",\"shape\":\"linear\",\"width\":1.3},\"mode\":\"lines\",\"name\":\"Carotene, beta\",\"text\":\"\",\"x\":[0.06613867865546326,0.0992080179831949,0.11904962157983387,0.13227735731092652,0.1455050930420192,0.15873282877311182,0.1719605645042045,0.18518830023529712,0.1984160359663898,0.26455471462185304,0.5291094292437061],\"y\":[11200.15062748666,11200.15062748666,11200.15062748666,11200.15062748666,11200.15062748666,11200.15062748666,11200.15062748666,11200.15062748666,11200.15062748666,11200.15062748666,11200.15062748666],\"type\":\"scatter\"},{\"line\":{\"color\":\"rgba(255, 153, 51, 0.9259259259259258)\",\"dash\":\"solid\",\"shape\":\"linear\",\"width\":1.3},\"mode\":\"lines\",\"name\":\"Carotene, gamma\",\"text\":\"\",\"x\":[0.06613867865546326,0.0992080179831949,0.11904962157983387,0.13227735731092652,0.1455050930420192,0.15873282877311182,0.1719605645042045,0.18518830023529712,0.1984160359663898,0.26455471462185304,0.5291094292437061],\"y\":[0.0,0.0,0.0,0.0,0.0,0.0,0.0,0.0,0.0,0.0,0.0],\"type\":\"scatter\"},{\"line\":{\"color\":\"rgba(55, 128, 191, 0.9259259259259258)\",\"dash\":\"solid\",\"shape\":\"linear\",\"width\":1.3},\"mode\":\"lines\",\"name\":\"Cholesterol\",\"text\":\"\",\"x\":[0.06613867865546326,0.0992080179831949,0.11904962157983387,0.13227735731092652,0.1455050930420192,0.15873282877311182,0.1719605645042045,0.18518830023529712,0.1984160359663898,0.26455471462185304,0.5291094292437061],\"y\":[51.64968367425946,51.64968367425946,51.64968367425946,51.64968367425946,51.64968367425946,51.64968367425946,51.64968367425946,51.64968367425946,51.64968367425946,51.64968367425946,51.64968367425946],\"type\":\"scatter\"},{\"line\":{\"color\":\"rgba(50, 171, 96, 0.9259259259259258)\",\"dash\":\"solid\",\"shape\":\"linear\",\"width\":1.3},\"mode\":\"lines\",\"name\":\"Choline, free\",\"text\":\"\",\"x\":[0.06613867865546326,0.0992080179831949,0.11904962157983387,0.13227735731092652,0.1455050930420192,0.15873282877311182,0.1719605645042045,0.18518830023529712,0.1984160359663898,0.26455471462185304,0.5291094292437061],\"y\":[0.0,0.0,0.0,0.0,0.0,0.0,0.0,0.0,0.0,0.0,0.0],\"type\":\"scatter\"},{\"line\":{\"color\":\"rgba(128, 0, 128, 0.9259259259259258)\",\"dash\":\"solid\",\"shape\":\"linear\",\"width\":1.3},\"mode\":\"lines\",\"name\":\"Choline, from glycerophosphocholine\",\"text\":\"\",\"x\":[0.06613867865546326,0.0992080179831949,0.11904962157983387,0.13227735731092652,0.1455050930420192,0.15873282877311182,0.1719605645042045,0.18518830023529712,0.1984160359663898,0.26455471462185304,0.5291094292437061],\"y\":[0.0,0.0,0.0,0.0,0.0,0.0,0.0,0.0,0.0,0.0,0.0],\"type\":\"scatter\"},{\"line\":{\"color\":\"rgba(219, 64, 82, 0.9259259259259258)\",\"dash\":\"solid\",\"shape\":\"linear\",\"width\":1.3},\"mode\":\"lines\",\"name\":\"Choline, from phosphocholine\",\"text\":\"\",\"x\":[0.06613867865546326,0.0992080179831949,0.11904962157983387,0.13227735731092652,0.1455050930420192,0.15873282877311182,0.1719605645042045,0.18518830023529712,0.1984160359663898,0.26455471462185304,0.5291094292437061],\"y\":[0.0,0.0,0.0,0.0,0.0,0.0,0.0,0.0,0.0,0.0,0.0],\"type\":\"scatter\"},{\"line\":{\"color\":\"rgba(0, 128, 128, 0.9259259259259258)\",\"dash\":\"solid\",\"shape\":\"linear\",\"width\":1.3},\"mode\":\"lines\",\"name\":\"Choline, from phosphotidyl choline\",\"text\":\"\",\"x\":[0.06613867865546326,0.0992080179831949,0.11904962157983387,0.13227735731092652,0.1455050930420192,0.15873282877311182,0.1719605645042045,0.18518830023529712,0.1984160359663898,0.26455471462185304,0.5291094292437061],\"y\":[0.0,0.0,0.0,0.0,0.0,0.0,0.0,0.0,0.0,0.0,0.0],\"type\":\"scatter\"},{\"line\":{\"color\":\"rgba(255, 255, 51, 0.9259259259259258)\",\"dash\":\"solid\",\"shape\":\"linear\",\"width\":1.3},\"mode\":\"lines\",\"name\":\"Choline, from sphingomyelin\",\"text\":\"\",\"x\":[0.06613867865546326,0.0992080179831949,0.11904962157983387,0.13227735731092652,0.1455050930420192,0.15873282877311182,0.1719605645042045,0.18518830023529712,0.1984160359663898,0.26455471462185304,0.5291094292437061],\"y\":[0.0,0.0,0.0,0.0,0.0,0.0,0.0,0.0,0.0,0.0,0.0],\"type\":\"scatter\"},{\"line\":{\"color\":\"rgba(128, 128, 0, 0.9259259259259258)\",\"dash\":\"solid\",\"shape\":\"linear\",\"width\":1.3},\"mode\":\"lines\",\"name\":\"Choline, total\",\"text\":\"\",\"x\":[0.06613867865546326,0.0992080179831949,0.11904962157983387,0.13227735731092652,0.1455050930420192,0.15873282877311182,0.1719605645042045,0.18518830023529712,0.1984160359663898,0.26455471462185304,0.5291094292437061],\"y\":[57.26157087036362,57.26157087036362,57.26157087036362,57.26157087036362,57.26157087036362,57.26157087036362,57.26157087036362,57.26157087036362,57.26157087036362,57.26157087036362,57.26157087036362],\"type\":\"scatter\"},{\"line\":{\"color\":\"rgba(128, 128, 0, 0.8888888888888888)\",\"dash\":\"solid\",\"shape\":\"linear\",\"width\":1.3},\"mode\":\"lines\",\"name\":\"Cobalt, Co\",\"text\":\"\",\"x\":[0.06613867865546326,0.0992080179831949,0.11904962157983387,0.13227735731092652,0.1455050930420192,0.15873282877311182,0.1719605645042045,0.18518830023529712,0.1984160359663898,0.26455471462185304,0.5291094292437061],\"y\":[162.37366151922245,162.37366151922245,162.37366151922245,162.37366151922245,162.37366151922245,162.37366151922245,162.37366151922245,162.37366151922245,162.37366151922245,162.37366151922245,162.37366151922245],\"type\":\"scatter\"},{\"line\":{\"color\":\"rgba(251, 128, 114, 0.8888888888888888)\",\"dash\":\"solid\",\"shape\":\"linear\",\"width\":1.3},\"mode\":\"lines\",\"name\":\"Copper, Cu\",\"text\":\"\",\"x\":[0.06613867865546326,0.0992080179831949,0.11904962157983387,0.13227735731092652,0.1455050930420192,0.15873282877311182,0.1719605645042045,0.18518830023529712,0.1984160359663898,0.26455471462185304,0.5291094292437061],\"y\":[5.567192682720087,5.567192682720087,5.567192682720087,5.567192682720087,5.567192682720087,5.567192682720087,5.567192682720087,5.567192682720087,5.567192682720087,5.567192682720087,5.567192682720087],\"type\":\"scatter\"},{\"line\":{\"color\":\"rgba(128, 177, 211, 0.8888888888888888)\",\"dash\":\"solid\",\"shape\":\"linear\",\"width\":1.3},\"mode\":\"lines\",\"name\":\"Cryptoxanthin, alpha\",\"text\":\"\",\"x\":[0.06613867865546326,0.0992080179831949,0.11904962157983387,0.13227735731092652,0.1455050930420192,0.15873282877311182,0.1719605645042045,0.18518830023529712,0.1984160359663898,0.26455471462185304,0.5291094292437061],\"y\":[0.0,0.0,0.0,0.0,0.0,0.0,0.0,0.0,0.0,0.0,0.0],\"type\":\"scatter\"},{\"line\":{\"color\":\"rgba(255, 153, 51, 0.8888888888888888)\",\"dash\":\"solid\",\"shape\":\"linear\",\"width\":1.3},\"mode\":\"lines\",\"name\":\"Cryptoxanthin, beta\",\"text\":\"\",\"x\":[0.06613867865546326,0.0992080179831949,0.11904962157983387,0.13227735731092652,0.1455050930420192,0.15873282877311182,0.1719605645042045,0.18518830023529712,0.1984160359663898,0.26455471462185304,0.5291094292437061],\"y\":[104.98417738336838,104.98417738336838,104.98417738336838,104.98417738336838,104.98417738336838,104.98417738336838,104.98417738336838,104.98417738336838,104.98417738336838,104.98417738336838,104.98417738336838],\"type\":\"scatter\"},{\"line\":{\"color\":\"rgba(55, 128, 191, 0.8888888888888888)\",\"dash\":\"solid\",\"shape\":\"linear\",\"width\":1.3},\"mode\":\"lines\",\"name\":\"Cysteine\",\"text\":\"\",\"x\":[0.06613867865546326,0.0992080179831949,0.11904962157983387,0.13227735731092652,0.1455050930420192,0.15873282877311182,0.1719605645042045,0.18518830023529712,0.1984160359663898,0.26455471462185304,0.5291094292437061],\"y\":[0.0025481763462338793,0.0025481763462338793,0.0025481763462338793,0.0025481763462338793,0.0025481763462338793,0.0025481763462338793,0.0025481763462338793,0.0025481763462338793,0.0025481763462338793,0.0025481763462338793,0.0025481763462338793],\"type\":\"scatter\"},{\"line\":{\"color\":\"rgba(50, 171, 96, 0.8888888888888888)\",\"dash\":\"solid\",\"shape\":\"linear\",\"width\":1.3},\"mode\":\"lines\",\"name\":\"Cystine\",\"text\":\"\",\"x\":[0.06613867865546326,0.0992080179831949,0.11904962157983387,0.13227735731092652,0.1455050930420192,0.15873282877311182,0.1719605645042045,0.18518830023529712,0.1984160359663898,0.26455471462185304,0.5291094292437061],\"y\":[0.7748623521532269,0.7748623521532269,0.7748623521532269,0.7748623521532269,0.7748623521532269,0.7748623521532269,0.7748623521532269,0.7748623521532269,0.7748623521532269,0.7748623521532269,0.7748623521532269],\"type\":\"scatter\"},{\"line\":{\"color\":\"rgba(128, 0, 128, 0.8888888888888888)\",\"dash\":\"solid\",\"shape\":\"linear\",\"width\":1.3},\"mode\":\"lines\",\"name\":\"Delta-5-avenasterol\",\"text\":\"\",\"x\":[0.06613867865546326,0.0992080179831949,0.11904962157983387,0.13227735731092652,0.1455050930420192,0.15873282877311182,0.1719605645042045,0.18518830023529712,0.1984160359663898,0.26455471462185304,0.5291094292437061],\"y\":[0.0,0.0,0.0,0.0,0.0,0.0,0.0,0.0,0.0,0.0,0.0],\"type\":\"scatter\"},{\"line\":{\"color\":\"rgba(219, 64, 82, 0.8888888888888888)\",\"dash\":\"solid\",\"shape\":\"linear\",\"width\":1.3},\"mode\":\"lines\",\"name\":\"Energy\",\"text\":\"\",\"x\":[0.06613867865546326,0.0992080179831949,0.11904962157983387,0.13227735731092652,0.1455050930420192,0.15873282877311182,0.1719605645042045,0.18518830023529712,0.1984160359663898,0.26455471462185304,0.5291094292437061],\"y\":[4525.184728913931,4525.184728913931,4525.184728913931,4525.184728913931,4525.184728913931,4525.184728913931,4525.184728913931,4525.184728913931,4525.184728913931,4525.184728913931,4525.184728913931],\"type\":\"scatter\"},{\"line\":{\"color\":\"rgba(0, 128, 128, 0.8888888888888888)\",\"dash\":\"solid\",\"shape\":\"linear\",\"width\":1.3},\"mode\":\"lines\",\"name\":\"Energy (Atwater General Factors)\",\"text\":\"\",\"x\":[0.06613867865546326,0.0992080179831949,0.11904962157983387,0.13227735731092652,0.1455050930420192,0.15873282877311182,0.1719605645042045,0.18518830023529712,0.1984160359663898,0.26455471462185304,0.5291094292437061],\"y\":[39.4049990181607,39.4049990181607,39.4049990181607,39.4049990181607,39.4049990181607,39.4049990181607,39.4049990181607,39.4049990181607,39.4049990181607,39.4049990181607,39.4049990181607],\"type\":\"scatter\"},{\"line\":{\"color\":\"rgba(255, 255, 51, 0.8888888888888888)\",\"dash\":\"solid\",\"shape\":\"linear\",\"width\":1.3},\"mode\":\"lines\",\"name\":\"Energy (Atwater Specific Factors)\",\"text\":\"\",\"x\":[0.06613867865546326,0.0992080179831949,0.11904962157983387,0.13227735731092652,0.1455050930420192,0.15873282877311182,0.1719605645042045,0.18518830023529712,0.1984160359663898,0.26455471462185304,0.5291094292437061],\"y\":[0.0,0.0,0.0,0.0,0.0,0.0,0.0,0.0,0.0,0.0,0.0],\"type\":\"scatter\"},{\"line\":{\"color\":\"rgba(255, 255, 51, 0.8518518518518519)\",\"dash\":\"solid\",\"shape\":\"linear\",\"width\":1.3},\"mode\":\"lines\",\"name\":\"Fatty acids, total monounsaturated\",\"text\":\"\",\"x\":[0.06613867865546326,0.0992080179831949,0.11904962157983387,0.13227735731092652,0.1455050930420192,0.15873282877311182,0.1719605645042045,0.18518830023529712,0.1984160359663898,0.26455471462185304,0.5291094292437061],\"y\":[16.220269028229414,16.220269028229414,16.220269028229414,16.220269028229414,16.220269028229414,16.220269028229414,16.220269028229414,16.220269028229414,16.220269028229414,16.220269028229414,16.220269028229414],\"type\":\"scatter\"},{\"line\":{\"color\":\"rgba(128, 128, 0, 0.8518518518518519)\",\"dash\":\"solid\",\"shape\":\"linear\",\"width\":1.3},\"mode\":\"lines\",\"name\":\"Fatty acids, total polyunsaturated\",\"text\":\"\",\"x\":[0.06613867865546326,0.0992080179831949,0.11904962157983387,0.13227735731092652,0.1455050930420192,0.15873282877311182,0.1719605645042045,0.18518830023529712,0.1984160359663898,0.26455471462185304,0.5291094292437061],\"y\":[57.63787501308768,57.63787501308768,57.63787501308768,57.63787501308768,57.63787501308768,57.63787501308768,57.63787501308768,57.63787501308768,57.63787501308768,57.63787501308768,57.63787501308768],\"type\":\"scatter\"},{\"line\":{\"color\":\"rgba(251, 128, 114, 0.8518518518518519)\",\"dash\":\"solid\",\"shape\":\"linear\",\"width\":1.3},\"mode\":\"lines\",\"name\":\"Fatty acids, total saturated\",\"text\":\"\",\"x\":[0.06613867865546326,0.0992080179831949,0.11904962157983387,0.13227735731092652,0.1455050930420192,0.15873282877311182,0.1719605645042045,0.18518830023529712,0.1984160359663898,0.26455471462185304,0.5291094292437061],\"y\":[10.955820943915587,10.955820943915587,10.955820943915587,10.955820943915587,10.955820943915587,10.955820943915587,10.955820943915587,10.955820943915587,10.955820943915587,10.955820943915587,10.955820943915587],\"type\":\"scatter\"},{\"line\":{\"color\":\"rgba(128, 177, 211, 0.8518518518518519)\",\"dash\":\"solid\",\"shape\":\"linear\",\"width\":1.3},\"mode\":\"lines\",\"name\":\"Fatty acids, total trans\",\"text\":\"\",\"x\":[0.06613867865546326,0.0992080179831949,0.11904962157983387,0.13227735731092652,0.1455050930420192,0.15873282877311182,0.1719605645042045,0.18518830023529712,0.1984160359663898,0.26455471462185304,0.5291094292437061],\"y\":[0.0,0.0,0.0,0.0,0.0,0.0,0.0,0.0,0.0,0.0,0.0],\"type\":\"scatter\"},{\"line\":{\"color\":\"rgba(255, 153, 51, 0.8518518518518519)\",\"dash\":\"solid\",\"shape\":\"linear\",\"width\":1.3},\"mode\":\"lines\",\"name\":\"Fatty acids, total trans-dienoic\",\"text\":\"\",\"x\":[0.06613867865546326,0.0992080179831949,0.11904962157983387,0.13227735731092652,0.1455050930420192,0.15873282877311182,0.1719605645042045,0.18518830023529712,0.1984160359663898,0.26455471462185304,0.5291094292437061],\"y\":[0.0,0.0,0.0,0.0,0.0,0.0,0.0,0.0,0.0,0.0,0.0],\"type\":\"scatter\"},{\"line\":{\"color\":\"rgba(55, 128, 191, 0.8518518518518519)\",\"dash\":\"solid\",\"shape\":\"linear\",\"width\":1.3},\"mode\":\"lines\",\"name\":\"Fatty acids, total trans-monoenoic\",\"text\":\"\",\"x\":[0.06613867865546326,0.0992080179831949,0.11904962157983387,0.13227735731092652,0.1455050930420192,0.15873282877311182,0.1719605645042045,0.18518830023529712,0.1984160359663898,0.26455471462185304,0.5291094292437061],\"y\":[0.0,0.0,0.0,0.0,0.0,0.0,0.0,0.0,0.0,0.0,0.0],\"type\":\"scatter\"},{\"line\":{\"color\":\"rgba(50, 171, 96, 0.8518518518518519)\",\"dash\":\"solid\",\"shape\":\"linear\",\"width\":1.3},\"mode\":\"lines\",\"name\":\"Fatty acids, total trans-polyenoic\",\"text\":\"\",\"x\":[0.06613867865546326,0.0992080179831949,0.11904962157983387,0.13227735731092652,0.1455050930420192,0.15873282877311182,0.1719605645042045,0.18518830023529712,0.1984160359663898,0.26455471462185304,0.5291094292437061],\"y\":[0.0,0.0,0.0,0.0,0.0,0.0,0.0,0.0,0.0,0.0,0.0],\"type\":\"scatter\"},{\"line\":{\"color\":\"rgba(128, 0, 128, 0.8518518518518519)\",\"dash\":\"solid\",\"shape\":\"linear\",\"width\":1.3},\"mode\":\"lines\",\"name\":\"Fiber, total dietary\",\"text\":\"\",\"x\":[0.06613867865546326,0.0992080179831949,0.11904962157983387,0.13227735731092652,0.1455050930420192,0.15873282877311182,0.1719605645042045,0.18518830023529712,0.1984160359663898,0.26455471462185304,0.5291094292437061],\"y\":[33.6,33.6,33.6,33.6,33.6,33.6,33.6,33.6,33.6,33.6,33.6],\"type\":\"scatter\"},{\"line\":{\"color\":\"rgba(219, 64, 82, 0.8518518518518519)\",\"dash\":\"solid\",\"shape\":\"linear\",\"width\":1.3},\"mode\":\"lines\",\"name\":\"Fluoride, F\",\"text\":\"\",\"x\":[0.06613867865546326,0.0992080179831949,0.11904962157983387,0.13227735731092652,0.1455050930420192,0.15873282877311182,0.1719605645042045,0.18518830023529712,0.1984160359663898,0.26455471462185304,0.5291094292437061],\"y\":[0.0,0.0,0.0,0.0,0.0,0.0,0.0,0.0,0.0,0.0,0.0],\"type\":\"scatter\"},{\"line\":{\"color\":\"rgba(0, 128, 128, 0.8518518518518519)\",\"dash\":\"solid\",\"shape\":\"linear\",\"width\":1.3},\"mode\":\"lines\",\"name\":\"Folate, DFE\",\"text\":\"\",\"x\":[0.06613867865546326,0.0992080179831949,0.11904962157983387,0.13227735731092652,0.1455050930420192,0.15873282877311182,0.1719605645042045,0.18518830023529712,0.1984160359663898,0.26455471462185304,0.5291094292437061],\"y\":[400.0,400.0,400.0,400.0,400.0,400.0,400.0,400.0,400.0,400.0,400.0],\"type\":\"scatter\"},{\"line\":{\"color\":\"rgba(0, 128, 128, 0.8148148148148149)\",\"dash\":\"solid\",\"shape\":\"linear\",\"width\":1.3},\"mode\":\"lines\",\"name\":\"Folate, food\",\"text\":\"\",\"x\":[0.06613867865546326,0.0992080179831949,0.11904962157983387,0.13227735731092652,0.1455050930420192,0.15873282877311182,0.1719605645042045,0.18518830023529712,0.1984160359663898,0.26455471462185304,0.5291094292437061],\"y\":[400.0,400.0,400.0,400.0,400.0,400.0,400.0,400.0,400.0,400.0,400.0],\"type\":\"scatter\"},{\"line\":{\"color\":\"rgba(255, 255, 51, 0.8148148148148149)\",\"dash\":\"solid\",\"shape\":\"linear\",\"width\":1.3},\"mode\":\"lines\",\"name\":\"Folate, total\",\"text\":\"\",\"x\":[0.06613867865546326,0.0992080179831949,0.11904962157983387,0.13227735731092652,0.1455050930420192,0.15873282877311182,0.1719605645042045,0.18518830023529712,0.1984160359663898,0.26455471462185304,0.5291094292437061],\"y\":[483.70287527125976,483.70287527125976,483.70287527125976,483.70287527125976,483.70287527125976,483.70287527125976,483.70287527125976,483.70287527125976,483.70287527125976,483.70287527125976,483.70287527125976],\"type\":\"scatter\"},{\"line\":{\"color\":\"rgba(128, 128, 0, 0.8148148148148149)\",\"dash\":\"solid\",\"shape\":\"linear\",\"width\":1.3},\"mode\":\"lines\",\"name\":\"Folic acid\",\"text\":\"\",\"x\":[0.06613867865546326,0.0992080179831949,0.11904962157983387,0.13227735731092652,0.1455050930420192,0.15873282877311182,0.1719605645042045,0.18518830023529712,0.1984160359663898,0.26455471462185304,0.5291094292437061],\"y\":[0.0,0.0,0.0,0.0,0.0,0.0,0.0,0.0,0.0,0.0,0.0],\"type\":\"scatter\"},{\"line\":{\"color\":\"rgba(251, 128, 114, 0.8148148148148149)\",\"dash\":\"solid\",\"shape\":\"linear\",\"width\":1.3},\"mode\":\"lines\",\"name\":\"Fructose\",\"text\":\"\",\"x\":[0.06613867865546326,0.0992080179831949,0.11904962157983387,0.13227735731092652,0.1455050930420192,0.15873282877311182,0.1719605645042045,0.18518830023529712,0.1984160359663898,0.26455471462185304,0.5291094292437061],\"y\":[0.749602949956909,0.749602949956909,0.749602949956909,0.749602949956909,0.749602949956909,0.749602949956909,0.749602949956909,0.749602949956909,0.749602949956909,0.749602949956909,0.749602949956909],\"type\":\"scatter\"},{\"line\":{\"color\":\"rgba(128, 177, 211, 0.8148148148148149)\",\"dash\":\"solid\",\"shape\":\"linear\",\"width\":1.3},\"mode\":\"lines\",\"name\":\"Galactose\",\"text\":\"\",\"x\":[0.06613867865546326,0.0992080179831949,0.11904962157983387,0.13227735731092652,0.1455050930420192,0.15873282877311182,0.1719605645042045,0.18518830023529712,0.1984160359663898,0.26455471462185304,0.5291094292437061],\"y\":[0.0,0.0,0.0,0.0,0.0,0.0,0.0,0.0,0.0,0.0,0.0],\"type\":\"scatter\"},{\"line\":{\"color\":\"rgba(255, 153, 51, 0.8148148148148149)\",\"dash\":\"solid\",\"shape\":\"linear\",\"width\":1.3},\"mode\":\"lines\",\"name\":\"Glucose\",\"text\":\"\",\"x\":[0.06613867865546326,0.0992080179831949,0.11904962157983387,0.13227735731092652,0.1455050930420192,0.15873282877311182,0.1719605645042045,0.18518830023529712,0.1984160359663898,0.26455471462185304,0.5291094292437061],\"y\":[0.6752342919563528,0.6752342919563528,0.6752342919563528,0.6752342919563528,0.6752342919563528,0.6752342919563528,0.6752342919563528,0.6752342919563528,0.6752342919563528,0.6752342919563528,0.6752342919563528],\"type\":\"scatter\"},{\"line\":{\"color\":\"rgba(55, 128, 191, 0.8148148148148149)\",\"dash\":\"solid\",\"shape\":\"linear\",\"width\":1.3},\"mode\":\"lines\",\"name\":\"Glutamic acid\",\"text\":\"\",\"x\":[0.06613867865546326,0.0992080179831949,0.11904962157983387,0.13227735731092652,0.1455050930420192,0.15873282877311182,0.1719605645042045,0.18518830023529712,0.1984160359663898,0.26455471462185304,0.5291094292437061],\"y\":[8.626832418496463,8.626832418496463,8.626832418496463,8.626832418496463,8.626832418496463,8.626832418496463,8.626832418496463,8.626832418496463,8.626832418496463,8.626832418496463,8.626832418496463],\"type\":\"scatter\"},{\"line\":{\"color\":\"rgba(50, 171, 96, 0.8148148148148149)\",\"dash\":\"solid\",\"shape\":\"linear\",\"width\":1.3},\"mode\":\"lines\",\"name\":\"Glycine\",\"text\":\"\",\"x\":[0.06613867865546326,0.0992080179831949,0.11904962157983387,0.13227735731092652,0.1455050930420192,0.15873282877311182,0.1719605645042045,0.18518830023529712,0.1984160359663898,0.26455471462185304,0.5291094292437061],\"y\":[2.5714414578081977,2.5714414578081977,2.5714414578081977,2.5714414578081977,2.5714414578081977,2.5714414578081977,2.5714414578081977,2.5714414578081977,2.5714414578081977,2.5714414578081977,2.5714414578081977],\"type\":\"scatter\"},{\"line\":{\"color\":\"rgba(128, 0, 128, 0.8148148148148149)\",\"dash\":\"solid\",\"shape\":\"linear\",\"width\":1.3},\"mode\":\"lines\",\"name\":\"High Molecular Weight Dietary Fiber (HMWDF)\",\"text\":\"\",\"x\":[0.06613867865546326,0.0992080179831949,0.11904962157983387,0.13227735731092652,0.1455050930420192,0.15873282877311182,0.1719605645042045,0.18518830023529712,0.1984160359663898,0.26455471462185304,0.5291094292437061],\"y\":[0.0,0.0,0.0,0.0,0.0,0.0,0.0,0.0,0.0,0.0,0.0],\"type\":\"scatter\"},{\"line\":{\"color\":\"rgba(219, 64, 82, 0.8148148148148149)\",\"dash\":\"solid\",\"shape\":\"linear\",\"width\":1.3},\"mode\":\"lines\",\"name\":\"Histidine\",\"text\":\"\",\"x\":[0.06613867865546326,0.0992080179831949,0.11904962157983387,0.13227735731092652,0.1455050930420192,0.15873282877311182,0.1719605645042045,0.18518830023529712,0.1984160359663898,0.26455471462185304,0.5291094292437061],\"y\":[1.5102938962029953,1.5102938962029953,1.5102938962029953,1.5102938962029953,1.5102938962029953,1.5102938962029953,1.5102938962029953,1.5102938962029953,1.5102938962029953,1.5102938962029953,1.5102938962029953],\"type\":\"scatter\"},{\"line\":{\"color\":\"rgba(219, 64, 82, 0.7777777777777777)\",\"dash\":\"solid\",\"shape\":\"linear\",\"width\":1.3},\"mode\":\"lines\",\"name\":\"Hydroxyproline\",\"text\":\"\",\"x\":[0.06613867865546326,0.0992080179831949,0.11904962157983387,0.13227735731092652,0.1455050930420192,0.15873282877311182,0.1719605645042045,0.18518830023529712,0.1984160359663898,0.26455471462185304,0.5291094292437061],\"y\":[0.0,0.0,0.0,0.0,0.0,0.0,0.0,0.0,0.0,0.0,0.0],\"type\":\"scatter\"},{\"line\":{\"color\":\"rgba(0, 128, 128, 0.7777777777777777)\",\"dash\":\"solid\",\"shape\":\"linear\",\"width\":1.3},\"mode\":\"lines\",\"name\":\"Iodine, I\",\"text\":\"\",\"x\":[0.06613867865546326,0.0992080179831949,0.11904962157983387,0.13227735731092652,0.1455050930420192,0.15873282877311182,0.1719605645042045,0.18518830023529712,0.1984160359663898,0.26455471462185304,0.5291094292437061],\"y\":[0.0,0.0,0.0,0.0,0.0,0.0,0.0,0.0,0.0,0.0,0.0],\"type\":\"scatter\"},{\"line\":{\"color\":\"rgba(255, 255, 51, 0.7777777777777777)\",\"dash\":\"solid\",\"shape\":\"linear\",\"width\":1.3},\"mode\":\"lines\",\"name\":\"Iron, Fe\",\"text\":\"\",\"x\":[0.06613867865546326,0.0992080179831949,0.11904962157983387,0.13227735731092652,0.1455050930420192,0.15873282877311182,0.1719605645042045,0.18518830023529712,0.1984160359663898,0.26455471462185304,0.5291094292437061],\"y\":[30.26615973918239,30.26615973918239,30.26615973918239,30.26615973918239,30.26615973918239,30.26615973918239,30.26615973918239,30.26615973918239,30.26615973918239,30.26615973918239,30.26615973918239],\"type\":\"scatter\"},{\"line\":{\"color\":\"rgba(128, 128, 0, 0.7777777777777777)\",\"dash\":\"solid\",\"shape\":\"linear\",\"width\":1.3},\"mode\":\"lines\",\"name\":\"Isoleucine\",\"text\":\"\",\"x\":[0.06613867865546326,0.0992080179831949,0.11904962157983387,0.13227735731092652,0.1455050930420192,0.15873282877311182,0.1719605645042045,0.18518830023529712,0.1984160359663898,0.26455471462185304,0.5291094292437061],\"y\":[2.282023822522725,2.282023822522725,2.282023822522725,2.282023822522725,2.282023822522725,2.282023822522725,2.282023822522725,2.282023822522725,2.282023822522725,2.282023822522725,2.282023822522725],\"type\":\"scatter\"},{\"line\":{\"color\":\"rgba(251, 128, 114, 0.7777777777777777)\",\"dash\":\"solid\",\"shape\":\"linear\",\"width\":1.3},\"mode\":\"lines\",\"name\":\"Lactose\",\"text\":\"\",\"x\":[0.06613867865546326,0.0992080179831949,0.11904962157983387,0.13227735731092652,0.1455050930420192,0.15873282877311182,0.1719605645042045,0.18518830023529712,0.1984160359663898,0.26455471462185304,0.5291094292437061],\"y\":[0.047325509636717625,0.047325509636717625,0.047325509636717625,0.047325509636717625,0.047325509636717625,0.047325509636717625,0.047325509636717625,0.047325509636717625,0.047325509636717625,0.047325509636717625,0.047325509636717625],\"type\":\"scatter\"},{\"line\":{\"color\":\"rgba(128, 177, 211, 0.7777777777777777)\",\"dash\":\"solid\",\"shape\":\"linear\",\"width\":1.3},\"mode\":\"lines\",\"name\":\"Leucine\",\"text\":\"\",\"x\":[0.06613867865546326,0.0992080179831949,0.11904962157983387,0.13227735731092652,0.1455050930420192,0.15873282877311182,0.1719605645042045,0.18518830023529712,0.1984160359663898,0.26455471462185304,0.5291094292437061],\"y\":[3.891114886537401,3.891114886537401,3.891114886537401,3.891114886537401,3.891114886537401,3.891114886537401,3.891114886537401,3.891114886537401,3.891114886537401,3.891114886537401,3.891114886537401],\"type\":\"scatter\"},{\"line\":{\"color\":\"rgba(255, 153, 51, 0.7777777777777777)\",\"dash\":\"solid\",\"shape\":\"linear\",\"width\":1.3},\"mode\":\"lines\",\"name\":\"Lipids\",\"text\":\"\",\"x\":[0.06613867865546326,0.0992080179831949,0.11904962157983387,0.13227735731092652,0.1455050930420192,0.15873282877311182,0.1719605645042045,0.18518830023529712,0.1984160359663898,0.26455471462185304,0.5291094292437061],\"y\":[0.0,0.0,0.0,0.0,0.0,0.0,0.0,0.0,0.0,0.0,0.0],\"type\":\"scatter\"},{\"line\":{\"color\":\"rgba(55, 128, 191, 0.7777777777777777)\",\"dash\":\"solid\",\"shape\":\"linear\",\"width\":1.3},\"mode\":\"lines\",\"name\":\"Low Molecular Weight Dietary Fiber (LMWDF)\",\"text\":\"\",\"x\":[0.06613867865546326,0.0992080179831949,0.11904962157983387,0.13227735731092652,0.1455050930420192,0.15873282877311182,0.1719605645042045,0.18518830023529712,0.1984160359663898,0.26455471462185304,0.5291094292437061],\"y\":[0.0,0.0,0.0,0.0,0.0,0.0,0.0,0.0,0.0,0.0,0.0],\"type\":\"scatter\"},{\"line\":{\"color\":\"rgba(50, 171, 96, 0.7777777777777777)\",\"dash\":\"solid\",\"shape\":\"linear\",\"width\":1.3},\"mode\":\"lines\",\"name\":\"Lutein\",\"text\":\"\",\"x\":[0.06613867865546326,0.0992080179831949,0.11904962157983387,0.13227735731092652,0.1455050930420192,0.15873282877311182,0.1719605645042045,0.18518830023529712,0.1984160359663898,0.26455471462185304,0.5291094292437061],\"y\":[0.0,0.0,0.0,0.0,0.0,0.0,0.0,0.0,0.0,0.0,0.0],\"type\":\"scatter\"},{\"line\":{\"color\":\"rgba(128, 0, 128, 0.7777777777777777)\",\"dash\":\"solid\",\"shape\":\"linear\",\"width\":1.3},\"mode\":\"lines\",\"name\":\"Lutein + zeaxanthin\",\"text\":\"\",\"x\":[0.06613867865546326,0.0992080179831949,0.11904962157983387,0.13227735731092652,0.1455050930420192,0.15873282877311182,0.1719605645042045,0.18518830023529712,0.1984160359663898,0.26455471462185304,0.5291094292437061],\"y\":[19032.28444721451,19032.28444721451,19032.28444721451,19032.28444721451,19032.28444721451,19032.28444721451,19032.28444721451,19032.28444721451,19032.28444721451,19032.28444721451,19032.28444721451],\"type\":\"scatter\"},{\"line\":{\"color\":\"rgba(128, 0, 128, 0.7407407407407407)\",\"dash\":\"solid\",\"shape\":\"linear\",\"width\":1.3},\"mode\":\"lines\",\"name\":\"Lycopene\",\"text\":\"\",\"x\":[0.06613867865546326,0.0992080179831949,0.11904962157983387,0.13227735731092652,0.1455050930420192,0.15873282877311182,0.1719605645042045,0.18518830023529712,0.1984160359663898,0.26455471462185304,0.5291094292437061],\"y\":[0.0,0.0,0.0,0.0,0.0,0.0,0.0,0.0,0.0,0.0,0.0],\"type\":\"scatter\"},{\"line\":{\"color\":\"rgba(219, 64, 82, 0.7407407407407407)\",\"dash\":\"solid\",\"shape\":\"linear\",\"width\":1.3},\"mode\":\"lines\",\"name\":\"Lysine\",\"text\":\"\",\"x\":[0.06613867865546326,0.0992080179831949,0.11904962157983387,0.13227735731092652,0.1455050930420192,0.15873282877311182,0.1719605645042045,0.18518830023529712,0.1984160359663898,0.26455471462185304,0.5291094292437061],\"y\":[3.432588033377931,3.432588033377931,3.432588033377931,3.432588033377931,3.432588033377931,3.432588033377931,3.432588033377931,3.432588033377931,3.432588033377931,3.432588033377931,3.432588033377931],\"type\":\"scatter\"},{\"line\":{\"color\":\"rgba(0, 128, 128, 0.7407407407407407)\",\"dash\":\"solid\",\"shape\":\"linear\",\"width\":1.3},\"mode\":\"lines\",\"name\":\"MUFA 12:1\",\"text\":\"\",\"x\":[0.06613867865546326,0.0992080179831949,0.11904962157983387,0.13227735731092652,0.1455050930420192,0.15873282877311182,0.1719605645042045,0.18518830023529712,0.1984160359663898,0.26455471462185304,0.5291094292437061],\"y\":[0.0,0.0,0.0,0.0,0.0,0.0,0.0,0.0,0.0,0.0,0.0],\"type\":\"scatter\"},{\"line\":{\"color\":\"rgba(255, 255, 51, 0.7407407407407407)\",\"dash\":\"solid\",\"shape\":\"linear\",\"width\":1.3},\"mode\":\"lines\",\"name\":\"MUFA 14:1\",\"text\":\"\",\"x\":[0.06613867865546326,0.0992080179831949,0.11904962157983387,0.13227735731092652,0.1455050930420192,0.15873282877311182,0.1719605645042045,0.18518830023529712,0.1984160359663898,0.26455471462185304,0.5291094292437061],\"y\":[0.0,0.0,0.0,0.0,0.0,0.0,0.0,0.0,0.0,0.0,0.0],\"type\":\"scatter\"},{\"line\":{\"color\":\"rgba(128, 128, 0, 0.7407407407407407)\",\"dash\":\"solid\",\"shape\":\"linear\",\"width\":1.3},\"mode\":\"lines\",\"name\":\"MUFA 14:1 c\",\"text\":\"\",\"x\":[0.06613867865546326,0.0992080179831949,0.11904962157983387,0.13227735731092652,0.1455050930420192,0.15873282877311182,0.1719605645042045,0.18518830023529712,0.1984160359663898,0.26455471462185304,0.5291094292437061],\"y\":[0.0,0.0,0.0,0.0,0.0,0.0,0.0,0.0,0.0,0.0,0.0],\"type\":\"scatter\"},{\"line\":{\"color\":\"rgba(251, 128, 114, 0.7407407407407407)\",\"dash\":\"solid\",\"shape\":\"linear\",\"width\":1.3},\"mode\":\"lines\",\"name\":\"MUFA 15:1\",\"text\":\"\",\"x\":[0.06613867865546326,0.0992080179831949,0.11904962157983387,0.13227735731092652,0.1455050930420192,0.15873282877311182,0.1719605645042045,0.18518830023529712,0.1984160359663898,0.26455471462185304,0.5291094292437061],\"y\":[0.0,0.0,0.0,0.0,0.0,0.0,0.0,0.0,0.0,0.0,0.0],\"type\":\"scatter\"},{\"line\":{\"color\":\"rgba(128, 177, 211, 0.7407407407407407)\",\"dash\":\"solid\",\"shape\":\"linear\",\"width\":1.3},\"mode\":\"lines\",\"name\":\"MUFA 16:1\",\"text\":\"\",\"x\":[0.06613867865546326,0.0992080179831949,0.11904962157983387,0.13227735731092652,0.1455050930420192,0.15873282877311182,0.1719605645042045,0.18518830023529712,0.1984160359663898,0.26455471462185304,0.5291094292437061],\"y\":[0.03956145983560299,0.03956145983560299,0.03956145983560299,0.03956145983560299,0.03956145983560299,0.03956145983560299,0.03956145983560299,0.03956145983560299,0.03956145983560299,0.03956145983560299,0.03956145983560299],\"type\":\"scatter\"},{\"line\":{\"color\":\"rgba(255, 153, 51, 0.7407407407407407)\",\"dash\":\"solid\",\"shape\":\"linear\",\"width\":1.3},\"mode\":\"lines\",\"name\":\"MUFA 16:1 c\",\"text\":\"\",\"x\":[0.06613867865546326,0.0992080179831949,0.11904962157983387,0.13227735731092652,0.1455050930420192,0.15873282877311182,0.1719605645042045,0.18518830023529712,0.1984160359663898,0.26455471462185304,0.5291094292437061],\"y\":[0.0,0.0,0.0,0.0,0.0,0.0,0.0,0.0,0.0,0.0,0.0],\"type\":\"scatter\"},{\"line\":{\"color\":\"rgba(55, 128, 191, 0.7407407407407407)\",\"dash\":\"solid\",\"shape\":\"linear\",\"width\":1.3},\"mode\":\"lines\",\"name\":\"MUFA 17:1\",\"text\":\"\",\"x\":[0.06613867865546326,0.0992080179831949,0.11904962157983387,0.13227735731092652,0.1455050930420192,0.15873282877311182,0.1719605645042045,0.18518830023529712,0.1984160359663898,0.26455471462185304,0.5291094292437061],\"y\":[0.0,0.0,0.0,0.0,0.0,0.0,0.0,0.0,0.0,0.0,0.0],\"type\":\"scatter\"},{\"line\":{\"color\":\"rgba(50, 171, 96, 0.7407407407407407)\",\"dash\":\"solid\",\"shape\":\"linear\",\"width\":1.3},\"mode\":\"lines\",\"name\":\"MUFA 17:1 c\",\"text\":\"\",\"x\":[0.06613867865546326,0.0992080179831949,0.11904962157983387,0.13227735731092652,0.1455050930420192,0.15873282877311182,0.1719605645042045,0.18518830023529712,0.1984160359663898,0.26455471462185304,0.5291094292437061],\"y\":[0.0,0.0,0.0,0.0,0.0,0.0,0.0,0.0,0.0,0.0,0.0],\"type\":\"scatter\"},{\"line\":{\"color\":\"rgba(50, 171, 96, 0.7037037037037037)\",\"dash\":\"solid\",\"shape\":\"linear\",\"width\":1.3},\"mode\":\"lines\",\"name\":\"MUFA 18:1\",\"text\":\"\",\"x\":[0.06613867865546326,0.0992080179831949,0.11904962157983387,0.13227735731092652,0.1455050930420192,0.15873282877311182,0.1719605645042045,0.18518830023529712,0.1984160359663898,0.26455471462185304,0.5291094292437061],\"y\":[16.069150826875536,16.069150826875536,16.069150826875536,16.069150826875536,16.069150826875536,16.069150826875536,16.069150826875536,16.069150826875536,16.069150826875536,16.069150826875536,16.069150826875536],\"type\":\"scatter\"},{\"line\":{\"color\":\"rgba(128, 0, 128, 0.7037037037037037)\",\"dash\":\"solid\",\"shape\":\"linear\",\"width\":1.3},\"mode\":\"lines\",\"name\":\"MUFA 18:1 c\",\"text\":\"\",\"x\":[0.06613867865546326,0.0992080179831949,0.11904962157983387,0.13227735731092652,0.1455050930420192,0.15873282877311182,0.1719605645042045,0.18518830023529712,0.1984160359663898,0.26455471462185304,0.5291094292437061],\"y\":[3.3959433557890373,3.3959433557890373,3.3959433557890373,3.3959433557890373,3.3959433557890373,3.3959433557890373,3.3959433557890373,3.3959433557890373,3.3959433557890373,3.3959433557890373,3.3959433557890373],\"type\":\"scatter\"},{\"line\":{\"color\":\"rgba(219, 64, 82, 0.7037037037037037)\",\"dash\":\"solid\",\"shape\":\"linear\",\"width\":1.3},\"mode\":\"lines\",\"name\":\"MUFA 20:1\",\"text\":\"\",\"x\":[0.06613867865546326,0.0992080179831949,0.11904962157983387,0.13227735731092652,0.1455050930420192,0.15873282877311182,0.1719605645042045,0.18518830023529712,0.1984160359663898,0.26455471462185304,0.5291094292437061],\"y\":[0.10251556040582342,0.10251556040582342,0.10251556040582342,0.10251556040582342,0.10251556040582342,0.10251556040582342,0.10251556040582342,0.10251556040582342,0.10251556040582342,0.10251556040582342,0.10251556040582342],\"type\":\"scatter\"},{\"line\":{\"color\":\"rgba(0, 128, 128, 0.7037037037037037)\",\"dash\":\"solid\",\"shape\":\"linear\",\"width\":1.3},\"mode\":\"lines\",\"name\":\"MUFA 20:1 c\",\"text\":\"\",\"x\":[0.06613867865546326,0.0992080179831949,0.11904962157983387,0.13227735731092652,0.1455050930420192,0.15873282877311182,0.1719605645042045,0.18518830023529712,0.1984160359663898,0.26455471462185304,0.5291094292437061],\"y\":[0.0,0.0,0.0,0.0,0.0,0.0,0.0,0.0,0.0,0.0,0.0],\"type\":\"scatter\"},{\"line\":{\"color\":\"rgba(255, 255, 51, 0.7037037037037037)\",\"dash\":\"solid\",\"shape\":\"linear\",\"width\":1.3},\"mode\":\"lines\",\"name\":\"MUFA 22:1\",\"text\":\"\",\"x\":[0.06613867865546326,0.0992080179831949,0.11904962157983387,0.13227735731092652,0.1455050930420192,0.15873282877311182,0.1719605645042045,0.18518830023529712,0.1984160359663898,0.26455471462185304,0.5291094292437061],\"y\":[0.0065935766392671655,0.0065935766392671655,0.0065935766392671655,0.0065935766392671655,0.0065935766392671655,0.0065935766392671655,0.0065935766392671655,0.0065935766392671655,0.0065935766392671655,0.0065935766392671655,0.0065935766392671655],\"type\":\"scatter\"},{\"line\":{\"color\":\"rgba(128, 128, 0, 0.7037037037037037)\",\"dash\":\"solid\",\"shape\":\"linear\",\"width\":1.3},\"mode\":\"lines\",\"name\":\"MUFA 22:1 c\",\"text\":\"\",\"x\":[0.06613867865546326,0.0992080179831949,0.11904962157983387,0.13227735731092652,0.1455050930420192,0.15873282877311182,0.1719605645042045,0.18518830023529712,0.1984160359663898,0.26455471462185304,0.5291094292437061],\"y\":[0.0,0.0,0.0,0.0,0.0,0.0,0.0,0.0,0.0,0.0,0.0],\"type\":\"scatter\"},{\"line\":{\"color\":\"rgba(251, 128, 114, 0.7037037037037037)\",\"dash\":\"solid\",\"shape\":\"linear\",\"width\":1.3},\"mode\":\"lines\",\"name\":\"MUFA 22:1 n-11\",\"text\":\"\",\"x\":[0.06613867865546326,0.0992080179831949,0.11904962157983387,0.13227735731092652,0.1455050930420192,0.15873282877311182,0.1719605645042045,0.18518830023529712,0.1984160359663898,0.26455471462185304,0.5291094292437061],\"y\":[0.0,0.0,0.0,0.0,0.0,0.0,0.0,0.0,0.0,0.0,0.0],\"type\":\"scatter\"},{\"line\":{\"color\":\"rgba(128, 177, 211, 0.7037037037037037)\",\"dash\":\"solid\",\"shape\":\"linear\",\"width\":1.3},\"mode\":\"lines\",\"name\":\"MUFA 22:1 n-9\",\"text\":\"\",\"x\":[0.06613867865546326,0.0992080179831949,0.11904962157983387,0.13227735731092652,0.1455050930420192,0.15873282877311182,0.1719605645042045,0.18518830023529712,0.1984160359663898,0.26455471462185304,0.5291094292437061],\"y\":[0.0,0.0,0.0,0.0,0.0,0.0,0.0,0.0,0.0,0.0,0.0],\"type\":\"scatter\"},{\"line\":{\"color\":\"rgba(255, 153, 51, 0.7037037037037037)\",\"dash\":\"solid\",\"shape\":\"linear\",\"width\":1.3},\"mode\":\"lines\",\"name\":\"MUFA 24:1 c\",\"text\":\"\",\"x\":[0.06613867865546326,0.0992080179831949,0.11904962157983387,0.13227735731092652,0.1455050930420192,0.15873282877311182,0.1719605645042045,0.18518830023529712,0.1984160359663898,0.26455471462185304,0.5291094292437061],\"y\":[0.0,0.0,0.0,0.0,0.0,0.0,0.0,0.0,0.0,0.0,0.0],\"type\":\"scatter\"},{\"line\":{\"color\":\"rgba(55, 128, 191, 0.7037037037037037)\",\"dash\":\"solid\",\"shape\":\"linear\",\"width\":1.3},\"mode\":\"lines\",\"name\":\"Magnesium, Mg\",\"text\":\"\",\"x\":[0.06613867865546326,0.0992080179831949,0.11904962157983387,0.13227735731092652,0.1455050930420192,0.15873282877311182,0.1719605645042045,0.18518830023529712,0.1984160359663898,0.26455471462185304,0.5291094292437061],\"y\":[1305.6371185623543,1305.6371185623543,1305.6371185623543,1305.6371185623543,1305.6371185623543,1305.6371185623543,1305.6371185623543,1305.6371185623543,1305.6371185623543,1305.6371185623543,1305.6371185623543],\"type\":\"scatter\"},{\"line\":{\"color\":\"rgba(55, 128, 191, 0.6666666666666667)\",\"dash\":\"solid\",\"shape\":\"linear\",\"width\":1.3},\"mode\":\"lines\",\"name\":\"Maltose\",\"text\":\"\",\"x\":[0.06613867865546326,0.0992080179831949,0.11904962157983387,0.13227735731092652,0.1455050930420192,0.15873282877311182,0.1719605645042045,0.18518830023529712,0.1984160359663898,0.26455471462185304,0.5291094292437061],\"y\":[0.047325509636717625,0.047325509636717625,0.047325509636717625,0.047325509636717625,0.047325509636717625,0.047325509636717625,0.047325509636717625,0.047325509636717625,0.047325509636717625,0.047325509636717625,0.047325509636717625],\"type\":\"scatter\"},{\"line\":{\"color\":\"rgba(50, 171, 96, 0.6666666666666667)\",\"dash\":\"solid\",\"shape\":\"linear\",\"width\":1.3},\"mode\":\"lines\",\"name\":\"Manganese, Mn\",\"text\":\"\",\"x\":[0.06613867865546326,0.0992080179831949,0.11904962157983387,0.13227735731092652,0.1455050930420192,0.15873282877311182,0.1719605645042045,0.18518830023529712,0.1984160359663898,0.26455471462185304,0.5291094292437061],\"y\":[15.833158368512793,15.833158368512793,15.833158368512793,15.833158368512793,15.833158368512793,15.833158368512793,15.833158368512793,15.833158368512793,15.833158368512793,15.833158368512793,15.833158368512793],\"type\":\"scatter\"},{\"line\":{\"color\":\"rgba(128, 0, 128, 0.6666666666666667)\",\"dash\":\"solid\",\"shape\":\"linear\",\"width\":1.3},\"mode\":\"lines\",\"name\":\"Methionine\",\"text\":\"\",\"x\":[0.06613867865546326,0.0992080179831949,0.11904962157983387,0.13227735731092652,0.1455050930420192,0.15873282877311182,0.1719605645042045,0.18518830023529712,0.1984160359663898,0.26455471462185304,0.5291094292437061],\"y\":[1.4295036249082804,1.4295036249082804,1.4295036249082804,1.4295036249082804,1.4295036249082804,1.4295036249082804,1.4295036249082804,1.4295036249082804,1.4295036249082804,1.4295036249082804,1.4295036249082804],\"type\":\"scatter\"},{\"line\":{\"color\":\"rgba(219, 64, 82, 0.6666666666666667)\",\"dash\":\"solid\",\"shape\":\"linear\",\"width\":1.3},\"mode\":\"lines\",\"name\":\"Minerals\",\"text\":\"\",\"x\":[0.06613867865546326,0.0992080179831949,0.11904962157983387,0.13227735731092652,0.1455050930420192,0.15873282877311182,0.1719605645042045,0.18518830023529712,0.1984160359663898,0.26455471462185304,0.5291094292437061],\"y\":[0.0,0.0,0.0,0.0,0.0,0.0,0.0,0.0,0.0,0.0,0.0],\"type\":\"scatter\"},{\"line\":{\"color\":\"rgba(0, 128, 128, 0.6666666666666667)\",\"dash\":\"solid\",\"shape\":\"linear\",\"width\":1.3},\"mode\":\"lines\",\"name\":\"Molybdenum, Mo\",\"text\":\"\",\"x\":[0.06613867865546326,0.0992080179831949,0.11904962157983387,0.13227735731092652,0.1455050930420192,0.15873282877311182,0.1719605645042045,0.18518830023529712,0.1984160359663898,0.26455471462185304,0.5291094292437061],\"y\":[3410.588324148052,3410.588324148052,3410.588324148052,3410.588324148052,3410.588324148052,3410.588324148052,3410.588324148052,3410.588324148052,3410.588324148052,3410.588324148052,3410.588324148052],\"type\":\"scatter\"},{\"line\":{\"color\":\"rgba(255, 255, 51, 0.6666666666666667)\",\"dash\":\"solid\",\"shape\":\"linear\",\"width\":1.3},\"mode\":\"lines\",\"name\":\"Niacin\",\"text\":\"\",\"x\":[0.06613867865546326,0.0992080179831949,0.11904962157983387,0.13227735731092652,0.1455050930420192,0.15873282877311182,0.1719605645042045,0.18518830023529712,0.1984160359663898,0.26455471462185304,0.5291094292437061],\"y\":[26.740351647426728,26.740351647426728,26.740351647426728,26.740351647426728,26.740351647426728,26.740351647426728,26.740351647426728,26.740351647426728,26.740351647426728,26.740351647426728,26.740351647426728],\"type\":\"scatter\"},{\"line\":{\"color\":\"rgba(128, 128, 0, 0.6666666666666667)\",\"dash\":\"solid\",\"shape\":\"linear\",\"width\":1.3},\"mode\":\"lines\",\"name\":\"Nickel, Ni\",\"text\":\"\",\"x\":[0.06613867865546326,0.0992080179831949,0.11904962157983387,0.13227735731092652,0.1455050930420192,0.15873282877311182,0.1719605645042045,0.18518830023529712,0.1984160359663898,0.26455471462185304,0.5291094292437061],\"y\":[715.4821158267108,715.4821158267108,715.4821158267108,715.4821158267108,715.4821158267108,715.4821158267108,715.4821158267108,715.4821158267108,715.4821158267108,715.4821158267108,715.4821158267108],\"type\":\"scatter\"},{\"line\":{\"color\":\"rgba(251, 128, 114, 0.6666666666666667)\",\"dash\":\"solid\",\"shape\":\"linear\",\"width\":1.3},\"mode\":\"lines\",\"name\":\"Nitrogen\",\"text\":\"\",\"x\":[0.06613867865546326,0.0992080179831949,0.11904962157983387,0.13227735731092652,0.1455050930420192,0.15873282877311182,0.1719605645042045,0.18518830023529712,0.1984160359663898,0.26455471462185304,0.5291094292437061],\"y\":[0.8485686094948083,0.8485686094948083,0.8485686094948083,0.8485686094948083,0.8485686094948083,0.8485686094948083,0.8485686094948083,0.8485686094948083,0.8485686094948083,0.8485686094948083,0.8485686094948083],\"type\":\"scatter\"},{\"line\":{\"color\":\"rgba(128, 177, 211, 0.6666666666666667)\",\"dash\":\"solid\",\"shape\":\"linear\",\"width\":1.3},\"mode\":\"lines\",\"name\":\"PUFA 18:2\",\"text\":\"\",\"x\":[0.06613867865546326,0.0992080179831949,0.11904962157983387,0.13227735731092652,0.1455050930420192,0.15873282877311182,0.1719605645042045,0.18518830023529712,0.1984160359663898,0.26455471462185304,0.5291094292437061],\"y\":[46.43613227780567,46.43613227780567,46.43613227780567,46.43613227780567,46.43613227780567,46.43613227780567,46.43613227780567,46.43613227780567,46.43613227780567,46.43613227780567,46.43613227780567],\"type\":\"scatter\"},{\"line\":{\"color\":\"rgba(255, 153, 51, 0.6666666666666667)\",\"dash\":\"solid\",\"shape\":\"linear\",\"width\":1.3},\"mode\":\"lines\",\"name\":\"PUFA 18:2 CLAs\",\"text\":\"\",\"x\":[0.06613867865546326,0.0992080179831949,0.11904962157983387,0.13227735731092652,0.1455050930420192,0.15873282877311182,0.1719605645042045,0.18518830023529712,0.1984160359663898,0.26455471462185304,0.5291094292437061],\"y\":[0.13656789923738513,0.13656789923738513,0.13656789923738513,0.13656789923738513,0.13656789923738513,0.13656789923738513,0.13656789923738513,0.13656789923738513,0.13656789923738513,0.13656789923738513,0.13656789923738513],\"type\":\"scatter\"},{\"line\":{\"color\":\"rgba(255, 153, 51, 0.6296296296296295)\",\"dash\":\"solid\",\"shape\":\"linear\",\"width\":1.3},\"mode\":\"lines\",\"name\":\"PUFA 18:2 c\",\"text\":\"\",\"x\":[0.06613867865546326,0.0992080179831949,0.11904962157983387,0.13227735731092652,0.1455050930420192,0.15873282877311182,0.1719605645042045,0.18518830023529712,0.1984160359663898,0.26455471462185304,0.5291094292437061],\"y\":[0.0,0.0,0.0,0.0,0.0,0.0,0.0,0.0,0.0,0.0,0.0],\"type\":\"scatter\"},{\"line\":{\"color\":\"rgba(55, 128, 191, 0.6296296296296295)\",\"dash\":\"solid\",\"shape\":\"linear\",\"width\":1.3},\"mode\":\"lines\",\"name\":\"PUFA 18:2 n-6 c,c\",\"text\":\"\",\"x\":[0.06613867865546326,0.0992080179831949,0.11904962157983387,0.13227735731092652,0.1455050930420192,0.15873282877311182,0.1719605645042045,0.18518830023529712,0.1984160359663898,0.26455471462185304,0.5291094292437061],\"y\":[18.49616132344744,18.49616132344744,18.49616132344744,18.49616132344744,18.49616132344744,18.49616132344744,18.49616132344744,18.49616132344744,18.49616132344744,18.49616132344744,18.49616132344744],\"type\":\"scatter\"},{\"line\":{\"color\":\"rgba(50, 171, 96, 0.6296296296296295)\",\"dash\":\"solid\",\"shape\":\"linear\",\"width\":1.3},\"mode\":\"lines\",\"name\":\"PUFA 18:3\",\"text\":\"\",\"x\":[0.06613867865546326,0.0992080179831949,0.11904962157983387,0.13227735731092652,0.1455050930420192,0.15873282877311182,0.1719605645042045,0.18518830023529712,0.1984160359663898,0.26455471462185304,0.5291094292437061],\"y\":[10.429098620041312,10.429098620041312,10.429098620041312,10.429098620041312,10.429098620041312,10.429098620041312,10.429098620041312,10.429098620041312,10.429098620041312,10.429098620041312,10.429098620041312],\"type\":\"scatter\"},{\"line\":{\"color\":\"rgba(128, 0, 128, 0.6296296296296295)\",\"dash\":\"solid\",\"shape\":\"linear\",\"width\":1.3},\"mode\":\"lines\",\"name\":\"PUFA 18:3 c\",\"text\":\"\",\"x\":[0.06613867865546326,0.0992080179831949,0.11904962157983387,0.13227735731092652,0.1455050930420192,0.15873282877311182,0.1719605645042045,0.18518830023529712,0.1984160359663898,0.26455471462185304,0.5291094292437061],\"y\":[0.0,0.0,0.0,0.0,0.0,0.0,0.0,0.0,0.0,0.0,0.0],\"type\":\"scatter\"},{\"line\":{\"color\":\"rgba(219, 64, 82, 0.6296296296296295)\",\"dash\":\"solid\",\"shape\":\"linear\",\"width\":1.3},\"mode\":\"lines\",\"name\":\"PUFA 18:3 n-3 c,c,c (ALA)\",\"text\":\"\",\"x\":[0.06613867865546326,0.0992080179831949,0.11904962157983387,0.13227735731092652,0.1455050930420192,0.15873282877311182,0.1719605645042045,0.18518830023529712,0.1984160359663898,0.26455471462185304,0.5291094292437061],\"y\":[5.871067509789368,5.871067509789368,5.871067509789368,5.871067509789368,5.871067509789368,5.871067509789368,5.871067509789368,5.871067509789368,5.871067509789368,5.871067509789368,5.871067509789368],\"type\":\"scatter\"},{\"line\":{\"color\":\"rgba(0, 128, 128, 0.6296296296296295)\",\"dash\":\"solid\",\"shape\":\"linear\",\"width\":1.3},\"mode\":\"lines\",\"name\":\"PUFA 18:3 n-6 c,c,c\",\"text\":\"\",\"x\":[0.06613867865546326,0.0992080179831949,0.11904962157983387,0.13227735731092652,0.1455050930420192,0.15873282877311182,0.1719605645042045,0.18518830023529712,0.1984160359663898,0.26455471462185304,0.5291094292437061],\"y\":[0.9059454701885945,0.9059454701885945,0.9059454701885945,0.9059454701885945,0.9059454701885945,0.9059454701885945,0.9059454701885945,0.9059454701885945,0.9059454701885945,0.9059454701885945,0.9059454701885945],\"type\":\"scatter\"},{\"line\":{\"color\":\"rgba(255, 255, 51, 0.6296296296296295)\",\"dash\":\"solid\",\"shape\":\"linear\",\"width\":1.3},\"mode\":\"lines\",\"name\":\"PUFA 18:3i\",\"text\":\"\",\"x\":[0.06613867865546326,0.0992080179831949,0.11904962157983387,0.13227735731092652,0.1455050930420192,0.15873282877311182,0.1719605645042045,0.18518830023529712,0.1984160359663898,0.26455471462185304,0.5291094292437061],\"y\":[0.0,0.0,0.0,0.0,0.0,0.0,0.0,0.0,0.0,0.0,0.0],\"type\":\"scatter\"},{\"line\":{\"color\":\"rgba(128, 128, 0, 0.6296296296296295)\",\"dash\":\"solid\",\"shape\":\"linear\",\"width\":1.3},\"mode\":\"lines\",\"name\":\"PUFA 18:4\",\"text\":\"\",\"x\":[0.06613867865546326,0.0992080179831949,0.11904962157983387,0.13227735731092652,0.1455050930420192,0.15873282877311182,0.1719605645042045,0.18518830023529712,0.1984160359663898,0.26455471462185304,0.5291094292437061],\"y\":[0.4215362812717225,0.4215362812717225,0.4215362812717225,0.4215362812717225,0.4215362812717225,0.4215362812717225,0.4215362812717225,0.4215362812717225,0.4215362812717225,0.4215362812717225,0.4215362812717225],\"type\":\"scatter\"},{\"line\":{\"color\":\"rgba(251, 128, 114, 0.6296296296296295)\",\"dash\":\"solid\",\"shape\":\"linear\",\"width\":1.3},\"mode\":\"lines\",\"name\":\"PUFA 20:2 c\",\"text\":\"\",\"x\":[0.06613867865546326,0.0992080179831949,0.11904962157983387,0.13227735731092652,0.1455050930420192,0.15873282877311182,0.1719605645042045,0.18518830023529712,0.1984160359663898,0.26455471462185304,0.5291094292437061],\"y\":[0.0,0.0,0.0,0.0,0.0,0.0,0.0,0.0,0.0,0.0,0.0],\"type\":\"scatter\"},{\"line\":{\"color\":\"rgba(128, 177, 211, 0.6296296296296295)\",\"dash\":\"solid\",\"shape\":\"linear\",\"width\":1.3},\"mode\":\"lines\",\"name\":\"PUFA 20:2 n-6 c,c\",\"text\":\"\",\"x\":[0.06613867865546326,0.0992080179831949,0.11904962157983387,0.13227735731092652,0.1455050930420192,0.15873282877311182,0.1719605645042045,0.18518830023529712,0.1984160359663898,0.26455471462185304,0.5291094292437061],\"y\":[0.0,0.0,0.0,0.0,0.0,0.0,0.0,0.0,0.0,0.0,0.0],\"type\":\"scatter\"},{\"line\":{\"color\":\"rgba(128, 177, 211, 0.5925925925925926)\",\"dash\":\"solid\",\"shape\":\"linear\",\"width\":1.3},\"mode\":\"lines\",\"name\":\"PUFA 20:3\",\"text\":\"\",\"x\":[0.06613867865546326,0.0992080179831949,0.11904962157983387,0.13227735731092652,0.1455050930420192,0.15873282877311182,0.1719605645042045,0.18518830023529712,0.1984160359663898,0.26455471462185304,0.5291094292437061],\"y\":[0.0,0.0,0.0,0.0,0.0,0.0,0.0,0.0,0.0,0.0,0.0],\"type\":\"scatter\"},{\"line\":{\"color\":\"rgba(255, 153, 51, 0.5925925925925926)\",\"dash\":\"solid\",\"shape\":\"linear\",\"width\":1.3},\"mode\":\"lines\",\"name\":\"PUFA 20:3 c\",\"text\":\"\",\"x\":[0.06613867865546326,0.0992080179831949,0.11904962157983387,0.13227735731092652,0.1455050930420192,0.15873282877311182,0.1719605645042045,0.18518830023529712,0.1984160359663898,0.26455471462185304,0.5291094292437061],\"y\":[0.0,0.0,0.0,0.0,0.0,0.0,0.0,0.0,0.0,0.0,0.0],\"type\":\"scatter\"},{\"line\":{\"color\":\"rgba(55, 128, 191, 0.5925925925925926)\",\"dash\":\"solid\",\"shape\":\"linear\",\"width\":1.3},\"mode\":\"lines\",\"name\":\"PUFA 20:3 n-3\",\"text\":\"\",\"x\":[0.06613867865546326,0.0992080179831949,0.11904962157983387,0.13227735731092652,0.1455050930420192,0.15873282877311182,0.1719605645042045,0.18518830023529712,0.1984160359663898,0.26455471462185304,0.5291094292437061],\"y\":[0.0,0.0,0.0,0.0,0.0,0.0,0.0,0.0,0.0,0.0,0.0],\"type\":\"scatter\"},{\"line\":{\"color\":\"rgba(50, 171, 96, 0.5925925925925926)\",\"dash\":\"solid\",\"shape\":\"linear\",\"width\":1.3},\"mode\":\"lines\",\"name\":\"PUFA 20:3 n-6\",\"text\":\"\",\"x\":[0.06613867865546326,0.0992080179831949,0.11904962157983387,0.13227735731092652,0.1455050930420192,0.15873282877311182,0.1719605645042045,0.18518830023529712,0.1984160359663898,0.26455471462185304,0.5291094292437061],\"y\":[0.0,0.0,0.0,0.0,0.0,0.0,0.0,0.0,0.0,0.0,0.0],\"type\":\"scatter\"},{\"line\":{\"color\":\"rgba(128, 0, 128, 0.5925925925925926)\",\"dash\":\"solid\",\"shape\":\"linear\",\"width\":1.3},\"mode\":\"lines\",\"name\":\"PUFA 20:3 n-9\",\"text\":\"\",\"x\":[0.06613867865546326,0.0992080179831949,0.11904962157983387,0.13227735731092652,0.1455050930420192,0.15873282877311182,0.1719605645042045,0.18518830023529712,0.1984160359663898,0.26455471462185304,0.5291094292437061],\"y\":[0.0,0.0,0.0,0.0,0.0,0.0,0.0,0.0,0.0,0.0,0.0],\"type\":\"scatter\"},{\"line\":{\"color\":\"rgba(219, 64, 82, 0.5925925925925926)\",\"dash\":\"solid\",\"shape\":\"linear\",\"width\":1.3},\"mode\":\"lines\",\"name\":\"PUFA 20:4\",\"text\":\"\",\"x\":[0.06613867865546326,0.0992080179831949,0.11904962157983387,0.13227735731092652,0.1455050930420192,0.15873282877311182,0.1719605645042045,0.18518830023529712,0.1984160359663898,0.26455471462185304,0.5291094292437061],\"y\":[0.03346737438318939,0.03346737438318939,0.03346737438318939,0.03346737438318939,0.03346737438318939,0.03346737438318939,0.03346737438318939,0.03346737438318939,0.03346737438318939,0.03346737438318939,0.03346737438318939],\"type\":\"scatter\"},{\"line\":{\"color\":\"rgba(0, 128, 128, 0.5925925925925926)\",\"dash\":\"solid\",\"shape\":\"linear\",\"width\":1.3},\"mode\":\"lines\",\"name\":\"PUFA 20:4c\",\"text\":\"\",\"x\":[0.06613867865546326,0.0992080179831949,0.11904962157983387,0.13227735731092652,0.1455050930420192,0.15873282877311182,0.1719605645042045,0.18518830023529712,0.1984160359663898,0.26455471462185304,0.5291094292437061],\"y\":[0.0,0.0,0.0,0.0,0.0,0.0,0.0,0.0,0.0,0.0,0.0],\"type\":\"scatter\"},{\"line\":{\"color\":\"rgba(255, 255, 51, 0.5925925925925926)\",\"dash\":\"solid\",\"shape\":\"linear\",\"width\":1.3},\"mode\":\"lines\",\"name\":\"PUFA 20:5 n-3 (EPA)\",\"text\":\"\",\"x\":[0.06613867865546326,0.0992080179831949,0.11904962157983387,0.13227735731092652,0.1455050930420192,0.15873282877311182,0.1719605645042045,0.18518830023529712,0.1984160359663898,0.26455471462185304,0.5291094292437061],\"y\":[0.07802399023132811,0.07802399023132811,0.07802399023132811,0.07802399023132811,0.07802399023132811,0.07802399023132811,0.07802399023132811,0.07802399023132811,0.07802399023132811,0.07802399023132811,0.07802399023132811],\"type\":\"scatter\"},{\"line\":{\"color\":\"rgba(128, 128, 0, 0.5925925925925926)\",\"dash\":\"solid\",\"shape\":\"linear\",\"width\":1.3},\"mode\":\"lines\",\"name\":\"PUFA 20:5c\",\"text\":\"\",\"x\":[0.06613867865546326,0.0992080179831949,0.11904962157983387,0.13227735731092652,0.1455050930420192,0.15873282877311182,0.1719605645042045,0.18518830023529712,0.1984160359663898,0.26455471462185304,0.5291094292437061],\"y\":[0.0,0.0,0.0,0.0,0.0,0.0,0.0,0.0,0.0,0.0,0.0],\"type\":\"scatter\"},{\"line\":{\"color\":\"rgba(251, 128, 114, 0.5925925925925926)\",\"dash\":\"solid\",\"shape\":\"linear\",\"width\":1.3},\"mode\":\"lines\",\"name\":\"PUFA 22:2\",\"text\":\"\",\"x\":[0.06613867865546326,0.0992080179831949,0.11904962157983387,0.13227735731092652,0.1455050930420192,0.15873282877311182,0.1719605645042045,0.18518830023529712,0.1984160359663898,0.26455471462185304,0.5291094292437061],\"y\":[0.0,0.0,0.0,0.0,0.0,0.0,0.0,0.0,0.0,0.0,0.0],\"type\":\"scatter\"},{\"line\":{\"color\":\"rgba(251, 128, 114, 0.5555555555555556)\",\"dash\":\"solid\",\"shape\":\"linear\",\"width\":1.3},\"mode\":\"lines\",\"name\":\"PUFA 22:3\",\"text\":\"\",\"x\":[0.06613867865546326,0.0992080179831949,0.11904962157983387,0.13227735731092652,0.1455050930420192,0.15873282877311182,0.1719605645042045,0.18518830023529712,0.1984160359663898,0.26455471462185304,0.5291094292437061],\"y\":[0.0,0.0,0.0,0.0,0.0,0.0,0.0,0.0,0.0,0.0,0.0],\"type\":\"scatter\"},{\"line\":{\"color\":\"rgba(128, 177, 211, 0.5555555555555556)\",\"dash\":\"solid\",\"shape\":\"linear\",\"width\":1.3},\"mode\":\"lines\",\"name\":\"PUFA 22:4\",\"text\":\"\",\"x\":[0.06613867865546326,0.0992080179831949,0.11904962157983387,0.13227735731092652,0.1455050930420192,0.15873282877311182,0.1719605645042045,0.18518830023529712,0.1984160359663898,0.26455471462185304,0.5291094292437061],\"y\":[0.0,0.0,0.0,0.0,0.0,0.0,0.0,0.0,0.0,0.0,0.0],\"type\":\"scatter\"},{\"line\":{\"color\":\"rgba(255, 153, 51, 0.5555555555555556)\",\"dash\":\"solid\",\"shape\":\"linear\",\"width\":1.3},\"mode\":\"lines\",\"name\":\"PUFA 22:5 c\",\"text\":\"\",\"x\":[0.06613867865546326,0.0992080179831949,0.11904962157983387,0.13227735731092652,0.1455050930420192,0.15873282877311182,0.1719605645042045,0.18518830023529712,0.1984160359663898,0.26455471462185304,0.5291094292437061],\"y\":[0.0,0.0,0.0,0.0,0.0,0.0,0.0,0.0,0.0,0.0,0.0],\"type\":\"scatter\"},{\"line\":{\"color\":\"rgba(55, 128, 191, 0.5555555555555556)\",\"dash\":\"solid\",\"shape\":\"linear\",\"width\":1.3},\"mode\":\"lines\",\"name\":\"PUFA 22:5 n-3 (DPA)\",\"text\":\"\",\"x\":[0.06613867865546326,0.0992080179831949,0.11904962157983387,0.13227735731092652,0.1455050930420192,0.15873282877311182,0.1719605645042045,0.18518830023529712,0.1984160359663898,0.26455471462185304,0.5291094292437061],\"y\":[0.014286082718412191,0.014286082718412191,0.014286082718412191,0.014286082718412191,0.014286082718412191,0.014286082718412191,0.014286082718412191,0.014286082718412191,0.014286082718412191,0.014286082718412191,0.014286082718412191],\"type\":\"scatter\"},{\"line\":{\"color\":\"rgba(50, 171, 96, 0.5555555555555556)\",\"dash\":\"solid\",\"shape\":\"linear\",\"width\":1.3},\"mode\":\"lines\",\"name\":\"PUFA 22:6 c\",\"text\":\"\",\"x\":[0.06613867865546326,0.0992080179831949,0.11904962157983387,0.13227735731092652,0.1455050930420192,0.15873282877311182,0.1719605645042045,0.18518830023529712,0.1984160359663898,0.26455471462185304,0.5291094292437061],\"y\":[0.0,0.0,0.0,0.0,0.0,0.0,0.0,0.0,0.0,0.0,0.0],\"type\":\"scatter\"},{\"line\":{\"color\":\"rgba(128, 0, 128, 0.5555555555555556)\",\"dash\":\"solid\",\"shape\":\"linear\",\"width\":1.3},\"mode\":\"lines\",\"name\":\"PUFA 22:6 n-3 (DHA)\",\"text\":\"\",\"x\":[0.06613867865546326,0.0992080179831949,0.11904962157983387,0.13227735731092652,0.1455050930420192,0.15873282877311182,0.1719605645042045,0.18518830023529712,0.1984160359663898,0.26455471462185304,0.5291094292437061],\"y\":[0.20330194637740426,0.20330194637740426,0.20330194637740426,0.20330194637740426,0.20330194637740426,0.20330194637740426,0.20330194637740426,0.20330194637740426,0.20330194637740426,0.20330194637740426,0.20330194637740426],\"type\":\"scatter\"},{\"line\":{\"color\":\"rgba(219, 64, 82, 0.5555555555555556)\",\"dash\":\"solid\",\"shape\":\"linear\",\"width\":1.3},\"mode\":\"lines\",\"name\":\"Pantothenic acid\",\"text\":\"\",\"x\":[0.06613867865546326,0.0992080179831949,0.11904962157983387,0.13227735731092652,0.1455050930420192,0.15873282877311182,0.1719605645042045,0.18518830023529712,0.1984160359663898,0.26455471462185304,0.5291094292437061],\"y\":[1.6145779179653028,1.6145779179653028,1.6145779179653028,1.6145779179653028,1.6145779179653028,1.6145779179653028,1.6145779179653028,1.6145779179653028,1.6145779179653028,1.6145779179653028,1.6145779179653028],\"type\":\"scatter\"},{\"line\":{\"color\":\"rgba(0, 128, 128, 0.5555555555555556)\",\"dash\":\"solid\",\"shape\":\"linear\",\"width\":1.3},\"mode\":\"lines\",\"name\":\"Phenylalanine\",\"text\":\"\",\"x\":[0.06613867865546326,0.0992080179831949,0.11904962157983387,0.13227735731092652,0.1455050930420192,0.15873282877311182,0.1719605645042045,0.18518830023529712,0.1984160359663898,0.26455471462185304,0.5291094292437061],\"y\":[2.2218458658557747,2.2218458658557747,2.2218458658557747,2.2218458658557747,2.2218458658557747,2.2218458658557747,2.2218458658557747,2.2218458658557747,2.2218458658557747,2.2218458658557747,2.2218458658557747],\"type\":\"scatter\"},{\"line\":{\"color\":\"rgba(255, 255, 51, 0.5555555555555556)\",\"dash\":\"solid\",\"shape\":\"linear\",\"width\":1.3},\"mode\":\"lines\",\"name\":\"Phosphorus, P\",\"text\":\"\",\"x\":[0.06613867865546326,0.0992080179831949,0.11904962157983387,0.13227735731092652,0.1455050930420192,0.15873282877311182,0.1719605645042045,0.18518830023529712,0.1984160359663898,0.26455471462185304,0.5291094292437061],\"y\":[3486.0093573057347,3486.0093573057347,3486.0093573057347,3486.0093573057347,3486.0093573057347,3486.0093573057347,3486.0093573057347,3486.0093573057347,3486.0093573057347,3486.0093573057347,3486.0093573057347],\"type\":\"scatter\"},{\"line\":{\"color\":\"rgba(128, 128, 0, 0.5555555555555556)\",\"dash\":\"solid\",\"shape\":\"linear\",\"width\":1.3},\"mode\":\"lines\",\"name\":\"Phytosterols\",\"text\":\"\",\"x\":[0.06613867865546326,0.0992080179831949,0.11904962157983387,0.13227735731092652,0.1455050930420192,0.15873282877311182,0.1719605645042045,0.18518830023529712,0.1984160359663898,0.26455471462185304,0.5291094292437061],\"y\":[0.0,0.0,0.0,0.0,0.0,0.0,0.0,0.0,0.0,0.0,0.0],\"type\":\"scatter\"},{\"line\":{\"color\":\"rgba(128, 128, 0, 0.5185185185185186)\",\"dash\":\"solid\",\"shape\":\"linear\",\"width\":1.3},\"mode\":\"lines\",\"name\":\"Phytosterols, other\",\"text\":\"\",\"x\":[0.06613867865546326,0.0992080179831949,0.11904962157983387,0.13227735731092652,0.1455050930420192,0.15873282877311182,0.1719605645042045,0.18518830023529712,0.1984160359663898,0.26455471462185304,0.5291094292437061],\"y\":[0.0,0.0,0.0,0.0,0.0,0.0,0.0,0.0,0.0,0.0,0.0],\"type\":\"scatter\"},{\"line\":{\"color\":\"rgba(251, 128, 114, 0.5185185185185186)\",\"dash\":\"solid\",\"shape\":\"linear\",\"width\":1.3},\"mode\":\"lines\",\"name\":\"Potassium, K\",\"text\":\"\",\"x\":[0.06613867865546326,0.0992080179831949,0.11904962157983387,0.13227735731092652,0.1455050930420192,0.15873282877311182,0.1719605645042045,0.18518830023529712,0.1984160359663898,0.26455471462185304,0.5291094292437061],\"y\":[8068.724766792482,8068.724766792482,8068.724766792482,8068.724766792482,8068.724766792482,8068.724766792482,8068.724766792482,8068.724766792482,8068.724766792482,8068.724766792482,8068.724766792482],\"type\":\"scatter\"},{\"line\":{\"color\":\"rgba(128, 177, 211, 0.5185185185185186)\",\"dash\":\"solid\",\"shape\":\"linear\",\"width\":1.3},\"mode\":\"lines\",\"name\":\"Proline\",\"text\":\"\",\"x\":[0.06613867865546326,0.0992080179831949,0.11904962157983387,0.13227735731092652,0.1455050930420192,0.15873282877311182,0.1719605645042045,0.18518830023529712,0.1984160359663898,0.26455471462185304,0.5291094292437061],\"y\":[2.2553676809912435,2.2553676809912435,2.2553676809912435,2.2553676809912435,2.2553676809912435,2.2553676809912435,2.2553676809912435,2.2553676809912435,2.2553676809912435,2.2553676809912435,2.2553676809912435],\"type\":\"scatter\"},{\"line\":{\"color\":\"rgba(255, 153, 51, 0.5185185185185186)\",\"dash\":\"solid\",\"shape\":\"linear\",\"width\":1.3},\"mode\":\"lines\",\"name\":\"Protein\",\"text\":\"\",\"x\":[0.06613867865546326,0.0992080179831949,0.11904962157983387,0.13227735731092652,0.1455050930420192,0.15873282877311182,0.1719605645042045,0.18518830023529712,0.1984160359663898,0.26455471462185304,0.5291094292437061],\"y\":[148.6399190575282,148.6399190575282,148.6399190575282,148.6399190575282,148.6399190575282,148.6399190575282,148.6399190575282,148.6399190575282,148.6399190575282,148.6399190575282,148.6399190575282],\"type\":\"scatter\"},{\"line\":{\"color\":\"rgba(55, 128, 191, 0.5185185185185186)\",\"dash\":\"solid\",\"shape\":\"linear\",\"width\":1.3},\"mode\":\"lines\",\"name\":\"Proximates\",\"text\":\"\",\"x\":[0.06613867865546326,0.0992080179831949,0.11904962157983387,0.13227735731092652,0.1455050930420192,0.15873282877311182,0.1719605645042045,0.18518830023529712,0.1984160359663898,0.26455471462185304,0.5291094292437061],\"y\":[0.0,0.0,0.0,0.0,0.0,0.0,0.0,0.0,0.0,0.0,0.0],\"type\":\"scatter\"},{\"line\":{\"color\":\"rgba(50, 171, 96, 0.5185185185185186)\",\"dash\":\"solid\",\"shape\":\"linear\",\"width\":1.3},\"mode\":\"lines\",\"name\":\"Retinol\",\"text\":\"\",\"x\":[0.06613867865546326,0.0992080179831949,0.11904962157983387,0.13227735731092652,0.1455050930420192,0.15873282877311182,0.1719605645042045,0.18518830023529712,0.1984160359663898,0.26455471462185304,0.5291094292437061],\"y\":[141.7707934481001,141.7707934481001,141.7707934481001,141.7707934481001,141.7707934481001,141.7707934481001,141.7707934481001,141.7707934481001,141.7707934481001,141.7707934481001,141.7707934481001],\"type\":\"scatter\"},{\"line\":{\"color\":\"rgba(128, 0, 128, 0.5185185185185186)\",\"dash\":\"solid\",\"shape\":\"linear\",\"width\":1.3},\"mode\":\"lines\",\"name\":\"Riboflavin\",\"text\":\"\",\"x\":[0.06613867865546326,0.0992080179831949,0.11904962157983387,0.13227735731092652,0.1455050930420192,0.15873282877311182,0.1719605645042045,0.18518830023529712,0.1984160359663898,0.26455471462185304,0.5291094292437061],\"y\":[1.2999999999999998,1.2999999999999998,1.2999999999999998,1.2999999999999998,1.2999999999999998,1.2999999999999998,1.2999999999999998,1.2999999999999998,1.2999999999999998,1.2999999999999998,1.2999999999999998],\"type\":\"scatter\"},{\"line\":{\"color\":\"rgba(219, 64, 82, 0.5185185185185186)\",\"dash\":\"solid\",\"shape\":\"linear\",\"width\":1.3},\"mode\":\"lines\",\"name\":\"SFA 10:0\",\"text\":\"\",\"x\":[0.06613867865546326,0.0992080179831949,0.11904962157983387,0.13227735731092652,0.1455050930420192,0.15873282877311182,0.1719605645042045,0.18518830023529712,0.1984160359663898,0.26455471462185304,0.5291094292437061],\"y\":[0.0,0.0,0.0,0.0,0.0,0.0,0.0,0.0,0.0,0.0,0.0],\"type\":\"scatter\"},{\"line\":{\"color\":\"rgba(0, 128, 128, 0.5185185185185186)\",\"dash\":\"solid\",\"shape\":\"linear\",\"width\":1.3},\"mode\":\"lines\",\"name\":\"SFA 11:0\",\"text\":\"\",\"x\":[0.06613867865546326,0.0992080179831949,0.11904962157983387,0.13227735731092652,0.1455050930420192,0.15873282877311182,0.1719605645042045,0.18518830023529712,0.1984160359663898,0.26455471462185304,0.5291094292437061],\"y\":[0.0,0.0,0.0,0.0,0.0,0.0,0.0,0.0,0.0,0.0,0.0],\"type\":\"scatter\"},{\"line\":{\"color\":\"rgba(255, 255, 51, 0.5185185185185186)\",\"dash\":\"solid\",\"shape\":\"linear\",\"width\":1.3},\"mode\":\"lines\",\"name\":\"SFA 12:0\",\"text\":\"\",\"x\":[0.06613867865546326,0.0992080179831949,0.11904962157983387,0.13227735731092652,0.1455050930420192,0.15873282877311182,0.1719605645042045,0.18518830023529712,0.1984160359663898,0.26455471462185304,0.5291094292437061],\"y\":[0.004895208946365008,0.004895208946365008,0.004895208946365008,0.004895208946365008,0.004895208946365008,0.004895208946365008,0.004895208946365008,0.004895208946365008,0.004895208946365008,0.004895208946365008,0.004895208946365008],\"type\":\"scatter\"},{\"line\":{\"color\":\"rgba(255, 255, 51, 0.48148148148148145)\",\"dash\":\"solid\",\"shape\":\"linear\",\"width\":1.3},\"mode\":\"lines\",\"name\":\"SFA 14:0\",\"text\":\"\",\"x\":[0.06613867865546326,0.0992080179831949,0.11904962157983387,0.13227735731092652,0.1455050930420192,0.15873282877311182,0.1719605645042045,0.18518830023529712,0.1984160359663898,0.26455471462185304,0.5291094292437061],\"y\":[0.04885238654147944,0.04885238654147944,0.04885238654147944,0.04885238654147944,0.04885238654147944,0.04885238654147944,0.04885238654147944,0.04885238654147944,0.04885238654147944,0.04885238654147944,0.04885238654147944],\"type\":\"scatter\"},{\"line\":{\"color\":\"rgba(128, 128, 0, 0.48148148148148145)\",\"dash\":\"solid\",\"shape\":\"linear\",\"width\":1.3},\"mode\":\"lines\",\"name\":\"SFA 15:0\",\"text\":\"\",\"x\":[0.06613867865546326,0.0992080179831949,0.11904962157983387,0.13227735731092652,0.1455050930420192,0.15873282877311182,0.1719605645042045,0.18518830023529712,0.1984160359663898,0.26455471462185304,0.5291094292437061],\"y\":[0.0,0.0,0.0,0.0,0.0,0.0,0.0,0.0,0.0,0.0,0.0],\"type\":\"scatter\"},{\"line\":{\"color\":\"rgba(251, 128, 114, 0.48148148148148145)\",\"dash\":\"solid\",\"shape\":\"linear\",\"width\":1.3},\"mode\":\"lines\",\"name\":\"SFA 16:0\",\"text\":\"\",\"x\":[0.06613867865546326,0.0992080179831949,0.11904962157983387,0.13227735731092652,0.1455050930420192,0.15873282877311182,0.1719605645042045,0.18518830023529712,0.1984160359663898,0.26455471462185304,0.5291094292437061],\"y\":[7.321097888012301,7.321097888012301,7.321097888012301,7.321097888012301,7.321097888012301,7.321097888012301,7.321097888012301,7.321097888012301,7.321097888012301,7.321097888012301,7.321097888012301],\"type\":\"scatter\"},{\"line\":{\"color\":\"rgba(128, 177, 211, 0.48148148148148145)\",\"dash\":\"solid\",\"shape\":\"linear\",\"width\":1.3},\"mode\":\"lines\",\"name\":\"SFA 17:0\",\"text\":\"\",\"x\":[0.06613867865546326,0.0992080179831949,0.11904962157983387,0.13227735731092652,0.1455050930420192,0.15873282877311182,0.1719605645042045,0.18518830023529712,0.1984160359663898,0.26455471462185304,0.5291094292437061],\"y\":[0.0,0.0,0.0,0.0,0.0,0.0,0.0,0.0,0.0,0.0,0.0],\"type\":\"scatter\"},{\"line\":{\"color\":\"rgba(255, 153, 51, 0.48148148148148145)\",\"dash\":\"solid\",\"shape\":\"linear\",\"width\":1.3},\"mode\":\"lines\",\"name\":\"SFA 18:0\",\"text\":\"\",\"x\":[0.06613867865546326,0.0992080179831949,0.11904962157983387,0.13227735731092652,0.1455050930420192,0.15873282877311182,0.1719605645042045,0.18518830023529712,0.1984160359663898,0.26455471462185304,0.5291094292437061],\"y\":[2.9185756953224047,2.9185756953224047,2.9185756953224047,2.9185756953224047,2.9185756953224047,2.9185756953224047,2.9185756953224047,2.9185756953224047,2.9185756953224047,2.9185756953224047,2.9185756953224047],\"type\":\"scatter\"},{\"line\":{\"color\":\"rgba(55, 128, 191, 0.48148148148148145)\",\"dash\":\"solid\",\"shape\":\"linear\",\"width\":1.3},\"mode\":\"lines\",\"name\":\"SFA 20:0\",\"text\":\"\",\"x\":[0.06613867865546326,0.0992080179831949,0.11904962157983387,0.13227735731092652,0.1455050930420192,0.15873282877311182,0.1719605645042045,0.18518830023529712,0.1984160359663898,0.26455471462185304,0.5291094292437061],\"y\":[0.21093655723794139,0.21093655723794139,0.21093655723794139,0.21093655723794139,0.21093655723794139,0.21093655723794139,0.21093655723794139,0.21093655723794139,0.21093655723794139,0.21093655723794139,0.21093655723794139],\"type\":\"scatter\"},{\"line\":{\"color\":\"rgba(50, 171, 96, 0.48148148148148145)\",\"dash\":\"solid\",\"shape\":\"linear\",\"width\":1.3},\"mode\":\"lines\",\"name\":\"SFA 21:0\",\"text\":\"\",\"x\":[0.06613867865546326,0.0992080179831949,0.11904962157983387,0.13227735731092652,0.1455050930420192,0.15873282877311182,0.1719605645042045,0.18518830023529712,0.1984160359663898,0.26455471462185304,0.5291094292437061],\"y\":[0.0,0.0,0.0,0.0,0.0,0.0,0.0,0.0,0.0,0.0,0.0],\"type\":\"scatter\"},{\"line\":{\"color\":\"rgba(128, 0, 128, 0.48148148148148145)\",\"dash\":\"solid\",\"shape\":\"linear\",\"width\":1.3},\"mode\":\"lines\",\"name\":\"SFA 22:0\",\"text\":\"\",\"x\":[0.06613867865546326,0.0992080179831949,0.11904962157983387,0.13227735731092652,0.1455050930420192,0.15873282877311182,0.1719605645042045,0.18518830023529712,0.1984160359663898,0.26455471462185304,0.5291094292437061],\"y\":[0.08180552380061189,0.08180552380061189,0.08180552380061189,0.08180552380061189,0.08180552380061189,0.08180552380061189,0.08180552380061189,0.08180552380061189,0.08180552380061189,0.08180552380061189,0.08180552380061189],\"type\":\"scatter\"},{\"line\":{\"color\":\"rgba(219, 64, 82, 0.48148148148148145)\",\"dash\":\"solid\",\"shape\":\"linear\",\"width\":1.3},\"mode\":\"lines\",\"name\":\"SFA 23:0\",\"text\":\"\",\"x\":[0.06613867865546326,0.0992080179831949,0.11904962157983387,0.13227735731092652,0.1455050930420192,0.15873282877311182,0.1719605645042045,0.18518830023529712,0.1984160359663898,0.26455471462185304,0.5291094292437061],\"y\":[0.0,0.0,0.0,0.0,0.0,0.0,0.0,0.0,0.0,0.0,0.0],\"type\":\"scatter\"},{\"line\":{\"color\":\"rgba(0, 128, 128, 0.48148148148148145)\",\"dash\":\"solid\",\"shape\":\"linear\",\"width\":1.3},\"mode\":\"lines\",\"name\":\"SFA 24:0\",\"text\":\"\",\"x\":[0.06613867865546326,0.0992080179831949,0.11904962157983387,0.13227735731092652,0.1455050930420192,0.15873282877311182,0.1719605645042045,0.18518830023529712,0.1984160359663898,0.26455471462185304,0.5291094292437061],\"y\":[0.0378604077093741,0.0378604077093741,0.0378604077093741,0.0378604077093741,0.0378604077093741,0.0378604077093741,0.0378604077093741,0.0378604077093741,0.0378604077093741,0.0378604077093741,0.0378604077093741],\"type\":\"scatter\"},{\"line\":{\"color\":\"rgba(0, 128, 128, 0.4444444444444445)\",\"dash\":\"solid\",\"shape\":\"linear\",\"width\":1.3},\"mode\":\"lines\",\"name\":\"SFA 4:0\",\"text\":\"\",\"x\":[0.06613867865546326,0.0992080179831949,0.11904962157983387,0.13227735731092652,0.1455050930420192,0.15873282877311182,0.1719605645042045,0.18518830023529712,0.1984160359663898,0.26455471462185304,0.5291094292437061],\"y\":[0.0,0.0,0.0,0.0,0.0,0.0,0.0,0.0,0.0,0.0,0.0],\"type\":\"scatter\"},{\"line\":{\"color\":\"rgba(255, 255, 51, 0.4444444444444445)\",\"dash\":\"solid\",\"shape\":\"linear\",\"width\":1.3},\"mode\":\"lines\",\"name\":\"SFA 5:0\",\"text\":\"\",\"x\":[0.06613867865546326,0.0992080179831949,0.11904962157983387,0.13227735731092652,0.1455050930420192,0.15873282877311182,0.1719605645042045,0.18518830023529712,0.1984160359663898,0.26455471462185304,0.5291094292437061],\"y\":[0.0,0.0,0.0,0.0,0.0,0.0,0.0,0.0,0.0,0.0,0.0],\"type\":\"scatter\"},{\"line\":{\"color\":\"rgba(128, 128, 0, 0.4444444444444445)\",\"dash\":\"solid\",\"shape\":\"linear\",\"width\":1.3},\"mode\":\"lines\",\"name\":\"SFA 6:0\",\"text\":\"\",\"x\":[0.06613867865546326,0.0992080179831949,0.11904962157983387,0.13227735731092652,0.1455050930420192,0.15873282877311182,0.1719605645042045,0.18518830023529712,0.1984160359663898,0.26455471462185304,0.5291094292437061],\"y\":[0.0,0.0,0.0,0.0,0.0,0.0,0.0,0.0,0.0,0.0,0.0],\"type\":\"scatter\"},{\"line\":{\"color\":\"rgba(251, 128, 114, 0.4444444444444445)\",\"dash\":\"solid\",\"shape\":\"linear\",\"width\":1.3},\"mode\":\"lines\",\"name\":\"SFA 7:0\",\"text\":\"\",\"x\":[0.06613867865546326,0.0992080179831949,0.11904962157983387,0.13227735731092652,0.1455050930420192,0.15873282877311182,0.1719605645042045,0.18518830023529712,0.1984160359663898,0.26455471462185304,0.5291094292437061],\"y\":[0.0,0.0,0.0,0.0,0.0,0.0,0.0,0.0,0.0,0.0,0.0],\"type\":\"scatter\"},{\"line\":{\"color\":\"rgba(128, 177, 211, 0.4444444444444445)\",\"dash\":\"solid\",\"shape\":\"linear\",\"width\":1.3},\"mode\":\"lines\",\"name\":\"SFA 8:0\",\"text\":\"\",\"x\":[0.06613867865546326,0.0992080179831949,0.11904962157983387,0.13227735731092652,0.1455050930420192,0.15873282877311182,0.1719605645042045,0.18518830023529712,0.1984160359663898,0.26455471462185304,0.5291094292437061],\"y\":[0.0,0.0,0.0,0.0,0.0,0.0,0.0,0.0,0.0,0.0,0.0],\"type\":\"scatter\"},{\"line\":{\"color\":\"rgba(255, 153, 51, 0.4444444444444445)\",\"dash\":\"solid\",\"shape\":\"linear\",\"width\":1.3},\"mode\":\"lines\",\"name\":\"SFA 9:0\",\"text\":\"\",\"x\":[0.06613867865546326,0.0992080179831949,0.11904962157983387,0.13227735731092652,0.1455050930420192,0.15873282877311182,0.1719605645042045,0.18518830023529712,0.1984160359663898,0.26455471462185304,0.5291094292437061],\"y\":[0.0,0.0,0.0,0.0,0.0,0.0,0.0,0.0,0.0,0.0,0.0],\"type\":\"scatter\"},{\"line\":{\"color\":\"rgba(55, 128, 191, 0.4444444444444445)\",\"dash\":\"solid\",\"shape\":\"linear\",\"width\":1.3},\"mode\":\"lines\",\"name\":\"Selenium, Se\",\"text\":\"\",\"x\":[0.06613867865546326,0.0992080179831949,0.11904962157983387,0.13227735731092652,0.1455050930420192,0.15873282877311182,0.1719605645042045,0.18518830023529712,0.1984160359663898,0.26455471462185304,0.5291094292437061],\"y\":[44.38343229646095,44.38343229646095,44.38343229646095,44.38343229646095,44.38343229646095,44.38343229646095,44.38343229646095,44.38343229646095,44.38343229646095,44.38343229646095,44.38343229646095],\"type\":\"scatter\"},{\"line\":{\"color\":\"rgba(50, 171, 96, 0.4444444444444445)\",\"dash\":\"solid\",\"shape\":\"linear\",\"width\":1.3},\"mode\":\"lines\",\"name\":\"Serine\",\"text\":\"\",\"x\":[0.06613867865546326,0.0992080179831949,0.11904962157983387,0.13227735731092652,0.1455050930420192,0.15873282877311182,0.1719605645042045,0.18518830023529712,0.1984160359663898,0.26455471462185304,0.5291094292437061],\"y\":[2.3766454361396865,2.3766454361396865,2.3766454361396865,2.3766454361396865,2.3766454361396865,2.3766454361396865,2.3766454361396865,2.3766454361396865,2.3766454361396865,2.3766454361396865,2.3766454361396865],\"type\":\"scatter\"},{\"line\":{\"color\":\"rgba(128, 0, 128, 0.4444444444444445)\",\"dash\":\"solid\",\"shape\":\"linear\",\"width\":1.3},\"mode\":\"lines\",\"name\":\"Sodium, Na\",\"text\":\"\",\"x\":[0.06613867865546326,0.0992080179831949,0.11904962157983387,0.13227735731092652,0.1455050930420192,0.15873282877311182,0.1719605645042045,0.18518830023529712,0.1984160359663898,0.26455471462185304,0.5291094292437061],\"y\":[609.2013292936274,609.2013292936274,609.2013292936274,609.2013292936274,609.2013292936274,609.2013292936274,609.2013292936274,609.2013292936274,609.2013292936274,609.2013292936274,609.2013292936274],\"type\":\"scatter\"},{\"line\":{\"color\":\"rgba(219, 64, 82, 0.4444444444444445)\",\"dash\":\"solid\",\"shape\":\"linear\",\"width\":1.3},\"mode\":\"lines\",\"name\":\"Starch\",\"text\":\"\",\"x\":[0.06613867865546326,0.0992080179831949,0.11904962157983387,0.13227735731092652,0.1455050930420192,0.15873282877311182,0.1719605645042045,0.18518830023529712,0.1984160359663898,0.26455471462185304,0.5291094292437061],\"y\":[135.68210072154207,135.68210072154207,135.68210072154207,135.68210072154207,135.68210072154207,135.68210072154207,135.68210072154207,135.68210072154207,135.68210072154207,135.68210072154207,135.68210072154207],\"type\":\"scatter\"},{\"line\":{\"color\":\"rgba(219, 64, 82, 0.4074074074074075)\",\"dash\":\"solid\",\"shape\":\"linear\",\"width\":1.3},\"mode\":\"lines\",\"name\":\"Stigmasterol\",\"text\":\"\",\"x\":[0.06613867865546326,0.0992080179831949,0.11904962157983387,0.13227735731092652,0.1455050930420192,0.15873282877311182,0.1719605645042045,0.18518830023529712,0.1984160359663898,0.26455471462185304,0.5291094292437061],\"y\":[0.0,0.0,0.0,0.0,0.0,0.0,0.0,0.0,0.0,0.0,0.0],\"type\":\"scatter\"},{\"line\":{\"color\":\"rgba(0, 128, 128, 0.4074074074074075)\",\"dash\":\"solid\",\"shape\":\"linear\",\"width\":1.3},\"mode\":\"lines\",\"name\":\"Sucrose\",\"text\":\"\",\"x\":[0.06613867865546326,0.0992080179831949,0.11904962157983387,0.13227735731092652,0.1455050930420192,0.15873282877311182,0.1719605645042045,0.18518830023529712,0.1984160359663898,0.26455471462185304,0.5291094292437061],\"y\":[0.6532934320709637,0.6532934320709637,0.6532934320709637,0.6532934320709637,0.6532934320709637,0.6532934320709637,0.6532934320709637,0.6532934320709637,0.6532934320709637,0.6532934320709637,0.6532934320709637],\"type\":\"scatter\"},{\"line\":{\"color\":\"rgba(255, 255, 51, 0.4074074074074075)\",\"dash\":\"solid\",\"shape\":\"linear\",\"width\":1.3},\"mode\":\"lines\",\"name\":\"Sugars, Total\",\"text\":\"\",\"x\":[0.06613867865546326,0.0992080179831949,0.11904962157983387,0.13227735731092652,0.1455050930420192,0.15873282877311182,0.1719605645042045,0.18518830023529712,0.1984160359663898,0.26455471462185304,0.5291094292437061],\"y\":[1.0800371002743192,1.0800371002743192,1.0800371002743192,1.0800371002743192,1.0800371002743192,1.0800371002743192,1.0800371002743192,1.0800371002743192,1.0800371002743192,1.0800371002743192,1.0800371002743192],\"type\":\"scatter\"},{\"line\":{\"color\":\"rgba(128, 128, 0, 0.4074074074074075)\",\"dash\":\"solid\",\"shape\":\"linear\",\"width\":1.3},\"mode\":\"lines\",\"name\":\"Sugars, added\",\"text\":\"\",\"x\":[0.06613867865546326,0.0992080179831949,0.11904962157983387,0.13227735731092652,0.1455050930420192,0.15873282877311182,0.1719605645042045,0.18518830023529712,0.1984160359663898,0.26455471462185304,0.5291094292437061],\"y\":[0.0,0.0,0.0,0.0,0.0,0.0,0.0,0.0,0.0,0.0,0.0],\"type\":\"scatter\"},{\"line\":{\"color\":\"rgba(251, 128, 114, 0.4074074074074075)\",\"dash\":\"solid\",\"shape\":\"linear\",\"width\":1.3},\"mode\":\"lines\",\"name\":\"Sugars, total including NLEA\",\"text\":\"\",\"x\":[0.06613867865546326,0.0992080179831949,0.11904962157983387,0.13227735731092652,0.1455050930420192,0.15873282877311182,0.1719605645042045,0.18518830023529712,0.1984160359663898,0.26455471462185304,0.5291094292437061],\"y\":[0.0,0.0,0.0,0.0,0.0,0.0,0.0,0.0,0.0,0.0,0.0],\"type\":\"scatter\"},{\"line\":{\"color\":\"rgba(128, 177, 211, 0.4074074074074075)\",\"dash\":\"solid\",\"shape\":\"linear\",\"width\":1.3},\"mode\":\"lines\",\"name\":\"Sulfur, S\",\"text\":\"\",\"x\":[0.06613867865546326,0.0992080179831949,0.11904962157983387,0.13227735731092652,0.1455050930420192,0.15873282877311182,0.1719605645042045,0.18518830023529712,0.1984160359663898,0.26455471462185304,0.5291094292437061],\"y\":[904.5473381436137,904.5473381436137,904.5473381436137,904.5473381436137,904.5473381436137,904.5473381436137,904.5473381436137,904.5473381436137,904.5473381436137,904.5473381436137,904.5473381436137],\"type\":\"scatter\"},{\"line\":{\"color\":\"rgba(255, 153, 51, 0.4074074074074075)\",\"dash\":\"solid\",\"shape\":\"linear\",\"width\":1.3},\"mode\":\"lines\",\"name\":\"TFA 14:1 t\",\"text\":\"\",\"x\":[0.06613867865546326,0.0992080179831949,0.11904962157983387,0.13227735731092652,0.1455050930420192,0.15873282877311182,0.1719605645042045,0.18518830023529712,0.1984160359663898,0.26455471462185304,0.5291094292437061],\"y\":[0.0,0.0,0.0,0.0,0.0,0.0,0.0,0.0,0.0,0.0,0.0],\"type\":\"scatter\"},{\"line\":{\"color\":\"rgba(55, 128, 191, 0.4074074074074075)\",\"dash\":\"solid\",\"shape\":\"linear\",\"width\":1.3},\"mode\":\"lines\",\"name\":\"TFA 16:1 t\",\"text\":\"\",\"x\":[0.06613867865546326,0.0992080179831949,0.11904962157983387,0.13227735731092652,0.1455050930420192,0.15873282877311182,0.1719605645042045,0.18518830023529712,0.1984160359663898,0.26455471462185304,0.5291094292437061],\"y\":[0.0,0.0,0.0,0.0,0.0,0.0,0.0,0.0,0.0,0.0,0.0],\"type\":\"scatter\"},{\"line\":{\"color\":\"rgba(50, 171, 96, 0.4074074074074075)\",\"dash\":\"solid\",\"shape\":\"linear\",\"width\":1.3},\"mode\":\"lines\",\"name\":\"TFA 18:1 t\",\"text\":\"\",\"x\":[0.06613867865546326,0.0992080179831949,0.11904962157983387,0.13227735731092652,0.1455050930420192,0.15873282877311182,0.1719605645042045,0.18518830023529712,0.1984160359663898,0.26455471462185304,0.5291094292437061],\"y\":[0.0,0.0,0.0,0.0,0.0,0.0,0.0,0.0,0.0,0.0,0.0],\"type\":\"scatter\"},{\"line\":{\"color\":\"rgba(128, 0, 128, 0.4074074074074075)\",\"dash\":\"solid\",\"shape\":\"linear\",\"width\":1.3},\"mode\":\"lines\",\"name\":\"TFA 18:2 t not further defined\",\"text\":\"\",\"x\":[0.06613867865546326,0.0992080179831949,0.11904962157983387,0.13227735731092652,0.1455050930420192,0.15873282877311182,0.1719605645042045,0.18518830023529712,0.1984160359663898,0.26455471462185304,0.5291094292437061],\"y\":[0.0,0.0,0.0,0.0,0.0,0.0,0.0,0.0,0.0,0.0,0.0],\"type\":\"scatter\"},{\"line\":{\"color\":\"rgba(128, 0, 128, 0.3703703703703705)\",\"dash\":\"solid\",\"shape\":\"linear\",\"width\":1.3},\"mode\":\"lines\",\"name\":\"TFA 18:3 t\",\"text\":\"\",\"x\":[0.06613867865546326,0.0992080179831949,0.11904962157983387,0.13227735731092652,0.1455050930420192,0.15873282877311182,0.1719605645042045,0.18518830023529712,0.1984160359663898,0.26455471462185304,0.5291094292437061],\"y\":[0.0,0.0,0.0,0.0,0.0,0.0,0.0,0.0,0.0,0.0,0.0],\"type\":\"scatter\"},{\"line\":{\"color\":\"rgba(219, 64, 82, 0.3703703703703705)\",\"dash\":\"solid\",\"shape\":\"linear\",\"width\":1.3},\"mode\":\"lines\",\"name\":\"TFA 20:1 t\",\"text\":\"\",\"x\":[0.06613867865546326,0.0992080179831949,0.11904962157983387,0.13227735731092652,0.1455050930420192,0.15873282877311182,0.1719605645042045,0.18518830023529712,0.1984160359663898,0.26455471462185304,0.5291094292437061],\"y\":[0.0,0.0,0.0,0.0,0.0,0.0,0.0,0.0,0.0,0.0,0.0],\"type\":\"scatter\"},{\"line\":{\"color\":\"rgba(0, 128, 128, 0.3703703703703705)\",\"dash\":\"solid\",\"shape\":\"linear\",\"width\":1.3},\"mode\":\"lines\",\"name\":\"TFA 22:1 t\",\"text\":\"\",\"x\":[0.06613867865546326,0.0992080179831949,0.11904962157983387,0.13227735731092652,0.1455050930420192,0.15873282877311182,0.1719605645042045,0.18518830023529712,0.1984160359663898,0.26455471462185304,0.5291094292437061],\"y\":[0.0,0.0,0.0,0.0,0.0,0.0,0.0,0.0,0.0,0.0,0.0],\"type\":\"scatter\"},{\"line\":{\"color\":\"rgba(255, 255, 51, 0.3703703703703705)\",\"dash\":\"solid\",\"shape\":\"linear\",\"width\":1.3},\"mode\":\"lines\",\"name\":\"Theobromine\",\"text\":\"\",\"x\":[0.06613867865546326,0.0992080179831949,0.11904962157983387,0.13227735731092652,0.1455050930420192,0.15873282877311182,0.1719605645042045,0.18518830023529712,0.1984160359663898,0.26455471462185304,0.5291094292437061],\"y\":[0.0,0.0,0.0,0.0,0.0,0.0,0.0,0.0,0.0,0.0,0.0],\"type\":\"scatter\"},{\"line\":{\"color\":\"rgba(128, 128, 0, 0.3703703703703705)\",\"dash\":\"solid\",\"shape\":\"linear\",\"width\":1.3},\"mode\":\"lines\",\"name\":\"Thiamin\",\"text\":\"\",\"x\":[0.06613867865546326,0.0992080179831949,0.11904962157983387,0.13227735731092652,0.1455050930420192,0.15873282877311182,0.1719605645042045,0.18518830023529712,0.1984160359663898,0.26455471462185304,0.5291094292437061],\"y\":[1.2000000000000004,1.2000000000000004,1.2000000000000004,1.2000000000000004,1.2000000000000004,1.2000000000000004,1.2000000000000004,1.2000000000000004,1.2000000000000004,1.2000000000000004,1.2000000000000004],\"type\":\"scatter\"},{\"line\":{\"color\":\"rgba(251, 128, 114, 0.3703703703703705)\",\"dash\":\"solid\",\"shape\":\"linear\",\"width\":1.3},\"mode\":\"lines\",\"name\":\"Threonine\",\"text\":\"\",\"x\":[0.06613867865546326,0.0992080179831949,0.11904962157983387,0.13227735731092652,0.1455050930420192,0.15873282877311182,0.1719605645042045,0.18518830023529712,0.1984160359663898,0.26455471462185304,0.5291094292437061],\"y\":[2.148191257348605,2.148191257348605,2.148191257348605,2.148191257348605,2.148191257348605,2.148191257348605,2.148191257348605,2.148191257348605,2.148191257348605,2.148191257348605,2.148191257348605],\"type\":\"scatter\"},{\"line\":{\"color\":\"rgba(128, 177, 211, 0.3703703703703705)\",\"dash\":\"solid\",\"shape\":\"linear\",\"width\":1.3},\"mode\":\"lines\",\"name\":\"Tocopherol, beta\",\"text\":\"\",\"x\":[0.06613867865546326,0.0992080179831949,0.11904962157983387,0.13227735731092652,0.1455050930420192,0.15873282877311182,0.1719605645042045,0.18518830023529712,0.1984160359663898,0.26455471462185304,0.5291094292437061],\"y\":[0.0,0.0,0.0,0.0,0.0,0.0,0.0,0.0,0.0,0.0,0.0],\"type\":\"scatter\"},{\"line\":{\"color\":\"rgba(255, 153, 51, 0.3703703703703705)\",\"dash\":\"solid\",\"shape\":\"linear\",\"width\":1.3},\"mode\":\"lines\",\"name\":\"Tocopherol, delta\",\"text\":\"\",\"x\":[0.06613867865546326,0.0992080179831949,0.11904962157983387,0.13227735731092652,0.1455050930420192,0.15873282877311182,0.1719605645042045,0.18518830023529712,0.1984160359663898,0.26455471462185304,0.5291094292437061],\"y\":[0.0,0.0,0.0,0.0,0.0,0.0,0.0,0.0,0.0,0.0,0.0],\"type\":\"scatter\"},{\"line\":{\"color\":\"rgba(55, 128, 191, 0.3703703703703705)\",\"dash\":\"solid\",\"shape\":\"linear\",\"width\":1.3},\"mode\":\"lines\",\"name\":\"Tocopherol, gamma\",\"text\":\"\",\"x\":[0.06613867865546326,0.0992080179831949,0.11904962157983387,0.13227735731092652,0.1455050930420192,0.15873282877311182,0.1719605645042045,0.18518830023529712,0.1984160359663898,0.26455471462185304,0.5291094292437061],\"y\":[0.18900649254800586,0.18900649254800586,0.18900649254800586,0.18900649254800586,0.18900649254800586,0.18900649254800586,0.18900649254800586,0.18900649254800586,0.18900649254800586,0.18900649254800586,0.18900649254800586],\"type\":\"scatter\"},{\"line\":{\"color\":\"rgba(50, 171, 96, 0.3703703703703705)\",\"dash\":\"solid\",\"shape\":\"linear\",\"width\":1.3},\"mode\":\"lines\",\"name\":\"Tocotrienol, alpha\",\"text\":\"\",\"x\":[0.06613867865546326,0.0992080179831949,0.11904962157983387,0.13227735731092652,0.1455050930420192,0.15873282877311182,0.1719605645042045,0.18518830023529712,0.1984160359663898,0.26455471462185304,0.5291094292437061],\"y\":[0.0,0.0,0.0,0.0,0.0,0.0,0.0,0.0,0.0,0.0,0.0],\"type\":\"scatter\"},{\"line\":{\"color\":\"rgba(50, 171, 96, 0.3333333333333333)\",\"dash\":\"solid\",\"shape\":\"linear\",\"width\":1.3},\"mode\":\"lines\",\"name\":\"Tocotrienol, beta\",\"text\":\"\",\"x\":[0.06613867865546326,0.0992080179831949,0.11904962157983387,0.13227735731092652,0.1455050930420192,0.15873282877311182,0.1719605645042045,0.18518830023529712,0.1984160359663898,0.26455471462185304,0.5291094292437061],\"y\":[0.0,0.0,0.0,0.0,0.0,0.0,0.0,0.0,0.0,0.0,0.0],\"type\":\"scatter\"},{\"line\":{\"color\":\"rgba(128, 0, 128, 0.3333333333333333)\",\"dash\":\"solid\",\"shape\":\"linear\",\"width\":1.3},\"mode\":\"lines\",\"name\":\"Tocotrienol, delta\",\"text\":\"\",\"x\":[0.06613867865546326,0.0992080179831949,0.11904962157983387,0.13227735731092652,0.1455050930420192,0.15873282877311182,0.1719605645042045,0.18518830023529712,0.1984160359663898,0.26455471462185304,0.5291094292437061],\"y\":[0.0,0.0,0.0,0.0,0.0,0.0,0.0,0.0,0.0,0.0,0.0],\"type\":\"scatter\"},{\"line\":{\"color\":\"rgba(219, 64, 82, 0.3333333333333333)\",\"dash\":\"solid\",\"shape\":\"linear\",\"width\":1.3},\"mode\":\"lines\",\"name\":\"Tocotrienol, gamma\",\"text\":\"\",\"x\":[0.06613867865546326,0.0992080179831949,0.11904962157983387,0.13227735731092652,0.1455050930420192,0.15873282877311182,0.1719605645042045,0.18518830023529712,0.1984160359663898,0.26455471462185304,0.5291094292437061],\"y\":[0.0,0.0,0.0,0.0,0.0,0.0,0.0,0.0,0.0,0.0,0.0],\"type\":\"scatter\"},{\"line\":{\"color\":\"rgba(0, 128, 128, 0.3333333333333333)\",\"dash\":\"solid\",\"shape\":\"linear\",\"width\":1.3},\"mode\":\"lines\",\"name\":\"Total Sugars\",\"text\":\"\",\"x\":[0.06613867865546326,0.0992080179831949,0.11904962157983387,0.13227735731092652,0.1455050930420192,0.15873282877311182,0.1719605645042045,0.18518830023529712,0.1984160359663898,0.26455471462185304,0.5291094292437061],\"y\":[2.3445077323919836,2.3445077323919836,2.3445077323919836,2.3445077323919836,2.3445077323919836,2.3445077323919836,2.3445077323919836,2.3445077323919836,2.3445077323919836,2.3445077323919836,2.3445077323919836],\"type\":\"scatter\"},{\"line\":{\"color\":\"rgba(255, 255, 51, 0.3333333333333333)\",\"dash\":\"solid\",\"shape\":\"linear\",\"width\":1.3},\"mode\":\"lines\",\"name\":\"Total dietary fiber (AOAC 2011.25)\",\"text\":\"\",\"x\":[0.06613867865546326,0.0992080179831949,0.11904962157983387,0.13227735731092652,0.1455050930420192,0.15873282877311182,0.1719605645042045,0.18518830023529712,0.1984160359663898,0.26455471462185304,0.5291094292437061],\"y\":[0.0,0.0,0.0,0.0,0.0,0.0,0.0,0.0,0.0,0.0,0.0],\"type\":\"scatter\"},{\"line\":{\"color\":\"rgba(128, 128, 0, 0.3333333333333333)\",\"dash\":\"solid\",\"shape\":\"linear\",\"width\":1.3},\"mode\":\"lines\",\"name\":\"Total fat (NLEA)\",\"text\":\"\",\"x\":[0.06613867865546326,0.0992080179831949,0.11904962157983387,0.13227735731092652,0.1455050930420192,0.15873282877311182,0.1719605645042045,0.18518830023529712,0.1984160359663898,0.26455471462185304,0.5291094292437061],\"y\":[0.0,0.0,0.0,0.0,0.0,0.0,0.0,0.0,0.0,0.0,0.0],\"type\":\"scatter\"},{\"line\":{\"color\":\"rgba(251, 128, 114, 0.3333333333333333)\",\"dash\":\"solid\",\"shape\":\"linear\",\"width\":1.3},\"mode\":\"lines\",\"name\":\"Total lipid (fat)\",\"text\":\"\",\"x\":[0.06613867865546326,0.0992080179831949,0.11904962157983387,0.13227735731092652,0.1455050930420192,0.15873282877311182,0.1719605645042045,0.18518830023529712,0.1984160359663898,0.26455471462185304,0.5291094292437061],\"y\":[99.15628554144703,99.15628554144703,99.15628554144703,99.15628554144703,99.15628554144703,99.15628554144703,99.15628554144703,99.15628554144703,99.15628554144703,99.15628554144703,99.15628554144703],\"type\":\"scatter\"},{\"line\":{\"color\":\"rgba(128, 177, 211, 0.3333333333333333)\",\"dash\":\"solid\",\"shape\":\"linear\",\"width\":1.3},\"mode\":\"lines\",\"name\":\"Tryptophan\",\"text\":\"\",\"x\":[0.06613867865546326,0.0992080179831949,0.11904962157983387,0.13227735731092652,0.1455050930420192,0.15873282877311182,0.1719605645042045,0.18518830023529712,0.1984160359663898,0.26455471462185304,0.5291094292437061],\"y\":[0.5982336008812567,0.5982336008812567,0.5982336008812567,0.5982336008812567,0.5982336008812567,0.5982336008812567,0.5982336008812567,0.5982336008812567,0.5982336008812567,0.5982336008812567,0.5982336008812567],\"type\":\"scatter\"},{\"line\":{\"color\":\"rgba(255, 153, 51, 0.3333333333333333)\",\"dash\":\"solid\",\"shape\":\"linear\",\"width\":1.3},\"mode\":\"lines\",\"name\":\"Tyrosine\",\"text\":\"\",\"x\":[0.06613867865546326,0.0992080179831949,0.11904962157983387,0.13227735731092652,0.1455050930420192,0.15873282877311182,0.1719605645042045,0.18518830023529712,0.1984160359663898,0.26455471462185304,0.5291094292437061],\"y\":[1.870156523841009,1.870156523841009,1.870156523841009,1.870156523841009,1.870156523841009,1.870156523841009,1.870156523841009,1.870156523841009,1.870156523841009,1.870156523841009,1.870156523841009],\"type\":\"scatter\"},{\"line\":{\"color\":\"rgba(55, 128, 191, 0.3333333333333333)\",\"dash\":\"solid\",\"shape\":\"linear\",\"width\":1.3},\"mode\":\"lines\",\"name\":\"Valine\",\"text\":\"\",\"x\":[0.06613867865546326,0.0992080179831949,0.11904962157983387,0.13227735731092652,0.1455050930420192,0.15873282877311182,0.1719605645042045,0.18518830023529712,0.1984160359663898,0.26455471462185304,0.5291094292437061],\"y\":[2.7758659270743227,2.7758659270743227,2.7758659270743227,2.7758659270743227,2.7758659270743227,2.7758659270743227,2.7758659270743227,2.7758659270743227,2.7758659270743227,2.7758659270743227,2.7758659270743227],\"type\":\"scatter\"},{\"line\":{\"color\":\"rgba(55, 128, 191, 0.29629629629629634)\",\"dash\":\"solid\",\"shape\":\"linear\",\"width\":1.3},\"mode\":\"lines\",\"name\":\"Vitamin A\",\"text\":\"\",\"x\":[0.06613867865546326,0.0992080179831949,0.11904962157983387,0.13227735731092652,0.1455050930420192,0.15873282877311182,0.1719605645042045,0.18518830023529712,0.1984160359663898,0.26455471462185304,0.5291094292437061],\"y\":[0.0,0.0,0.0,0.0,0.0,0.0,0.0,0.0,0.0,0.0,0.0],\"type\":\"scatter\"},{\"line\":{\"color\":\"rgba(50, 171, 96, 0.29629629629629634)\",\"dash\":\"solid\",\"shape\":\"linear\",\"width\":1.3},\"mode\":\"lines\",\"name\":\"Vitamin A, IU\",\"text\":\"\",\"x\":[0.06613867865546326,0.0992080179831949,0.11904962157983387,0.13227735731092652,0.1455050930420192,0.15873282877311182,0.1719605645042045,0.18518830023529712,0.1984160359663898,0.26455471462185304,0.5291094292437061],\"y\":[12349.10804757669,12349.10804757669,12349.10804757669,12349.10804757669,12349.10804757669,12349.10804757669,12349.10804757669,12349.10804757669,12349.10804757669,12349.10804757669,12349.10804757669],\"type\":\"scatter\"},{\"line\":{\"color\":\"rgba(128, 0, 128, 0.29629629629629634)\",\"dash\":\"solid\",\"shape\":\"linear\",\"width\":1.3},\"mode\":\"lines\",\"name\":\"Vitamin A, RAE\",\"text\":\"\",\"x\":[0.06613867865546326,0.0992080179831949,0.11904962157983387,0.13227735731092652,0.1455050930420192,0.15873282877311182,0.1719605645042045,0.18518830023529712,0.1984160359663898,0.26455471462185304,0.5291094292437061],\"y\":[957.9688489735888,957.9688489735888,957.9688489735888,957.9688489735888,957.9688489735888,957.9688489735888,957.9688489735888,957.9688489735888,957.9688489735888,957.9688489735888,957.9688489735888],\"type\":\"scatter\"},{\"line\":{\"color\":\"rgba(219, 64, 82, 0.29629629629629634)\",\"dash\":\"solid\",\"shape\":\"linear\",\"width\":1.3},\"mode\":\"lines\",\"name\":\"Vitamin B-12\",\"text\":\"\",\"x\":[0.06613867865546326,0.0992080179831949,0.11904962157983387,0.13227735731092652,0.1455050930420192,0.15873282877311182,0.1719605645042045,0.18518830023529712,0.1984160359663898,0.26455471462185304,0.5291094292437061],\"y\":[3.0036785875505423,3.0036785875505423,3.0036785875505423,3.0036785875505423,3.0036785875505423,3.0036785875505423,3.0036785875505423,3.0036785875505423,3.0036785875505423,3.0036785875505423,3.0036785875505423],\"type\":\"scatter\"},{\"line\":{\"color\":\"rgba(0, 128, 128, 0.29629629629629634)\",\"dash\":\"solid\",\"shape\":\"linear\",\"width\":1.3},\"mode\":\"lines\",\"name\":\"Vitamin B-12, added\",\"text\":\"\",\"x\":[0.06613867865546326,0.0992080179831949,0.11904962157983387,0.13227735731092652,0.1455050930420192,0.15873282877311182,0.1719605645042045,0.18518830023529712,0.1984160359663898,0.26455471462185304,0.5291094292437061],\"y\":[0.0,0.0,0.0,0.0,0.0,0.0,0.0,0.0,0.0,0.0,0.0],\"type\":\"scatter\"},{\"line\":{\"color\":\"rgba(255, 255, 51, 0.29629629629629634)\",\"dash\":\"solid\",\"shape\":\"linear\",\"width\":1.3},\"mode\":\"lines\",\"name\":\"Vitamin B-6\",\"text\":\"\",\"x\":[0.06613867865546326,0.0992080179831949,0.11904962157983387,0.13227735731092652,0.1455050930420192,0.15873282877311182,0.1719605645042045,0.18518830023529712,0.1984160359663898,0.26455471462185304,0.5291094292437061],\"y\":[1.9488651916404167,1.9488651916404167,1.9488651916404167,1.9488651916404167,1.9488651916404167,1.9488651916404167,1.9488651916404167,1.9488651916404167,1.9488651916404167,1.9488651916404167,1.9488651916404167],\"type\":\"scatter\"},{\"line\":{\"color\":\"rgba(128, 128, 0, 0.29629629629629634)\",\"dash\":\"solid\",\"shape\":\"linear\",\"width\":1.3},\"mode\":\"lines\",\"name\":\"Vitamin C, total ascorbic acid\",\"text\":\"\",\"x\":[0.06613867865546326,0.0992080179831949,0.11904962157983387,0.13227735731092652,0.1455050930420192,0.15873282877311182,0.1719605645042045,0.18518830023529712,0.1984160359663898,0.26455471462185304,0.5291094292437061],\"y\":[213.931738154795,213.931738154795,213.931738154795,213.931738154795,213.931738154795,213.931738154795,213.931738154795,213.931738154795,213.931738154795,213.931738154795,213.931738154795],\"type\":\"scatter\"},{\"line\":{\"color\":\"rgba(251, 128, 114, 0.29629629629629634)\",\"dash\":\"solid\",\"shape\":\"linear\",\"width\":1.3},\"mode\":\"lines\",\"name\":\"Vitamin D (D2 + D3)\",\"text\":\"\",\"x\":[0.06613867865546326,0.0992080179831949,0.11904962157983387,0.13227735731092652,0.1455050930420192,0.15873282877311182,0.1719605645042045,0.18518830023529712,0.1984160359663898,0.26455471462185304,0.5291094292437061],\"y\":[3.2412803124094944,3.2412803124094944,3.2412803124094944,3.2412803124094944,3.2412803124094944,3.2412803124094944,3.2412803124094944,3.2412803124094944,3.2412803124094944,3.2412803124094944,3.2412803124094944],\"type\":\"scatter\"},{\"line\":{\"color\":\"rgba(128, 177, 211, 0.29629629629629634)\",\"dash\":\"solid\",\"shape\":\"linear\",\"width\":1.3},\"mode\":\"lines\",\"name\":\"Vitamin D (D2 + D3), International Units\",\"text\":\"\",\"x\":[0.06613867865546326,0.0992080179831949,0.11904962157983387,0.13227735731092652,0.1455050930420192,0.15873282877311182,0.1719605645042045,0.18518830023529712,0.1984160359663898,0.26455471462185304,0.5291094292437061],\"y\":[129.65121249637977,129.65121249637977,129.65121249637977,129.65121249637977,129.65121249637977,129.65121249637977,129.65121249637977,129.65121249637977,129.65121249637977,129.65121249637977,129.65121249637977],\"type\":\"scatter\"},{\"line\":{\"color\":\"rgba(255, 153, 51, 0.29629629629629634)\",\"dash\":\"solid\",\"shape\":\"linear\",\"width\":1.3},\"mode\":\"lines\",\"name\":\"Vitamin D2 (ergocalciferol)\",\"text\":\"\",\"x\":[0.06613867865546326,0.0992080179831949,0.11904962157983387,0.13227735731092652,0.1455050930420192,0.15873282877311182,0.1719605645042045,0.18518830023529712,0.1984160359663898,0.26455471462185304,0.5291094292437061],\"y\":[3.216817819485649,3.216817819485649,3.216817819485649,3.216817819485649,3.216817819485649,3.216817819485649,3.216817819485649,3.216817819485649,3.216817819485649,3.216817819485649,3.216817819485649],\"type\":\"scatter\"},{\"line\":{\"color\":\"rgba(255, 153, 51, 0.25925925925925936)\",\"dash\":\"solid\",\"shape\":\"linear\",\"width\":1.3},\"mode\":\"lines\",\"name\":\"Vitamin D3 (cholecalciferol)\",\"text\":\"\",\"x\":[0.06613867865546326,0.0992080179831949,0.11904962157983387,0.13227735731092652,0.1455050930420192,0.15873282877311182,0.1719605645042045,0.18518830023529712,0.1984160359663898,0.26455471462185304,0.5291094292437061],\"y\":[0.020691191931419096,0.020691191931419096,0.020691191931419096,0.020691191931419096,0.020691191931419096,0.020691191931419096,0.020691191931419096,0.020691191931419096,0.020691191931419096,0.020691191931419096,0.020691191931419096],\"type\":\"scatter\"},{\"line\":{\"color\":\"rgba(55, 128, 191, 0.25925925925925936)\",\"dash\":\"solid\",\"shape\":\"linear\",\"width\":1.3},\"mode\":\"lines\",\"name\":\"Vitamin E\",\"text\":\"\",\"x\":[0.06613867865546326,0.0992080179831949,0.11904962157983387,0.13227735731092652,0.1455050930420192,0.15873282877311182,0.1719605645042045,0.18518830023529712,0.1984160359663898,0.26455471462185304,0.5291094292437061],\"y\":[0.0,0.0,0.0,0.0,0.0,0.0,0.0,0.0,0.0,0.0,0.0],\"type\":\"scatter\"},{\"line\":{\"color\":\"rgba(50, 171, 96, 0.25925925925925936)\",\"dash\":\"solid\",\"shape\":\"linear\",\"width\":1.3},\"mode\":\"lines\",\"name\":\"Vitamin E (alpha-tocopherol)\",\"text\":\"\",\"x\":[0.06613867865546326,0.0992080179831949,0.11904962157983387,0.13227735731092652,0.1455050930420192,0.15873282877311182,0.1719605645042045,0.18518830023529712,0.1984160359663898,0.26455471462185304,0.5291094292437061],\"y\":[15.000000000000002,15.000000000000002,15.000000000000002,15.000000000000002,15.000000000000002,15.000000000000002,15.000000000000002,15.000000000000002,15.000000000000002,15.000000000000002,15.000000000000002],\"type\":\"scatter\"},{\"line\":{\"color\":\"rgba(128, 0, 128, 0.25925925925925936)\",\"dash\":\"solid\",\"shape\":\"linear\",\"width\":1.3},\"mode\":\"lines\",\"name\":\"Vitamin E, added\",\"text\":\"\",\"x\":[0.06613867865546326,0.0992080179831949,0.11904962157983387,0.13227735731092652,0.1455050930420192,0.15873282877311182,0.1719605645042045,0.18518830023529712,0.1984160359663898,0.26455471462185304,0.5291094292437061],\"y\":[0.0,0.0,0.0,0.0,0.0,0.0,0.0,0.0,0.0,0.0,0.0],\"type\":\"scatter\"},{\"line\":{\"color\":\"rgba(219, 64, 82, 0.25925925925925936)\",\"dash\":\"solid\",\"shape\":\"linear\",\"width\":1.3},\"mode\":\"lines\",\"name\":\"Vitamin K (Dihydrophylloquinone)\",\"text\":\"\",\"x\":[0.06613867865546326,0.0992080179831949,0.11904962157983387,0.13227735731092652,0.1455050930420192,0.15873282877311182,0.1719605645042045,0.18518830023529712,0.1984160359663898,0.26455471462185304,0.5291094292437061],\"y\":[0.0,0.0,0.0,0.0,0.0,0.0,0.0,0.0,0.0,0.0,0.0],\"type\":\"scatter\"},{\"line\":{\"color\":\"rgba(0, 128, 128, 0.25925925925925936)\",\"dash\":\"solid\",\"shape\":\"linear\",\"width\":1.3},\"mode\":\"lines\",\"name\":\"Vitamin K (Menaquinone-4)\",\"text\":\"\",\"x\":[0.06613867865546326,0.0992080179831949,0.11904962157983387,0.13227735731092652,0.1455050930420192,0.15873282877311182,0.1719605645042045,0.18518830023529712,0.1984160359663898,0.26455471462185304,0.5291094292437061],\"y\":[0.0,0.0,0.0,0.0,0.0,0.0,0.0,0.0,0.0,0.0,0.0],\"type\":\"scatter\"},{\"line\":{\"color\":\"rgba(255, 255, 51, 0.25925925925925936)\",\"dash\":\"solid\",\"shape\":\"linear\",\"width\":1.3},\"mode\":\"lines\",\"name\":\"Vitamin K (phylloquinone)\",\"text\":\"\",\"x\":[0.06613867865546326,0.0992080179831949,0.11904962157983387,0.13227735731092652,0.1455050930420192,0.15873282877311182,0.1719605645042045,0.18518830023529712,0.1984160359663898,0.26455471462185304,0.5291094292437061],\"y\":[1613.2024775910593,1613.2024775910593,1613.2024775910593,1613.2024775910593,1613.2024775910593,1613.2024775910593,1613.2024775910593,1613.2024775910593,1613.2024775910593,1613.2024775910593,1613.2024775910593],\"type\":\"scatter\"},{\"line\":{\"color\":\"rgba(128, 128, 0, 0.25925925925925936)\",\"dash\":\"solid\",\"shape\":\"linear\",\"width\":1.3},\"mode\":\"lines\",\"name\":\"Vitamins and Other Components\",\"text\":\"\",\"x\":[0.06613867865546326,0.0992080179831949,0.11904962157983387,0.13227735731092652,0.1455050930420192,0.15873282877311182,0.1719605645042045,0.18518830023529712,0.1984160359663898,0.26455471462185304,0.5291094292437061],\"y\":[0.0,0.0,0.0,0.0,0.0,0.0,0.0,0.0,0.0,0.0,0.0],\"type\":\"scatter\"},{\"line\":{\"color\":\"rgba(251, 128, 114, 0.25925925925925936)\",\"dash\":\"solid\",\"shape\":\"linear\",\"width\":1.3},\"mode\":\"lines\",\"name\":\"Water\",\"text\":\"\",\"x\":[0.06613867865546326,0.0992080179831949,0.11904962157983387,0.13227735731092652,0.1455050930420192,0.15873282877311182,0.1719605645042045,0.18518830023529712,0.1984160359663898,0.26455471462185304,0.5291094292437061],\"y\":[632.7858030002457,632.7858030002457,632.7858030002457,632.7858030002457,632.7858030002457,632.7858030002457,632.7858030002457,632.7858030002457,632.7858030002457,632.7858030002457,632.7858030002457],\"type\":\"scatter\"},{\"line\":{\"color\":\"rgba(128, 177, 211, 0.25925925925925936)\",\"dash\":\"solid\",\"shape\":\"linear\",\"width\":1.3},\"mode\":\"lines\",\"name\":\"Zeaxanthin\",\"text\":\"\",\"x\":[0.06613867865546326,0.0992080179831949,0.11904962157983387,0.13227735731092652,0.1455050930420192,0.15873282877311182,0.1719605645042045,0.18518830023529712,0.1984160359663898,0.26455471462185304,0.5291094292437061],\"y\":[0.0,0.0,0.0,0.0,0.0,0.0,0.0,0.0,0.0,0.0,0.0],\"type\":\"scatter\"},{\"line\":{\"color\":\"rgba(128, 177, 211, 0.22222222222222238)\",\"dash\":\"solid\",\"shape\":\"linear\",\"width\":1.3},\"mode\":\"lines\",\"name\":\"Zinc, Zn\",\"text\":\"\",\"x\":[0.06613867865546326,0.0992080179831949,0.11904962157983387,0.13227735731092652,0.1455050930420192,0.15873282877311182,0.1719605645042045,0.18518830023529712,0.1984160359663898,0.26455471462185304,0.5291094292437061],\"y\":[21.372735367682907,21.372735367682907,21.372735367682907,21.372735367682907,21.372735367682907,21.372735367682907,21.372735367682907,21.372735367682907,21.372735367682907,21.372735367682907,21.372735367682907],\"type\":\"scatter\"},{\"line\":{\"color\":\"rgba(255, 153, 51, 0.22222222222222238)\",\"dash\":\"solid\",\"shape\":\"linear\",\"width\":1.3},\"mode\":\"lines\",\"name\":\"cis-Lutein\\u002fZeaxanthin\",\"text\":\"\",\"x\":[0.06613867865546326,0.0992080179831949,0.11904962157983387,0.13227735731092652,0.1455050930420192,0.15873282877311182,0.1719605645042045,0.18518830023529712,0.1984160359663898,0.26455471462185304,0.5291094292437061],\"y\":[0.0,0.0,0.0,0.0,0.0,0.0,0.0,0.0,0.0,0.0,0.0],\"type\":\"scatter\"},{\"line\":{\"color\":\"rgba(55, 128, 191, 0.22222222222222238)\",\"dash\":\"solid\",\"shape\":\"linear\",\"width\":1.3},\"mode\":\"lines\",\"name\":\"cis-Lycopene\",\"text\":\"\",\"x\":[0.06613867865546326,0.0992080179831949,0.11904962157983387,0.13227735731092652,0.1455050930420192,0.15873282877311182,0.1719605645042045,0.18518830023529712,0.1984160359663898,0.26455471462185304,0.5291094292437061],\"y\":[0.0,0.0,0.0,0.0,0.0,0.0,0.0,0.0,0.0,0.0,0.0],\"type\":\"scatter\"},{\"line\":{\"color\":\"rgba(50, 171, 96, 0.22222222222222238)\",\"dash\":\"solid\",\"shape\":\"linear\",\"width\":1.3},\"mode\":\"lines\",\"name\":\"cis-beta-Carotene\",\"text\":\"\",\"x\":[0.06613867865546326,0.0992080179831949,0.11904962157983387,0.13227735731092652,0.1455050930420192,0.15873282877311182,0.1719605645042045,0.18518830023529712,0.1984160359663898,0.26455471462185304,0.5291094292437061],\"y\":[0.0,0.0,0.0,0.0,0.0,0.0,0.0,0.0,0.0,0.0,0.0],\"type\":\"scatter\"},{\"line\":{\"color\":\"rgba(128, 0, 128, 0.22222222222222238)\",\"dash\":\"solid\",\"shape\":\"linear\",\"width\":1.3},\"mode\":\"lines\",\"name\":\"trans-Lycopene\",\"text\":\"\",\"x\":[0.06613867865546326,0.0992080179831949,0.11904962157983387,0.13227735731092652,0.1455050930420192,0.15873282877311182,0.1719605645042045,0.18518830023529712,0.1984160359663898,0.26455471462185304,0.5291094292437061],\"y\":[0.0,0.0,0.0,0.0,0.0,0.0,0.0,0.0,0.0,0.0,0.0],\"type\":\"scatter\"},{\"line\":{\"color\":\"rgba(219, 64, 82, 0.22222222222222238)\",\"dash\":\"solid\",\"shape\":\"linear\",\"width\":1.3},\"mode\":\"lines\",\"name\":\"trans-beta-Carotene\",\"text\":\"\",\"x\":[0.06613867865546326,0.0992080179831949,0.11904962157983387,0.13227735731092652,0.1455050930420192,0.15873282877311182,0.1719605645042045,0.18518830023529712,0.1984160359663898,0.26455471462185304,0.5291094292437061],\"y\":[0.0,0.0,0.0,0.0,0.0,0.0,0.0,0.0,0.0,0.0,0.0],\"type\":\"scatter\"}],                        {\"legend\":{\"bgcolor\":\"#F5F6F9\",\"font\":{\"color\":\"#4D5663\"}},\"paper_bgcolor\":\"#F5F6F9\",\"plot_bgcolor\":\"#F5F6F9\",\"template\":{\"data\":{\"barpolar\":[{\"marker\":{\"line\":{\"color\":\"#E5ECF6\",\"width\":0.5},\"pattern\":{\"fillmode\":\"overlay\",\"size\":10,\"solidity\":0.2}},\"type\":\"barpolar\"}],\"bar\":[{\"error_x\":{\"color\":\"#2a3f5f\"},\"error_y\":{\"color\":\"#2a3f5f\"},\"marker\":{\"line\":{\"color\":\"#E5ECF6\",\"width\":0.5},\"pattern\":{\"fillmode\":\"overlay\",\"size\":10,\"solidity\":0.2}},\"type\":\"bar\"}],\"carpet\":[{\"aaxis\":{\"endlinecolor\":\"#2a3f5f\",\"gridcolor\":\"white\",\"linecolor\":\"white\",\"minorgridcolor\":\"white\",\"startlinecolor\":\"#2a3f5f\"},\"baxis\":{\"endlinecolor\":\"#2a3f5f\",\"gridcolor\":\"white\",\"linecolor\":\"white\",\"minorgridcolor\":\"white\",\"startlinecolor\":\"#2a3f5f\"},\"type\":\"carpet\"}],\"choropleth\":[{\"colorbar\":{\"outlinewidth\":0,\"ticks\":\"\"},\"type\":\"choropleth\"}],\"contourcarpet\":[{\"colorbar\":{\"outlinewidth\":0,\"ticks\":\"\"},\"type\":\"contourcarpet\"}],\"contour\":[{\"colorbar\":{\"outlinewidth\":0,\"ticks\":\"\"},\"colorscale\":[[0.0,\"#0d0887\"],[0.1111111111111111,\"#46039f\"],[0.2222222222222222,\"#7201a8\"],[0.3333333333333333,\"#9c179e\"],[0.4444444444444444,\"#bd3786\"],[0.5555555555555556,\"#d8576b\"],[0.6666666666666666,\"#ed7953\"],[0.7777777777777778,\"#fb9f3a\"],[0.8888888888888888,\"#fdca26\"],[1.0,\"#f0f921\"]],\"type\":\"contour\"}],\"heatmapgl\":[{\"colorbar\":{\"outlinewidth\":0,\"ticks\":\"\"},\"colorscale\":[[0.0,\"#0d0887\"],[0.1111111111111111,\"#46039f\"],[0.2222222222222222,\"#7201a8\"],[0.3333333333333333,\"#9c179e\"],[0.4444444444444444,\"#bd3786\"],[0.5555555555555556,\"#d8576b\"],[0.6666666666666666,\"#ed7953\"],[0.7777777777777778,\"#fb9f3a\"],[0.8888888888888888,\"#fdca26\"],[1.0,\"#f0f921\"]],\"type\":\"heatmapgl\"}],\"heatmap\":[{\"colorbar\":{\"outlinewidth\":0,\"ticks\":\"\"},\"colorscale\":[[0.0,\"#0d0887\"],[0.1111111111111111,\"#46039f\"],[0.2222222222222222,\"#7201a8\"],[0.3333333333333333,\"#9c179e\"],[0.4444444444444444,\"#bd3786\"],[0.5555555555555556,\"#d8576b\"],[0.6666666666666666,\"#ed7953\"],[0.7777777777777778,\"#fb9f3a\"],[0.8888888888888888,\"#fdca26\"],[1.0,\"#f0f921\"]],\"type\":\"heatmap\"}],\"histogram2dcontour\":[{\"colorbar\":{\"outlinewidth\":0,\"ticks\":\"\"},\"colorscale\":[[0.0,\"#0d0887\"],[0.1111111111111111,\"#46039f\"],[0.2222222222222222,\"#7201a8\"],[0.3333333333333333,\"#9c179e\"],[0.4444444444444444,\"#bd3786\"],[0.5555555555555556,\"#d8576b\"],[0.6666666666666666,\"#ed7953\"],[0.7777777777777778,\"#fb9f3a\"],[0.8888888888888888,\"#fdca26\"],[1.0,\"#f0f921\"]],\"type\":\"histogram2dcontour\"}],\"histogram2d\":[{\"colorbar\":{\"outlinewidth\":0,\"ticks\":\"\"},\"colorscale\":[[0.0,\"#0d0887\"],[0.1111111111111111,\"#46039f\"],[0.2222222222222222,\"#7201a8\"],[0.3333333333333333,\"#9c179e\"],[0.4444444444444444,\"#bd3786\"],[0.5555555555555556,\"#d8576b\"],[0.6666666666666666,\"#ed7953\"],[0.7777777777777778,\"#fb9f3a\"],[0.8888888888888888,\"#fdca26\"],[1.0,\"#f0f921\"]],\"type\":\"histogram2d\"}],\"histogram\":[{\"marker\":{\"pattern\":{\"fillmode\":\"overlay\",\"size\":10,\"solidity\":0.2}},\"type\":\"histogram\"}],\"mesh3d\":[{\"colorbar\":{\"outlinewidth\":0,\"ticks\":\"\"},\"type\":\"mesh3d\"}],\"parcoords\":[{\"line\":{\"colorbar\":{\"outlinewidth\":0,\"ticks\":\"\"}},\"type\":\"parcoords\"}],\"pie\":[{\"automargin\":true,\"type\":\"pie\"}],\"scatter3d\":[{\"line\":{\"colorbar\":{\"outlinewidth\":0,\"ticks\":\"\"}},\"marker\":{\"colorbar\":{\"outlinewidth\":0,\"ticks\":\"\"}},\"type\":\"scatter3d\"}],\"scattercarpet\":[{\"marker\":{\"colorbar\":{\"outlinewidth\":0,\"ticks\":\"\"}},\"type\":\"scattercarpet\"}],\"scattergeo\":[{\"marker\":{\"colorbar\":{\"outlinewidth\":0,\"ticks\":\"\"}},\"type\":\"scattergeo\"}],\"scattergl\":[{\"marker\":{\"colorbar\":{\"outlinewidth\":0,\"ticks\":\"\"}},\"type\":\"scattergl\"}],\"scattermapbox\":[{\"marker\":{\"colorbar\":{\"outlinewidth\":0,\"ticks\":\"\"}},\"type\":\"scattermapbox\"}],\"scatterpolargl\":[{\"marker\":{\"colorbar\":{\"outlinewidth\":0,\"ticks\":\"\"}},\"type\":\"scatterpolargl\"}],\"scatterpolar\":[{\"marker\":{\"colorbar\":{\"outlinewidth\":0,\"ticks\":\"\"}},\"type\":\"scatterpolar\"}],\"scatter\":[{\"fillpattern\":{\"fillmode\":\"overlay\",\"size\":10,\"solidity\":0.2},\"type\":\"scatter\"}],\"scatterternary\":[{\"marker\":{\"colorbar\":{\"outlinewidth\":0,\"ticks\":\"\"}},\"type\":\"scatterternary\"}],\"surface\":[{\"colorbar\":{\"outlinewidth\":0,\"ticks\":\"\"},\"colorscale\":[[0.0,\"#0d0887\"],[0.1111111111111111,\"#46039f\"],[0.2222222222222222,\"#7201a8\"],[0.3333333333333333,\"#9c179e\"],[0.4444444444444444,\"#bd3786\"],[0.5555555555555556,\"#d8576b\"],[0.6666666666666666,\"#ed7953\"],[0.7777777777777778,\"#fb9f3a\"],[0.8888888888888888,\"#fdca26\"],[1.0,\"#f0f921\"]],\"type\":\"surface\"}],\"table\":[{\"cells\":{\"fill\":{\"color\":\"#EBF0F8\"},\"line\":{\"color\":\"white\"}},\"header\":{\"fill\":{\"color\":\"#C8D4E3\"},\"line\":{\"color\":\"white\"}},\"type\":\"table\"}]},\"layout\":{\"annotationdefaults\":{\"arrowcolor\":\"#2a3f5f\",\"arrowhead\":0,\"arrowwidth\":1},\"autotypenumbers\":\"strict\",\"coloraxis\":{\"colorbar\":{\"outlinewidth\":0,\"ticks\":\"\"}},\"colorscale\":{\"diverging\":[[0,\"#8e0152\"],[0.1,\"#c51b7d\"],[0.2,\"#de77ae\"],[0.3,\"#f1b6da\"],[0.4,\"#fde0ef\"],[0.5,\"#f7f7f7\"],[0.6,\"#e6f5d0\"],[0.7,\"#b8e186\"],[0.8,\"#7fbc41\"],[0.9,\"#4d9221\"],[1,\"#276419\"]],\"sequential\":[[0.0,\"#0d0887\"],[0.1111111111111111,\"#46039f\"],[0.2222222222222222,\"#7201a8\"],[0.3333333333333333,\"#9c179e\"],[0.4444444444444444,\"#bd3786\"],[0.5555555555555556,\"#d8576b\"],[0.6666666666666666,\"#ed7953\"],[0.7777777777777778,\"#fb9f3a\"],[0.8888888888888888,\"#fdca26\"],[1.0,\"#f0f921\"]],\"sequentialminus\":[[0.0,\"#0d0887\"],[0.1111111111111111,\"#46039f\"],[0.2222222222222222,\"#7201a8\"],[0.3333333333333333,\"#9c179e\"],[0.4444444444444444,\"#bd3786\"],[0.5555555555555556,\"#d8576b\"],[0.6666666666666666,\"#ed7953\"],[0.7777777777777778,\"#fb9f3a\"],[0.8888888888888888,\"#fdca26\"],[1.0,\"#f0f921\"]]},\"colorway\":[\"#636efa\",\"#EF553B\",\"#00cc96\",\"#ab63fa\",\"#FFA15A\",\"#19d3f3\",\"#FF6692\",\"#B6E880\",\"#FF97FF\",\"#FECB52\"],\"font\":{\"color\":\"#2a3f5f\"},\"geo\":{\"bgcolor\":\"white\",\"lakecolor\":\"white\",\"landcolor\":\"#E5ECF6\",\"showlakes\":true,\"showland\":true,\"subunitcolor\":\"white\"},\"hoverlabel\":{\"align\":\"left\"},\"hovermode\":\"closest\",\"mapbox\":{\"style\":\"light\"},\"paper_bgcolor\":\"white\",\"plot_bgcolor\":\"#E5ECF6\",\"polar\":{\"angularaxis\":{\"gridcolor\":\"white\",\"linecolor\":\"white\",\"ticks\":\"\"},\"bgcolor\":\"#E5ECF6\",\"radialaxis\":{\"gridcolor\":\"white\",\"linecolor\":\"white\",\"ticks\":\"\"}},\"scene\":{\"xaxis\":{\"backgroundcolor\":\"#E5ECF6\",\"gridcolor\":\"white\",\"gridwidth\":2,\"linecolor\":\"white\",\"showbackground\":true,\"ticks\":\"\",\"zerolinecolor\":\"white\"},\"yaxis\":{\"backgroundcolor\":\"#E5ECF6\",\"gridcolor\":\"white\",\"gridwidth\":2,\"linecolor\":\"white\",\"showbackground\":true,\"ticks\":\"\",\"zerolinecolor\":\"white\"},\"zaxis\":{\"backgroundcolor\":\"#E5ECF6\",\"gridcolor\":\"white\",\"gridwidth\":2,\"linecolor\":\"white\",\"showbackground\":true,\"ticks\":\"\",\"zerolinecolor\":\"white\"}},\"shapedefaults\":{\"line\":{\"color\":\"#2a3f5f\"}},\"ternary\":{\"aaxis\":{\"gridcolor\":\"white\",\"linecolor\":\"white\",\"ticks\":\"\"},\"baxis\":{\"gridcolor\":\"white\",\"linecolor\":\"white\",\"ticks\":\"\"},\"bgcolor\":\"#E5ECF6\",\"caxis\":{\"gridcolor\":\"white\",\"linecolor\":\"white\",\"ticks\":\"\"}},\"title\":{\"x\":0.05},\"xaxis\":{\"automargin\":true,\"gridcolor\":\"white\",\"linecolor\":\"white\",\"ticks\":\"\",\"title\":{\"standoff\":15},\"zerolinecolor\":\"white\",\"zerolinewidth\":2},\"yaxis\":{\"automargin\":true,\"gridcolor\":\"white\",\"linecolor\":\"white\",\"ticks\":\"\",\"title\":{\"standoff\":15},\"zerolinecolor\":\"white\",\"zerolinewidth\":2}}},\"title\":{\"font\":{\"color\":\"#4D5663\"}},\"xaxis\":{\"gridcolor\":\"#E1E5ED\",\"showgrid\":true,\"tickfont\":{\"color\":\"#4D5663\"},\"title\":{\"font\":{\"color\":\"#4D5663\"},\"text\":\"squash Price\"},\"zerolinecolor\":\"#E1E5ED\"},\"yaxis\":{\"gridcolor\":\"#E1E5ED\",\"showgrid\":true,\"tickfont\":{\"color\":\"#4D5663\"},\"title\":{\"font\":{\"color\":\"#4D5663\"},\"text\":\"Nutrients\"},\"zerolinecolor\":\"#E1E5ED\"}},                        {\"showLink\": true, \"linkText\": \"Export to plot.ly\", \"plotlyServerURL\": \"https://plot.ly\", \"responsive\": true}                    ).then(function(){\n",
       "                            \n",
       "var gd = document.getElementById('0f126e2d-ebb4-4910-8d5e-bbe4cdee5763');\n",
       "var x = new MutationObserver(function (mutations, observer) {{\n",
       "        var display = window.getComputedStyle(gd).display;\n",
       "        if (!display || display === 'none') {{\n",
       "            console.log([gd, 'removed!']);\n",
       "            Plotly.purge(gd);\n",
       "            observer.disconnect();\n",
       "        }}\n",
       "}});\n",
       "\n",
       "// Listen for the removal of the full notebook cells\n",
       "var notebookContainer = gd.closest('#notebook-container');\n",
       "if (notebookContainer) {{\n",
       "    x.observe(notebookContainer, {childList: true});\n",
       "}}\n",
       "\n",
       "// Listen for the clearing of the current output cell\n",
       "var outputEl = gd.closest('.output');\n",
       "if (outputEl) {{\n",
       "    x.observe(outputEl, {childList: true});\n",
       "}}\n",
       "\n",
       "                        })                };                });            </script>        </div>"
      ]
     },
     "metadata": {},
     "output_type": "display_data"
    }
   ],
   "source": [
    "# Matrix product maps quantities of food into quantities of nutrients\n",
    "FoodNutrients = FoodNutrients.drop(columns = 'egg')\n",
    "FoodNutrients = FoodNutrients.fillna(0)\n",
    "NutrientResponse = Diet_response@FoodNutrients.T\n",
    "\n",
    "# Drop columns of missing nutrients\n",
    "NutrientResponse = NutrientResponse.loc[:,NutrientResponse.count()>0]\n",
    "NutrientResponse.iplot(xTitle='%s Price' % ReferenceGood,yTitle='Nutrients')"
   ]
  },
  {
   "cell_type": "code",
   "execution_count": 147,
   "id": "787f1390-78ea-496a-b47d-6e3b716346a1",
   "metadata": {},
   "outputs": [
    {
     "data": {
      "text/html": [
       "        <script type=\"text/javascript\">\n",
       "        window.PlotlyConfig = {MathJaxConfig: 'local'};\n",
       "        if (window.MathJax && window.MathJax.Hub && window.MathJax.Hub.Config) {window.MathJax.Hub.Config({SVG: {font: \"STIX-Web\"}});}\n",
       "        if (typeof require !== 'undefined') {\n",
       "        require.undef(\"plotly\");\n",
       "        requirejs.config({\n",
       "            paths: {\n",
       "                'plotly': ['https://cdn.plot.ly/plotly-2.29.1.min']\n",
       "            }\n",
       "        });\n",
       "        require(['plotly'], function(Plotly) {\n",
       "            window._Plotly = Plotly;\n",
       "        });\n",
       "        }\n",
       "        </script>\n",
       "        "
      ]
     },
     "metadata": {},
     "output_type": "display_data"
    },
    {
     "data": {
      "application/vnd.plotly.v1+json": {
       "config": {
        "linkText": "Export to plot.ly",
        "plotlyServerURL": "https://plot.ly",
        "showLink": true
       },
       "data": [
        {
         "line": {
          "color": "rgba(255, 153, 51, 1.0)",
          "dash": "solid",
          "shape": "linear",
          "width": 1.3
         },
         "mode": "lines",
         "name": "salmon",
         "text": "",
         "type": "scatter",
         "x": [
          -0.6931471805599453,
          -0.5108256237659907,
          -0.35667494393873245,
          -0.22314355131420968,
          -0.10536051565782628,
          0,
          0.09531017980432495,
          0.1823215567939546,
          0.26236426446749106,
          0.33647223662121284,
          0.4054651081081644
         ],
         "y": [
          -0.0004422714353491851,
          0,
          0,
          0,
          0,
          0,
          0,
          0,
          0,
          0,
          0
         ]
        },
        {
         "line": {
          "color": "rgba(55, 128, 191, 1.0)",
          "dash": "solid",
          "shape": "linear",
          "width": 1.3
         },
         "mode": "lines",
         "name": "tuna",
         "text": "",
         "type": "scatter",
         "x": [
          -0.6931471805599453,
          -0.5108256237659907,
          -0.35667494393873245,
          -0.22314355131420968,
          -0.10536051565782628,
          0,
          0.09531017980432495,
          0.1823215567939546,
          0.26236426446749106,
          0.33647223662121284,
          0.4054651081081644
         ],
         "y": [
          -0.029183234069529444,
          -0.021631353031356573,
          -0.014136075702912537,
          -0.007188969226801387,
          -0.0035880244674939355,
          0,
          0.003575196561044012,
          0.007137656613640705,
          0.010687470582452646,
          0.014224727932572593,
          0.017749517183054432
         ]
        },
        {
         "line": {
          "color": "rgba(50, 171, 96, 1.0)",
          "dash": "solid",
          "shape": "linear",
          "width": 1.3
         },
         "mode": "lines",
         "name": "chicken",
         "text": "",
         "type": "scatter",
         "x": [
          -0.6931471805599453,
          -0.5108256237659907,
          -0.35667494393873245,
          -0.22314355131420968,
          -0.10536051565782628,
          0,
          0.09531017980432495,
          0.1823215567939546,
          0.26236426446749106,
          0.33647223662121284,
          0.4054651081081644
         ],
         "y": [
          0,
          0,
          0,
          0,
          0,
          0,
          0,
          0,
          0,
          0,
          0
         ]
        },
        {
         "line": {
          "color": "rgba(128, 0, 128, 1.0)",
          "dash": "solid",
          "shape": "linear",
          "width": 1.3
         },
         "mode": "lines",
         "name": "cottage cheese",
         "text": "",
         "type": "scatter",
         "x": [
          -0.6931471805599453,
          -0.5108256237659907,
          -0.35667494393873245,
          -0.22314355131420968,
          -0.10536051565782628,
          0,
          0.09531017980432495,
          0.1823215567939546,
          0.26236426446749106,
          0.33647223662121284,
          0.4054651081081644
         ],
         "y": [
          0,
          0,
          0,
          0,
          0,
          0,
          0,
          0,
          0,
          0,
          0
         ]
        },
        {
         "line": {
          "color": "rgba(219, 64, 82, 1.0)",
          "dash": "solid",
          "shape": "linear",
          "width": 1.3
         },
         "mode": "lines",
         "name": "greek yogurt",
         "text": "",
         "type": "scatter",
         "x": [
          -0.6931471805599453,
          -0.5108256237659907,
          -0.35667494393873245,
          -0.22314355131420968,
          -0.10536051565782628,
          0,
          0.09531017980432495,
          0.1823215567939546,
          0.26236426446749106,
          0.33647223662121284,
          0.4054651081081644
         ],
         "y": [
          0,
          0,
          0,
          0,
          0,
          0,
          0,
          0,
          0,
          0,
          0
         ]
        },
        {
         "line": {
          "color": "rgba(0, 128, 128, 1.0)",
          "dash": "solid",
          "shape": "linear",
          "width": 1.3
         },
         "mode": "lines",
         "name": "spinach",
         "text": "",
         "type": "scatter",
         "x": [
          -0.6931471805599453,
          -0.5108256237659907,
          -0.35667494393873245,
          -0.22314355131420968,
          -0.10536051565782628,
          0,
          0.09531017980432495,
          0.1823215567939546,
          0.26236426446749106,
          0.33647223662121284,
          0.4054651081081644
         ],
         "y": [
          -0.03316011683331367,
          -0.025180159359956555,
          -0.017700322222408017,
          -0.011503176355291057,
          -0.005735047885556812,
          0,
          0.00570234457722158,
          0.008018463441156934,
          0.008018463441156934,
          0.008018463441156934,
          0.008018463441156934
         ]
        },
        {
         "line": {
          "color": "rgba(255, 255, 51, 1.0)",
          "dash": "solid",
          "shape": "linear",
          "width": 1.3
         },
         "mode": "lines",
         "name": "carrots",
         "text": "",
         "type": "scatter",
         "x": [
          -0.6931471805599453,
          -0.5108256237659907,
          -0.35667494393873245,
          -0.22314355131420968,
          -0.10536051565782628,
          0,
          0.09531017980432495,
          0.1823215567939546,
          0.26236426446749106,
          0.33647223662121284,
          0.4054651081081644
         ],
         "y": [
          0,
          0,
          0,
          0,
          0,
          0,
          0,
          0,
          0,
          0,
          0
         ]
        },
        {
         "line": {
          "color": "rgba(128, 128, 0, 1.0)",
          "dash": "solid",
          "shape": "linear",
          "width": 1.3
         },
         "mode": "lines",
         "name": "kale",
         "text": "",
         "type": "scatter",
         "x": [
          -0.6931471805599453,
          -0.5108256237659907,
          -0.35667494393873245,
          -0.22314355131420968,
          -0.10536051565782628,
          0,
          0.09531017980432495,
          0.1823215567939546,
          0.26236426446749106,
          0.33647223662121284,
          0.4054651081081644
         ],
         "y": [
          -0.07243728803371609,
          -0.05581994604824518,
          -0.03947423252270409,
          -0.023391409966452868,
          -0.007563155813360431,
          0,
          0.007223253104556639,
          0.014062797787441426,
          0.02055848229664279,
          0.026977516687829738,
          0.03330535049352696
         ]
        },
        {
         "line": {
          "color": "rgba(251, 128, 114, 1.0)",
          "dash": "solid",
          "shape": "linear",
          "width": 1.3
         },
         "mode": "lines",
         "name": "collard greens",
         "text": "",
         "type": "scatter",
         "x": [
          -0.6931471805599453,
          -0.5108256237659907,
          -0.35667494393873245,
          -0.22314355131420968,
          -0.10536051565782628,
          0,
          0.09531017980432495,
          0.1823215567939546,
          0.26236426446749106,
          0.33647223662121284,
          0.4054651081081644
         ],
         "y": [
          -0.09739334602081891,
          -0.07714104116510818,
          -0.0572907636492296,
          -0.03782686241431733,
          -0.01873458292963436,
          0,
          0.018390043247489753,
          0.036447990867075855,
          0.05418562467475469,
          0.07161411042040587,
          0.08874404000478579
         ]
        },
        {
         "line": {
          "color": "rgba(128, 177, 211, 1.0)",
          "dash": "solid",
          "shape": "linear",
          "width": 1.3
         },
         "mode": "lines",
         "name": "coconut milk",
         "text": "",
         "type": "scatter",
         "x": [
          -0.6931471805599453,
          -0.5108256237659907,
          -0.35667494393873245,
          -0.22314355131420968,
          -0.10536051565782628,
          0,
          0.09531017980432495,
          0.1823215567939546,
          0.26236426446749106,
          0.33647223662121284,
          0.4054651081081644
         ],
         "y": [
          0,
          0,
          0,
          0,
          0,
          0,
          0,
          0,
          0,
          0,
          0
         ]
        },
        {
         "line": {
          "color": "rgba(128, 177, 211, 0.8999999999999999)",
          "dash": "solid",
          "shape": "linear",
          "width": 1.3
         },
         "mode": "lines",
         "name": "squash",
         "text": "",
         "type": "scatter",
         "x": [
          -0.6931471805599453,
          -0.5108256237659907,
          -0.35667494393873245,
          -0.22314355131420968,
          -0.10536051565782628,
          0,
          0.09531017980432495,
          0.1823215567939546,
          0.26236426446749106,
          0.33647223662121284,
          0.4054651081081644
         ],
         "y": [
          -3.33066907387547e-16,
          -3.33066907387547e-16,
          -3.33066907387547e-16,
          0,
          0,
          0,
          0,
          0,
          0,
          0,
          0
         ]
        },
        {
         "line": {
          "color": "rgba(255, 153, 51, 0.8999999999999999)",
          "dash": "solid",
          "shape": "linear",
          "width": 1.3
         },
         "mode": "lines",
         "name": "cauliflower",
         "text": "",
         "type": "scatter",
         "x": [
          -0.6931471805599453,
          -0.5108256237659907,
          -0.35667494393873245,
          -0.22314355131420968,
          -0.10536051565782628,
          0,
          0.09531017980432495,
          0.1823215567939546,
          0.26236426446749106,
          0.33647223662121284,
          0.4054651081081644
         ],
         "y": [
          0,
          0,
          0,
          0,
          0,
          0,
          0,
          0,
          0,
          0,
          0
         ]
        },
        {
         "line": {
          "color": "rgba(55, 128, 191, 0.8999999999999999)",
          "dash": "solid",
          "shape": "linear",
          "width": 1.3
         },
         "mode": "lines",
         "name": "broccoli",
         "text": "",
         "type": "scatter",
         "x": [
          -0.6931471805599453,
          -0.5108256237659907,
          -0.35667494393873245,
          -0.22314355131420968,
          -0.10536051565782628,
          0,
          0.09531017980432495,
          0.1823215567939546,
          0.26236426446749106,
          0.33647223662121284,
          0.4054651081081644
         ],
         "y": [
          0,
          0,
          0,
          0,
          0,
          0,
          0,
          0,
          0,
          0,
          0
         ]
        },
        {
         "line": {
          "color": "rgba(50, 171, 96, 0.8999999999999999)",
          "dash": "solid",
          "shape": "linear",
          "width": 1.3
         },
         "mode": "lines",
         "name": "asparagus",
         "text": "",
         "type": "scatter",
         "x": [
          -0.6931471805599453,
          -0.5108256237659907,
          -0.35667494393873245,
          -0.22314355131420968,
          -0.10536051565782628,
          0,
          0.09531017980432495,
          0.1823215567939546,
          0.26236426446749106,
          0.33647223662121284,
          0.4054651081081644
         ],
         "y": [
          -0.0005568966457233982,
          0,
          0,
          0,
          0,
          0,
          0,
          0,
          0,
          0,
          0
         ]
        },
        {
         "line": {
          "color": "rgba(128, 0, 128, 0.8999999999999999)",
          "dash": "solid",
          "shape": "linear",
          "width": 1.3
         },
         "mode": "lines",
         "name": "green beans",
         "text": "",
         "type": "scatter",
         "x": [
          -0.6931471805599453,
          -0.5108256237659907,
          -0.35667494393873245,
          -0.22314355131420968,
          -0.10536051565782628,
          0,
          0.09531017980432495,
          0.1823215567939546,
          0.26236426446749106,
          0.33647223662121284,
          0.4054651081081644
         ],
         "y": [
          0,
          0,
          0,
          0,
          0,
          0,
          0,
          0,
          0,
          0,
          0
         ]
        },
        {
         "line": {
          "color": "rgba(219, 64, 82, 0.8999999999999999)",
          "dash": "solid",
          "shape": "linear",
          "width": 1.3
         },
         "mode": "lines",
         "name": "almonds",
         "text": "",
         "type": "scatter",
         "x": [
          -0.6931471805599453,
          -0.5108256237659907,
          -0.35667494393873245,
          -0.22314355131420968,
          -0.10536051565782628,
          0,
          0.09531017980432495,
          0.1823215567939546,
          0.26236426446749106,
          0.33647223662121284,
          0.4054651081081644
         ],
         "y": [
          0,
          0,
          0,
          0,
          0,
          0,
          0,
          0,
          0,
          0,
          0
         ]
        },
        {
         "line": {
          "color": "rgba(0, 128, 128, 0.8999999999999999)",
          "dash": "solid",
          "shape": "linear",
          "width": 1.3
         },
         "mode": "lines",
         "name": "chia seeds",
         "text": "",
         "type": "scatter",
         "x": [
          -0.6931471805599453,
          -0.5108256237659907,
          -0.35667494393873245,
          -0.22314355131420968,
          -0.10536051565782628,
          0,
          0.09531017980432495,
          0.1823215567939546,
          0.26236426446749106,
          0.33647223662121284,
          0.4054651081081644
         ],
         "y": [
          0,
          0,
          0,
          0,
          0,
          0,
          0,
          0,
          0,
          0,
          0
         ]
        },
        {
         "line": {
          "color": "rgba(255, 255, 51, 0.8999999999999999)",
          "dash": "solid",
          "shape": "linear",
          "width": 1.3
         },
         "mode": "lines",
         "name": "olive oil",
         "text": "",
         "type": "scatter",
         "x": [
          -0.6931471805599453,
          -0.5108256237659907,
          -0.35667494393873245,
          -0.22314355131420968,
          -0.10536051565782628,
          0,
          0.09531017980432495,
          0.1823215567939546,
          0.26236426446749106,
          0.33647223662121284,
          0.4054651081081644
         ],
         "y": [
          0,
          0,
          0,
          0,
          0,
          0,
          0,
          0,
          0,
          0,
          0
         ]
        },
        {
         "line": {
          "color": "rgba(128, 128, 0, 0.8999999999999999)",
          "dash": "solid",
          "shape": "linear",
          "width": 1.3
         },
         "mode": "lines",
         "name": "almond milk",
         "text": "",
         "type": "scatter",
         "x": [
          -0.6931471805599453,
          -0.5108256237659907,
          -0.35667494393873245,
          -0.22314355131420968,
          -0.10536051565782628,
          0,
          0.09531017980432495,
          0.1823215567939546,
          0.26236426446749106,
          0.33647223662121284,
          0.4054651081081644
         ],
         "y": [
          -0.04528778458545605,
          -0.035981579716651654,
          -0.026864082907070784,
          -0.017828964327818508,
          -0.0088747486940362,
          0,
          0.008796679863019876,
          0.017516652428637036,
          0.02518377088773801,
          0.0308406813247191,
          0.03646577104855324
         ]
        },
        {
         "line": {
          "color": "rgba(251, 128, 114, 0.8999999999999999)",
          "dash": "solid",
          "shape": "linear",
          "width": 1.3
         },
         "mode": "lines",
         "name": "cod fillets",
         "text": "",
         "type": "scatter",
         "x": [
          -0.6931471805599453,
          -0.5108256237659907,
          -0.35667494393873245,
          -0.22314355131420968,
          -0.10536051565782628,
          0,
          0.09531017980432495,
          0.1823215567939546,
          0.26236426446749106,
          0.33647223662121284,
          0.4054651081081644
         ],
         "y": [
          0,
          0,
          0,
          0,
          0,
          0,
          0,
          0,
          0,
          0,
          0
         ]
        },
        {
         "line": {
          "color": "rgba(251, 128, 114, 0.7999999999999998)",
          "dash": "solid",
          "shape": "linear",
          "width": 1.3
         },
         "mode": "lines",
         "name": "pork loin",
         "text": "",
         "type": "scatter",
         "x": [
          -0.6931471805599453,
          -0.5108256237659907,
          -0.35667494393873245,
          -0.22314355131420968,
          -0.10536051565782628,
          0,
          0.09531017980432495,
          0.1823215567939546,
          0.26236426446749106,
          0.33647223662121284,
          0.4054651081081644
         ],
         "y": [
          0,
          0,
          0,
          0,
          0,
          0,
          0,
          0,
          0,
          0,
          0
         ]
        },
        {
         "line": {
          "color": "rgba(128, 177, 211, 0.7999999999999998)",
          "dash": "solid",
          "shape": "linear",
          "width": 1.3
         },
         "mode": "lines",
         "name": "ground beef 80% lean 20% fat",
         "text": "",
         "type": "scatter",
         "x": [
          -0.6931471805599453,
          -0.5108256237659907,
          -0.35667494393873245,
          -0.22314355131420968,
          -0.10536051565782628,
          0,
          0.09531017980432495,
          0.1823215567939546,
          0.26236426446749106,
          0.33647223662121284,
          0.4054651081081644
         ],
         "y": [
          0,
          0,
          0,
          0,
          0,
          0,
          0,
          0,
          0,
          0,
          0
         ]
        },
        {
         "line": {
          "color": "rgba(255, 153, 51, 0.7999999999999998)",
          "dash": "solid",
          "shape": "linear",
          "width": 1.3
         },
         "mode": "lines",
         "name": "avocado",
         "text": "",
         "type": "scatter",
         "x": [
          -0.6931471805599453,
          -0.5108256237659907,
          -0.35667494393873245,
          -0.22314355131420968,
          -0.10536051565782628,
          0,
          0.09531017980432495,
          0.1823215567939546,
          0.26236426446749106,
          0.33647223662121284,
          0.4054651081081644
         ],
         "y": [
          0,
          0,
          0,
          0,
          0,
          0,
          0,
          0,
          0,
          0,
          0
         ]
        },
        {
         "line": {
          "color": "rgba(55, 128, 191, 0.7999999999999998)",
          "dash": "solid",
          "shape": "linear",
          "width": 1.3
         },
         "mode": "lines",
         "name": "egg",
         "text": "",
         "type": "scatter",
         "x": [
          -0.6931471805599453,
          -0.5108256237659907,
          -0.35667494393873245,
          -0.22314355131420968,
          -0.10536051565782628,
          0,
          0.09531017980432495,
          0.1823215567939546,
          0.26236426446749106,
          0.33647223662121284,
          0.4054651081081644
         ],
         "y": [
          0,
          0,
          0,
          0,
          0,
          0,
          0,
          0,
          0,
          0,
          0
         ]
        },
        {
         "line": {
          "color": "rgba(50, 171, 96, 0.7999999999999998)",
          "dash": "solid",
          "shape": "linear",
          "width": 1.3
         },
         "mode": "lines",
         "name": "coconut oil",
         "text": "",
         "type": "scatter",
         "x": [
          -0.6931471805599453,
          -0.5108256237659907,
          -0.35667494393873245,
          -0.22314355131420968,
          -0.10536051565782628,
          0,
          0.09531017980432495,
          0.1823215567939546,
          0.26236426446749106,
          0.33647223662121284,
          0.4054651081081644
         ],
         "y": [
          0,
          0,
          0,
          0,
          0,
          0,
          0,
          0,
          0,
          0,
          0
         ]
        },
        {
         "line": {
          "color": "rgba(128, 0, 128, 0.7999999999999998)",
          "dash": "solid",
          "shape": "linear",
          "width": 1.3
         },
         "mode": "lines",
         "name": "almond flour",
         "text": "",
         "type": "scatter",
         "x": [
          -0.6931471805599453,
          -0.5108256237659907,
          -0.35667494393873245,
          -0.22314355131420968,
          -0.10536051565782628,
          0,
          0.09531017980432495,
          0.1823215567939546,
          0.26236426446749106,
          0.33647223662121284,
          0.4054651081081644
         ],
         "y": [
          0,
          0,
          0,
          0,
          0,
          0,
          0,
          0,
          0,
          0,
          0
         ]
        },
        {
         "line": {
          "color": "rgba(219, 64, 82, 0.7999999999999998)",
          "dash": "solid",
          "shape": "linear",
          "width": 1.3
         },
         "mode": "lines",
         "name": "mayonnaise",
         "text": "",
         "type": "scatter",
         "x": [
          -0.6931471805599453,
          -0.5108256237659907,
          -0.35667494393873245,
          -0.22314355131420968,
          -0.10536051565782628,
          0,
          0.09531017980432495,
          0.1823215567939546,
          0.26236426446749106,
          0.33647223662121284,
          0.4054651081081644
         ],
         "y": [
          -0.028335679229356543,
          -0.022603946351382846,
          -0.016904879093504643,
          -0.01123810723649043,
          -0.005603266819537482,
          0,
          0.005572045082974243,
          0.011113214441030575,
          0.016623848365540424,
          0.022104281552999712,
          0.027554843227011808
         ]
        },
        {
         "line": {
          "color": "rgba(0, 128, 128, 0.7999999999999998)",
          "dash": "solid",
          "shape": "linear",
          "width": 1.3
         },
         "mode": "lines",
         "name": "cabbage",
         "text": "",
         "type": "scatter",
         "x": [
          -0.6931471805599453,
          -0.5108256237659907,
          -0.35667494393873245,
          -0.22314355131420968,
          -0.10536051565782628,
          0,
          0.09531017980432495,
          0.1823215567939546,
          0.26236426446749106,
          0.33647223662121284,
          0.4054651081081644
         ],
         "y": [
          0,
          0,
          0,
          0,
          0,
          0,
          0,
          0,
          0,
          0,
          0
         ]
        },
        {
         "line": {
          "color": "rgba(255, 255, 51, 0.7999999999999998)",
          "dash": "solid",
          "shape": "linear",
          "width": 1.3
         },
         "mode": "lines",
         "name": "green bell pepper",
         "text": "",
         "type": "scatter",
         "x": [
          -0.6931471805599453,
          -0.5108256237659907,
          -0.35667494393873245,
          -0.22314355131420968,
          -0.10536051565782628,
          0,
          0.09531017980432495,
          0.1823215567939546,
          0.26236426446749106,
          0.33647223662121284,
          0.4054651081081644
         ],
         "y": [
          0,
          0,
          0,
          0,
          0,
          0,
          0,
          0,
          0,
          0,
          0
         ]
        },
        {
         "line": {
          "color": "rgba(128, 128, 0, 0.7999999999999998)",
          "dash": "solid",
          "shape": "linear",
          "width": 1.3
         },
         "mode": "lines",
         "name": "bacon",
         "text": "",
         "type": "scatter",
         "x": [
          -0.6931471805599453,
          -0.5108256237659907,
          -0.35667494393873245,
          -0.22314355131420968,
          -0.10536051565782628,
          0,
          0.09531017980432495,
          0.1823215567939546,
          0.26236426446749106,
          0.33647223662121284,
          0.4054651081081644
         ],
         "y": [
          0,
          0,
          0,
          0,
          0,
          0,
          0,
          0,
          0,
          0,
          0
         ]
        },
        {
         "line": {
          "color": "rgba(128, 128, 0, 0.7)",
          "dash": "solid",
          "shape": "linear",
          "width": 1.3
         },
         "mode": "lines",
         "name": "ground turkey",
         "text": "",
         "type": "scatter",
         "x": [
          -0.6931471805599453,
          -0.5108256237659907,
          -0.35667494393873245,
          -0.22314355131420968,
          -0.10536051565782628,
          0,
          0.09531017980432495,
          0.1823215567939546,
          0.26236426446749106,
          0.33647223662121284,
          0.4054651081081644
         ],
         "y": [
          0,
          0,
          0,
          0,
          0,
          0,
          0,
          0,
          0,
          0,
          0
         ]
        },
        {
         "line": {
          "color": "rgba(251, 128, 114, 0.7)",
          "dash": "solid",
          "shape": "linear",
          "width": 1.3
         },
         "mode": "lines",
         "name": "tofu",
         "text": "",
         "type": "scatter",
         "x": [
          -0.6931471805599453,
          -0.5108256237659907,
          -0.35667494393873245,
          -0.22314355131420968,
          -0.10536051565782628,
          0,
          0.09531017980432495,
          0.1823215567939546,
          0.26236426446749106,
          0.33647223662121284,
          0.4054651081081644
         ],
         "y": [
          0,
          0,
          0,
          0,
          0,
          0,
          0,
          0,
          0,
          0,
          0
         ]
        },
        {
         "line": {
          "color": "rgba(128, 177, 211, 0.7)",
          "dash": "solid",
          "shape": "linear",
          "width": 1.3
         },
         "mode": "lines",
         "name": "kefir",
         "text": "",
         "type": "scatter",
         "x": [
          -0.6931471805599453,
          -0.5108256237659907,
          -0.35667494393873245,
          -0.22314355131420968,
          -0.10536051565782628,
          0,
          0.09531017980432495,
          0.1823215567939546,
          0.26236426446749106,
          0.33647223662121284,
          0.4054651081081644
         ],
         "y": [
          0,
          0,
          0,
          0,
          0,
          0,
          0,
          0,
          0,
          0,
          0
         ]
        },
        {
         "line": {
          "color": "rgba(255, 153, 51, 0.7)",
          "dash": "solid",
          "shape": "linear",
          "width": 1.3
         },
         "mode": "lines",
         "name": "hemp seeds",
         "text": "",
         "type": "scatter",
         "x": [
          -0.6931471805599453,
          -0.5108256237659907,
          -0.35667494393873245,
          -0.22314355131420968,
          -0.10536051565782628,
          0,
          0.09531017980432495,
          0.1823215567939546,
          0.26236426446749106,
          0.33647223662121284,
          0.4054651081081644
         ],
         "y": [
          -0.22363900067011389,
          -0.17473085010153921,
          -0.12810358618247544,
          -0.08355391130960457,
          -0.040904552368250316,
          0,
          0.03929691434853335,
          0.07710779381665331,
          0.11354094562439057,
          0.14869325144717135,
          0.18265172004482907
         ]
        },
        {
         "line": {
          "color": "rgba(55, 128, 191, 0.7)",
          "dash": "solid",
          "shape": "linear",
          "width": 1.3
         },
         "mode": "lines",
         "name": "frozen berries",
         "text": "",
         "type": "scatter",
         "x": [
          -0.6931471805599453,
          -0.5108256237659907,
          -0.35667494393873245,
          -0.22314355131420968,
          -0.10536051565782628,
          0,
          0.09531017980432495,
          0.1823215567939546,
          0.26236426446749106,
          0.33647223662121284,
          0.4054651081081644
         ],
         "y": [
          0,
          0,
          0,
          0,
          0,
          0,
          0,
          0,
          0,
          0,
          0
         ]
        },
        {
         "line": {
          "color": "rgba(50, 171, 96, 0.7)",
          "dash": "solid",
          "shape": "linear",
          "width": 1.3
         },
         "mode": "lines",
         "name": "zuchini noodles",
         "text": "",
         "type": "scatter",
         "x": [
          -0.6931471805599453,
          -0.5108256237659907,
          -0.35667494393873245,
          -0.22314355131420968,
          -0.10536051565782628,
          0,
          0.09531017980432495,
          0.1823215567939546,
          0.26236426446749106,
          0.33647223662121284,
          0.4054651081081644
         ],
         "y": [
          0,
          0,
          0,
          0,
          0,
          0,
          0,
          0,
          0,
          0,
          0
         ]
        },
        {
         "line": {
          "color": "rgba(128, 0, 128, 0.7)",
          "dash": "solid",
          "shape": "linear",
          "width": 1.3
         },
         "mode": "lines",
         "name": "peanuts",
         "text": "",
         "type": "scatter",
         "x": [
          -0.6931471805599453,
          -0.5108256237659907,
          -0.35667494393873245,
          -0.22314355131420968,
          -0.10536051565782628,
          0,
          0.09531017980432495,
          0.1823215567939546,
          0.26236426446749106,
          0.33647223662121284,
          0.4054651081081644
         ],
         "y": [
          0,
          0,
          0,
          0,
          0,
          0,
          0,
          0,
          0,
          0,
          0
         ]
        },
        {
         "line": {
          "color": "rgba(219, 64, 82, 0.7)",
          "dash": "solid",
          "shape": "linear",
          "width": 1.3
         },
         "mode": "lines",
         "name": "walnuts",
         "text": "",
         "type": "scatter",
         "x": [
          -0.6931471805599453,
          -0.5108256237659907,
          -0.35667494393873245,
          -0.22314355131420968,
          -0.10536051565782628,
          0,
          0.09531017980432495,
          0.1823215567939546,
          0.26236426446749106,
          0.33647223662121284,
          0.4054651081081644
         ],
         "y": [
          0,
          0,
          0,
          0,
          0,
          0,
          0,
          0,
          0,
          0,
          0
         ]
        },
        {
         "line": {
          "color": "rgba(0, 128, 128, 0.7)",
          "dash": "solid",
          "shape": "linear",
          "width": 1.3
         },
         "mode": "lines",
         "name": "manzanilla olives",
         "text": "",
         "type": "scatter",
         "x": [
          -0.6931471805599453,
          -0.5108256237659907,
          -0.35667494393873245,
          -0.22314355131420968,
          -0.10536051565782628,
          0,
          0.09531017980432495,
          0.1823215567939546,
          0.26236426446749106,
          0.33647223662121284,
          0.4054651081081644
         ],
         "y": [
          0,
          0,
          0,
          0,
          0,
          0,
          0,
          0,
          0,
          0,
          0
         ]
        },
        {
         "line": {
          "color": "rgba(255, 255, 51, 0.7)",
          "dash": "solid",
          "shape": "linear",
          "width": 1.3
         },
         "mode": "lines",
         "name": "apple",
         "text": "",
         "type": "scatter",
         "x": [
          -0.6931471805599453,
          -0.5108256237659907,
          -0.35667494393873245,
          -0.22314355131420968,
          -0.10536051565782628,
          0,
          0.09531017980432495,
          0.1823215567939546,
          0.26236426446749106,
          0.33647223662121284,
          0.4054651081081644
         ],
         "y": [
          0,
          0,
          0,
          0,
          0,
          0,
          0,
          0,
          0,
          0,
          0
         ]
        },
        {
         "line": {
          "color": "rgba(255, 255, 51, 0.5999999999999999)",
          "dash": "solid",
          "shape": "linear",
          "width": 1.3
         },
         "mode": "lines",
         "name": "tomato",
         "text": "",
         "type": "scatter",
         "x": [
          -0.6931471805599453,
          -0.5108256237659907,
          -0.35667494393873245,
          -0.22314355131420968,
          -0.10536051565782628,
          0,
          0.09531017980432495,
          0.1823215567939546,
          0.26236426446749106,
          0.33647223662121284,
          0.4054651081081644
         ],
         "y": [
          0,
          0,
          0,
          0,
          0,
          0,
          0,
          0,
          0,
          0,
          0
         ]
        },
        {
         "line": {
          "color": "rgba(128, 128, 0, 0.5999999999999999)",
          "dash": "solid",
          "shape": "linear",
          "width": 1.3
         },
         "mode": "lines",
         "name": "spam",
         "text": "",
         "type": "scatter",
         "x": [
          -0.6931471805599453,
          -0.5108256237659907,
          -0.35667494393873245,
          -0.22314355131420968,
          -0.10536051565782628,
          0,
          0.09531017980432495,
          0.1823215567939546,
          0.26236426446749106,
          0.33647223662121284,
          0.4054651081081644
         ],
         "y": [
          0,
          0,
          0,
          0,
          0,
          0,
          0,
          0,
          0,
          0,
          0
         ]
        },
        {
         "line": {
          "color": "rgba(251, 128, 114, 0.5999999999999999)",
          "dash": "solid",
          "shape": "linear",
          "width": 1.3
         },
         "mode": "lines",
         "name": "black beans",
         "text": "",
         "type": "scatter",
         "x": [
          -0.6931471805599453,
          -0.5108256237659907,
          -0.35667494393873245,
          -0.22314355131420968,
          -0.10536051565782628,
          0,
          0.09531017980432495,
          0.1823215567939546,
          0.26236426446749106,
          0.33647223662121284,
          0.4054651081081644
         ],
         "y": [
          -0.05333670351377839,
          -0.04243934893954892,
          -0.031659467703398614,
          -0.020994554071044613,
          -0.010442181634783882,
          0,
          0.01033426835711078,
          0.02056283107110031,
          0.03068782871788281,
          0.04071133750347807,
          0.050635371819333024
         ]
        },
        {
         "line": {
          "color": "rgba(128, 177, 211, 0.5999999999999999)",
          "dash": "solid",
          "shape": "linear",
          "width": 1.3
         },
         "mode": "lines",
         "name": "cauliflower rice",
         "text": "",
         "type": "scatter",
         "x": [
          -0.6931471805599453,
          -0.5108256237659907,
          -0.35667494393873245,
          -0.22314355131420968,
          -0.10536051565782628,
          0,
          0.09531017980432495,
          0.1823215567939546,
          0.26236426446749106,
          0.33647223662121284,
          0.4054651081081644
         ],
         "y": [
          0,
          0,
          0,
          0,
          0,
          0,
          0,
          0,
          0,
          0,
          0
         ]
        },
        {
         "line": {
          "color": "rgba(255, 153, 51, 0.5999999999999999)",
          "dash": "solid",
          "shape": "linear",
          "width": 1.3
         },
         "mode": "lines",
         "name": "creamy almond butter no salt",
         "text": "",
         "type": "scatter",
         "x": [
          -0.6931471805599453,
          -0.5108256237659907,
          -0.35667494393873245,
          -0.22314355131420968,
          -0.10536051565782628,
          0,
          0.09531017980432495,
          0.1823215567939546,
          0.26236426446749106,
          0.33647223662121284,
          0.4054651081081644
         ],
         "y": [
          0,
          0,
          0,
          0,
          0,
          0,
          0,
          0,
          0,
          0,
          0
         ]
        },
        {
         "line": {
          "color": "rgba(55, 128, 191, 0.5999999999999999)",
          "dash": "solid",
          "shape": "linear",
          "width": 1.3
         },
         "mode": "lines",
         "name": "creamy salted peanut butter",
         "text": "",
         "type": "scatter",
         "x": [
          -0.6931471805599453,
          -0.5108256237659907,
          -0.35667494393873245,
          -0.22314355131420968,
          -0.10536051565782628,
          0,
          0.09531017980432495,
          0.1823215567939546,
          0.26236426446749106,
          0.33647223662121284,
          0.4054651081081644
         ],
         "y": [
          0,
          0,
          0,
          0,
          0,
          0,
          0,
          0,
          0,
          0,
          0
         ]
        },
        {
         "line": {
          "color": "rgba(50, 171, 96, 0.5999999999999999)",
          "dash": "solid",
          "shape": "linear",
          "width": 1.3
         },
         "mode": "lines",
         "name": "wild arugula",
         "text": "",
         "type": "scatter",
         "x": [
          -0.6931471805599453,
          -0.5108256237659907,
          -0.35667494393873245,
          -0.22314355131420968,
          -0.10536051565782628,
          0,
          0.09531017980432495,
          0.1823215567939546,
          0.26236426446749106,
          0.33647223662121284,
          0.4054651081081644
         ],
         "y": [
          0,
          0,
          0,
          0,
          0,
          0,
          0,
          0,
          0,
          0,
          0
         ]
        },
        {
         "line": {
          "color": "rgba(128, 0, 128, 0.5999999999999999)",
          "dash": "solid",
          "shape": "linear",
          "width": 1.3
         },
         "mode": "lines",
         "name": "traditional whole milk ricotta cheese",
         "text": "",
         "type": "scatter",
         "x": [
          -0.6931471805599453,
          -0.5108256237659907,
          -0.35667494393873245,
          -0.22314355131420968,
          -0.10536051565782628,
          0,
          0.09531017980432495,
          0.1823215567939546,
          0.26236426446749106,
          0.33647223662121284,
          0.4054651081081644
         ],
         "y": [
          0,
          0,
          0,
          0,
          0,
          0,
          0,
          0,
          0,
          0,
          0
         ]
        }
       ],
       "layout": {
        "autosize": true,
        "legend": {
         "bgcolor": "#F5F6F9",
         "font": {
          "color": "#4D5663"
         }
        },
        "paper_bgcolor": "#F5F6F9",
        "plot_bgcolor": "#F5F6F9",
        "template": {
         "data": {
          "bar": [
           {
            "error_x": {
             "color": "#2a3f5f"
            },
            "error_y": {
             "color": "#2a3f5f"
            },
            "marker": {
             "line": {
              "color": "#E5ECF6",
              "width": 0.5
             },
             "pattern": {
              "fillmode": "overlay",
              "size": 10,
              "solidity": 0.2
             }
            },
            "type": "bar"
           }
          ],
          "barpolar": [
           {
            "marker": {
             "line": {
              "color": "#E5ECF6",
              "width": 0.5
             },
             "pattern": {
              "fillmode": "overlay",
              "size": 10,
              "solidity": 0.2
             }
            },
            "type": "barpolar"
           }
          ],
          "carpet": [
           {
            "aaxis": {
             "endlinecolor": "#2a3f5f",
             "gridcolor": "white",
             "linecolor": "white",
             "minorgridcolor": "white",
             "startlinecolor": "#2a3f5f"
            },
            "baxis": {
             "endlinecolor": "#2a3f5f",
             "gridcolor": "white",
             "linecolor": "white",
             "minorgridcolor": "white",
             "startlinecolor": "#2a3f5f"
            },
            "type": "carpet"
           }
          ],
          "choropleth": [
           {
            "colorbar": {
             "outlinewidth": 0,
             "ticks": ""
            },
            "type": "choropleth"
           }
          ],
          "contour": [
           {
            "colorbar": {
             "outlinewidth": 0,
             "ticks": ""
            },
            "colorscale": [
             [
              0,
              "#0d0887"
             ],
             [
              0.1111111111111111,
              "#46039f"
             ],
             [
              0.2222222222222222,
              "#7201a8"
             ],
             [
              0.3333333333333333,
              "#9c179e"
             ],
             [
              0.4444444444444444,
              "#bd3786"
             ],
             [
              0.5555555555555556,
              "#d8576b"
             ],
             [
              0.6666666666666666,
              "#ed7953"
             ],
             [
              0.7777777777777778,
              "#fb9f3a"
             ],
             [
              0.8888888888888888,
              "#fdca26"
             ],
             [
              1,
              "#f0f921"
             ]
            ],
            "type": "contour"
           }
          ],
          "contourcarpet": [
           {
            "colorbar": {
             "outlinewidth": 0,
             "ticks": ""
            },
            "type": "contourcarpet"
           }
          ],
          "heatmap": [
           {
            "colorbar": {
             "outlinewidth": 0,
             "ticks": ""
            },
            "colorscale": [
             [
              0,
              "#0d0887"
             ],
             [
              0.1111111111111111,
              "#46039f"
             ],
             [
              0.2222222222222222,
              "#7201a8"
             ],
             [
              0.3333333333333333,
              "#9c179e"
             ],
             [
              0.4444444444444444,
              "#bd3786"
             ],
             [
              0.5555555555555556,
              "#d8576b"
             ],
             [
              0.6666666666666666,
              "#ed7953"
             ],
             [
              0.7777777777777778,
              "#fb9f3a"
             ],
             [
              0.8888888888888888,
              "#fdca26"
             ],
             [
              1,
              "#f0f921"
             ]
            ],
            "type": "heatmap"
           }
          ],
          "heatmapgl": [
           {
            "colorbar": {
             "outlinewidth": 0,
             "ticks": ""
            },
            "colorscale": [
             [
              0,
              "#0d0887"
             ],
             [
              0.1111111111111111,
              "#46039f"
             ],
             [
              0.2222222222222222,
              "#7201a8"
             ],
             [
              0.3333333333333333,
              "#9c179e"
             ],
             [
              0.4444444444444444,
              "#bd3786"
             ],
             [
              0.5555555555555556,
              "#d8576b"
             ],
             [
              0.6666666666666666,
              "#ed7953"
             ],
             [
              0.7777777777777778,
              "#fb9f3a"
             ],
             [
              0.8888888888888888,
              "#fdca26"
             ],
             [
              1,
              "#f0f921"
             ]
            ],
            "type": "heatmapgl"
           }
          ],
          "histogram": [
           {
            "marker": {
             "pattern": {
              "fillmode": "overlay",
              "size": 10,
              "solidity": 0.2
             }
            },
            "type": "histogram"
           }
          ],
          "histogram2d": [
           {
            "colorbar": {
             "outlinewidth": 0,
             "ticks": ""
            },
            "colorscale": [
             [
              0,
              "#0d0887"
             ],
             [
              0.1111111111111111,
              "#46039f"
             ],
             [
              0.2222222222222222,
              "#7201a8"
             ],
             [
              0.3333333333333333,
              "#9c179e"
             ],
             [
              0.4444444444444444,
              "#bd3786"
             ],
             [
              0.5555555555555556,
              "#d8576b"
             ],
             [
              0.6666666666666666,
              "#ed7953"
             ],
             [
              0.7777777777777778,
              "#fb9f3a"
             ],
             [
              0.8888888888888888,
              "#fdca26"
             ],
             [
              1,
              "#f0f921"
             ]
            ],
            "type": "histogram2d"
           }
          ],
          "histogram2dcontour": [
           {
            "colorbar": {
             "outlinewidth": 0,
             "ticks": ""
            },
            "colorscale": [
             [
              0,
              "#0d0887"
             ],
             [
              0.1111111111111111,
              "#46039f"
             ],
             [
              0.2222222222222222,
              "#7201a8"
             ],
             [
              0.3333333333333333,
              "#9c179e"
             ],
             [
              0.4444444444444444,
              "#bd3786"
             ],
             [
              0.5555555555555556,
              "#d8576b"
             ],
             [
              0.6666666666666666,
              "#ed7953"
             ],
             [
              0.7777777777777778,
              "#fb9f3a"
             ],
             [
              0.8888888888888888,
              "#fdca26"
             ],
             [
              1,
              "#f0f921"
             ]
            ],
            "type": "histogram2dcontour"
           }
          ],
          "mesh3d": [
           {
            "colorbar": {
             "outlinewidth": 0,
             "ticks": ""
            },
            "type": "mesh3d"
           }
          ],
          "parcoords": [
           {
            "line": {
             "colorbar": {
              "outlinewidth": 0,
              "ticks": ""
             }
            },
            "type": "parcoords"
           }
          ],
          "pie": [
           {
            "automargin": true,
            "type": "pie"
           }
          ],
          "scatter": [
           {
            "fillpattern": {
             "fillmode": "overlay",
             "size": 10,
             "solidity": 0.2
            },
            "type": "scatter"
           }
          ],
          "scatter3d": [
           {
            "line": {
             "colorbar": {
              "outlinewidth": 0,
              "ticks": ""
             }
            },
            "marker": {
             "colorbar": {
              "outlinewidth": 0,
              "ticks": ""
             }
            },
            "type": "scatter3d"
           }
          ],
          "scattercarpet": [
           {
            "marker": {
             "colorbar": {
              "outlinewidth": 0,
              "ticks": ""
             }
            },
            "type": "scattercarpet"
           }
          ],
          "scattergeo": [
           {
            "marker": {
             "colorbar": {
              "outlinewidth": 0,
              "ticks": ""
             }
            },
            "type": "scattergeo"
           }
          ],
          "scattergl": [
           {
            "marker": {
             "colorbar": {
              "outlinewidth": 0,
              "ticks": ""
             }
            },
            "type": "scattergl"
           }
          ],
          "scattermapbox": [
           {
            "marker": {
             "colorbar": {
              "outlinewidth": 0,
              "ticks": ""
             }
            },
            "type": "scattermapbox"
           }
          ],
          "scatterpolar": [
           {
            "marker": {
             "colorbar": {
              "outlinewidth": 0,
              "ticks": ""
             }
            },
            "type": "scatterpolar"
           }
          ],
          "scatterpolargl": [
           {
            "marker": {
             "colorbar": {
              "outlinewidth": 0,
              "ticks": ""
             }
            },
            "type": "scatterpolargl"
           }
          ],
          "scatterternary": [
           {
            "marker": {
             "colorbar": {
              "outlinewidth": 0,
              "ticks": ""
             }
            },
            "type": "scatterternary"
           }
          ],
          "surface": [
           {
            "colorbar": {
             "outlinewidth": 0,
             "ticks": ""
            },
            "colorscale": [
             [
              0,
              "#0d0887"
             ],
             [
              0.1111111111111111,
              "#46039f"
             ],
             [
              0.2222222222222222,
              "#7201a8"
             ],
             [
              0.3333333333333333,
              "#9c179e"
             ],
             [
              0.4444444444444444,
              "#bd3786"
             ],
             [
              0.5555555555555556,
              "#d8576b"
             ],
             [
              0.6666666666666666,
              "#ed7953"
             ],
             [
              0.7777777777777778,
              "#fb9f3a"
             ],
             [
              0.8888888888888888,
              "#fdca26"
             ],
             [
              1,
              "#f0f921"
             ]
            ],
            "type": "surface"
           }
          ],
          "table": [
           {
            "cells": {
             "fill": {
              "color": "#EBF0F8"
             },
             "line": {
              "color": "white"
             }
            },
            "header": {
             "fill": {
              "color": "#C8D4E3"
             },
             "line": {
              "color": "white"
             }
            },
            "type": "table"
           }
          ]
         },
         "layout": {
          "annotationdefaults": {
           "arrowcolor": "#2a3f5f",
           "arrowhead": 0,
           "arrowwidth": 1
          },
          "autotypenumbers": "strict",
          "coloraxis": {
           "colorbar": {
            "outlinewidth": 0,
            "ticks": ""
           }
          },
          "colorscale": {
           "diverging": [
            [
             0,
             "#8e0152"
            ],
            [
             0.1,
             "#c51b7d"
            ],
            [
             0.2,
             "#de77ae"
            ],
            [
             0.3,
             "#f1b6da"
            ],
            [
             0.4,
             "#fde0ef"
            ],
            [
             0.5,
             "#f7f7f7"
            ],
            [
             0.6,
             "#e6f5d0"
            ],
            [
             0.7,
             "#b8e186"
            ],
            [
             0.8,
             "#7fbc41"
            ],
            [
             0.9,
             "#4d9221"
            ],
            [
             1,
             "#276419"
            ]
           ],
           "sequential": [
            [
             0,
             "#0d0887"
            ],
            [
             0.1111111111111111,
             "#46039f"
            ],
            [
             0.2222222222222222,
             "#7201a8"
            ],
            [
             0.3333333333333333,
             "#9c179e"
            ],
            [
             0.4444444444444444,
             "#bd3786"
            ],
            [
             0.5555555555555556,
             "#d8576b"
            ],
            [
             0.6666666666666666,
             "#ed7953"
            ],
            [
             0.7777777777777778,
             "#fb9f3a"
            ],
            [
             0.8888888888888888,
             "#fdca26"
            ],
            [
             1,
             "#f0f921"
            ]
           ],
           "sequentialminus": [
            [
             0,
             "#0d0887"
            ],
            [
             0.1111111111111111,
             "#46039f"
            ],
            [
             0.2222222222222222,
             "#7201a8"
            ],
            [
             0.3333333333333333,
             "#9c179e"
            ],
            [
             0.4444444444444444,
             "#bd3786"
            ],
            [
             0.5555555555555556,
             "#d8576b"
            ],
            [
             0.6666666666666666,
             "#ed7953"
            ],
            [
             0.7777777777777778,
             "#fb9f3a"
            ],
            [
             0.8888888888888888,
             "#fdca26"
            ],
            [
             1,
             "#f0f921"
            ]
           ]
          },
          "colorway": [
           "#636efa",
           "#EF553B",
           "#00cc96",
           "#ab63fa",
           "#FFA15A",
           "#19d3f3",
           "#FF6692",
           "#B6E880",
           "#FF97FF",
           "#FECB52"
          ],
          "font": {
           "color": "#2a3f5f"
          },
          "geo": {
           "bgcolor": "white",
           "lakecolor": "white",
           "landcolor": "#E5ECF6",
           "showlakes": true,
           "showland": true,
           "subunitcolor": "white"
          },
          "hoverlabel": {
           "align": "left"
          },
          "hovermode": "closest",
          "mapbox": {
           "style": "light"
          },
          "paper_bgcolor": "white",
          "plot_bgcolor": "#E5ECF6",
          "polar": {
           "angularaxis": {
            "gridcolor": "white",
            "linecolor": "white",
            "ticks": ""
           },
           "bgcolor": "#E5ECF6",
           "radialaxis": {
            "gridcolor": "white",
            "linecolor": "white",
            "ticks": ""
           }
          },
          "scene": {
           "xaxis": {
            "backgroundcolor": "#E5ECF6",
            "gridcolor": "white",
            "gridwidth": 2,
            "linecolor": "white",
            "showbackground": true,
            "ticks": "",
            "zerolinecolor": "white"
           },
           "yaxis": {
            "backgroundcolor": "#E5ECF6",
            "gridcolor": "white",
            "gridwidth": 2,
            "linecolor": "white",
            "showbackground": true,
            "ticks": "",
            "zerolinecolor": "white"
           },
           "zaxis": {
            "backgroundcolor": "#E5ECF6",
            "gridcolor": "white",
            "gridwidth": 2,
            "linecolor": "white",
            "showbackground": true,
            "ticks": "",
            "zerolinecolor": "white"
           }
          },
          "shapedefaults": {
           "line": {
            "color": "#2a3f5f"
           }
          },
          "ternary": {
           "aaxis": {
            "gridcolor": "white",
            "linecolor": "white",
            "ticks": ""
           },
           "baxis": {
            "gridcolor": "white",
            "linecolor": "white",
            "ticks": ""
           },
           "bgcolor": "#E5ECF6",
           "caxis": {
            "gridcolor": "white",
            "linecolor": "white",
            "ticks": ""
           }
          },
          "title": {
           "x": 0.05
          },
          "xaxis": {
           "automargin": true,
           "gridcolor": "white",
           "linecolor": "white",
           "ticks": "",
           "title": {
            "standoff": 15
           },
           "zerolinecolor": "white",
           "zerolinewidth": 2
          },
          "yaxis": {
           "automargin": true,
           "gridcolor": "white",
           "linecolor": "white",
           "ticks": "",
           "title": {
            "standoff": 15
           },
           "zerolinecolor": "white",
           "zerolinewidth": 2
          }
         }
        },
        "title": {
         "font": {
          "color": "#4D5663"
         }
        },
        "xaxis": {
         "autorange": true,
         "gridcolor": "#E1E5ED",
         "range": [
          -0.6931471805599453,
          0.4054651081081644
         ],
         "showgrid": true,
         "tickfont": {
          "color": "#4D5663"
         },
         "title": {
          "font": {
           "color": "#4D5663"
          },
          "text": "change in log price"
         },
         "type": "linear",
         "zerolinecolor": "#E1E5ED"
        },
        "yaxis": {
         "autorange": true,
         "gridcolor": "#E1E5ED",
         "range": [
          -0.2462107073764996,
          0.2052234267512148
         ],
         "showgrid": true,
         "tickfont": {
          "color": "#4D5663"
         },
         "title": {
          "font": {
           "color": "#4D5663"
          },
          "text": "change in log cost"
         },
         "type": "linear",
         "zerolinecolor": "#E1E5ED"
        }
       }
      },
      "image/png": "[encoded data removed]",
      "text/html": [
       "<div>                            <div id=\"2a91c029-7ee9-47b5-b0cc-2e84f63443fd\" class=\"plotly-graph-div\" style=\"height:525px; width:100%;\"></div>            <script type=\"text/javascript\">                require([\"plotly\"], function(Plotly) {                    window.PLOTLYENV=window.PLOTLYENV || {};\n",
       "                    window.PLOTLYENV.BASE_URL='https://plot.ly';                                    if (document.getElementById(\"2a91c029-7ee9-47b5-b0cc-2e84f63443fd\")) {                    Plotly.newPlot(                        \"2a91c029-7ee9-47b5-b0cc-2e84f63443fd\",                        [{\"line\":{\"color\":\"rgba(255, 153, 51, 1.0)\",\"dash\":\"solid\",\"shape\":\"linear\",\"width\":1.3},\"mode\":\"lines\",\"name\":\"salmon\",\"text\":\"\",\"x\":[-0.6931471805599453,-0.5108256237659907,-0.35667494393873245,-0.22314355131420968,-0.10536051565782628,0.0,0.09531017980432495,0.1823215567939546,0.26236426446749106,0.33647223662121284,0.4054651081081644],\"y\":[-0.0004422714353491851,0.0,0.0,0.0,0.0,0.0,0.0,0.0,0.0,0.0,0.0],\"type\":\"scatter\"},{\"line\":{\"color\":\"rgba(55, 128, 191, 1.0)\",\"dash\":\"solid\",\"shape\":\"linear\",\"width\":1.3},\"mode\":\"lines\",\"name\":\"tuna\",\"text\":\"\",\"x\":[-0.6931471805599453,-0.5108256237659907,-0.35667494393873245,-0.22314355131420968,-0.10536051565782628,0.0,0.09531017980432495,0.1823215567939546,0.26236426446749106,0.33647223662121284,0.4054651081081644],\"y\":[-0.029183234069529444,-0.021631353031356573,-0.014136075702912537,-0.007188969226801387,-0.0035880244674939355,0.0,0.003575196561044012,0.007137656613640705,0.010687470582452646,0.014224727932572593,0.017749517183054432],\"type\":\"scatter\"},{\"line\":{\"color\":\"rgba(50, 171, 96, 1.0)\",\"dash\":\"solid\",\"shape\":\"linear\",\"width\":1.3},\"mode\":\"lines\",\"name\":\"chicken\",\"text\":\"\",\"x\":[-0.6931471805599453,-0.5108256237659907,-0.35667494393873245,-0.22314355131420968,-0.10536051565782628,0.0,0.09531017980432495,0.1823215567939546,0.26236426446749106,0.33647223662121284,0.4054651081081644],\"y\":[0.0,0.0,0.0,0.0,0.0,0.0,0.0,0.0,0.0,0.0,0.0],\"type\":\"scatter\"},{\"line\":{\"color\":\"rgba(128, 0, 128, 1.0)\",\"dash\":\"solid\",\"shape\":\"linear\",\"width\":1.3},\"mode\":\"lines\",\"name\":\"cottage cheese\",\"text\":\"\",\"x\":[-0.6931471805599453,-0.5108256237659907,-0.35667494393873245,-0.22314355131420968,-0.10536051565782628,0.0,0.09531017980432495,0.1823215567939546,0.26236426446749106,0.33647223662121284,0.4054651081081644],\"y\":[0.0,0.0,0.0,0.0,0.0,0.0,0.0,0.0,0.0,0.0,0.0],\"type\":\"scatter\"},{\"line\":{\"color\":\"rgba(219, 64, 82, 1.0)\",\"dash\":\"solid\",\"shape\":\"linear\",\"width\":1.3},\"mode\":\"lines\",\"name\":\"greek yogurt\",\"text\":\"\",\"x\":[-0.6931471805599453,-0.5108256237659907,-0.35667494393873245,-0.22314355131420968,-0.10536051565782628,0.0,0.09531017980432495,0.1823215567939546,0.26236426446749106,0.33647223662121284,0.4054651081081644],\"y\":[0.0,0.0,0.0,0.0,0.0,0.0,0.0,0.0,0.0,0.0,0.0],\"type\":\"scatter\"},{\"line\":{\"color\":\"rgba(0, 128, 128, 1.0)\",\"dash\":\"solid\",\"shape\":\"linear\",\"width\":1.3},\"mode\":\"lines\",\"name\":\"spinach\",\"text\":\"\",\"x\":[-0.6931471805599453,-0.5108256237659907,-0.35667494393873245,-0.22314355131420968,-0.10536051565782628,0.0,0.09531017980432495,0.1823215567939546,0.26236426446749106,0.33647223662121284,0.4054651081081644],\"y\":[-0.03316011683331367,-0.025180159359956555,-0.017700322222408017,-0.011503176355291057,-0.005735047885556812,0.0,0.00570234457722158,0.008018463441156934,0.008018463441156934,0.008018463441156934,0.008018463441156934],\"type\":\"scatter\"},{\"line\":{\"color\":\"rgba(255, 255, 51, 1.0)\",\"dash\":\"solid\",\"shape\":\"linear\",\"width\":1.3},\"mode\":\"lines\",\"name\":\"carrots\",\"text\":\"\",\"x\":[-0.6931471805599453,-0.5108256237659907,-0.35667494393873245,-0.22314355131420968,-0.10536051565782628,0.0,0.09531017980432495,0.1823215567939546,0.26236426446749106,0.33647223662121284,0.4054651081081644],\"y\":[0.0,0.0,0.0,0.0,0.0,0.0,0.0,0.0,0.0,0.0,0.0],\"type\":\"scatter\"},{\"line\":{\"color\":\"rgba(128, 128, 0, 1.0)\",\"dash\":\"solid\",\"shape\":\"linear\",\"width\":1.3},\"mode\":\"lines\",\"name\":\"kale\",\"text\":\"\",\"x\":[-0.6931471805599453,-0.5108256237659907,-0.35667494393873245,-0.22314355131420968,-0.10536051565782628,0.0,0.09531017980432495,0.1823215567939546,0.26236426446749106,0.33647223662121284,0.4054651081081644],\"y\":[-0.07243728803371609,-0.05581994604824518,-0.03947423252270409,-0.023391409966452868,-0.007563155813360431,0.0,0.007223253104556639,0.014062797787441426,0.02055848229664279,0.026977516687829738,0.03330535049352696],\"type\":\"scatter\"},{\"line\":{\"color\":\"rgba(251, 128, 114, 1.0)\",\"dash\":\"solid\",\"shape\":\"linear\",\"width\":1.3},\"mode\":\"lines\",\"name\":\"collard greens\",\"text\":\"\",\"x\":[-0.6931471805599453,-0.5108256237659907,-0.35667494393873245,-0.22314355131420968,-0.10536051565782628,0.0,0.09531017980432495,0.1823215567939546,0.26236426446749106,0.33647223662121284,0.4054651081081644],\"y\":[-0.09739334602081891,-0.07714104116510818,-0.0572907636492296,-0.03782686241431733,-0.01873458292963436,0.0,0.018390043247489753,0.036447990867075855,0.05418562467475469,0.07161411042040587,0.08874404000478579],\"type\":\"scatter\"},{\"line\":{\"color\":\"rgba(128, 177, 211, 1.0)\",\"dash\":\"solid\",\"shape\":\"linear\",\"width\":1.3},\"mode\":\"lines\",\"name\":\"coconut milk\",\"text\":\"\",\"x\":[-0.6931471805599453,-0.5108256237659907,-0.35667494393873245,-0.22314355131420968,-0.10536051565782628,0.0,0.09531017980432495,0.1823215567939546,0.26236426446749106,0.33647223662121284,0.4054651081081644],\"y\":[0.0,0.0,0.0,0.0,0.0,0.0,0.0,0.0,0.0,0.0,0.0],\"type\":\"scatter\"},{\"line\":{\"color\":\"rgba(128, 177, 211, 0.8999999999999999)\",\"dash\":\"solid\",\"shape\":\"linear\",\"width\":1.3},\"mode\":\"lines\",\"name\":\"squash\",\"text\":\"\",\"x\":[-0.6931471805599453,-0.5108256237659907,-0.35667494393873245,-0.22314355131420968,-0.10536051565782628,0.0,0.09531017980432495,0.1823215567939546,0.26236426446749106,0.33647223662121284,0.4054651081081644],\"y\":[-3.33066907387547e-16,-3.33066907387547e-16,-3.33066907387547e-16,0.0,0.0,0.0,0.0,0.0,0.0,0.0,0.0],\"type\":\"scatter\"},{\"line\":{\"color\":\"rgba(255, 153, 51, 0.8999999999999999)\",\"dash\":\"solid\",\"shape\":\"linear\",\"width\":1.3},\"mode\":\"lines\",\"name\":\"cauliflower\",\"text\":\"\",\"x\":[-0.6931471805599453,-0.5108256237659907,-0.35667494393873245,-0.22314355131420968,-0.10536051565782628,0.0,0.09531017980432495,0.1823215567939546,0.26236426446749106,0.33647223662121284,0.4054651081081644],\"y\":[0.0,0.0,0.0,0.0,0.0,0.0,0.0,0.0,0.0,0.0,0.0],\"type\":\"scatter\"},{\"line\":{\"color\":\"rgba(55, 128, 191, 0.8999999999999999)\",\"dash\":\"solid\",\"shape\":\"linear\",\"width\":1.3},\"mode\":\"lines\",\"name\":\"broccoli\",\"text\":\"\",\"x\":[-0.6931471805599453,-0.5108256237659907,-0.35667494393873245,-0.22314355131420968,-0.10536051565782628,0.0,0.09531017980432495,0.1823215567939546,0.26236426446749106,0.33647223662121284,0.4054651081081644],\"y\":[0.0,0.0,0.0,0.0,0.0,0.0,0.0,0.0,0.0,0.0,0.0],\"type\":\"scatter\"},{\"line\":{\"color\":\"rgba(50, 171, 96, 0.8999999999999999)\",\"dash\":\"solid\",\"shape\":\"linear\",\"width\":1.3},\"mode\":\"lines\",\"name\":\"asparagus\",\"text\":\"\",\"x\":[-0.6931471805599453,-0.5108256237659907,-0.35667494393873245,-0.22314355131420968,-0.10536051565782628,0.0,0.09531017980432495,0.1823215567939546,0.26236426446749106,0.33647223662121284,0.4054651081081644],\"y\":[-0.0005568966457233982,0.0,0.0,0.0,0.0,0.0,0.0,0.0,0.0,0.0,0.0],\"type\":\"scatter\"},{\"line\":{\"color\":\"rgba(128, 0, 128, 0.8999999999999999)\",\"dash\":\"solid\",\"shape\":\"linear\",\"width\":1.3},\"mode\":\"lines\",\"name\":\"green beans\",\"text\":\"\",\"x\":[-0.6931471805599453,-0.5108256237659907,-0.35667494393873245,-0.22314355131420968,-0.10536051565782628,0.0,0.09531017980432495,0.1823215567939546,0.26236426446749106,0.33647223662121284,0.4054651081081644],\"y\":[0.0,0.0,0.0,0.0,0.0,0.0,0.0,0.0,0.0,0.0,0.0],\"type\":\"scatter\"},{\"line\":{\"color\":\"rgba(219, 64, 82, 0.8999999999999999)\",\"dash\":\"solid\",\"shape\":\"linear\",\"width\":1.3},\"mode\":\"lines\",\"name\":\"almonds\",\"text\":\"\",\"x\":[-0.6931471805599453,-0.5108256237659907,-0.35667494393873245,-0.22314355131420968,-0.10536051565782628,0.0,0.09531017980432495,0.1823215567939546,0.26236426446749106,0.33647223662121284,0.4054651081081644],\"y\":[0.0,0.0,0.0,0.0,0.0,0.0,0.0,0.0,0.0,0.0,0.0],\"type\":\"scatter\"},{\"line\":{\"color\":\"rgba(0, 128, 128, 0.8999999999999999)\",\"dash\":\"solid\",\"shape\":\"linear\",\"width\":1.3},\"mode\":\"lines\",\"name\":\"chia seeds\",\"text\":\"\",\"x\":[-0.6931471805599453,-0.5108256237659907,-0.35667494393873245,-0.22314355131420968,-0.10536051565782628,0.0,0.09531017980432495,0.1823215567939546,0.26236426446749106,0.33647223662121284,0.4054651081081644],\"y\":[0.0,0.0,0.0,0.0,0.0,0.0,0.0,0.0,0.0,0.0,0.0],\"type\":\"scatter\"},{\"line\":{\"color\":\"rgba(255, 255, 51, 0.8999999999999999)\",\"dash\":\"solid\",\"shape\":\"linear\",\"width\":1.3},\"mode\":\"lines\",\"name\":\"olive oil\",\"text\":\"\",\"x\":[-0.6931471805599453,-0.5108256237659907,-0.35667494393873245,-0.22314355131420968,-0.10536051565782628,0.0,0.09531017980432495,0.1823215567939546,0.26236426446749106,0.33647223662121284,0.4054651081081644],\"y\":[0.0,0.0,0.0,0.0,0.0,0.0,0.0,0.0,0.0,0.0,0.0],\"type\":\"scatter\"},{\"line\":{\"color\":\"rgba(128, 128, 0, 0.8999999999999999)\",\"dash\":\"solid\",\"shape\":\"linear\",\"width\":1.3},\"mode\":\"lines\",\"name\":\"almond milk\",\"text\":\"\",\"x\":[-0.6931471805599453,-0.5108256237659907,-0.35667494393873245,-0.22314355131420968,-0.10536051565782628,0.0,0.09531017980432495,0.1823215567939546,0.26236426446749106,0.33647223662121284,0.4054651081081644],\"y\":[-0.04528778458545605,-0.035981579716651654,-0.026864082907070784,-0.017828964327818508,-0.0088747486940362,0.0,0.008796679863019876,0.017516652428637036,0.02518377088773801,0.0308406813247191,0.03646577104855324],\"type\":\"scatter\"},{\"line\":{\"color\":\"rgba(251, 128, 114, 0.8999999999999999)\",\"dash\":\"solid\",\"shape\":\"linear\",\"width\":1.3},\"mode\":\"lines\",\"name\":\"cod fillets\",\"text\":\"\",\"x\":[-0.6931471805599453,-0.5108256237659907,-0.35667494393873245,-0.22314355131420968,-0.10536051565782628,0.0,0.09531017980432495,0.1823215567939546,0.26236426446749106,0.33647223662121284,0.4054651081081644],\"y\":[0.0,0.0,0.0,0.0,0.0,0.0,0.0,0.0,0.0,0.0,0.0],\"type\":\"scatter\"},{\"line\":{\"color\":\"rgba(251, 128, 114, 0.7999999999999998)\",\"dash\":\"solid\",\"shape\":\"linear\",\"width\":1.3},\"mode\":\"lines\",\"name\":\"pork loin\",\"text\":\"\",\"x\":[-0.6931471805599453,-0.5108256237659907,-0.35667494393873245,-0.22314355131420968,-0.10536051565782628,0.0,0.09531017980432495,0.1823215567939546,0.26236426446749106,0.33647223662121284,0.4054651081081644],\"y\":[0.0,0.0,0.0,0.0,0.0,0.0,0.0,0.0,0.0,0.0,0.0],\"type\":\"scatter\"},{\"line\":{\"color\":\"rgba(128, 177, 211, 0.7999999999999998)\",\"dash\":\"solid\",\"shape\":\"linear\",\"width\":1.3},\"mode\":\"lines\",\"name\":\"ground beef 80% lean 20% fat\",\"text\":\"\",\"x\":[-0.6931471805599453,-0.5108256237659907,-0.35667494393873245,-0.22314355131420968,-0.10536051565782628,0.0,0.09531017980432495,0.1823215567939546,0.26236426446749106,0.33647223662121284,0.4054651081081644],\"y\":[0.0,0.0,0.0,0.0,0.0,0.0,0.0,0.0,0.0,0.0,0.0],\"type\":\"scatter\"},{\"line\":{\"color\":\"rgba(255, 153, 51, 0.7999999999999998)\",\"dash\":\"solid\",\"shape\":\"linear\",\"width\":1.3},\"mode\":\"lines\",\"name\":\"avocado\",\"text\":\"\",\"x\":[-0.6931471805599453,-0.5108256237659907,-0.35667494393873245,-0.22314355131420968,-0.10536051565782628,0.0,0.09531017980432495,0.1823215567939546,0.26236426446749106,0.33647223662121284,0.4054651081081644],\"y\":[0.0,0.0,0.0,0.0,0.0,0.0,0.0,0.0,0.0,0.0,0.0],\"type\":\"scatter\"},{\"line\":{\"color\":\"rgba(55, 128, 191, 0.7999999999999998)\",\"dash\":\"solid\",\"shape\":\"linear\",\"width\":1.3},\"mode\":\"lines\",\"name\":\"egg\",\"text\":\"\",\"x\":[-0.6931471805599453,-0.5108256237659907,-0.35667494393873245,-0.22314355131420968,-0.10536051565782628,0.0,0.09531017980432495,0.1823215567939546,0.26236426446749106,0.33647223662121284,0.4054651081081644],\"y\":[0.0,0.0,0.0,0.0,0.0,0.0,0.0,0.0,0.0,0.0,0.0],\"type\":\"scatter\"},{\"line\":{\"color\":\"rgba(50, 171, 96, 0.7999999999999998)\",\"dash\":\"solid\",\"shape\":\"linear\",\"width\":1.3},\"mode\":\"lines\",\"name\":\"coconut oil\",\"text\":\"\",\"x\":[-0.6931471805599453,-0.5108256237659907,-0.35667494393873245,-0.22314355131420968,-0.10536051565782628,0.0,0.09531017980432495,0.1823215567939546,0.26236426446749106,0.33647223662121284,0.4054651081081644],\"y\":[0.0,0.0,0.0,0.0,0.0,0.0,0.0,0.0,0.0,0.0,0.0],\"type\":\"scatter\"},{\"line\":{\"color\":\"rgba(128, 0, 128, 0.7999999999999998)\",\"dash\":\"solid\",\"shape\":\"linear\",\"width\":1.3},\"mode\":\"lines\",\"name\":\"almond flour\",\"text\":\"\",\"x\":[-0.6931471805599453,-0.5108256237659907,-0.35667494393873245,-0.22314355131420968,-0.10536051565782628,0.0,0.09531017980432495,0.1823215567939546,0.26236426446749106,0.33647223662121284,0.4054651081081644],\"y\":[0.0,0.0,0.0,0.0,0.0,0.0,0.0,0.0,0.0,0.0,0.0],\"type\":\"scatter\"},{\"line\":{\"color\":\"rgba(219, 64, 82, 0.7999999999999998)\",\"dash\":\"solid\",\"shape\":\"linear\",\"width\":1.3},\"mode\":\"lines\",\"name\":\"mayonnaise\",\"text\":\"\",\"x\":[-0.6931471805599453,-0.5108256237659907,-0.35667494393873245,-0.22314355131420968,-0.10536051565782628,0.0,0.09531017980432495,0.1823215567939546,0.26236426446749106,0.33647223662121284,0.4054651081081644],\"y\":[-0.028335679229356543,-0.022603946351382846,-0.016904879093504643,-0.01123810723649043,-0.005603266819537482,0.0,0.005572045082974243,0.011113214441030575,0.016623848365540424,0.022104281552999712,0.027554843227011808],\"type\":\"scatter\"},{\"line\":{\"color\":\"rgba(0, 128, 128, 0.7999999999999998)\",\"dash\":\"solid\",\"shape\":\"linear\",\"width\":1.3},\"mode\":\"lines\",\"name\":\"cabbage\",\"text\":\"\",\"x\":[-0.6931471805599453,-0.5108256237659907,-0.35667494393873245,-0.22314355131420968,-0.10536051565782628,0.0,0.09531017980432495,0.1823215567939546,0.26236426446749106,0.33647223662121284,0.4054651081081644],\"y\":[0.0,0.0,0.0,0.0,0.0,0.0,0.0,0.0,0.0,0.0,0.0],\"type\":\"scatter\"},{\"line\":{\"color\":\"rgba(255, 255, 51, 0.7999999999999998)\",\"dash\":\"solid\",\"shape\":\"linear\",\"width\":1.3},\"mode\":\"lines\",\"name\":\"green bell pepper\",\"text\":\"\",\"x\":[-0.6931471805599453,-0.5108256237659907,-0.35667494393873245,-0.22314355131420968,-0.10536051565782628,0.0,0.09531017980432495,0.1823215567939546,0.26236426446749106,0.33647223662121284,0.4054651081081644],\"y\":[0.0,0.0,0.0,0.0,0.0,0.0,0.0,0.0,0.0,0.0,0.0],\"type\":\"scatter\"},{\"line\":{\"color\":\"rgba(128, 128, 0, 0.7999999999999998)\",\"dash\":\"solid\",\"shape\":\"linear\",\"width\":1.3},\"mode\":\"lines\",\"name\":\"bacon\",\"text\":\"\",\"x\":[-0.6931471805599453,-0.5108256237659907,-0.35667494393873245,-0.22314355131420968,-0.10536051565782628,0.0,0.09531017980432495,0.1823215567939546,0.26236426446749106,0.33647223662121284,0.4054651081081644],\"y\":[0.0,0.0,0.0,0.0,0.0,0.0,0.0,0.0,0.0,0.0,0.0],\"type\":\"scatter\"},{\"line\":{\"color\":\"rgba(128, 128, 0, 0.7)\",\"dash\":\"solid\",\"shape\":\"linear\",\"width\":1.3},\"mode\":\"lines\",\"name\":\"ground turkey\",\"text\":\"\",\"x\":[-0.6931471805599453,-0.5108256237659907,-0.35667494393873245,-0.22314355131420968,-0.10536051565782628,0.0,0.09531017980432495,0.1823215567939546,0.26236426446749106,0.33647223662121284,0.4054651081081644],\"y\":[0.0,0.0,0.0,0.0,0.0,0.0,0.0,0.0,0.0,0.0,0.0],\"type\":\"scatter\"},{\"line\":{\"color\":\"rgba(251, 128, 114, 0.7)\",\"dash\":\"solid\",\"shape\":\"linear\",\"width\":1.3},\"mode\":\"lines\",\"name\":\"tofu\",\"text\":\"\",\"x\":[-0.6931471805599453,-0.5108256237659907,-0.35667494393873245,-0.22314355131420968,-0.10536051565782628,0.0,0.09531017980432495,0.1823215567939546,0.26236426446749106,0.33647223662121284,0.4054651081081644],\"y\":[0.0,0.0,0.0,0.0,0.0,0.0,0.0,0.0,0.0,0.0,0.0],\"type\":\"scatter\"},{\"line\":{\"color\":\"rgba(128, 177, 211, 0.7)\",\"dash\":\"solid\",\"shape\":\"linear\",\"width\":1.3},\"mode\":\"lines\",\"name\":\"kefir\",\"text\":\"\",\"x\":[-0.6931471805599453,-0.5108256237659907,-0.35667494393873245,-0.22314355131420968,-0.10536051565782628,0.0,0.09531017980432495,0.1823215567939546,0.26236426446749106,0.33647223662121284,0.4054651081081644],\"y\":[0.0,0.0,0.0,0.0,0.0,0.0,0.0,0.0,0.0,0.0,0.0],\"type\":\"scatter\"},{\"line\":{\"color\":\"rgba(255, 153, 51, 0.7)\",\"dash\":\"solid\",\"shape\":\"linear\",\"width\":1.3},\"mode\":\"lines\",\"name\":\"hemp seeds\",\"text\":\"\",\"x\":[-0.6931471805599453,-0.5108256237659907,-0.35667494393873245,-0.22314355131420968,-0.10536051565782628,0.0,0.09531017980432495,0.1823215567939546,0.26236426446749106,0.33647223662121284,0.4054651081081644],\"y\":[-0.22363900067011389,-0.17473085010153921,-0.12810358618247544,-0.08355391130960457,-0.040904552368250316,0.0,0.03929691434853335,0.07710779381665331,0.11354094562439057,0.14869325144717135,0.18265172004482907],\"type\":\"scatter\"},{\"line\":{\"color\":\"rgba(55, 128, 191, 0.7)\",\"dash\":\"solid\",\"shape\":\"linear\",\"width\":1.3},\"mode\":\"lines\",\"name\":\"frozen berries\",\"text\":\"\",\"x\":[-0.6931471805599453,-0.5108256237659907,-0.35667494393873245,-0.22314355131420968,-0.10536051565782628,0.0,0.09531017980432495,0.1823215567939546,0.26236426446749106,0.33647223662121284,0.4054651081081644],\"y\":[0.0,0.0,0.0,0.0,0.0,0.0,0.0,0.0,0.0,0.0,0.0],\"type\":\"scatter\"},{\"line\":{\"color\":\"rgba(50, 171, 96, 0.7)\",\"dash\":\"solid\",\"shape\":\"linear\",\"width\":1.3},\"mode\":\"lines\",\"name\":\"zuchini noodles\",\"text\":\"\",\"x\":[-0.6931471805599453,-0.5108256237659907,-0.35667494393873245,-0.22314355131420968,-0.10536051565782628,0.0,0.09531017980432495,0.1823215567939546,0.26236426446749106,0.33647223662121284,0.4054651081081644],\"y\":[0.0,0.0,0.0,0.0,0.0,0.0,0.0,0.0,0.0,0.0,0.0],\"type\":\"scatter\"},{\"line\":{\"color\":\"rgba(128, 0, 128, 0.7)\",\"dash\":\"solid\",\"shape\":\"linear\",\"width\":1.3},\"mode\":\"lines\",\"name\":\"peanuts\",\"text\":\"\",\"x\":[-0.6931471805599453,-0.5108256237659907,-0.35667494393873245,-0.22314355131420968,-0.10536051565782628,0.0,0.09531017980432495,0.1823215567939546,0.26236426446749106,0.33647223662121284,0.4054651081081644],\"y\":[0.0,0.0,0.0,0.0,0.0,0.0,0.0,0.0,0.0,0.0,0.0],\"type\":\"scatter\"},{\"line\":{\"color\":\"rgba(219, 64, 82, 0.7)\",\"dash\":\"solid\",\"shape\":\"linear\",\"width\":1.3},\"mode\":\"lines\",\"name\":\"walnuts\",\"text\":\"\",\"x\":[-0.6931471805599453,-0.5108256237659907,-0.35667494393873245,-0.22314355131420968,-0.10536051565782628,0.0,0.09531017980432495,0.1823215567939546,0.26236426446749106,0.33647223662121284,0.4054651081081644],\"y\":[0.0,0.0,0.0,0.0,0.0,0.0,0.0,0.0,0.0,0.0,0.0],\"type\":\"scatter\"},{\"line\":{\"color\":\"rgba(0, 128, 128, 0.7)\",\"dash\":\"solid\",\"shape\":\"linear\",\"width\":1.3},\"mode\":\"lines\",\"name\":\"manzanilla olives\",\"text\":\"\",\"x\":[-0.6931471805599453,-0.5108256237659907,-0.35667494393873245,-0.22314355131420968,-0.10536051565782628,0.0,0.09531017980432495,0.1823215567939546,0.26236426446749106,0.33647223662121284,0.4054651081081644],\"y\":[0.0,0.0,0.0,0.0,0.0,0.0,0.0,0.0,0.0,0.0,0.0],\"type\":\"scatter\"},{\"line\":{\"color\":\"rgba(255, 255, 51, 0.7)\",\"dash\":\"solid\",\"shape\":\"linear\",\"width\":1.3},\"mode\":\"lines\",\"name\":\"apple\",\"text\":\"\",\"x\":[-0.6931471805599453,-0.5108256237659907,-0.35667494393873245,-0.22314355131420968,-0.10536051565782628,0.0,0.09531017980432495,0.1823215567939546,0.26236426446749106,0.33647223662121284,0.4054651081081644],\"y\":[0.0,0.0,0.0,0.0,0.0,0.0,0.0,0.0,0.0,0.0,0.0],\"type\":\"scatter\"},{\"line\":{\"color\":\"rgba(255, 255, 51, 0.5999999999999999)\",\"dash\":\"solid\",\"shape\":\"linear\",\"width\":1.3},\"mode\":\"lines\",\"name\":\"tomato\",\"text\":\"\",\"x\":[-0.6931471805599453,-0.5108256237659907,-0.35667494393873245,-0.22314355131420968,-0.10536051565782628,0.0,0.09531017980432495,0.1823215567939546,0.26236426446749106,0.33647223662121284,0.4054651081081644],\"y\":[0.0,0.0,0.0,0.0,0.0,0.0,0.0,0.0,0.0,0.0,0.0],\"type\":\"scatter\"},{\"line\":{\"color\":\"rgba(128, 128, 0, 0.5999999999999999)\",\"dash\":\"solid\",\"shape\":\"linear\",\"width\":1.3},\"mode\":\"lines\",\"name\":\"spam\",\"text\":\"\",\"x\":[-0.6931471805599453,-0.5108256237659907,-0.35667494393873245,-0.22314355131420968,-0.10536051565782628,0.0,0.09531017980432495,0.1823215567939546,0.26236426446749106,0.33647223662121284,0.4054651081081644],\"y\":[0.0,0.0,0.0,0.0,0.0,0.0,0.0,0.0,0.0,0.0,0.0],\"type\":\"scatter\"},{\"line\":{\"color\":\"rgba(251, 128, 114, 0.5999999999999999)\",\"dash\":\"solid\",\"shape\":\"linear\",\"width\":1.3},\"mode\":\"lines\",\"name\":\"black beans\",\"text\":\"\",\"x\":[-0.6931471805599453,-0.5108256237659907,-0.35667494393873245,-0.22314355131420968,-0.10536051565782628,0.0,0.09531017980432495,0.1823215567939546,0.26236426446749106,0.33647223662121284,0.4054651081081644],\"y\":[-0.05333670351377839,-0.04243934893954892,-0.031659467703398614,-0.020994554071044613,-0.010442181634783882,0.0,0.01033426835711078,0.02056283107110031,0.03068782871788281,0.04071133750347807,0.050635371819333024],\"type\":\"scatter\"},{\"line\":{\"color\":\"rgba(128, 177, 211, 0.5999999999999999)\",\"dash\":\"solid\",\"shape\":\"linear\",\"width\":1.3},\"mode\":\"lines\",\"name\":\"cauliflower rice\",\"text\":\"\",\"x\":[-0.6931471805599453,-0.5108256237659907,-0.35667494393873245,-0.22314355131420968,-0.10536051565782628,0.0,0.09531017980432495,0.1823215567939546,0.26236426446749106,0.33647223662121284,0.4054651081081644],\"y\":[0.0,0.0,0.0,0.0,0.0,0.0,0.0,0.0,0.0,0.0,0.0],\"type\":\"scatter\"},{\"line\":{\"color\":\"rgba(255, 153, 51, 0.5999999999999999)\",\"dash\":\"solid\",\"shape\":\"linear\",\"width\":1.3},\"mode\":\"lines\",\"name\":\"creamy almond butter no salt\",\"text\":\"\",\"x\":[-0.6931471805599453,-0.5108256237659907,-0.35667494393873245,-0.22314355131420968,-0.10536051565782628,0.0,0.09531017980432495,0.1823215567939546,0.26236426446749106,0.33647223662121284,0.4054651081081644],\"y\":[0.0,0.0,0.0,0.0,0.0,0.0,0.0,0.0,0.0,0.0,0.0],\"type\":\"scatter\"},{\"line\":{\"color\":\"rgba(55, 128, 191, 0.5999999999999999)\",\"dash\":\"solid\",\"shape\":\"linear\",\"width\":1.3},\"mode\":\"lines\",\"name\":\"creamy salted peanut butter\",\"text\":\"\",\"x\":[-0.6931471805599453,-0.5108256237659907,-0.35667494393873245,-0.22314355131420968,-0.10536051565782628,0.0,0.09531017980432495,0.1823215567939546,0.26236426446749106,0.33647223662121284,0.4054651081081644],\"y\":[0.0,0.0,0.0,0.0,0.0,0.0,0.0,0.0,0.0,0.0,0.0],\"type\":\"scatter\"},{\"line\":{\"color\":\"rgba(50, 171, 96, 0.5999999999999999)\",\"dash\":\"solid\",\"shape\":\"linear\",\"width\":1.3},\"mode\":\"lines\",\"name\":\"wild arugula\",\"text\":\"\",\"x\":[-0.6931471805599453,-0.5108256237659907,-0.35667494393873245,-0.22314355131420968,-0.10536051565782628,0.0,0.09531017980432495,0.1823215567939546,0.26236426446749106,0.33647223662121284,0.4054651081081644],\"y\":[0.0,0.0,0.0,0.0,0.0,0.0,0.0,0.0,0.0,0.0,0.0],\"type\":\"scatter\"},{\"line\":{\"color\":\"rgba(128, 0, 128, 0.5999999999999999)\",\"dash\":\"solid\",\"shape\":\"linear\",\"width\":1.3},\"mode\":\"lines\",\"name\":\"traditional whole milk ricotta cheese\",\"text\":\"\",\"x\":[-0.6931471805599453,-0.5108256237659907,-0.35667494393873245,-0.22314355131420968,-0.10536051565782628,0.0,0.09531017980432495,0.1823215567939546,0.26236426446749106,0.33647223662121284,0.4054651081081644],\"y\":[0.0,0.0,0.0,0.0,0.0,0.0,0.0,0.0,0.0,0.0,0.0],\"type\":\"scatter\"}],                        {\"legend\":{\"bgcolor\":\"#F5F6F9\",\"font\":{\"color\":\"#4D5663\"}},\"paper_bgcolor\":\"#F5F6F9\",\"plot_bgcolor\":\"#F5F6F9\",\"template\":{\"data\":{\"barpolar\":[{\"marker\":{\"line\":{\"color\":\"#E5ECF6\",\"width\":0.5},\"pattern\":{\"fillmode\":\"overlay\",\"size\":10,\"solidity\":0.2}},\"type\":\"barpolar\"}],\"bar\":[{\"error_x\":{\"color\":\"#2a3f5f\"},\"error_y\":{\"color\":\"#2a3f5f\"},\"marker\":{\"line\":{\"color\":\"#E5ECF6\",\"width\":0.5},\"pattern\":{\"fillmode\":\"overlay\",\"size\":10,\"solidity\":0.2}},\"type\":\"bar\"}],\"carpet\":[{\"aaxis\":{\"endlinecolor\":\"#2a3f5f\",\"gridcolor\":\"white\",\"linecolor\":\"white\",\"minorgridcolor\":\"white\",\"startlinecolor\":\"#2a3f5f\"},\"baxis\":{\"endlinecolor\":\"#2a3f5f\",\"gridcolor\":\"white\",\"linecolor\":\"white\",\"minorgridcolor\":\"white\",\"startlinecolor\":\"#2a3f5f\"},\"type\":\"carpet\"}],\"choropleth\":[{\"colorbar\":{\"outlinewidth\":0,\"ticks\":\"\"},\"type\":\"choropleth\"}],\"contourcarpet\":[{\"colorbar\":{\"outlinewidth\":0,\"ticks\":\"\"},\"type\":\"contourcarpet\"}],\"contour\":[{\"colorbar\":{\"outlinewidth\":0,\"ticks\":\"\"},\"colorscale\":[[0.0,\"#0d0887\"],[0.1111111111111111,\"#46039f\"],[0.2222222222222222,\"#7201a8\"],[0.3333333333333333,\"#9c179e\"],[0.4444444444444444,\"#bd3786\"],[0.5555555555555556,\"#d8576b\"],[0.6666666666666666,\"#ed7953\"],[0.7777777777777778,\"#fb9f3a\"],[0.8888888888888888,\"#fdca26\"],[1.0,\"#f0f921\"]],\"type\":\"contour\"}],\"heatmapgl\":[{\"colorbar\":{\"outlinewidth\":0,\"ticks\":\"\"},\"colorscale\":[[0.0,\"#0d0887\"],[0.1111111111111111,\"#46039f\"],[0.2222222222222222,\"#7201a8\"],[0.3333333333333333,\"#9c179e\"],[0.4444444444444444,\"#bd3786\"],[0.5555555555555556,\"#d8576b\"],[0.6666666666666666,\"#ed7953\"],[0.7777777777777778,\"#fb9f3a\"],[0.8888888888888888,\"#fdca26\"],[1.0,\"#f0f921\"]],\"type\":\"heatmapgl\"}],\"heatmap\":[{\"colorbar\":{\"outlinewidth\":0,\"ticks\":\"\"},\"colorscale\":[[0.0,\"#0d0887\"],[0.1111111111111111,\"#46039f\"],[0.2222222222222222,\"#7201a8\"],[0.3333333333333333,\"#9c179e\"],[0.4444444444444444,\"#bd3786\"],[0.5555555555555556,\"#d8576b\"],[0.6666666666666666,\"#ed7953\"],[0.7777777777777778,\"#fb9f3a\"],[0.8888888888888888,\"#fdca26\"],[1.0,\"#f0f921\"]],\"type\":\"heatmap\"}],\"histogram2dcontour\":[{\"colorbar\":{\"outlinewidth\":0,\"ticks\":\"\"},\"colorscale\":[[0.0,\"#0d0887\"],[0.1111111111111111,\"#46039f\"],[0.2222222222222222,\"#7201a8\"],[0.3333333333333333,\"#9c179e\"],[0.4444444444444444,\"#bd3786\"],[0.5555555555555556,\"#d8576b\"],[0.6666666666666666,\"#ed7953\"],[0.7777777777777778,\"#fb9f3a\"],[0.8888888888888888,\"#fdca26\"],[1.0,\"#f0f921\"]],\"type\":\"histogram2dcontour\"}],\"histogram2d\":[{\"colorbar\":{\"outlinewidth\":0,\"ticks\":\"\"},\"colorscale\":[[0.0,\"#0d0887\"],[0.1111111111111111,\"#46039f\"],[0.2222222222222222,\"#7201a8\"],[0.3333333333333333,\"#9c179e\"],[0.4444444444444444,\"#bd3786\"],[0.5555555555555556,\"#d8576b\"],[0.6666666666666666,\"#ed7953\"],[0.7777777777777778,\"#fb9f3a\"],[0.8888888888888888,\"#fdca26\"],[1.0,\"#f0f921\"]],\"type\":\"histogram2d\"}],\"histogram\":[{\"marker\":{\"pattern\":{\"fillmode\":\"overlay\",\"size\":10,\"solidity\":0.2}},\"type\":\"histogram\"}],\"mesh3d\":[{\"colorbar\":{\"outlinewidth\":0,\"ticks\":\"\"},\"type\":\"mesh3d\"}],\"parcoords\":[{\"line\":{\"colorbar\":{\"outlinewidth\":0,\"ticks\":\"\"}},\"type\":\"parcoords\"}],\"pie\":[{\"automargin\":true,\"type\":\"pie\"}],\"scatter3d\":[{\"line\":{\"colorbar\":{\"outlinewidth\":0,\"ticks\":\"\"}},\"marker\":{\"colorbar\":{\"outlinewidth\":0,\"ticks\":\"\"}},\"type\":\"scatter3d\"}],\"scattercarpet\":[{\"marker\":{\"colorbar\":{\"outlinewidth\":0,\"ticks\":\"\"}},\"type\":\"scattercarpet\"}],\"scattergeo\":[{\"marker\":{\"colorbar\":{\"outlinewidth\":0,\"ticks\":\"\"}},\"type\":\"scattergeo\"}],\"scattergl\":[{\"marker\":{\"colorbar\":{\"outlinewidth\":0,\"ticks\":\"\"}},\"type\":\"scattergl\"}],\"scattermapbox\":[{\"marker\":{\"colorbar\":{\"outlinewidth\":0,\"ticks\":\"\"}},\"type\":\"scattermapbox\"}],\"scatterpolargl\":[{\"marker\":{\"colorbar\":{\"outlinewidth\":0,\"ticks\":\"\"}},\"type\":\"scatterpolargl\"}],\"scatterpolar\":[{\"marker\":{\"colorbar\":{\"outlinewidth\":0,\"ticks\":\"\"}},\"type\":\"scatterpolar\"}],\"scatter\":[{\"fillpattern\":{\"fillmode\":\"overlay\",\"size\":10,\"solidity\":0.2},\"type\":\"scatter\"}],\"scatterternary\":[{\"marker\":{\"colorbar\":{\"outlinewidth\":0,\"ticks\":\"\"}},\"type\":\"scatterternary\"}],\"surface\":[{\"colorbar\":{\"outlinewidth\":0,\"ticks\":\"\"},\"colorscale\":[[0.0,\"#0d0887\"],[0.1111111111111111,\"#46039f\"],[0.2222222222222222,\"#7201a8\"],[0.3333333333333333,\"#9c179e\"],[0.4444444444444444,\"#bd3786\"],[0.5555555555555556,\"#d8576b\"],[0.6666666666666666,\"#ed7953\"],[0.7777777777777778,\"#fb9f3a\"],[0.8888888888888888,\"#fdca26\"],[1.0,\"#f0f921\"]],\"type\":\"surface\"}],\"table\":[{\"cells\":{\"fill\":{\"color\":\"#EBF0F8\"},\"line\":{\"color\":\"white\"}},\"header\":{\"fill\":{\"color\":\"#C8D4E3\"},\"line\":{\"color\":\"white\"}},\"type\":\"table\"}]},\"layout\":{\"annotationdefaults\":{\"arrowcolor\":\"#2a3f5f\",\"arrowhead\":0,\"arrowwidth\":1},\"autotypenumbers\":\"strict\",\"coloraxis\":{\"colorbar\":{\"outlinewidth\":0,\"ticks\":\"\"}},\"colorscale\":{\"diverging\":[[0,\"#8e0152\"],[0.1,\"#c51b7d\"],[0.2,\"#de77ae\"],[0.3,\"#f1b6da\"],[0.4,\"#fde0ef\"],[0.5,\"#f7f7f7\"],[0.6,\"#e6f5d0\"],[0.7,\"#b8e186\"],[0.8,\"#7fbc41\"],[0.9,\"#4d9221\"],[1,\"#276419\"]],\"sequential\":[[0.0,\"#0d0887\"],[0.1111111111111111,\"#46039f\"],[0.2222222222222222,\"#7201a8\"],[0.3333333333333333,\"#9c179e\"],[0.4444444444444444,\"#bd3786\"],[0.5555555555555556,\"#d8576b\"],[0.6666666666666666,\"#ed7953\"],[0.7777777777777778,\"#fb9f3a\"],[0.8888888888888888,\"#fdca26\"],[1.0,\"#f0f921\"]],\"sequentialminus\":[[0.0,\"#0d0887\"],[0.1111111111111111,\"#46039f\"],[0.2222222222222222,\"#7201a8\"],[0.3333333333333333,\"#9c179e\"],[0.4444444444444444,\"#bd3786\"],[0.5555555555555556,\"#d8576b\"],[0.6666666666666666,\"#ed7953\"],[0.7777777777777778,\"#fb9f3a\"],[0.8888888888888888,\"#fdca26\"],[1.0,\"#f0f921\"]]},\"colorway\":[\"#636efa\",\"#EF553B\",\"#00cc96\",\"#ab63fa\",\"#FFA15A\",\"#19d3f3\",\"#FF6692\",\"#B6E880\",\"#FF97FF\",\"#FECB52\"],\"font\":{\"color\":\"#2a3f5f\"},\"geo\":{\"bgcolor\":\"white\",\"lakecolor\":\"white\",\"landcolor\":\"#E5ECF6\",\"showlakes\":true,\"showland\":true,\"subunitcolor\":\"white\"},\"hoverlabel\":{\"align\":\"left\"},\"hovermode\":\"closest\",\"mapbox\":{\"style\":\"light\"},\"paper_bgcolor\":\"white\",\"plot_bgcolor\":\"#E5ECF6\",\"polar\":{\"angularaxis\":{\"gridcolor\":\"white\",\"linecolor\":\"white\",\"ticks\":\"\"},\"bgcolor\":\"#E5ECF6\",\"radialaxis\":{\"gridcolor\":\"white\",\"linecolor\":\"white\",\"ticks\":\"\"}},\"scene\":{\"xaxis\":{\"backgroundcolor\":\"#E5ECF6\",\"gridcolor\":\"white\",\"gridwidth\":2,\"linecolor\":\"white\",\"showbackground\":true,\"ticks\":\"\",\"zerolinecolor\":\"white\"},\"yaxis\":{\"backgroundcolor\":\"#E5ECF6\",\"gridcolor\":\"white\",\"gridwidth\":2,\"linecolor\":\"white\",\"showbackground\":true,\"ticks\":\"\",\"zerolinecolor\":\"white\"},\"zaxis\":{\"backgroundcolor\":\"#E5ECF6\",\"gridcolor\":\"white\",\"gridwidth\":2,\"linecolor\":\"white\",\"showbackground\":true,\"ticks\":\"\",\"zerolinecolor\":\"white\"}},\"shapedefaults\":{\"line\":{\"color\":\"#2a3f5f\"}},\"ternary\":{\"aaxis\":{\"gridcolor\":\"white\",\"linecolor\":\"white\",\"ticks\":\"\"},\"baxis\":{\"gridcolor\":\"white\",\"linecolor\":\"white\",\"ticks\":\"\"},\"bgcolor\":\"#E5ECF6\",\"caxis\":{\"gridcolor\":\"white\",\"linecolor\":\"white\",\"ticks\":\"\"}},\"title\":{\"x\":0.05},\"xaxis\":{\"automargin\":true,\"gridcolor\":\"white\",\"linecolor\":\"white\",\"ticks\":\"\",\"title\":{\"standoff\":15},\"zerolinecolor\":\"white\",\"zerolinewidth\":2},\"yaxis\":{\"automargin\":true,\"gridcolor\":\"white\",\"linecolor\":\"white\",\"ticks\":\"\",\"title\":{\"standoff\":15},\"zerolinecolor\":\"white\",\"zerolinewidth\":2}}},\"title\":{\"font\":{\"color\":\"#4D5663\"}},\"xaxis\":{\"gridcolor\":\"#E1E5ED\",\"showgrid\":true,\"tickfont\":{\"color\":\"#4D5663\"},\"title\":{\"font\":{\"color\":\"#4D5663\"},\"text\":\"change in log price\"},\"zerolinecolor\":\"#E1E5ED\"},\"yaxis\":{\"gridcolor\":\"#E1E5ED\",\"showgrid\":true,\"tickfont\":{\"color\":\"#4D5663\"},\"title\":{\"font\":{\"color\":\"#4D5663\"},\"text\":\"change in log cost\"},\"zerolinecolor\":\"#E1E5ED\"}},                        {\"showLink\": true, \"linkText\": \"Export to plot.ly\", \"plotlyServerURL\": \"https://plot.ly\", \"responsive\": true}                    ).then(function(){\n",
       "                            \n",
       "var gd = document.getElementById('2a91c029-7ee9-47b5-b0cc-2e84f63443fd');\n",
       "var x = new MutationObserver(function (mutations, observer) {{\n",
       "        var display = window.getComputedStyle(gd).display;\n",
       "        if (!display || display === 'none') {{\n",
       "            console.log([gd, 'removed!']);\n",
       "            Plotly.purge(gd);\n",
       "            observer.disconnect();\n",
       "        }}\n",
       "}});\n",
       "\n",
       "// Listen for the removal of the full notebook cells\n",
       "var notebookContainer = gd.closest('#notebook-container');\n",
       "if (notebookContainer) {{\n",
       "    x.observe(notebookContainer, {childList: true});\n",
       "}}\n",
       "\n",
       "// Listen for the clearing of the current output cell\n",
       "var outputEl = gd.closest('.output');\n",
       "if (outputEl) {{\n",
       "    x.observe(outputEl, {childList: true});\n",
       "}}\n",
       "\n",
       "                        })                };                });            </script>        </div>"
      ]
     },
     "metadata": {},
     "output_type": "display_data"
    }
   ],
   "source": [
    "cf.go_offline()\n",
    "\n",
    "scale = [.5,.6,.7,.8,.9,1.,1.1,1.2,1.3,1.4,1.5]\n",
    "\n",
    "cost0 = solve_subsistence_problem(FoodNutrients,Prices,diet_min[group],diet_max[group],tol=tol).fun\n",
    "\n",
    "Price_response={}\n",
    "for s in scale:\n",
    "    cost = {}\n",
    "    for i,p in enumerate(Prices):\n",
    "        my_p = Prices.copy()\n",
    "        my_p.iloc[i] = p*s\n",
    "        result = solve_subsistence_problem(FoodNutrients,my_p,diet_min[group],diet_max[group],tol=tol)\n",
    "        cost[Prices.index[i]] = np.log(result.fun/cost0)\n",
    "    Price_response[np.log(s)] = cost\n",
    "\n",
    "Price_response = pd.DataFrame(Price_response).T\n",
    "Price_response.iplot(xTitle='change in log price',yTitle='change in log cost')"
   ]
  }
 ],
 "metadata": {
  "kernelspec": {
   "display_name": "Python 3 (ipykernel)",
   "language": "python",
   "name": "python3"
  },
  "language_info": {
   "codemirror_mode": {
    "name": "ipython",
    "version": 3
   },
   "file_extension": ".py",
   "mimetype": "text/x-python",
   "name": "python",
   "nbconvert_exporter": "python",
   "pygments_lexer": "ipython3",
   "version": "3.9.15"
  }
 },
 "nbformat": 4,
 "nbformat_minor": 5
}
